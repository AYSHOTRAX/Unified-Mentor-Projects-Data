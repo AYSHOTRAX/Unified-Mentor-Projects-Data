{
  "cells": [
    {
      "cell_type": "markdown",
      "metadata": {
        "id": "view-in-github",
        "colab_type": "text"
      },
      "source": [
        "<a href=\"https://colab.research.google.com/github/AYSHOTRAX/VOR.DS-Test-/blob/main/Amazon_Sales_Analysis.ipynb\" target=\"_parent\"><img src=\"https://colab.research.google.com/assets/colab-badge.svg\" alt=\"Open In Colab\"/></a>"
      ]
    },
    {
      "cell_type": "markdown",
      "id": "3962525f",
      "metadata": {
        "direction": "ltr",
        "id": "3962525f"
      },
      "source": [
        "### Importing Required Libraries:"
      ]
    },
    {
      "cell_type": "code",
      "execution_count": null,
      "id": "1f7f9a88",
      "metadata": {
        "id": "1f7f9a88"
      },
      "outputs": [],
      "source": [
        "import numpy as np\n",
        "import pandas as pd\n",
        "import seaborn as sns\n",
        "import matplotlib.pyplot as plt"
      ]
    },
    {
      "cell_type": "markdown",
      "id": "95e91f4c",
      "metadata": {
        "id": "95e91f4c"
      },
      "source": [
        "### Importing the dataset:"
      ]
    },
    {
      "cell_type": "code",
      "execution_count": null,
      "id": "b8431bf4",
      "metadata": {
        "id": "b8431bf4",
        "outputId": "b74ed026-40f2-4793-cb0e-fa634092b802"
      },
      "outputs": [
        {
          "data": {
            "text/html": [
              "<div>\n",
              "<style scoped>\n",
              "    .dataframe tbody tr th:only-of-type {\n",
              "        vertical-align: middle;\n",
              "    }\n",
              "\n",
              "    .dataframe tbody tr th {\n",
              "        vertical-align: top;\n",
              "    }\n",
              "\n",
              "    .dataframe thead th {\n",
              "        text-align: right;\n",
              "    }\n",
              "</style>\n",
              "<table border=\"1\" class=\"dataframe\">\n",
              "  <thead>\n",
              "    <tr style=\"text-align: right;\">\n",
              "      <th></th>\n",
              "      <th>CustKey</th>\n",
              "      <th>DateKey</th>\n",
              "      <th>Discount Amount</th>\n",
              "      <th>Invoice Date</th>\n",
              "      <th>Invoice Number</th>\n",
              "      <th>Item Class</th>\n",
              "      <th>Item Number</th>\n",
              "      <th>Item</th>\n",
              "      <th>Line Number</th>\n",
              "      <th>List Price</th>\n",
              "      <th>Order Number</th>\n",
              "      <th>Promised Delivery Date</th>\n",
              "      <th>Sales Amount</th>\n",
              "      <th>Sales Amount Based on List Price</th>\n",
              "      <th>Sales Cost Amount</th>\n",
              "      <th>Sales Margin Amount</th>\n",
              "      <th>Sales Price</th>\n",
              "      <th>Sales Quantity</th>\n",
              "      <th>Sales Rep</th>\n",
              "      <th>U/M</th>\n",
              "    </tr>\n",
              "  </thead>\n",
              "  <tbody>\n",
              "    <tr>\n",
              "      <th>0</th>\n",
              "      <td>10000481</td>\n",
              "      <td>2017-04-30</td>\n",
              "      <td>-237.91</td>\n",
              "      <td>2017-04-30</td>\n",
              "      <td>100012</td>\n",
              "      <td>NaN</td>\n",
              "      <td>NaN</td>\n",
              "      <td>Urban Large Eggs</td>\n",
              "      <td>2000</td>\n",
              "      <td>0.00</td>\n",
              "      <td>200015</td>\n",
              "      <td>2017-04-30</td>\n",
              "      <td>237.91</td>\n",
              "      <td>0.00</td>\n",
              "      <td>0.00</td>\n",
              "      <td>237.91</td>\n",
              "      <td>237.910000</td>\n",
              "      <td>1</td>\n",
              "      <td>184</td>\n",
              "      <td>EA</td>\n",
              "    </tr>\n",
              "    <tr>\n",
              "      <th>1</th>\n",
              "      <td>10002220</td>\n",
              "      <td>2017-07-14</td>\n",
              "      <td>368.79</td>\n",
              "      <td>2017-07-14</td>\n",
              "      <td>100233</td>\n",
              "      <td>P01</td>\n",
              "      <td>20910</td>\n",
              "      <td>Moms Sliced Turkey</td>\n",
              "      <td>1000</td>\n",
              "      <td>824.96</td>\n",
              "      <td>200245</td>\n",
              "      <td>2017-07-14</td>\n",
              "      <td>456.17</td>\n",
              "      <td>824.96</td>\n",
              "      <td>0.00</td>\n",
              "      <td>456.17</td>\n",
              "      <td>456.170000</td>\n",
              "      <td>1</td>\n",
              "      <td>127</td>\n",
              "      <td>EA</td>\n",
              "    </tr>\n",
              "    <tr>\n",
              "      <th>2</th>\n",
              "      <td>10002220</td>\n",
              "      <td>2017-10-17</td>\n",
              "      <td>109.73</td>\n",
              "      <td>2017-10-17</td>\n",
              "      <td>116165</td>\n",
              "      <td>P01</td>\n",
              "      <td>38076</td>\n",
              "      <td>Cutting Edge Foot-Long Hot Dogs</td>\n",
              "      <td>1000</td>\n",
              "      <td>548.66</td>\n",
              "      <td>213157</td>\n",
              "      <td>2017-10-16</td>\n",
              "      <td>438.93</td>\n",
              "      <td>548.66</td>\n",
              "      <td>0.00</td>\n",
              "      <td>438.93</td>\n",
              "      <td>438.930000</td>\n",
              "      <td>1</td>\n",
              "      <td>127</td>\n",
              "      <td>EA</td>\n",
              "    </tr>\n",
              "    <tr>\n",
              "      <th>3</th>\n",
              "      <td>10002489</td>\n",
              "      <td>2017-06-03</td>\n",
              "      <td>-211.75</td>\n",
              "      <td>2017-06-03</td>\n",
              "      <td>100096</td>\n",
              "      <td>NaN</td>\n",
              "      <td>NaN</td>\n",
              "      <td>Kiwi Lox</td>\n",
              "      <td>1000</td>\n",
              "      <td>0.00</td>\n",
              "      <td>200107</td>\n",
              "      <td>2017-06-03</td>\n",
              "      <td>211.75</td>\n",
              "      <td>0.00</td>\n",
              "      <td>0.00</td>\n",
              "      <td>211.75</td>\n",
              "      <td>211.750000</td>\n",
              "      <td>1</td>\n",
              "      <td>160</td>\n",
              "      <td>EA</td>\n",
              "    </tr>\n",
              "    <tr>\n",
              "      <th>4</th>\n",
              "      <td>10004516</td>\n",
              "      <td>2017-05-27</td>\n",
              "      <td>96627.94</td>\n",
              "      <td>2017-05-27</td>\n",
              "      <td>103341</td>\n",
              "      <td>P01</td>\n",
              "      <td>60776</td>\n",
              "      <td>High Top Sweet Onion</td>\n",
              "      <td>1000</td>\n",
              "      <td>408.52</td>\n",
              "      <td>203785</td>\n",
              "      <td>2017-05-28</td>\n",
              "      <td>89248.66</td>\n",
              "      <td>185876.60</td>\n",
              "      <td>0.00</td>\n",
              "      <td>89248.66</td>\n",
              "      <td>196.150901</td>\n",
              "      <td>455</td>\n",
              "      <td>124</td>\n",
              "      <td>SE</td>\n",
              "    </tr>\n",
              "    <tr>\n",
              "      <th>...</th>\n",
              "      <td>...</td>\n",
              "      <td>...</td>\n",
              "      <td>...</td>\n",
              "      <td>...</td>\n",
              "      <td>...</td>\n",
              "      <td>...</td>\n",
              "      <td>...</td>\n",
              "      <td>...</td>\n",
              "      <td>...</td>\n",
              "      <td>...</td>\n",
              "      <td>...</td>\n",
              "      <td>...</td>\n",
              "      <td>...</td>\n",
              "      <td>...</td>\n",
              "      <td>...</td>\n",
              "      <td>...</td>\n",
              "      <td>...</td>\n",
              "      <td>...</td>\n",
              "      <td>...</td>\n",
              "      <td>...</td>\n",
              "    </tr>\n",
              "    <tr>\n",
              "      <th>65277</th>\n",
              "      <td>10017638</td>\n",
              "      <td>2018-03-21</td>\n",
              "      <td>505.78</td>\n",
              "      <td>2018-03-21</td>\n",
              "      <td>226497</td>\n",
              "      <td>P01</td>\n",
              "      <td>13447</td>\n",
              "      <td>High Top Oranges</td>\n",
              "      <td>8000</td>\n",
              "      <td>119.52</td>\n",
              "      <td>320895</td>\n",
              "      <td>2018-03-21</td>\n",
              "      <td>569.90</td>\n",
              "      <td>1075.68</td>\n",
              "      <td>239.95</td>\n",
              "      <td>329.95</td>\n",
              "      <td>63.322222</td>\n",
              "      <td>9</td>\n",
              "      <td>180</td>\n",
              "      <td>EA</td>\n",
              "    </tr>\n",
              "    <tr>\n",
              "      <th>65278</th>\n",
              "      <td>10017638</td>\n",
              "      <td>2018-03-21</td>\n",
              "      <td>410.75</td>\n",
              "      <td>2018-03-21</td>\n",
              "      <td>226497</td>\n",
              "      <td>P01</td>\n",
              "      <td>25906</td>\n",
              "      <td>Landslide White Sugar</td>\n",
              "      <td>38000</td>\n",
              "      <td>436.78</td>\n",
              "      <td>320895</td>\n",
              "      <td>2018-03-21</td>\n",
              "      <td>462.81</td>\n",
              "      <td>873.56</td>\n",
              "      <td>423.55</td>\n",
              "      <td>39.26</td>\n",
              "      <td>231.405000</td>\n",
              "      <td>2</td>\n",
              "      <td>180</td>\n",
              "      <td>EA</td>\n",
              "    </tr>\n",
              "    <tr>\n",
              "      <th>65279</th>\n",
              "      <td>10017638</td>\n",
              "      <td>2018-03-21</td>\n",
              "      <td>876.16</td>\n",
              "      <td>2018-03-21</td>\n",
              "      <td>226497</td>\n",
              "      <td>P01</td>\n",
              "      <td>61856</td>\n",
              "      <td>Moms Potato Salad</td>\n",
              "      <td>227001</td>\n",
              "      <td>232.92</td>\n",
              "      <td>320895</td>\n",
              "      <td>2018-03-21</td>\n",
              "      <td>987.20</td>\n",
              "      <td>1863.36</td>\n",
              "      <td>574.00</td>\n",
              "      <td>413.20</td>\n",
              "      <td>123.400000</td>\n",
              "      <td>8</td>\n",
              "      <td>180</td>\n",
              "      <td>EA</td>\n",
              "    </tr>\n",
              "    <tr>\n",
              "      <th>65280</th>\n",
              "      <td>10017638</td>\n",
              "      <td>2018-03-21</td>\n",
              "      <td>24226.77</td>\n",
              "      <td>2018-03-21</td>\n",
              "      <td>226498</td>\n",
              "      <td>P01</td>\n",
              "      <td>17801</td>\n",
              "      <td>Better Fancy Canned Sardines</td>\n",
              "      <td>1000</td>\n",
              "      <td>1431.23</td>\n",
              "      <td>320907</td>\n",
              "      <td>2018-03-21</td>\n",
              "      <td>27297.51</td>\n",
              "      <td>51524.28</td>\n",
              "      <td>16188.90</td>\n",
              "      <td>11108.61</td>\n",
              "      <td>758.264167</td>\n",
              "      <td>36</td>\n",
              "      <td>180</td>\n",
              "      <td>EA</td>\n",
              "    </tr>\n",
              "    <tr>\n",
              "      <th>65281</th>\n",
              "      <td>10017638</td>\n",
              "      <td>2018-03-21</td>\n",
              "      <td>24479.26</td>\n",
              "      <td>2018-03-21</td>\n",
              "      <td>226498</td>\n",
              "      <td>P01</td>\n",
              "      <td>27550</td>\n",
              "      <td>Imagine Popsicles</td>\n",
              "      <td>4000</td>\n",
              "      <td>1084.61</td>\n",
              "      <td>320907</td>\n",
              "      <td>2018-03-21</td>\n",
              "      <td>27582.02</td>\n",
              "      <td>52061.28</td>\n",
              "      <td>14234.22</td>\n",
              "      <td>13347.80</td>\n",
              "      <td>574.625417</td>\n",
              "      <td>48</td>\n",
              "      <td>180</td>\n",
              "      <td>EA</td>\n",
              "    </tr>\n",
              "  </tbody>\n",
              "</table>\n",
              "<p>65282 rows × 20 columns</p>\n",
              "</div>"
            ],
            "text/plain": [
              "        CustKey    DateKey  Discount Amount Invoice Date  Invoice Number  \\\n",
              "0      10000481 2017-04-30          -237.91   2017-04-30          100012   \n",
              "1      10002220 2017-07-14           368.79   2017-07-14          100233   \n",
              "2      10002220 2017-10-17           109.73   2017-10-17          116165   \n",
              "3      10002489 2017-06-03          -211.75   2017-06-03          100096   \n",
              "4      10004516 2017-05-27         96627.94   2017-05-27          103341   \n",
              "...         ...        ...              ...          ...             ...   \n",
              "65277  10017638 2018-03-21           505.78   2018-03-21          226497   \n",
              "65278  10017638 2018-03-21           410.75   2018-03-21          226497   \n",
              "65279  10017638 2018-03-21           876.16   2018-03-21          226497   \n",
              "65280  10017638 2018-03-21         24226.77   2018-03-21          226498   \n",
              "65281  10017638 2018-03-21         24479.26   2018-03-21          226498   \n",
              "\n",
              "      Item Class Item Number                             Item  Line Number  \\\n",
              "0            NaN         NaN                 Urban Large Eggs         2000   \n",
              "1            P01       20910               Moms Sliced Turkey         1000   \n",
              "2            P01       38076  Cutting Edge Foot-Long Hot Dogs         1000   \n",
              "3            NaN         NaN                         Kiwi Lox         1000   \n",
              "4            P01       60776             High Top Sweet Onion         1000   \n",
              "...          ...         ...                              ...          ...   \n",
              "65277        P01       13447                 High Top Oranges         8000   \n",
              "65278        P01       25906            Landslide White Sugar        38000   \n",
              "65279        P01       61856                Moms Potato Salad       227001   \n",
              "65280        P01       17801     Better Fancy Canned Sardines         1000   \n",
              "65281        P01       27550                Imagine Popsicles         4000   \n",
              "\n",
              "       List Price  Order Number Promised Delivery Date  Sales Amount  \\\n",
              "0            0.00        200015             2017-04-30        237.91   \n",
              "1          824.96        200245             2017-07-14        456.17   \n",
              "2          548.66        213157             2017-10-16        438.93   \n",
              "3            0.00        200107             2017-06-03        211.75   \n",
              "4          408.52        203785             2017-05-28      89248.66   \n",
              "...           ...           ...                    ...           ...   \n",
              "65277      119.52        320895             2018-03-21        569.90   \n",
              "65278      436.78        320895             2018-03-21        462.81   \n",
              "65279      232.92        320895             2018-03-21        987.20   \n",
              "65280     1431.23        320907             2018-03-21      27297.51   \n",
              "65281     1084.61        320907             2018-03-21      27582.02   \n",
              "\n",
              "       Sales Amount Based on List Price  Sales Cost Amount  \\\n",
              "0                                  0.00               0.00   \n",
              "1                                824.96               0.00   \n",
              "2                                548.66               0.00   \n",
              "3                                  0.00               0.00   \n",
              "4                             185876.60               0.00   \n",
              "...                                 ...                ...   \n",
              "65277                           1075.68             239.95   \n",
              "65278                            873.56             423.55   \n",
              "65279                           1863.36             574.00   \n",
              "65280                          51524.28           16188.90   \n",
              "65281                          52061.28           14234.22   \n",
              "\n",
              "       Sales Margin Amount  Sales Price  Sales Quantity  Sales Rep U/M  \n",
              "0                   237.91   237.910000               1        184  EA  \n",
              "1                   456.17   456.170000               1        127  EA  \n",
              "2                   438.93   438.930000               1        127  EA  \n",
              "3                   211.75   211.750000               1        160  EA  \n",
              "4                 89248.66   196.150901             455        124  SE  \n",
              "...                    ...          ...             ...        ...  ..  \n",
              "65277               329.95    63.322222               9        180  EA  \n",
              "65278                39.26   231.405000               2        180  EA  \n",
              "65279               413.20   123.400000               8        180  EA  \n",
              "65280             11108.61   758.264167              36        180  EA  \n",
              "65281             13347.80   574.625417              48        180  EA  \n",
              "\n",
              "[65282 rows x 20 columns]"
            ]
          },
          "execution_count": 2,
          "metadata": {},
          "output_type": "execute_result"
        }
      ],
      "source": [
        "sales_data = pd.read_csv('SALESDATA.csv', parse_dates=['DateKey','Invoice Date', 'Promised Delivery Date'])\n",
        "sales_data"
      ]
    },
    {
      "cell_type": "code",
      "execution_count": null,
      "id": "fef91640",
      "metadata": {
        "id": "fef91640",
        "outputId": "d3a796ad-7b1d-4c17-8fa9-403e46eda1e1"
      },
      "outputs": [
        {
          "data": {
            "text/plain": [
              "(65282, 20)"
            ]
          },
          "execution_count": 3,
          "metadata": {},
          "output_type": "execute_result"
        }
      ],
      "source": [
        "# Checking the Shape\n",
        "sales_data.shape"
      ]
    },
    {
      "cell_type": "code",
      "execution_count": null,
      "id": "c4dae084",
      "metadata": {
        "id": "c4dae084",
        "outputId": "7a63afed-ad30-4a45-b2dd-b949856f2827"
      },
      "outputs": [
        {
          "data": {
            "text/plain": [
              "Index(['CustKey', 'DateKey', 'Discount Amount', 'Invoice Date',\n",
              "       'Invoice Number', 'Item Class', 'Item Number', 'Item', 'Line Number',\n",
              "       'List Price', 'Order Number', 'Promised Delivery Date', 'Sales Amount',\n",
              "       'Sales Amount Based on List Price', 'Sales Cost Amount',\n",
              "       'Sales Margin Amount', 'Sales Price', 'Sales Quantity', 'Sales Rep',\n",
              "       'U/M'],\n",
              "      dtype='object')"
            ]
          },
          "execution_count": 4,
          "metadata": {},
          "output_type": "execute_result"
        }
      ],
      "source": [
        "sales_data.columns"
      ]
    },
    {
      "cell_type": "code",
      "execution_count": null,
      "id": "ad4685f9",
      "metadata": {
        "scrolled": true,
        "id": "ad4685f9",
        "outputId": "25578b50-cefd-4deb-ba80-685b0c96f58a"
      },
      "outputs": [
        {
          "name": "stdout",
          "output_type": "stream",
          "text": [
            "<class 'pandas.core.frame.DataFrame'>\n",
            "RangeIndex: 65282 entries, 0 to 65281\n",
            "Data columns (total 20 columns):\n",
            " #   Column                            Non-Null Count  Dtype         \n",
            "---  ------                            --------------  -----         \n",
            " 0   CustKey                           65282 non-null  int64         \n",
            " 1   DateKey                           65282 non-null  datetime64[ns]\n",
            " 2   Discount Amount                   65280 non-null  float64       \n",
            " 3   Invoice Date                      65282 non-null  datetime64[ns]\n",
            " 4   Invoice Number                    65282 non-null  int64         \n",
            " 5   Item Class                        56993 non-null  object        \n",
            " 6   Item Number                       65241 non-null  object        \n",
            " 7   Item                              65282 non-null  object        \n",
            " 8   Line Number                       65282 non-null  int64         \n",
            " 9   List Price                        65282 non-null  float64       \n",
            " 10  Order Number                      65282 non-null  int64         \n",
            " 11  Promised Delivery Date            65282 non-null  datetime64[ns]\n",
            " 12  Sales Amount                      65282 non-null  float64       \n",
            " 13  Sales Amount Based on List Price  65282 non-null  float64       \n",
            " 14  Sales Cost Amount                 65282 non-null  float64       \n",
            " 15  Sales Margin Amount               65282 non-null  float64       \n",
            " 16  Sales Price                       65281 non-null  float64       \n",
            " 17  Sales Quantity                    65282 non-null  int64         \n",
            " 18  Sales Rep                         65282 non-null  int64         \n",
            " 19  U/M                               65282 non-null  object        \n",
            "dtypes: datetime64[ns](3), float64(7), int64(6), object(4)\n",
            "memory usage: 10.0+ MB\n"
          ]
        }
      ],
      "source": [
        "sales_data.info()"
      ]
    },
    {
      "cell_type": "code",
      "execution_count": null,
      "id": "2c33df1b",
      "metadata": {
        "scrolled": true,
        "id": "2c33df1b",
        "outputId": "3ed7b434-6e9e-4727-ca03-0d0965b29614"
      },
      "outputs": [
        {
          "data": {
            "text/plain": [
              "CustKey                                0\n",
              "DateKey                                0\n",
              "Discount Amount                        2\n",
              "Invoice Date                           0\n",
              "Invoice Number                         0\n",
              "Item Class                          8289\n",
              "Item Number                           41\n",
              "Item                                   0\n",
              "Line Number                            0\n",
              "List Price                             0\n",
              "Order Number                           0\n",
              "Promised Delivery Date                 0\n",
              "Sales Amount                           0\n",
              "Sales Amount Based on List Price       0\n",
              "Sales Cost Amount                      0\n",
              "Sales Margin Amount                    0\n",
              "Sales Price                            1\n",
              "Sales Quantity                         0\n",
              "Sales Rep                              0\n",
              "U/M                                    0\n",
              "dtype: int64"
            ]
          },
          "execution_count": 6,
          "metadata": {},
          "output_type": "execute_result"
        }
      ],
      "source": [
        "# Checking no. of Null Values\n",
        "sales_data.isnull().sum()"
      ]
    },
    {
      "cell_type": "code",
      "execution_count": null,
      "id": "9e11d308",
      "metadata": {
        "id": "9e11d308"
      },
      "outputs": [],
      "source": [
        "sales_data01 = sales_data.copy()"
      ]
    },
    {
      "cell_type": "code",
      "execution_count": null,
      "id": "b816471d",
      "metadata": {
        "id": "b816471d",
        "outputId": "73b6b345-ded6-4900-81c7-e10ae4f775bd"
      },
      "outputs": [
        {
          "data": {
            "text/plain": [
              "P01    56977\n",
              "PO1       16\n",
              "Name: Item Class, dtype: int64"
            ]
          },
          "execution_count": 8,
          "metadata": {},
          "output_type": "execute_result"
        }
      ],
      "source": [
        "sales_data01['Item Class'].value_counts()"
      ]
    },
    {
      "cell_type": "code",
      "execution_count": null,
      "id": "7abb915c",
      "metadata": {
        "id": "7abb915c"
      },
      "outputs": [],
      "source": [
        "# Removing Null Values\n",
        "sales_data01.dropna(subset=['Discount Amount','Sales Price', 'Item Number'],inplace=True)"
      ]
    },
    {
      "cell_type": "code",
      "execution_count": null,
      "id": "69c2edea",
      "metadata": {
        "id": "69c2edea",
        "outputId": "63b61e41-8c94-4d8b-f582-e7cf564979e7"
      },
      "outputs": [
        {
          "data": {
            "text/html": [
              "<div>\n",
              "<style scoped>\n",
              "    .dataframe tbody tr th:only-of-type {\n",
              "        vertical-align: middle;\n",
              "    }\n",
              "\n",
              "    .dataframe tbody tr th {\n",
              "        vertical-align: top;\n",
              "    }\n",
              "\n",
              "    .dataframe thead th {\n",
              "        text-align: right;\n",
              "    }\n",
              "</style>\n",
              "<table border=\"1\" class=\"dataframe\">\n",
              "  <thead>\n",
              "    <tr style=\"text-align: right;\">\n",
              "      <th></th>\n",
              "      <th>CustKey</th>\n",
              "      <th>Discount Amount</th>\n",
              "      <th>Invoice Number</th>\n",
              "      <th>Line Number</th>\n",
              "      <th>List Price</th>\n",
              "      <th>Order Number</th>\n",
              "      <th>Sales Amount</th>\n",
              "      <th>Sales Amount Based on List Price</th>\n",
              "      <th>Sales Cost Amount</th>\n",
              "      <th>Sales Margin Amount</th>\n",
              "      <th>Sales Price</th>\n",
              "      <th>Sales Quantity</th>\n",
              "      <th>Sales Rep</th>\n",
              "    </tr>\n",
              "  </thead>\n",
              "  <tbody>\n",
              "    <tr>\n",
              "      <th>count</th>\n",
              "      <td>6.524100e+04</td>\n",
              "      <td>65241.000000</td>\n",
              "      <td>65241.000000</td>\n",
              "      <td>65241.000000</td>\n",
              "      <td>65241.000000</td>\n",
              "      <td>65241.000000</td>\n",
              "      <td>65241.000000</td>\n",
              "      <td>65241.000000</td>\n",
              "      <td>65241.000000</td>\n",
              "      <td>65241.000000</td>\n",
              "      <td>65241.000000</td>\n",
              "      <td>65241.000000</td>\n",
              "      <td>65241.000000</td>\n",
              "    </tr>\n",
              "    <tr>\n",
              "      <th>mean</th>\n",
              "      <td>1.001770e+07</td>\n",
              "      <td>1857.310923</td>\n",
              "      <td>216292.785242</td>\n",
              "      <td>23725.043178</td>\n",
              "      <td>515.016834</td>\n",
              "      <td>180567.610122</td>\n",
              "      <td>2853.121051</td>\n",
              "      <td>4710.431974</td>\n",
              "      <td>1662.023052</td>\n",
              "      <td>1191.097999</td>\n",
              "      <td>283.250283</td>\n",
              "      <td>45.106712</td>\n",
              "      <td>137.421422</td>\n",
              "    </tr>\n",
              "    <tr>\n",
              "      <th>std</th>\n",
              "      <td>7.175846e+03</td>\n",
              "      <td>9039.535784</td>\n",
              "      <td>94982.018695</td>\n",
              "      <td>32669.565014</td>\n",
              "      <td>449.144896</td>\n",
              "      <td>67612.238675</td>\n",
              "      <td>15169.020896</td>\n",
              "      <td>20702.609533</td>\n",
              "      <td>9559.396917</td>\n",
              "      <td>5862.566647</td>\n",
              "      <td>250.448615</td>\n",
              "      <td>429.793733</td>\n",
              "      <td>26.644271</td>\n",
              "    </tr>\n",
              "    <tr>\n",
              "      <th>min</th>\n",
              "      <td>1.000045e+07</td>\n",
              "      <td>-255820.800000</td>\n",
              "      <td>100034.000000</td>\n",
              "      <td>1000.000000</td>\n",
              "      <td>0.000000</td>\n",
              "      <td>100838.000000</td>\n",
              "      <td>200.010000</td>\n",
              "      <td>0.000000</td>\n",
              "      <td>0.000000</td>\n",
              "      <td>-3932.930000</td>\n",
              "      <td>0.337341</td>\n",
              "      <td>1.000000</td>\n",
              "      <td>103.000000</td>\n",
              "    </tr>\n",
              "    <tr>\n",
              "      <th>25%</th>\n",
              "      <td>1.001272e+07</td>\n",
              "      <td>246.280000</td>\n",
              "      <td>117969.000000</td>\n",
              "      <td>3000.000000</td>\n",
              "      <td>181.560000</td>\n",
              "      <td>115281.000000</td>\n",
              "      <td>308.310000</td>\n",
              "      <td>561.040000</td>\n",
              "      <td>167.810000</td>\n",
              "      <td>129.890000</td>\n",
              "      <td>100.030000</td>\n",
              "      <td>2.000000</td>\n",
              "      <td>113.000000</td>\n",
              "    </tr>\n",
              "    <tr>\n",
              "      <th>50%</th>\n",
              "      <td>1.001966e+07</td>\n",
              "      <td>442.200000</td>\n",
              "      <td>222904.000000</td>\n",
              "      <td>12000.000000</td>\n",
              "      <td>325.190000</td>\n",
              "      <td>203695.000000</td>\n",
              "      <td>553.940000</td>\n",
              "      <td>999.750000</td>\n",
              "      <td>304.580000</td>\n",
              "      <td>246.480000</td>\n",
              "      <td>183.282857</td>\n",
              "      <td>3.000000</td>\n",
              "      <td>134.000000</td>\n",
              "    </tr>\n",
              "    <tr>\n",
              "      <th>75%</th>\n",
              "      <td>1.002351e+07</td>\n",
              "      <td>1001.500000</td>\n",
              "      <td>314325.000000</td>\n",
              "      <td>32000.000000</td>\n",
              "      <td>803.860000</td>\n",
              "      <td>218576.000000</td>\n",
              "      <td>1279.750000</td>\n",
              "      <td>2321.400000</td>\n",
              "      <td>688.550000</td>\n",
              "      <td>578.220000</td>\n",
              "      <td>448.220000</td>\n",
              "      <td>8.000000</td>\n",
              "      <td>160.000000</td>\n",
              "    </tr>\n",
              "    <tr>\n",
              "      <th>max</th>\n",
              "      <td>1.002758e+07</td>\n",
              "      <td>343532.660000</td>\n",
              "      <td>332842.000000</td>\n",
              "      <td>344000.000000</td>\n",
              "      <td>2760.700000</td>\n",
              "      <td>321532.000000</td>\n",
              "      <td>555376.000000</td>\n",
              "      <td>632610.160000</td>\n",
              "      <td>366576.000000</td>\n",
              "      <td>188800.000000</td>\n",
              "      <td>6035.000000</td>\n",
              "      <td>16000.000000</td>\n",
              "      <td>185.000000</td>\n",
              "    </tr>\n",
              "  </tbody>\n",
              "</table>\n",
              "</div>"
            ],
            "text/plain": [
              "            CustKey  Discount Amount  Invoice Number    Line Number  \\\n",
              "count  6.524100e+04     65241.000000    65241.000000   65241.000000   \n",
              "mean   1.001770e+07      1857.310923   216292.785242   23725.043178   \n",
              "std    7.175846e+03      9039.535784    94982.018695   32669.565014   \n",
              "min    1.000045e+07   -255820.800000   100034.000000    1000.000000   \n",
              "25%    1.001272e+07       246.280000   117969.000000    3000.000000   \n",
              "50%    1.001966e+07       442.200000   222904.000000   12000.000000   \n",
              "75%    1.002351e+07      1001.500000   314325.000000   32000.000000   \n",
              "max    1.002758e+07    343532.660000   332842.000000  344000.000000   \n",
              "\n",
              "         List Price   Order Number   Sales Amount  \\\n",
              "count  65241.000000   65241.000000   65241.000000   \n",
              "mean     515.016834  180567.610122    2853.121051   \n",
              "std      449.144896   67612.238675   15169.020896   \n",
              "min        0.000000  100838.000000     200.010000   \n",
              "25%      181.560000  115281.000000     308.310000   \n",
              "50%      325.190000  203695.000000     553.940000   \n",
              "75%      803.860000  218576.000000    1279.750000   \n",
              "max     2760.700000  321532.000000  555376.000000   \n",
              "\n",
              "       Sales Amount Based on List Price  Sales Cost Amount  \\\n",
              "count                      65241.000000       65241.000000   \n",
              "mean                        4710.431974        1662.023052   \n",
              "std                        20702.609533        9559.396917   \n",
              "min                            0.000000           0.000000   \n",
              "25%                          561.040000         167.810000   \n",
              "50%                          999.750000         304.580000   \n",
              "75%                         2321.400000         688.550000   \n",
              "max                       632610.160000      366576.000000   \n",
              "\n",
              "       Sales Margin Amount   Sales Price  Sales Quantity     Sales Rep  \n",
              "count         65241.000000  65241.000000    65241.000000  65241.000000  \n",
              "mean           1191.097999    283.250283       45.106712    137.421422  \n",
              "std            5862.566647    250.448615      429.793733     26.644271  \n",
              "min           -3932.930000      0.337341        1.000000    103.000000  \n",
              "25%             129.890000    100.030000        2.000000    113.000000  \n",
              "50%             246.480000    183.282857        3.000000    134.000000  \n",
              "75%             578.220000    448.220000        8.000000    160.000000  \n",
              "max          188800.000000   6035.000000    16000.000000    185.000000  "
            ]
          },
          "execution_count": 10,
          "metadata": {},
          "output_type": "execute_result"
        }
      ],
      "source": [
        "# Generating descriptive statistics\n",
        "sales_data01.describe()"
      ]
    },
    {
      "cell_type": "code",
      "execution_count": null,
      "id": "2262cef1",
      "metadata": {
        "id": "2262cef1"
      },
      "outputs": [],
      "source": [
        "# Creating Year, Month, Quarter, Day Columns in Sales_data01\n",
        "sales_data01['Invoice_Year'] = sales_data['Invoice Date'].dt.year\n",
        "sales_data01['Invoice_Month'] = sales_data['Invoice Date'].dt.month\n",
        "sales_data01['Invoice_Quarter'] = sales_data['Invoice Date'].dt.quarter\n",
        "sales_data01['Invoice_Day'] = sales_data['Invoice Date'].dt.day"
      ]
    },
    {
      "cell_type": "code",
      "execution_count": null,
      "id": "17844f5b",
      "metadata": {
        "scrolled": true,
        "id": "17844f5b",
        "outputId": "6bb4fbf2-8fa4-40e4-d7d4-d4b2c30d0a88"
      },
      "outputs": [
        {
          "name": "stdout",
          "output_type": "stream",
          "text": [
            "<class 'pandas.core.frame.DataFrame'>\n",
            "Int64Index: 65241 entries, 1 to 65281\n",
            "Data columns (total 24 columns):\n",
            " #   Column                            Non-Null Count  Dtype         \n",
            "---  ------                            --------------  -----         \n",
            " 0   CustKey                           65241 non-null  int64         \n",
            " 1   DateKey                           65241 non-null  datetime64[ns]\n",
            " 2   Discount Amount                   65241 non-null  float64       \n",
            " 3   Invoice Date                      65241 non-null  datetime64[ns]\n",
            " 4   Invoice Number                    65241 non-null  int64         \n",
            " 5   Item Class                        56993 non-null  object        \n",
            " 6   Item Number                       65241 non-null  object        \n",
            " 7   Item                              65241 non-null  object        \n",
            " 8   Line Number                       65241 non-null  int64         \n",
            " 9   List Price                        65241 non-null  float64       \n",
            " 10  Order Number                      65241 non-null  int64         \n",
            " 11  Promised Delivery Date            65241 non-null  datetime64[ns]\n",
            " 12  Sales Amount                      65241 non-null  float64       \n",
            " 13  Sales Amount Based on List Price  65241 non-null  float64       \n",
            " 14  Sales Cost Amount                 65241 non-null  float64       \n",
            " 15  Sales Margin Amount               65241 non-null  float64       \n",
            " 16  Sales Price                       65241 non-null  float64       \n",
            " 17  Sales Quantity                    65241 non-null  int64         \n",
            " 18  Sales Rep                         65241 non-null  int64         \n",
            " 19  U/M                               65241 non-null  object        \n",
            " 20  Invoice_Year                      65241 non-null  int64         \n",
            " 21  Invoice_Month                     65241 non-null  int64         \n",
            " 22  Invoice_Quarter                   65241 non-null  int64         \n",
            " 23  Invoice_Day                       65241 non-null  int64         \n",
            "dtypes: datetime64[ns](3), float64(7), int64(10), object(4)\n",
            "memory usage: 12.4+ MB\n"
          ]
        }
      ],
      "source": [
        "sales_data01.info()"
      ]
    },
    {
      "cell_type": "code",
      "execution_count": null,
      "id": "f8c48db3",
      "metadata": {
        "id": "f8c48db3"
      },
      "outputs": [],
      "source": [
        "# Creating DataFrame only with neccessary values.\n",
        "sales_data02 = sales_data01[['CustKey','Item','Invoice Date','Invoice_Year','Invoice_Quarter', 'Invoice_Month',\n",
        "                           'Invoice_Day', 'Sales Quantity', 'Sales Amount Based on List Price','Discount Amount',\n",
        "                           'Sales Amount', 'Sales Margin Amount','Sales Cost Amount','Sales Rep','U/M','List Price',\n",
        "                           'Sales Price']]"
      ]
    },
    {
      "cell_type": "code",
      "execution_count": null,
      "id": "b890de51",
      "metadata": {
        "scrolled": false,
        "id": "b890de51",
        "outputId": "54c74f5f-20d9-4144-c528-41c5e3b975f6"
      },
      "outputs": [
        {
          "data": {
            "text/plain": [
              "CustKey                             0\n",
              "Item                                0\n",
              "Invoice Date                        0\n",
              "Invoice_Year                        0\n",
              "Invoice_Quarter                     0\n",
              "Invoice_Month                       0\n",
              "Invoice_Day                         0\n",
              "Sales Quantity                      0\n",
              "Sales Amount Based on List Price    0\n",
              "Discount Amount                     0\n",
              "Sales Amount                        0\n",
              "Sales Margin Amount                 0\n",
              "Sales Cost Amount                   0\n",
              "Sales Rep                           0\n",
              "U/M                                 0\n",
              "List Price                          0\n",
              "Sales Price                         0\n",
              "dtype: int64"
            ]
          },
          "execution_count": 14,
          "metadata": {},
          "output_type": "execute_result"
        }
      ],
      "source": [
        "sales_data02.isnull().sum()"
      ]
    },
    {
      "cell_type": "code",
      "execution_count": null,
      "id": "797c39d6",
      "metadata": {
        "id": "797c39d6",
        "outputId": "ae66b149-d8bf-4f02-d915-8fb143d8d02c"
      },
      "outputs": [
        {
          "data": {
            "text/plain": [
              "<AxesSubplot:>"
            ]
          },
          "execution_count": 15,
          "metadata": {},
          "output_type": "execute_result"
        },
        {
          "data": {
            "image/png": "[encoded data removed]",
            "text/plain": [
              "<Figure size 864x576 with 2 Axes>"
            ]
          },
          "metadata": {
            "needs_background": "light"
          },
          "output_type": "display_data"
        }
      ],
      "source": [
        "# Checking the correlation\n",
        "plt.figure(figsize=(12,8))\n",
        "sns.heatmap(sales_data.corr(method='pearson'), annot=True, vmin=-1, vmax=1, cmap='YlGnBu')"
      ]
    },
    {
      "cell_type": "markdown",
      "id": "f48223fc",
      "metadata": {
        "id": "f48223fc"
      },
      "source": [
        "### Observations:\n",
        "\n",
        "* 1 Discount Amount is highly related to Sales Amount, Sales Cost Amount, Sales Amount Based on List Price & Sales Margin Amount and moderately related to Sales Quantity.\n",
        "* 2- List Price highly related to sales price and has no relations with Sales amount, Sales cost amount, Sales amount based on list price & sales margin amount.\n",
        "* 3- Sales quantity is moderately related to Sales amount, discount amount, sales margin amount.\n",
        "* Their is no relation Between Sales Rep and Sales Amount, Sales Margin Amount."
      ]
    },
    {
      "cell_type": "code",
      "execution_count": null,
      "id": "68265e15",
      "metadata": {
        "id": "68265e15"
      },
      "outputs": [],
      "source": [
        "# set style\n",
        "sns.set(style = 'darkgrid')"
      ]
    },
    {
      "cell_type": "code",
      "execution_count": null,
      "id": "2caf52e5",
      "metadata": {
        "id": "2caf52e5"
      },
      "outputs": [],
      "source": [
        "DaySalesInsights = sales_data01.copy()\n",
        "DaySalesInsights['Invoice_Date'] = pd.to_datetime(sales_data01['Invoice Date']).dt.date"
      ]
    },
    {
      "cell_type": "code",
      "execution_count": null,
      "id": "a7ac4c46",
      "metadata": {
        "id": "a7ac4c46"
      },
      "outputs": [],
      "source": [
        "top10sales = DaySalesInsights.groupby('Invoice_Date').sum().sort_values('Sales Amount', ascending = False)\n",
        "top10sales = top10sales.reset_index().head(10)"
      ]
    },
    {
      "cell_type": "markdown",
      "id": "bfc6fc59",
      "metadata": {
        "id": "bfc6fc59"
      },
      "source": [
        "### Yearly Sales Record:"
      ]
    },
    {
      "cell_type": "code",
      "execution_count": null,
      "id": "43a6db70",
      "metadata": {
        "id": "43a6db70"
      },
      "outputs": [],
      "source": [
        "Yearly_Sales =  sales_data02[['CustKey','Item','Invoice Date','Invoice_Year','Invoice_Month',\n",
        "                            'Sales Quantity', 'Sales Amount Based on List Price','Discount Amount',\n",
        "                           'Sales Amount', 'Sales Margin Amount','Sales Cost Amount','Sales Rep','U/M','List Price',\n",
        "                           'Sales Price']]\n"
      ]
    },
    {
      "cell_type": "code",
      "execution_count": null,
      "id": "f17c2c07",
      "metadata": {
        "scrolled": false,
        "id": "f17c2c07",
        "outputId": "a6ab8362-e5e9-4bbb-de06-9b86e3b6c042"
      },
      "outputs": [
        {
          "data": {
            "text/html": [
              "<div>\n",
              "<style scoped>\n",
              "    .dataframe tbody tr th:only-of-type {\n",
              "        vertical-align: middle;\n",
              "    }\n",
              "\n",
              "    .dataframe tbody tr th {\n",
              "        vertical-align: top;\n",
              "    }\n",
              "\n",
              "    .dataframe thead th {\n",
              "        text-align: right;\n",
              "    }\n",
              "</style>\n",
              "<table border=\"1\" class=\"dataframe\">\n",
              "  <thead>\n",
              "    <tr style=\"text-align: right;\">\n",
              "      <th></th>\n",
              "      <th>Invoice_Year</th>\n",
              "      <th>Sales Amount</th>\n",
              "    </tr>\n",
              "  </thead>\n",
              "  <tbody>\n",
              "    <tr>\n",
              "      <th>0</th>\n",
              "      <td>2017</td>\n",
              "      <td>87416407.83</td>\n",
              "    </tr>\n",
              "    <tr>\n",
              "      <th>1</th>\n",
              "      <td>2018</td>\n",
              "      <td>20817471.00</td>\n",
              "    </tr>\n",
              "    <tr>\n",
              "      <th>2</th>\n",
              "      <td>2019</td>\n",
              "      <td>77906591.65</td>\n",
              "    </tr>\n",
              "  </tbody>\n",
              "</table>\n",
              "</div>"
            ],
            "text/plain": [
              "   Invoice_Year  Sales Amount\n",
              "0          2017   87416407.83\n",
              "1          2018   20817471.00\n",
              "2          2019   77906591.65"
            ]
          },
          "execution_count": 30,
          "metadata": {},
          "output_type": "execute_result"
        },
        {
          "data": {
            "image/png": "[encoded data removed]",
            "text/plain": [
              "<Figure size 360x360 with 1 Axes>"
            ]
          },
          "metadata": {},
          "output_type": "display_data"
        }
      ],
      "source": [
        "Yearly_Sales01 = Yearly_Sales.groupby('Invoice_Year').sum().reset_index()\n",
        "sns.catplot(y = 'Sales Amount', x = 'Invoice_Year', data = Yearly_Sales01, palette='Reds',kind=\"bar\")\n",
        "plt.xlabel('Year')\n",
        "plt.ylabel('Sales Amount')\n",
        "plt.title('Yearly Sales')\n",
        "Yearly_Sales01[['Invoice_Year', 'Sales Amount']]"
      ]
    },
    {
      "cell_type": "markdown",
      "id": "a94c948a",
      "metadata": {
        "id": "a94c948a"
      },
      "source": [
        "### Obseravtions:\n",
        "*  From this plot, it is clear that Sales decreased continuously & then it started to increase from 2018 to 2019."
      ]
    },
    {
      "cell_type": "markdown",
      "id": "5fa474a7",
      "metadata": {
        "id": "5fa474a7"
      },
      "source": [
        "### Observations:\n",
        "* From 2017-19 Highest Sales Amount 2017>2019>2018."
      ]
    },
    {
      "cell_type": "markdown",
      "id": "248b0a47",
      "metadata": {
        "id": "248b0a47"
      },
      "source": [
        "### Observations:\n",
        "* Generally, from 2017 to 2019 total quantity of items on any particular day was in the range of `0` to `4000` items while the items amounted to between `$1` and `$200000`."
      ]
    },
    {
      "cell_type": "code",
      "execution_count": null,
      "id": "85bc83d7",
      "metadata": {
        "id": "85bc83d7",
        "outputId": "9dba6d94-e5db-4bb5-ecaa-e2055669e492"
      },
      "outputs": [
        {
          "data": {
            "text/plain": [
              "Text(0, 0.5, 'Count')"
            ]
          },
          "execution_count": 35,
          "metadata": {},
          "output_type": "execute_result"
        },
        {
          "data": {
            "image/png": "[encoded data removed]",
            "text/plain": [
              "<Figure size 1440x504 with 1 Axes>"
            ]
          },
          "metadata": {},
          "output_type": "display_data"
        }
      ],
      "source": [
        "plt.figure(figsize=(20, 7))\n",
        "sales_data01['Sales Rep'].value_counts().plot.bar()\n",
        "plt.xlabel('Sales Rep')\n",
        "plt.ylabel('Count')"
      ]
    },
    {
      "cell_type": "markdown",
      "id": "c3927d05",
      "metadata": {
        "id": "c3927d05"
      },
      "source": [
        "#### Sales Rep \"108\" were used most often while sales rep \"150\" has been used the least."
      ]
    },
    {
      "cell_type": "markdown",
      "id": "02d0e0bc",
      "metadata": {
        "id": "02d0e0bc"
      },
      "source": [
        "## Yearly-Monthwise Records:"
      ]
    },
    {
      "cell_type": "code",
      "execution_count": null,
      "id": "fdc01291",
      "metadata": {
        "id": "fdc01291",
        "outputId": "6c080248-6ef7-42ae-96d0-bf1d1e53cd66"
      },
      "outputs": [
        {
          "data": {
            "text/html": [
              "<div>\n",
              "<style scoped>\n",
              "    .dataframe tbody tr th:only-of-type {\n",
              "        vertical-align: middle;\n",
              "    }\n",
              "\n",
              "    .dataframe tbody tr th {\n",
              "        vertical-align: top;\n",
              "    }\n",
              "\n",
              "    .dataframe thead th {\n",
              "        text-align: right;\n",
              "    }\n",
              "</style>\n",
              "<table border=\"1\" class=\"dataframe\">\n",
              "  <thead>\n",
              "    <tr style=\"text-align: right;\">\n",
              "      <th></th>\n",
              "      <th>Sales Amount Based on List Price</th>\n",
              "      <th>Discount Amount</th>\n",
              "      <th>Sales Amount</th>\n",
              "      <th>Sales Margin Amount</th>\n",
              "      <th>Sales Cost Amount</th>\n",
              "      <th>Sales Rep</th>\n",
              "      <th>List Price</th>\n",
              "      <th>Sales Price</th>\n",
              "    </tr>\n",
              "  </thead>\n",
              "  <tbody>\n",
              "    <tr>\n",
              "      <th>count</th>\n",
              "      <td>2.700000e+01</td>\n",
              "      <td>2.700000e+01</td>\n",
              "      <td>2.700000e+01</td>\n",
              "      <td>2.700000e+01</td>\n",
              "      <td>2.700000e+01</td>\n",
              "      <td>27.000000</td>\n",
              "      <td>2.700000e+01</td>\n",
              "      <td>27.000000</td>\n",
              "    </tr>\n",
              "    <tr>\n",
              "      <th>mean</th>\n",
              "      <td>1.138197e+07</td>\n",
              "      <td>4.487882e+06</td>\n",
              "      <td>6.894091e+06</td>\n",
              "      <td>2.878090e+06</td>\n",
              "      <td>4.016002e+06</td>\n",
              "      <td>332055.962963</td>\n",
              "      <td>1.244452e+06</td>\n",
              "      <td>684427.100434</td>\n",
              "    </tr>\n",
              "    <tr>\n",
              "      <th>std</th>\n",
              "      <td>2.220965e+06</td>\n",
              "      <td>1.231280e+06</td>\n",
              "      <td>1.142842e+06</td>\n",
              "      <td>5.140723e+05</td>\n",
              "      <td>6.506092e+05</td>\n",
              "      <td>55275.936829</td>\n",
              "      <td>2.116445e+05</td>\n",
              "      <td>115921.969853</td>\n",
              "    </tr>\n",
              "    <tr>\n",
              "      <th>min</th>\n",
              "      <td>4.900167e+06</td>\n",
              "      <td>1.712686e+06</td>\n",
              "      <td>3.187481e+06</td>\n",
              "      <td>1.290189e+06</td>\n",
              "      <td>1.897292e+06</td>\n",
              "      <td>130314.000000</td>\n",
              "      <td>5.042254e+05</td>\n",
              "      <td>270807.438237</td>\n",
              "    </tr>\n",
              "    <tr>\n",
              "      <th>25%</th>\n",
              "      <td>1.077866e+07</td>\n",
              "      <td>4.024413e+06</td>\n",
              "      <td>6.461181e+06</td>\n",
              "      <td>2.617218e+06</td>\n",
              "      <td>3.688586e+06</td>\n",
              "      <td>306638.500000</td>\n",
              "      <td>1.143268e+06</td>\n",
              "      <td>620357.646120</td>\n",
              "    </tr>\n",
              "    <tr>\n",
              "      <th>50%</th>\n",
              "      <td>1.152212e+07</td>\n",
              "      <td>4.815936e+06</td>\n",
              "      <td>6.895858e+06</td>\n",
              "      <td>2.882060e+06</td>\n",
              "      <td>4.092856e+06</td>\n",
              "      <td>339909.000000</td>\n",
              "      <td>1.259842e+06</td>\n",
              "      <td>694170.910154</td>\n",
              "    </tr>\n",
              "    <tr>\n",
              "      <th>75%</th>\n",
              "      <td>1.278649e+07</td>\n",
              "      <td>5.277200e+06</td>\n",
              "      <td>7.600667e+06</td>\n",
              "      <td>3.134162e+06</td>\n",
              "      <td>4.370919e+06</td>\n",
              "      <td>366086.500000</td>\n",
              "      <td>1.365313e+06</td>\n",
              "      <td>752295.240603</td>\n",
              "    </tr>\n",
              "    <tr>\n",
              "      <th>max</th>\n",
              "      <td>1.472000e+07</td>\n",
              "      <td>6.112159e+06</td>\n",
              "      <td>8.783739e+06</td>\n",
              "      <td>3.807619e+06</td>\n",
              "      <td>5.041842e+06</td>\n",
              "      <td>404161.000000</td>\n",
              "      <td>1.558636e+06</td>\n",
              "      <td>873625.957968</td>\n",
              "    </tr>\n",
              "  </tbody>\n",
              "</table>\n",
              "</div>"
            ],
            "text/plain": [
              "       Sales Amount Based on List Price  Discount Amount  Sales Amount  \\\n",
              "count                      2.700000e+01     2.700000e+01  2.700000e+01   \n",
              "mean                       1.138197e+07     4.487882e+06  6.894091e+06   \n",
              "std                        2.220965e+06     1.231280e+06  1.142842e+06   \n",
              "min                        4.900167e+06     1.712686e+06  3.187481e+06   \n",
              "25%                        1.077866e+07     4.024413e+06  6.461181e+06   \n",
              "50%                        1.152212e+07     4.815936e+06  6.895858e+06   \n",
              "75%                        1.278649e+07     5.277200e+06  7.600667e+06   \n",
              "max                        1.472000e+07     6.112159e+06  8.783739e+06   \n",
              "\n",
              "       Sales Margin Amount  Sales Cost Amount      Sales Rep    List Price  \\\n",
              "count         2.700000e+01       2.700000e+01      27.000000  2.700000e+01   \n",
              "mean          2.878090e+06       4.016002e+06  332055.962963  1.244452e+06   \n",
              "std           5.140723e+05       6.506092e+05   55275.936829  2.116445e+05   \n",
              "min           1.290189e+06       1.897292e+06  130314.000000  5.042254e+05   \n",
              "25%           2.617218e+06       3.688586e+06  306638.500000  1.143268e+06   \n",
              "50%           2.882060e+06       4.092856e+06  339909.000000  1.259842e+06   \n",
              "75%           3.134162e+06       4.370919e+06  366086.500000  1.365313e+06   \n",
              "max           3.807619e+06       5.041842e+06  404161.000000  1.558636e+06   \n",
              "\n",
              "         Sales Price  \n",
              "count      27.000000  \n",
              "mean   684427.100434  \n",
              "std    115921.969853  \n",
              "min    270807.438237  \n",
              "25%    620357.646120  \n",
              "50%    694170.910154  \n",
              "75%    752295.240603  \n",
              "max    873625.957968  "
            ]
          },
          "execution_count": 36,
          "metadata": {},
          "output_type": "execute_result"
        }
      ],
      "source": [
        "Yearly_Monthwise_Sales = sales_data02.groupby(['Invoice_Year','Invoice_Month']).sum().reset_index()\n",
        "Yearly_Monthwise_Sales.iloc[:,6:].describe()"
      ]
    },
    {
      "cell_type": "markdown",
      "id": "43245e5b",
      "metadata": {
        "id": "43245e5b"
      },
      "source": [
        "## Monthly Records:"
      ]
    },
    {
      "cell_type": "markdown",
      "id": "0fe0efab",
      "metadata": {
        "id": "0fe0efab"
      },
      "source": [
        "## Profits Records:"
      ]
    },
    {
      "cell_type": "markdown",
      "id": "a73d5168",
      "metadata": {
        "id": "a73d5168"
      },
      "source": [
        "### Observations:\n",
        "* In the scatterplot above, you can see that Sales Margin is mostly between `$1` and `$250000`."
      ]
    },
    {
      "cell_type": "markdown",
      "id": "7c238d3e",
      "metadata": {
        "id": "7c238d3e"
      },
      "source": [
        "## Yearly Month wise Records:"
      ]
    },
    {
      "cell_type": "markdown",
      "id": "9919013a",
      "metadata": {
        "id": "9919013a"
      },
      "source": [
        "## Monthly Records:"
      ]
    },
    {
      "cell_type": "markdown",
      "id": "2d0179e0",
      "metadata": {
        "id": "2d0179e0"
      },
      "source": [
        "### Observations:\n",
        "* In Most cases, Sales Quantity was around 200 and Profits were around `$200000`."
      ]
    },
    {
      "cell_type": "markdown",
      "id": "96cdd76c",
      "metadata": {
        "id": "96cdd76c"
      },
      "source": [
        "###  Observations:\n",
        "* Among the 10 CustKey that generated the most Sales Margin Amount, `CustKey-10021485` contributed around 30.57% of the Sales Margin Amount."
      ]
    },
    {
      "cell_type": "code",
      "execution_count": null,
      "id": "3e6662a1",
      "metadata": {
        "id": "3e6662a1"
      },
      "outputs": [],
      "source": [
        "Top10byCustKey18 = Yearly_Sales[Yearly_Sales['Invoice_Year']==2018].groupby(['Invoice_Year','CustKey']).sum()\n",
        "Top10byCustKey18 = Top10byCustKey18.sort_values('Sales Margin Amount', ascending=False).reset_index().head(10)"
      ]
    },
    {
      "cell_type": "markdown",
      "id": "9dde5f8f",
      "metadata": {
        "id": "9dde5f8f"
      },
      "source": [
        "###  Observations:\n",
        "* Item `Better Large Canned Shrimp` contributed around 19.21% of Sales Margin amount among the 10 Items that generated the most Sales Margin Amount."
      ]
    },
    {
      "cell_type": "code",
      "execution_count": null,
      "id": "66ffa948",
      "metadata": {
        "id": "66ffa948"
      },
      "outputs": [],
      "source": [
        "High_Sales = sales_data01.groupby('Item').sum().sort_values('Sales Amount', ascending=False).reset_index()\n",
        "High_Sales.index+=1\n",
        "High_Sales=High_Sales.reset_index().rename(columns={\"index\":\"Rank\"})"
      ]
    },
    {
      "cell_type": "code",
      "execution_count": null,
      "id": "21ba8c2b",
      "metadata": {
        "scrolled": false,
        "id": "21ba8c2b",
        "outputId": "642c1522-63a2-4f57-8f3f-a7cd304b9202"
      },
      "outputs": [
        {
          "data": {
            "text/html": [
              "<div>\n",
              "<style scoped>\n",
              "    .dataframe tbody tr th:only-of-type {\n",
              "        vertical-align: middle;\n",
              "    }\n",
              "\n",
              "    .dataframe tbody tr th {\n",
              "        vertical-align: top;\n",
              "    }\n",
              "\n",
              "    .dataframe thead th {\n",
              "        text-align: right;\n",
              "    }\n",
              "</style>\n",
              "<table border=\"1\" class=\"dataframe\">\n",
              "  <thead>\n",
              "    <tr style=\"text-align: right;\">\n",
              "      <th></th>\n",
              "      <th>Rank</th>\n",
              "      <th>Item</th>\n",
              "      <th>Sales Amount</th>\n",
              "    </tr>\n",
              "  </thead>\n",
              "  <tbody>\n",
              "    <tr>\n",
              "      <th>0</th>\n",
              "      <td>1</td>\n",
              "      <td>Better Large Canned Shrimp</td>\n",
              "      <td>15454172.47</td>\n",
              "    </tr>\n",
              "    <tr>\n",
              "      <th>1</th>\n",
              "      <td>2</td>\n",
              "      <td>High Top Dried Mushrooms</td>\n",
              "      <td>13367714.53</td>\n",
              "    </tr>\n",
              "    <tr>\n",
              "      <th>2</th>\n",
              "      <td>3</td>\n",
              "      <td>Red Spade Pimento Loaf</td>\n",
              "      <td>5711486.45</td>\n",
              "    </tr>\n",
              "    <tr>\n",
              "      <th>3</th>\n",
              "      <td>4</td>\n",
              "      <td>Better Canned Tuna in Oil</td>\n",
              "      <td>5693075.12</td>\n",
              "    </tr>\n",
              "    <tr>\n",
              "      <th>4</th>\n",
              "      <td>5</td>\n",
              "      <td>Ebony Squash</td>\n",
              "      <td>5380727.75</td>\n",
              "    </tr>\n",
              "    <tr>\n",
              "      <th>5</th>\n",
              "      <td>6</td>\n",
              "      <td>Big Time Frozen Cheese Pizza</td>\n",
              "      <td>5127171.17</td>\n",
              "    </tr>\n",
              "    <tr>\n",
              "      <th>6</th>\n",
              "      <td>7</td>\n",
              "      <td>Fast Mini Donuts</td>\n",
              "      <td>5009499.08</td>\n",
              "    </tr>\n",
              "    <tr>\n",
              "      <th>7</th>\n",
              "      <td>8</td>\n",
              "      <td>Better Fancy Canned Sardines</td>\n",
              "      <td>4975348.35</td>\n",
              "    </tr>\n",
              "    <tr>\n",
              "      <th>8</th>\n",
              "      <td>9</td>\n",
              "      <td>Discover Manicotti</td>\n",
              "      <td>4901139.48</td>\n",
              "    </tr>\n",
              "    <tr>\n",
              "      <th>9</th>\n",
              "      <td>10</td>\n",
              "      <td>Landslide White Sugar</td>\n",
              "      <td>4282290.62</td>\n",
              "    </tr>\n",
              "  </tbody>\n",
              "</table>\n",
              "</div>"
            ],
            "text/plain": [
              "   Rank                          Item  Sales Amount\n",
              "0     1    Better Large Canned Shrimp   15454172.47\n",
              "1     2      High Top Dried Mushrooms   13367714.53\n",
              "2     3        Red Spade Pimento Loaf    5711486.45\n",
              "3     4     Better Canned Tuna in Oil    5693075.12\n",
              "4     5                  Ebony Squash    5380727.75\n",
              "5     6  Big Time Frozen Cheese Pizza    5127171.17\n",
              "6     7              Fast Mini Donuts    5009499.08\n",
              "7     8  Better Fancy Canned Sardines    4975348.35\n",
              "8     9            Discover Manicotti    4901139.48\n",
              "9    10         Landslide White Sugar    4282290.62"
            ]
          },
          "execution_count": 115,
          "metadata": {},
          "output_type": "execute_result"
        },
        {
          "data": {
            "image/png": "[encoded data removed]",
            "text/plain": [
              "<Figure size 720x504 with 1 Axes>"
            ]
          },
          "metadata": {},
          "output_type": "display_data"
        }
      ],
      "source": [
        "plt.figure(figsize=(10,7))\n",
        "sns.barplot(x='Rank', y='Sales Amount',data = High_Sales.head(10), palette = 'turbo')\n",
        "plt.legend(High_Sales['Item'].head(10))\n",
        "High_Sales[['Rank', 'Item', 'Sales Amount']].head(10)"
      ]
    },
    {
      "cell_type": "markdown",
      "id": "68edc644",
      "metadata": {
        "id": "68edc644"
      },
      "source": [
        "###  Observations:\n",
        "* Item `Better Large Canned Shrimp` contributed around 22.11% of revenue among the 10 Items that generated the most revenue."
      ]
    },
    {
      "cell_type": "code",
      "execution_count": null,
      "id": "96389245",
      "metadata": {
        "id": "96389245"
      },
      "outputs": [],
      "source": [
        "High_SalesPrice = sales_data01.groupby('Item').sum().sort_values('Sales Price', ascending=False).reset_index()\n",
        "High_SalesPrice.index+=1\n",
        "High_SalesPrice=High_SalesPrice.reset_index().rename(columns={\"index\":\"Rank\"})"
      ]
    },
    {
      "cell_type": "markdown",
      "id": "d5664f0e",
      "metadata": {
        "id": "d5664f0e"
      },
      "source": [
        "###  Observations:\n",
        "* Item `Better Fancy Canned Sardines` contributed around 18.43% of Sales Price among the 10 Items."
      ]
    },
    {
      "cell_type": "code",
      "execution_count": null,
      "id": "a487eb9b",
      "metadata": {
        "id": "a487eb9b"
      },
      "outputs": [],
      "source": [
        "High_CostAmount = sales_data01.groupby('Item').sum().sort_values('Sales Cost Amount', ascending=False).reset_index()\n",
        "High_CostAmount.index+=1\n",
        "High_CostAmount=High_CostAmount.reset_index().rename(columns={\"index\":\"Rank\"})"
      ]
    },
    {
      "cell_type": "markdown",
      "id": "bff295b9",
      "metadata": {
        "id": "bff295b9"
      },
      "source": [
        "### Observations:\n",
        "* Maximum sales quantities were generated in the unit of measure \"EA\"."
      ]
    },
    {
      "cell_type": "markdown",
      "id": "5b21852c",
      "metadata": {
        "id": "5b21852c"
      },
      "source": [
        "### Observations:\n",
        "* Maximum mean level sales margin amounts were generated in \"SE\" U/M while minimum mean level of them in \"PR\" U/M."
      ]
    },
    {
      "cell_type": "markdown",
      "id": "c36fcf9c",
      "metadata": {
        "id": "c36fcf9c"
      },
      "source": [
        "## Observations:\n",
        "\n",
        "* As seen from the pairplot above, it is quite clear that list price is very strongly positively correlated with sales price.\n",
        "* A strong correlation exists between sales amount, sales cost amount, sales margin amount, and sales amount based on list price.\n",
        "* Sales amount, sales cost amount, and sales margin amount are strongly correlated with discount amount.\n",
        "* Sales quantity is moderately positively correlated to sales amount, sales cost amount, sales margin amount and sales amount based on list price.\n",
        "* Sales cost amount and sales margin amount are strongly positively correlated.\n",
        "* Customer key and sales rep are weakly negatively correlated.\n",
        "* Sales price and sales quantity are weakly negatively correlated.\n",
        "* Sales quantity and sales rep are very weakly negatively correlated.\n",
        "* Sales rep is very weakly negatively correlated to both discount amount and sales cost amount.\n",
        "* Sales rep is very weakly positively correlated to sales margin amount, in fact we can claim them to be independent of each other as well.\n"
      ]
    }
  ],
  "metadata": {
    "direction": "ltr",
    "kernelspec": {
      "display_name": "Python 3 (ipykernel)",
      "language": "python",
      "name": "python3"
    },
    "language_info": {
      "codemirror_mode": {
        "name": "ipython",
        "version": 3
      },
      "file_extension": ".py",
      "mimetype": "text/x-python",
      "name": "python",
      "nbconvert_exporter": "python",
      "pygments_lexer": "ipython3",
      "version": "3.9.7"
    },
    "colab": {
      "provenance": [],
      "include_colab_link": true
    }
  },
  "nbformat": 4,
  "nbformat_minor": 5
}