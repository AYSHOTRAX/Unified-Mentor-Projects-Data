{
  "nbformat": 4,
  "nbformat_minor": 0,
  "metadata": {
    "colab": {
      "provenance": [],
      "authorship_tag": "ABX9TyMp4qatj0hcgOTonM6ahibg",
      "include_colab_link": true
    },
    "kernelspec": {
      "name": "python3",
      "display_name": "Python 3"
    },
    "language_info": {
      "name": "python"
    }
  },
  "cells": [
    {
      "cell_type": "markdown",
      "metadata": {
        "id": "view-in-github",
        "colab_type": "text"
      },
      "source": [
        "<a href=\"https://colab.research.google.com/github/AYSHOTRAX/VOR.DS-Test-/blob/main/Test.ipynb\" target=\"_parent\"><img src=\"https://colab.research.google.com/assets/colab-badge.svg\" alt=\"Open In Colab\"/></a>"
      ]
    },
    {
      "cell_type": "code",
      "execution_count": null,
      "metadata": {
        "colab": {
          "base_uri": "https://localhost:8080/"
        },
        "id": "Bvb_3Gc2XZPA",
        "outputId": "87313cdb-6939-4021-c12b-d88c16000699"
      },
      "outputs": [
        {
          "output_type": "stream",
          "name": "stdout",
          "text": [
            "Ayush\n"
          ]
        }
      ],
      "source": [
        "a = 'Ayush' #This is my name\n",
        "print(a)\n"
      ]
    },
    {
      "cell_type": "code",
      "source": [
        "str('Dashant') #structure\n",
        "age = 22\n",
        "percent = 90.2\n",
        "print(age)\n",
        "type(percent)\n",
        "type(age)"
      ],
      "metadata": {
        "colab": {
          "base_uri": "https://localhost:8080/"
        },
        "id": "B1YsUBshYWG4",
        "outputId": "3f9992f9-60f0-4f75-d5df-7635abdd9e0f"
      },
      "execution_count": null,
      "outputs": [
        {
          "output_type": "stream",
          "name": "stdout",
          "text": [
            "22\n"
          ]
        },
        {
          "output_type": "execute_result",
          "data": {
            "text/plain": [
              "int"
            ]
          },
          "metadata": {},
          "execution_count": 48
        }
      ]
    },
    {
      "cell_type": "code",
      "source": [
        "student1= ('ishika', 22, 90.2) #tuple\n",
        "student2= ['ishika', 22, 90.2] #list\n",
        "student3= {'ishika', 22, 90.2} #set creates random output\n",
        "type(student3)"
      ],
      "metadata": {
        "colab": {
          "base_uri": "https://localhost:8080/"
        },
        "id": "yFX8frsIeIRK",
        "outputId": "736d1469-9e7e-4985-d6a6-5e4cf81dc20f"
      },
      "execution_count": null,
      "outputs": [
        {
          "output_type": "execute_result",
          "data": {
            "text/plain": [
              "set"
            ]
          },
          "metadata": {},
          "execution_count": 49
        }
      ]
    },
    {
      "cell_type": "code",
      "source": [
        "print(student3)"
      ],
      "metadata": {
        "colab": {
          "base_uri": "https://localhost:8080/"
        },
        "id": "6uob-AJAlXjl",
        "outputId": "4d9576e5-f58c-4a75-c0fd-c4f85bc649ae"
      },
      "execution_count": null,
      "outputs": [
        {
          "output_type": "stream",
          "name": "stdout",
          "text": [
            "{90.2, 'ishika', 22}\n"
          ]
        }
      ]
    },
    {
      "cell_type": "code",
      "source": [
        "range(10)\n",
        "student={ 'Name':'Ishika','Age': 22,'Percent': 90.2}\n",
        "student"
      ],
      "metadata": {
        "colab": {
          "base_uri": "https://localhost:8080/"
        },
        "id": "2Y2jO9Olib6H",
        "outputId": "71abb11b-e5a1-4875-c92c-4bb307e3957b"
      },
      "execution_count": null,
      "outputs": [
        {
          "output_type": "execute_result",
          "data": {
            "text/plain": [
              "{'Name': 'Ishika', 'Age': 22, 'Percent': 90.2}"
            ]
          },
          "metadata": {},
          "execution_count": 51
        }
      ]
    },
    {
      "cell_type": "code",
      "source": [
        "student.values"
      ],
      "metadata": {
        "colab": {
          "base_uri": "https://localhost:8080/"
        },
        "id": "a8dJ-mGXjbpP",
        "outputId": "a3af4758-ecb1-4b0a-c23e-b939dabc286d"
      },
      "execution_count": null,
      "outputs": [
        {
          "output_type": "execute_result",
          "data": {
            "text/plain": [
              "<function dict.values>"
            ]
          },
          "metadata": {},
          "execution_count": 52
        }
      ]
    },
    {
      "cell_type": "code",
      "source": [
        "bool(-1)"
      ],
      "metadata": {
        "colab": {
          "base_uri": "https://localhost:8080/"
        },
        "id": "beD3foi9mQMA",
        "outputId": "3c0a6531-f6d8-4cd1-b3d0-b5393d7dc7c8"
      },
      "execution_count": null,
      "outputs": [
        {
          "output_type": "execute_result",
          "data": {
            "text/plain": [
              "True"
            ]
          },
          "metadata": {},
          "execution_count": 53
        }
      ]
    },
    {
      "cell_type": "code",
      "source": [
        "fruits =['apple','cherry','banana']\n",
        "fruits.append('orange')\n",
        "fruits.sort()\n",
        "fruits.reverse()\n",
        "fruits.remove('banana')\n",
        "fruits.pop(1)\n",
        "fruits.insert(1,'Watermelon')\n",
        "fruits.index('Watermelon')\n",
        "others=['pineapple','strawberry','guava','cherry']\n",
        "fruits.extend(others)\n",
        "fruits.count('cherry')\n",
        "fruits.copy()\n",
        "fruits.clear()\n"
      ],
      "metadata": {
        "id": "hNuy3qMaeqUb"
      },
      "execution_count": null,
      "outputs": []
    },
    {
      "cell_type": "code",
      "source": [
        "fruits\n"
      ],
      "metadata": {
        "colab": {
          "base_uri": "https://localhost:8080/"
        },
        "id": "lJZsAAe3e8tH",
        "outputId": "aa513d30-6438-4364-c059-c542065c78e7"
      },
      "execution_count": null,
      "outputs": [
        {
          "output_type": "execute_result",
          "data": {
            "text/plain": [
              "[]"
            ]
          },
          "metadata": {},
          "execution_count": 55
        }
      ]
    },
    {
      "cell_type": "code",
      "source": [
        "#string methods\n",
        "txt = \"hello, I am Ayush.\"\n",
        "a = txt.capitalize()\n",
        "print(a)\n",
        "txt = \"I am from Ghaziabad and born in Guwahati,India.\"\n",
        "b = txt.count(\"Ghaziabad\")\n",
        "print(b)\n",
        "txt = \"I love apples, apple are my favorite fruit\"\n",
        "c = txt.find(\"apple\")\n",
        "print(c)\n",
        "d = txt.index(\"apple\")\n",
        "print(d)\n",
        "txt = \"hello, my name is Ayush, I am 22 years old\"\n",
        "e = txt.split()\n",
        "print(e)"
      ],
      "metadata": {
        "colab": {
          "base_uri": "https://localhost:8080/"
        },
        "id": "uBBATHC8SwQr",
        "outputId": "25a1b266-2ecb-464d-e1d2-8b38c7626e66"
      },
      "execution_count": null,
      "outputs": [
        {
          "output_type": "stream",
          "name": "stdout",
          "text": [
            "Hello, i am ayush.\n",
            "1\n",
            "7\n",
            "7\n",
            "['hello,', 'my', 'name', 'is', 'Ayush,', 'I', 'am', '22', 'years', 'old']\n"
          ]
        }
      ]
    },
    {
      "cell_type": "code",
      "source": [
        "txt = \"Company12\" #\n",
        "name = txt.isalnum()\n",
        "print(name)\n",
        "txt = \"CompanyX\"\n",
        "alpha = txt.isalpha()\n",
        "print(alpha)\n",
        "txt = '50000'\n",
        "num = txt.isdigit()\n",
        "print(num)\n",
        "names = [\"Prashant\", \"Waqar\", \"Vinay\"]\n",
        "joined = \"$\".join(names)\n",
        "print(joined)\n",
        "txt = \"I love aalo\"\n",
        "result = txt.replace(\"aalo\", \"bhaloo\")\n",
        "print(result)\n",
        "txt = \"Hello, welcome to the jungle.\"\n",
        "start = txt.startswith(\"Hello\")\n",
        "end = txt.endswith(\".\")\n"
      ],
      "metadata": {
        "colab": {
          "base_uri": "https://localhost:8080/"
        },
        "id": "LKoC6jpfT08a",
        "outputId": "d0881e5e-7b23-437f-f681-72362603b7c9"
      },
      "execution_count": null,
      "outputs": [
        {
          "output_type": "stream",
          "name": "stdout",
          "text": [
            "True\n",
            "True\n",
            "True\n",
            "Prashant$Waqar$Vinay\n",
            "I love bhaloo\n"
          ]
        }
      ]
    },
    {
      "cell_type": "code",
      "source": [
        "start, end"
      ],
      "metadata": {
        "colab": {
          "base_uri": "https://localhost:8080/"
        },
        "id": "QBzSR89jYEta",
        "outputId": "9f01d8e9-761f-4964-fd07-f61aca7c5a25"
      },
      "execution_count": null,
      "outputs": [
        {
          "output_type": "execute_result",
          "data": {
            "text/plain": [
              "(True, True)"
            ]
          },
          "metadata": {},
          "execution_count": 58
        }
      ]
    },
    {
      "cell_type": "code",
      "source": [
        "#conditional statements (if,elif,else)\n",
        "a, b = 33, 200\n",
        "print(b>a)\n",
        "\n",
        "if b>a:\n",
        "  print(\"b is greater than a\")"
      ],
      "metadata": {
        "colab": {
          "base_uri": "https://localhost:8080/"
        },
        "id": "Nb-GpAMEZKNQ",
        "outputId": "47e2efc9-c0c0-4bd3-a679-290dd324e099"
      },
      "execution_count": null,
      "outputs": [
        {
          "output_type": "stream",
          "name": "stdout",
          "text": [
            "True\n",
            "b is greater than a\n"
          ]
        }
      ]
    },
    {
      "cell_type": "code",
      "source": [
        "aman , vinod = 60 , 62\n",
        "if vinod > aman:\n",
        "  print(\"vinod scores greater than aman\")\n",
        "elif aman == vinod:\n",
        "  print(\"Both scores equally\")"
      ],
      "metadata": {
        "colab": {
          "base_uri": "https://localhost:8080/"
        },
        "id": "IyX42NSAbTDx",
        "outputId": "d9e2a6cb-bc81-40e5-b2fc-171bf56d4ba7"
      },
      "execution_count": null,
      "outputs": [
        {
          "output_type": "stream",
          "name": "stdout",
          "text": [
            "vinod scores greater than aman\n"
          ]
        }
      ]
    },
    {
      "cell_type": "code",
      "source": [
        "if vinod > aman:\n",
        "  print(\"vinod scores greater than aman\")\n",
        "elif aman == vinod:\n",
        "    print(\" Both scores equally\")"
      ],
      "metadata": {
        "colab": {
          "base_uri": "https://localhost:8080/"
        },
        "id": "OWwUQ-cqhORW",
        "outputId": "556a8b23-1a56-4216-a8a2-6ee642bb4a00"
      },
      "execution_count": null,
      "outputs": [
        {
          "output_type": "stream",
          "name": "stdout",
          "text": [
            "vinod scores greater than aman\n"
          ]
        }
      ]
    },
    {
      "cell_type": "code",
      "source": [
        "def my_function():                      #Function Definig\n",
        "  print(\"Hello i'm a Bioinformatician\")"
      ],
      "metadata": {
        "id": "pMklSlU8tWD5"
      },
      "execution_count": null,
      "outputs": []
    },
    {
      "cell_type": "code",
      "source": [
        "my_function()                           #Function calling"
      ],
      "metadata": {
        "colab": {
          "base_uri": "https://localhost:8080/"
        },
        "id": "zhvRSFE7tyYm",
        "outputId": "fc6aa016-b1ab-4dc4-ee8e-e33f9fab3232"
      },
      "execution_count": null,
      "outputs": [
        {
          "output_type": "stream",
          "name": "stdout",
          "text": [
            "Hello i'm a Bioinformatician\n"
          ]
        }
      ]
    },
    {
      "cell_type": "code",
      "source": [
        "def my_ID(name):                        #Function with Arguments\n",
        "  print(\"CR001_\" + name)\n",
        "\n",
        "  my_ID(\"Onkar\")"
      ],
      "metadata": {
        "id": "KWsgy3HZ8p3i"
      },
      "execution_count": null,
      "outputs": []
    },
    {
      "cell_type": "code",
      "source": [
        "def add(a,b,c):\n",
        "  add =lambda a,b,c: print(a+b+c)\n",
        "add(4,5,5)"
      ],
      "metadata": {
        "id": "bMNbxEyoBsRo"
      },
      "execution_count": null,
      "outputs": []
    },
    {
      "cell_type": "code",
      "source": [
        "#Map function\n",
        "nums = [1, 2, 3, 4, 5]\n",
        "\n",
        "def sq(n):\n",
        "   return n*n\n",
        "\n",
        "   square = map(sq, nums)\n",
        "   print(list(square))\n"
      ],
      "metadata": {
        "id": "Q9fS3wDIIyJD"
      },
      "execution_count": null,
      "outputs": []
    },
    {
      "cell_type": "code",
      "source": [
        "#Zip function\n",
        "name = [\"Manjeet\", \"Nikhil\", \"Shambhavi\"]\n",
        "ID = [4, 1, 3]\n",
        "mapped = zip(name, ID)\n",
        "print(list(mapped))"
      ],
      "metadata": {
        "colab": {
          "base_uri": "https://localhost:8080/"
        },
        "id": "Xw1JETYhMMyV",
        "outputId": "38226531-65af-45e2-a662-61e8e27c662a"
      },
      "execution_count": null,
      "outputs": [
        {
          "output_type": "stream",
          "name": "stdout",
          "text": [
            "[('Manjeet', 4), ('Nikhil', 1), ('Shambhavi', 3)]\n"
          ]
        }
      ]
    },
    {
      "cell_type": "code",
      "source": [
        "#Python loops\n",
        "fruits = [\"apple\", \"banana\", \"cherry\", \"pineapple\", \"mango\"]\n",
        "for x in fruits:\n",
        " print(x)"
      ],
      "metadata": {
        "colab": {
          "base_uri": "https://localhost:8080/"
        },
        "id": "HrwwPl0IGlMK",
        "outputId": "b9407875-c0c0-453b-86ba-68185f33d6fc"
      },
      "execution_count": null,
      "outputs": [
        {
          "output_type": "stream",
          "name": "stdout",
          "text": [
            "apple\n",
            "banana\n",
            "cherry\n",
            "pineapple\n",
            "mango\n"
          ]
        }
      ]
    },
    {
      "cell_type": "code",
      "source": [
        "num = 1\n",
        "while num < 6:\n",
        "  print(num)\n",
        "  num += 1"
      ],
      "metadata": {
        "colab": {
          "base_uri": "https://localhost:8080/"
        },
        "id": "TGhX1xwWYo2H",
        "outputId": "48f3f4ea-e974-4583-b016-a261fb4c2d1b"
      },
      "execution_count": null,
      "outputs": [
        {
          "output_type": "stream",
          "name": "stdout",
          "text": [
            "1\n",
            "2\n",
            "3\n",
            "4\n",
            "5\n"
          ]
        }
      ]
    },
    {
      "cell_type": "code",
      "source": [
        "num = 1\n",
        "while num < 32:\n",
        "  print(num)\n",
        "  num += 5"
      ],
      "metadata": {
        "colab": {
          "base_uri": "https://localhost:8080/"
        },
        "id": "qfWhzKNwgYU5",
        "outputId": "7c829f2c-e367-4beb-cf3c-3c26e2676b61"
      },
      "execution_count": null,
      "outputs": [
        {
          "output_type": "stream",
          "name": "stdout",
          "text": [
            "1\n",
            "6\n",
            "11\n",
            "16\n",
            "21\n",
            "26\n",
            "31\n"
          ]
        }
      ]
    },
    {
      "cell_type": "code",
      "source": [
        "num = 0\n",
        "\n",
        "while num < 6:\n",
        "  num += 1\n",
        "  if num == 3:\n",
        "    continue\n",
        "  print(num)"
      ],
      "metadata": {
        "colab": {
          "base_uri": "https://localhost:8080/"
        },
        "id": "0PdSkmWYh-ku",
        "outputId": "7a9e2aca-c1b4-4b56-da31-5aeaa49dcc7b"
      },
      "execution_count": null,
      "outputs": [
        {
          "output_type": "stream",
          "name": "stdout",
          "text": [
            "1\n",
            "2\n",
            "4\n",
            "5\n",
            "6\n"
          ]
        }
      ]
    },
    {
      "cell_type": "code",
      "source": [
        "fruits = (\"apples\", \"banana\", \"pineapple\", \"banana\")\n",
        "print(fruits)"
      ],
      "metadata": {
        "colab": {
          "base_uri": "https://localhost:8080/"
        },
        "id": "47jCzrrh4j1t",
        "outputId": "24c4a032-a4e7-4fbf-be1b-50dd81420299"
      },
      "execution_count": null,
      "outputs": [
        {
          "output_type": "stream",
          "name": "stdout",
          "text": [
            "('apples', 'banana', 'pineapple', 'banana')\n"
          ]
        }
      ]
    },
    {
      "cell_type": "code",
      "source": [
        "nums = (1, 2, 3, 4, 6, 7, 8, 6)\n",
        "nums.count(6)"
      ],
      "metadata": {
        "colab": {
          "base_uri": "https://localhost:8080/"
        },
        "id": "ICCSgZxB5CWj",
        "outputId": "572ed92f-32c6-416a-90d5-e20bb756c377"
      },
      "execution_count": null,
      "outputs": [
        {
          "output_type": "execute_result",
          "data": {
            "text/plain": [
              "2"
            ]
          },
          "metadata": {},
          "execution_count": 17
        }
      ]
    },
    {
      "cell_type": "code",
      "source": [
        "nums = (1, 2, 3, 4, 6, 7, 8, 6)\n",
        "nums.index(6)"
      ],
      "metadata": {
        "colab": {
          "base_uri": "https://localhost:8080/"
        },
        "id": "imAKmcu26bot",
        "outputId": "82a8f6d0-64a5-4cb2-fadd-c862df621fc9"
      },
      "execution_count": null,
      "outputs": [
        {
          "output_type": "execute_result",
          "data": {
            "text/plain": [
              "4"
            ]
          },
          "metadata": {},
          "execution_count": 18
        }
      ]
    },
    {
      "cell_type": "code",
      "source": [
        "nums = (1, 2, 3, 4, 6, 7, 8, 6)\n",
        "\n",
        "min(nums)\n",
        "#max(nums)"
      ],
      "metadata": {
        "colab": {
          "base_uri": "https://localhost:8080/"
        },
        "id": "uL152mfj60PX",
        "outputId": "16f1d492-1302-4be5-b098-5cd223a0eee4"
      },
      "execution_count": null,
      "outputs": [
        {
          "output_type": "execute_result",
          "data": {
            "text/plain": [
              "1"
            ]
          },
          "metadata": {},
          "execution_count": 21
        }
      ]
    },
    {
      "cell_type": "code",
      "source": [
        "#Dictionaries, they have keys:values pair.\n",
        "#Ordered, changeable, no duplicates.\n",
        "car = {\"brand\": \"Ford\", \"model\": \"Mustang\", \"year\": 1964}\n",
        "#car.get(\"brand\")\n",
        "car.items()\n",
        "car.keys()\n",
        "car.values()\n",
        "\n"
      ],
      "metadata": {
        "colab": {
          "base_uri": "https://localhost:8080/"
        },
        "id": "FM5AbTEn_ZId",
        "outputId": "6780d20e-be22-46e0-c395-d0a2a4389dae"
      },
      "execution_count": null,
      "outputs": [
        {
          "output_type": "execute_result",
          "data": {
            "text/plain": [
              "dict_values(['Ford', 'Mustang', 1964])"
            ]
          },
          "metadata": {},
          "execution_count": 47
        }
      ]
    },
    {
      "cell_type": "code",
      "source": [
        "#car.pop(\"year\")\n",
        "#print(car)\n",
        "car.popitem()\n",
        "print(car)\n"
      ],
      "metadata": {
        "colab": {
          "base_uri": "https://localhost:8080/"
        },
        "id": "F-CTGUH2DG2J",
        "outputId": "20307ce0-ce28-4f58-d63d-0742eb5d4b08"
      },
      "execution_count": null,
      "outputs": [
        {
          "output_type": "stream",
          "name": "stdout",
          "text": [
            "{'brand': 'Ford', 'model': 'Mustang'}\n"
          ]
        }
      ]
    },
    {
      "cell_type": "code",
      "source": [
        "car.update({\"color\": \"white\"})\n",
        "print(car)"
      ],
      "metadata": {
        "colab": {
          "base_uri": "https://localhost:8080/"
        },
        "id": "Smw56YkNDGe2",
        "outputId": "4fe90ba2-0b14-406f-e7e0-d4e39b6012ae"
      },
      "execution_count": null,
      "outputs": [
        {
          "output_type": "stream",
          "name": "stdout",
          "text": [
            "{'brand': 'Ford', 'model': 'Mustang', 'year': 1964, 'color': 'white'}\n"
          ]
        }
      ]
    },
    {
      "cell_type": "code",
      "source": [
        "car.clear()\n",
        "print(car)"
      ],
      "metadata": {
        "colab": {
          "base_uri": "https://localhost:8080/"
        },
        "id": "ipMvaHuIGM7a",
        "outputId": "fa581466-2021-4bf3-8de7-34854f55fb5d"
      },
      "execution_count": null,
      "outputs": [
        {
          "output_type": "stream",
          "name": "stdout",
          "text": [
            "{}\n"
          ]
        }
      ]
    },
    {
      "cell_type": "code",
      "source": [
        "fruits = {\"apple\", \"banana\", \"cherry\"}\n",
        "fruits.add(\"orange\")\n",
        "print(fruits)"
      ],
      "metadata": {
        "id": "P9YgVSdBHS0n",
        "colab": {
          "base_uri": "https://localhost:8080/"
        },
        "outputId": "7a4f517e-72f7-4973-f189-c3b057c95b8b"
      },
      "execution_count": 61,
      "outputs": [
        {
          "output_type": "stream",
          "name": "stdout",
          "text": [
            "{'orange', 'banana', 'apple', 'cherry'}\n"
          ]
        }
      ]
    },
    {
      "cell_type": "code",
      "source": [
        "#fruits.pop()\n",
        "#print(fruits)"
      ],
      "metadata": {
        "id": "YNWC-phyZZm6"
      },
      "execution_count": 59,
      "outputs": []
    },
    {
      "cell_type": "code",
      "source": [
        "fruits.remove(\"banana\")\n",
        "print(fruits)"
      ],
      "metadata": {
        "colab": {
          "base_uri": "https://localhost:8080/"
        },
        "id": "rL_zO23AZqtk",
        "outputId": "b115569f-627f-4657-bad4-8a5260702e2c"
      },
      "execution_count": 62,
      "outputs": [
        {
          "output_type": "stream",
          "name": "stdout",
          "text": [
            "{'orange', 'apple', 'cherry'}\n"
          ]
        }
      ]
    },
    {
      "cell_type": "code",
      "source": [
        "import numpy as np # importing numpy library"
      ],
      "metadata": {
        "id": "fsrliipwaNOc"
      },
      "execution_count": 1,
      "outputs": []
    },
    {
      "cell_type": "code",
      "source": [
        "A = np.array(5) #Scalar Array\n",
        "A"
      ],
      "metadata": {
        "colab": {
          "base_uri": "https://localhost:8080/"
        },
        "id": "YMj3-3paRceN",
        "outputId": "17a87cd9-85a1-4f77-8bc8-e3b9c373a625"
      },
      "execution_count": 2,
      "outputs": [
        {
          "output_type": "execute_result",
          "data": {
            "text/plain": [
              "array(5)"
            ]
          },
          "metadata": {},
          "execution_count": 2
        }
      ]
    },
    {
      "cell_type": "code",
      "source": [
        "np.ndim(A)  # Dimension method"
      ],
      "metadata": {
        "colab": {
          "base_uri": "https://localhost:8080/"
        },
        "id": "YLPjOWrvRmih",
        "outputId": "35967e4a-31fb-42cd-828a-5045ad11a3f5"
      },
      "execution_count": 3,
      "outputs": [
        {
          "output_type": "execute_result",
          "data": {
            "text/plain": [
              "0"
            ]
          },
          "metadata": {},
          "execution_count": 3
        }
      ]
    },
    {
      "cell_type": "code",
      "source": [
        "One = np.array([1, 2, 3, 4, 5])\n",
        "One"
      ],
      "metadata": {
        "colab": {
          "base_uri": "https://localhost:8080/"
        },
        "id": "m1SSv15ASwLS",
        "outputId": "0d89ca9e-eaca-42a8-ae62-f1d2674d2b26"
      },
      "execution_count": 7,
      "outputs": [
        {
          "output_type": "execute_result",
          "data": {
            "text/plain": [
              "array([1, 2, 3, 4, 5])"
            ]
          },
          "metadata": {},
          "execution_count": 7
        }
      ]
    },
    {
      "cell_type": "code",
      "source": [
        "Two = np.array([[2, 3, 4], [5, 6, 7]])\n",
        "Two"
      ],
      "metadata": {
        "colab": {
          "base_uri": "https://localhost:8080/"
        },
        "id": "CxuOV5g7TRAA",
        "outputId": "7f9f3fc6-50ae-4650-e4c6-4b712c3e54e7"
      },
      "execution_count": 9,
      "outputs": [
        {
          "output_type": "execute_result",
          "data": {
            "text/plain": [
              "array([[2, 3, 4],\n",
              "       [5, 6, 7]])"
            ]
          },
          "metadata": {},
          "execution_count": 9
        }
      ]
    },
    {
      "cell_type": "code",
      "source": [
        "Three = np.array([[[1, 2, 3], [4, 5, 6]],[[1, 2, 3], [4, 5, 6]]])\n",
        "Three"
      ],
      "metadata": {
        "colab": {
          "base_uri": "https://localhost:8080/"
        },
        "id": "PSQFd29JT1iW",
        "outputId": "634b2b6b-3b9e-4bb2-87df-e0e23c5ca5da"
      },
      "execution_count": 10,
      "outputs": [
        {
          "output_type": "execute_result",
          "data": {
            "text/plain": [
              "array([[[1, 2, 3],\n",
              "        [4, 5, 6]],\n",
              "\n",
              "       [[1, 2, 3],\n",
              "        [4, 5, 6]]])"
            ]
          },
          "metadata": {},
          "execution_count": 10
        }
      ]
    },
    {
      "cell_type": "code",
      "source": [
        "np.ndim(Three)"
      ],
      "metadata": {
        "colab": {
          "base_uri": "https://localhost:8080/"
        },
        "id": "9mF507VlWWKQ",
        "outputId": "5dce251a-32e7-4c29-8945-68a013d05023"
      },
      "execution_count": 11,
      "outputs": [
        {
          "output_type": "execute_result",
          "data": {
            "text/plain": [
              "3"
            ]
          },
          "metadata": {},
          "execution_count": 11
        }
      ]
    },
    {
      "cell_type": "code",
      "source": [
        "import numpy as np"
      ],
      "metadata": {
        "id": "NxPDOJzGqZLC"
      },
      "execution_count": 2,
      "outputs": []
    },
    {
      "cell_type": "code",
      "source": [
        "arr = np.array([1, 2, 3.9,'apple'])"
      ],
      "metadata": {
        "id": "tTcJ3e2pqPPF"
      },
      "execution_count": 4,
      "outputs": []
    },
    {
      "cell_type": "code",
      "source": [
        "arr"
      ],
      "metadata": {
        "colab": {
          "base_uri": "https://localhost:8080/"
        },
        "id": "X4vbU6pVqk7C",
        "outputId": "8af90a02-72ee-40a3-dc04-5f95214a979b"
      },
      "execution_count": 5,
      "outputs": [
        {
          "output_type": "execute_result",
          "data": {
            "text/plain": [
              "array(['1', '2', '3.9', 'apple'], dtype='<U32')"
            ]
          },
          "metadata": {},
          "execution_count": 5
        }
      ]
    },
    {
      "cell_type": "code",
      "source": [
        "arr = np.array([1, 2, 3, 6, 9])\n",
        "arr*5"
      ],
      "metadata": {
        "colab": {
          "base_uri": "https://localhost:8080/"
        },
        "id": "d1QDKj1NrftL",
        "outputId": "f95d7ce6-4286-4d38-e2e6-48ad031b4a22"
      },
      "execution_count": 7,
      "outputs": [
        {
          "output_type": "execute_result",
          "data": {
            "text/plain": [
              "array([ 5, 10, 15, 30, 45])"
            ]
          },
          "metadata": {},
          "execution_count": 7
        }
      ]
    },
    {
      "cell_type": "code",
      "source": [
        "#Array Reshaping"
      ],
      "metadata": {
        "id": "nBZH6puxrqkn"
      },
      "execution_count": null,
      "outputs": []
    },
    {
      "cell_type": "code",
      "source": [
        "arr = np.array([1, 2, 3, 4, 5, 6, 7, 8, 9, 10, 11, 12])\n",
        "newarr = arr.reshape(2, 3, 2)\n"
      ],
      "metadata": {
        "id": "OfkzS9sSsbc0"
      },
      "execution_count": 13,
      "outputs": []
    },
    {
      "cell_type": "code",
      "source": [
        "newarr"
      ],
      "metadata": {
        "colab": {
          "base_uri": "https://localhost:8080/"
        },
        "id": "q9_GsyWHy-70",
        "outputId": "b38c6985-d8ca-4a98-8f6f-084e725d57e9"
      },
      "execution_count": 11,
      "outputs": [
        {
          "output_type": "execute_result",
          "data": {
            "text/plain": [
              "array([[[ 1,  2],\n",
              "        [ 3,  4],\n",
              "        [ 5,  6]],\n",
              "\n",
              "       [[ 7,  8],\n",
              "        [ 9, 10],\n",
              "        [11, 12]]])"
            ]
          },
          "metadata": {},
          "execution_count": 11
        }
      ]
    },
    {
      "cell_type": "code",
      "source": [
        "arr = np.array([[[1, 2, 3], [4, 5, 6]], [[7, 8, 9], [10, 11, 12]]])\n",
        "print(arr[0, 0, 2 ])"
      ],
      "metadata": {
        "colab": {
          "base_uri": "https://localhost:8080/"
        },
        "id": "KbdG9eYk4-mG",
        "outputId": "1a83fad8-887d-4a8f-b2af-130b1f4ec989"
      },
      "execution_count": 16,
      "outputs": [
        {
          "output_type": "stream",
          "name": "stdout",
          "text": [
            "3\n"
          ]
        }
      ]
    },
    {
      "cell_type": "code",
      "source": [
        "a1 = np.array([1, 2, 3, 4, 5, 6, 7])\n",
        "#a1[1:5]\n",
        "#a1[4:]\n",
        "a1[:2]"
      ],
      "metadata": {
        "colab": {
          "base_uri": "https://localhost:8080/"
        },
        "id": "XKE-YGY8YqR_",
        "outputId": "aec2cf42-7317-41d6-d65c-fc87cdc51975"
      },
      "execution_count": 19,
      "outputs": [
        {
          "output_type": "execute_result",
          "data": {
            "text/plain": [
              "array([1, 2])"
            ]
          },
          "metadata": {},
          "execution_count": 19
        }
      ]
    },
    {
      "cell_type": "code",
      "source": [
        "import numpy as np"
      ],
      "metadata": {
        "id": "vxraB74tEzfc"
      },
      "execution_count": 1,
      "outputs": []
    },
    {
      "cell_type": "code",
      "source": [
        "a2 = np.array([[1, 2, 3, 4, 5],[6, 7, 8, 9, 10]])\n",
        "#a2[1, 1:4]\n",
        "#a2[0:2, 2]\n",
        "a2[0:2, 1:4]"
      ],
      "metadata": {
        "colab": {
          "base_uri": "https://localhost:8080/"
        },
        "id": "osVuv8AVE4fk",
        "outputId": "29203082-8b49-49bd-ec11-d7b713e613c4"
      },
      "execution_count": 5,
      "outputs": [
        {
          "output_type": "execute_result",
          "data": {
            "text/plain": [
              "array([[2, 3, 4],\n",
              "       [7, 8, 9]])"
            ]
          },
          "metadata": {},
          "execution_count": 5
        }
      ]
    },
    {
      "cell_type": "code",
      "source": [
        "a3 = np.array([[[10, 11, 12], [13, 14, 15], [16, 17, 18]],\n",
        "               [[20, 21, 22], [23, 24, 25], [26, 27, 28]],\n",
        "               [[30, 31, 32], [33, 34, 35], [36, 37, 38]]])"
      ],
      "metadata": {
        "id": "Zozn7mpDFAo4"
      },
      "execution_count": 9,
      "outputs": []
    },
    {
      "cell_type": "code",
      "source": [
        "a3[:1, 2:3, :2]"
      ],
      "metadata": {
        "colab": {
          "base_uri": "https://localhost:8080/"
        },
        "id": "2tD_2hBZLblj",
        "outputId": "ddcb7fb0-a276-4946-c545-1c5f894dda81"
      },
      "execution_count": 18,
      "outputs": [
        {
          "output_type": "execute_result",
          "data": {
            "text/plain": [
              "array([[[16, 17]]])"
            ]
          },
          "metadata": {},
          "execution_count": 18
        }
      ]
    },
    {
      "cell_type": "code",
      "source": [
        "#copy is a new array and view of the original array\n",
        "arr = np.array([1, 2, 3, 4, 5])\n",
        "\n",
        "copy = arr.copy()\n",
        "copy[0] = 42\n",
        "print(arr)\n",
        "print(copy)\n"
      ],
      "metadata": {
        "colab": {
          "base_uri": "https://localhost:8080/"
        },
        "id": "7r_AROv3TO5k",
        "outputId": "0ec190dd-7e72-4d6a-fd55-df33f43bed39"
      },
      "execution_count": 22,
      "outputs": [
        {
          "output_type": "stream",
          "name": "stdout",
          "text": [
            "[1 2 3 4 5]\n",
            "[42  2  3  4  5]\n"
          ]
        }
      ]
    },
    {
      "cell_type": "code",
      "source": [
        "import numpy as np"
      ],
      "metadata": {
        "id": "gNmHTzMl3V2j"
      },
      "execution_count": 47,
      "outputs": []
    },
    {
      "cell_type": "code",
      "source": [
        "#Append, Insert, Delete (numpy)\n",
        "a = np.array([[1, 2, 3],\n",
        "             [4, 5, 6]])\n",
        "#np.append(a, [[7, 8, 9]], axis = 0)\n",
        "np.append(a, [[5], [8]], axis = 1)"
      ],
      "metadata": {
        "colab": {
          "base_uri": "https://localhost:8080/"
        },
        "id": "ML_iNfB23p9a",
        "outputId": "b2c03d90-b386-448e-f786-eedce9d6be81"
      },
      "execution_count": 55,
      "outputs": [
        {
          "output_type": "execute_result",
          "data": {
            "text/plain": [
              "array([[1, 2, 3, 5],\n",
              "       [4, 5, 6, 8]])"
            ]
          },
          "metadata": {},
          "execution_count": 55
        }
      ]
    },
    {
      "cell_type": "code",
      "source": [],
      "metadata": {
        "id": "EH6gy5nkDuvc"
      },
      "execution_count": null,
      "outputs": []
    },
    {
      "cell_type": "code",
      "source": [
        "import pandas as pd\n",
        "#Panda Series"
      ],
      "metadata": {
        "id": "7V8CiH3navMc"
      },
      "execution_count": 23,
      "outputs": []
    },
    {
      "cell_type": "code",
      "source": [
        "#Series Method\n",
        "series = pd.Series([31, 27, 52, 88, 75])\n",
        "print(series)"
      ],
      "metadata": {
        "colab": {
          "base_uri": "https://localhost:8080/"
        },
        "id": "63eXL4QmdvnF",
        "outputId": "7885825c-b8f2-46ac-fba4-5328ee4b3024"
      },
      "execution_count": 25,
      "outputs": [
        {
          "output_type": "stream",
          "name": "stdout",
          "text": [
            "0    31\n",
            "1    27\n",
            "2    52\n",
            "3    88\n",
            "4    75\n",
            "dtype: int64\n"
          ]
        }
      ]
    },
    {
      "cell_type": "code",
      "source": [
        "# Series Method with Index\n",
        "series = pd.Series([1, 7, 2, 8, 5], index = [\"a\", \"b\", \"c\", \"d\", \"e\"])\n",
        "print(series)"
      ],
      "metadata": {
        "colab": {
          "base_uri": "https://localhost:8080/"
        },
        "id": "cztylWTweKpq",
        "outputId": "f6e86c09-4985-4641-8884-04cd274cddb0"
      },
      "execution_count": 27,
      "outputs": [
        {
          "output_type": "stream",
          "name": "stdout",
          "text": [
            "a    1\n",
            "b    7\n",
            "c    2\n",
            "d    8\n",
            "e    5\n",
            "dtype: int64\n"
          ]
        }
      ]
    },
    {
      "cell_type": "code",
      "source": [
        "print(series[\"a\"])"
      ],
      "metadata": {
        "colab": {
          "base_uri": "https://localhost:8080/"
        },
        "id": "AGrpj7p1lPZm",
        "outputId": "ba4cbddf-1bc9-45cc-eebf-14848e827760"
      },
      "execution_count": 28,
      "outputs": [
        {
          "output_type": "stream",
          "name": "stdout",
          "text": [
            "1\n"
          ]
        }
      ]
    },
    {
      "cell_type": "code",
      "source": [
        "print(series[\"d\"])"
      ],
      "metadata": {
        "colab": {
          "base_uri": "https://localhost:8080/"
        },
        "id": "LSiscIQXvRd0",
        "outputId": "fcb4b287-494f-4f07-c119-de125a916439"
      },
      "execution_count": 29,
      "outputs": [
        {
          "output_type": "stream",
          "name": "stdout",
          "text": [
            "8\n"
          ]
        }
      ]
    },
    {
      "cell_type": "code",
      "source": [
        "import pandas as pd"
      ],
      "metadata": {
        "id": "n4lg3PzqFV7p"
      },
      "execution_count": 4,
      "outputs": []
    },
    {
      "cell_type": "code",
      "source": [
        "data = pd.DataFrame({'Name':['Tom', 'Jack', 'Steve', 'Ricky', 'Sam', 'Will', 'Root'],\n",
        "                     'Age':[28, 34, 29, 42, 17, 17, 45 ]})\n",
        "data.head(10) #head by default takes 5 values so here we take 10"
      ],
      "metadata": {
        "colab": {
          "base_uri": "https://localhost:8080/",
          "height": 997
        },
        "id": "L7_gKFq5vWJt",
        "outputId": "942c7da2-949d-4041-dce5-c847a07f17ed"
      },
      "execution_count": 6,
      "outputs": [
        {
          "output_type": "execute_result",
          "data": {
            "text/plain": [
              "    Name  Age\n",
              "0    Tom   28\n",
              "1   Jack   34\n",
              "2  Steve   29\n",
              "3  Ricky   42\n",
              "4    Sam   17\n",
              "5   Will   17\n",
              "6   Root   45"
            ],
            "text/html": [
              "\n",
              "  <div id=\"df-ad076f4b-95f6-4051-8102-b17bfd4d0a7a\" class=\"colab-df-container\">\n",
              "    <div>\n",
              "<style scoped>\n",
              "    .dataframe tbody tr th:only-of-type {\n",
              "        vertical-align: middle;\n",
              "    }\n",
              "\n",
              "    .dataframe tbody tr th {\n",
              "        vertical-align: top;\n",
              "    }\n",
              "\n",
              "    .dataframe thead th {\n",
              "        text-align: right;\n",
              "    }\n",
              "</style>\n",
              "<table border=\"1\" class=\"dataframe\">\n",
              "  <thead>\n",
              "    <tr style=\"text-align: right;\">\n",
              "      <th></th>\n",
              "      <th>Name</th>\n",
              "      <th>Age</th>\n",
              "    </tr>\n",
              "  </thead>\n",
              "  <tbody>\n",
              "    <tr>\n",
              "      <th>0</th>\n",
              "      <td>Tom</td>\n",
              "      <td>28</td>\n",
              "    </tr>\n",
              "    <tr>\n",
              "      <th>1</th>\n",
              "      <td>Jack</td>\n",
              "      <td>34</td>\n",
              "    </tr>\n",
              "    <tr>\n",
              "      <th>2</th>\n",
              "      <td>Steve</td>\n",
              "      <td>29</td>\n",
              "    </tr>\n",
              "    <tr>\n",
              "      <th>3</th>\n",
              "      <td>Ricky</td>\n",
              "      <td>42</td>\n",
              "    </tr>\n",
              "    <tr>\n",
              "      <th>4</th>\n",
              "      <td>Sam</td>\n",
              "      <td>17</td>\n",
              "    </tr>\n",
              "    <tr>\n",
              "      <th>5</th>\n",
              "      <td>Will</td>\n",
              "      <td>17</td>\n",
              "    </tr>\n",
              "    <tr>\n",
              "      <th>6</th>\n",
              "      <td>Root</td>\n",
              "      <td>45</td>\n",
              "    </tr>\n",
              "  </tbody>\n",
              "</table>\n",
              "</div>\n",
              "    <div class=\"colab-df-buttons\">\n",
              "\n",
              "  <div class=\"colab-df-container\">\n",
              "    <button class=\"colab-df-convert\" onclick=\"convertToInteractive('df-ad076f4b-95f6-4051-8102-b17bfd4d0a7a')\"\n",
              "            title=\"Convert this dataframe to an interactive table.\"\n",
              "            style=\"display:none;\">\n",
              "\n",
              "  <svg xmlns=\"http://www.w3.org/2000/svg\" height=\"24px\" viewBox=\"0 -960 960 960\">\n",
              "    <path d=\"M120-120v-720h720v720H120Zm60-500h600v-160H180v160Zm220 220h160v-160H400v160Zm0 220h160v-160H400v160ZM180-400h160v-160H180v160Zm440 0h160v-160H620v160ZM180-180h160v-160H180v160Zm440 0h160v-160H620v160Z\"/>\n",
              "  </svg>\n",
              "    </button>\n",
              "\n",
              "  <style>\n",
              "    .colab-df-container {\n",
              "      display:flex;\n",
              "      gap: 12px;\n",
              "    }\n",
              "\n",
              "    .colab-df-convert {\n",
              "      background-color: #E8F0FE;\n",
              "      border: none;\n",
              "      border-radius: 50%;\n",
              "      cursor: pointer;\n",
              "      display: none;\n",
              "      fill: #1967D2;\n",
              "      height: 32px;\n",
              "      padding: 0 0 0 0;\n",
              "      width: 32px;\n",
              "    }\n",
              "\n",
              "    .colab-df-convert:hover {\n",
              "      background-color: #E2EBFA;\n",
              "      box-shadow: 0px 1px 2px rgba(60, 64, 67, 0.3), 0px 1px 3px 1px rgba(60, 64, 67, 0.15);\n",
              "      fill: #174EA6;\n",
              "    }\n",
              "\n",
              "    .colab-df-buttons div {\n",
              "      margin-bottom: 4px;\n",
              "    }\n",
              "\n",
              "    [theme=dark] .colab-df-convert {\n",
              "      background-color: #3B4455;\n",
              "      fill: #D2E3FC;\n",
              "    }\n",
              "\n",
              "    [theme=dark] .colab-df-convert:hover {\n",
              "      background-color: #434B5C;\n",
              "      box-shadow: 0px 1px 3px 1px rgba(0, 0, 0, 0.15);\n",
              "      filter: drop-shadow(0px 1px 2px rgba(0, 0, 0, 0.3));\n",
              "      fill: #FFFFFF;\n",
              "    }\n",
              "  </style>\n",
              "\n",
              "    <script>\n",
              "      const buttonEl =\n",
              "        document.querySelector('#df-ad076f4b-95f6-4051-8102-b17bfd4d0a7a button.colab-df-convert');\n",
              "      buttonEl.style.display =\n",
              "        google.colab.kernel.accessAllowed ? 'block' : 'none';\n",
              "\n",
              "      async function convertToInteractive(key) {\n",
              "        const element = document.querySelector('#df-ad076f4b-95f6-4051-8102-b17bfd4d0a7a');\n",
              "        const dataTable =\n",
              "          await google.colab.kernel.invokeFunction('convertToInteractive',\n",
              "                                                    [key], {});\n",
              "        if (!dataTable) return;\n",
              "\n",
              "        const docLinkHtml = 'Like what you see? Visit the ' +\n",
              "          '<a target=\"_blank\" href=https://colab.research.google.com/notebooks/data_table.ipynb>data table notebook</a>'\n",
              "          + ' to learn more about interactive tables.';\n",
              "        element.innerHTML = '';\n",
              "        dataTable['output_type'] = 'display_data';\n",
              "        await google.colab.output.renderOutput(dataTable, element);\n",
              "        const docLink = document.createElement('div');\n",
              "        docLink.innerHTML = docLinkHtml;\n",
              "        element.appendChild(docLink);\n",
              "      }\n",
              "    </script>\n",
              "  </div>\n",
              "\n",
              "\n",
              "<div id=\"df-b75f63ea-5ca1-48b5-b393-0c349d0e22f8\">\n",
              "  <button class=\"colab-df-quickchart\" onclick=\"quickchart('df-b75f63ea-5ca1-48b5-b393-0c349d0e22f8')\"\n",
              "            title=\"Suggest charts\"\n",
              "            style=\"display:none;\">\n",
              "\n",
              "<svg xmlns=\"http://www.w3.org/2000/svg\" height=\"24px\"viewBox=\"0 0 24 24\"\n",
              "     width=\"24px\">\n",
              "    <g>\n",
              "        <path d=\"M19 3H5c-1.1 0-2 .9-2 2v14c0 1.1.9 2 2 2h14c1.1 0 2-.9 2-2V5c0-1.1-.9-2-2-2zM9 17H7v-7h2v7zm4 0h-2V7h2v10zm4 0h-2v-4h2v4z\"/>\n",
              "    </g>\n",
              "</svg>\n",
              "  </button>\n",
              "\n",
              "<style>\n",
              "  .colab-df-quickchart {\n",
              "      --bg-color: #E8F0FE;\n",
              "      --fill-color: #1967D2;\n",
              "      --hover-bg-color: #E2EBFA;\n",
              "      --hover-fill-color: #174EA6;\n",
              "      --disabled-fill-color: #AAA;\n",
              "      --disabled-bg-color: #DDD;\n",
              "  }\n",
              "\n",
              "  [theme=dark] .colab-df-quickchart {\n",
              "      --bg-color: #3B4455;\n",
              "      --fill-color: #D2E3FC;\n",
              "      --hover-bg-color: #434B5C;\n",
              "      --hover-fill-color: #FFFFFF;\n",
              "      --disabled-bg-color: #3B4455;\n",
              "      --disabled-fill-color: #666;\n",
              "  }\n",
              "\n",
              "  .colab-df-quickchart {\n",
              "    background-color: var(--bg-color);\n",
              "    border: none;\n",
              "    border-radius: 50%;\n",
              "    cursor: pointer;\n",
              "    display: none;\n",
              "    fill: var(--fill-color);\n",
              "    height: 32px;\n",
              "    padding: 0;\n",
              "    width: 32px;\n",
              "  }\n",
              "\n",
              "  .colab-df-quickchart:hover {\n",
              "    background-color: var(--hover-bg-color);\n",
              "    box-shadow: 0 1px 2px rgba(60, 64, 67, 0.3), 0 1px 3px 1px rgba(60, 64, 67, 0.15);\n",
              "    fill: var(--button-hover-fill-color);\n",
              "  }\n",
              "\n",
              "  .colab-df-quickchart-complete:disabled,\n",
              "  .colab-df-quickchart-complete:disabled:hover {\n",
              "    background-color: var(--disabled-bg-color);\n",
              "    fill: var(--disabled-fill-color);\n",
              "    box-shadow: none;\n",
              "  }\n",
              "\n",
              "  .colab-df-spinner {\n",
              "    border: 2px solid var(--fill-color);\n",
              "    border-color: transparent;\n",
              "    border-bottom-color: var(--fill-color);\n",
              "    animation:\n",
              "      spin 1s steps(1) infinite;\n",
              "  }\n",
              "\n",
              "  @keyframes spin {\n",
              "    0% {\n",
              "      border-color: transparent;\n",
              "      border-bottom-color: var(--fill-color);\n",
              "      border-left-color: var(--fill-color);\n",
              "    }\n",
              "    20% {\n",
              "      border-color: transparent;\n",
              "      border-left-color: var(--fill-color);\n",
              "      border-top-color: var(--fill-color);\n",
              "    }\n",
              "    30% {\n",
              "      border-color: transparent;\n",
              "      border-left-color: var(--fill-color);\n",
              "      border-top-color: var(--fill-color);\n",
              "      border-right-color: var(--fill-color);\n",
              "    }\n",
              "    40% {\n",
              "      border-color: transparent;\n",
              "      border-right-color: var(--fill-color);\n",
              "      border-top-color: var(--fill-color);\n",
              "    }\n",
              "    60% {\n",
              "      border-color: transparent;\n",
              "      border-right-color: var(--fill-color);\n",
              "    }\n",
              "    80% {\n",
              "      border-color: transparent;\n",
              "      border-right-color: var(--fill-color);\n",
              "      border-bottom-color: var(--fill-color);\n",
              "    }\n",
              "    90% {\n",
              "      border-color: transparent;\n",
              "      border-bottom-color: var(--fill-color);\n",
              "    }\n",
              "  }\n",
              "</style>\n",
              "\n",
              "  <script>\n",
              "    async function quickchart(key) {\n",
              "      const quickchartButtonEl =\n",
              "        document.querySelector('#' + key + ' button');\n",
              "      quickchartButtonEl.disabled = true;  // To prevent multiple clicks.\n",
              "      quickchartButtonEl.classList.add('colab-df-spinner');\n",
              "      try {\n",
              "        const charts = await google.colab.kernel.invokeFunction(\n",
              "            'suggestCharts', [key], {});\n",
              "      } catch (error) {\n",
              "        console.error('Error during call to suggestCharts:', error);\n",
              "      }\n",
              "      quickchartButtonEl.classList.remove('colab-df-spinner');\n",
              "      quickchartButtonEl.classList.add('colab-df-quickchart-complete');\n",
              "    }\n",
              "    (() => {\n",
              "      let quickchartButtonEl =\n",
              "        document.querySelector('#df-b75f63ea-5ca1-48b5-b393-0c349d0e22f8 button');\n",
              "      quickchartButtonEl.style.display =\n",
              "        google.colab.kernel.accessAllowed ? 'block' : 'none';\n",
              "    })();\n",
              "  </script>\n",
              "</div>\n",
              "\n",
              "    </div>\n",
              "  </div>\n"
            ],
            "application/vnd.google.colaboratory.intrinsic+json": {
              "type": "dataframe",
              "variable_name": "data",
              "summary": "{\n  \"name\": \"data\",\n  \"rows\": 7,\n  \"fields\": [\n    {\n      \"column\": \"Name\",\n      \"properties\": {\n        \"dtype\": \"string\",\n        \"num_unique_values\": 7,\n        \"samples\": [\n          \"Tom\",\n          \"Jack\",\n          \"Will\"\n        ],\n        \"semantic_type\": \"\",\n        \"description\": \"\"\n      }\n    },\n    {\n      \"column\": \"Age\",\n      \"properties\": {\n        \"dtype\": \"number\",\n        \"std\": 11,\n        \"min\": 17,\n        \"max\": 45,\n        \"num_unique_values\": 6,\n        \"samples\": [\n          28,\n          34,\n          45\n        ],\n        \"semantic_type\": \"\",\n        \"description\": \"\"\n      }\n    }\n  ]\n}"
            }
          },
          "metadata": {},
          "execution_count": 6
        },
        {
          "output_type": "display_data",
          "data": {
            "text/plain": [
              "<google.colab._quickchart_helpers.SectionTitle at 0x7fd80b035390>"
            ],
            "text/html": [
              "<h4 class=\"colab-quickchart-section-title\">Distributions</h4>\n",
              "<style>\n",
              "  .colab-quickchart-section-title {\n",
              "      clear: both;\n",
              "  }\n",
              "</style>"
            ]
          },
          "metadata": {}
        },
        {
          "output_type": "display_data",
          "data": {
            "text/plain": [
              "from matplotlib import pyplot as plt\n",
              "_df_4['Age'].plot(kind='hist', bins=20, title='Age')\n",
              "plt.gca().spines[['top', 'right',]].set_visible(False)"
            ],
            "text/html": [
              "      <div class=\"colab-quickchart-chart-with-code\" id=\"chart-94442952-17c8-4760-8d94-85f22da83034\">\n",
              "        <img style=\"width: 180px;\" src=\"data:image/png;base64,iVBORw0KGgoAAAANSUhEUgAAAjEAAAGrCAYAAAAxesZMAAAAOXRFWHRTb2Z0d2FyZQBNYXRwbG90\n",
              "bGliIHZlcnNpb24zLjcuMSwgaHR0cHM6Ly9tYXRwbG90bGliLm9yZy/bCgiHAAAACXBIWXMAAA9h\n",
              "AAAPYQGoP6dpAAAloElEQVR4nO3df1AU9/3H8dcJyWlSAX8RiHhQ5Yf1R4AzMEbzy6ZWYlK1aCem\n",
              "SRoxIDZtbYZMTRjjN9EmwUyrre0MEStDa+xoI2LK6CRtbNoGEysaQ2J0omLEAwuSHwaMUUTY7x9O\n",
              "rrkI6CHL3Sc+HzM74+0uy/tWvXnO3cI6LMuyBAAAYJg+gR4AAACgO4gYAABgJCIGAAAYiYgBAABG\n",
              "ImIAAICRiBgAAGAkIgYAABiJiAEAAEYiYgAAgJGIGAAAYCQiBkDQKSkpkcPh0OOPPx7oUQAEMQf3\n",
              "TgIQbNLS0nTkyBH16dNHtbW1cjqdgR4JQBDinRgAQWXXrl3avXu31q1bp6amJm3cuNG77eTJk5oz\n",
              "Z44GDRqkmJgYrVy5UjExMfrjH//o3ef999/X3Xffreuuu05Dhw7Vww8/rFOnTgXgmQCwGxEDIKgU\n",
              "FhYqJSVFGRkZ+v73v6/CwkLvtp///Ofav3+/9u7dq4MHD2rv3r06fvy4d/tHH32kW265RXfccYc8\n",
              "Ho/eeecdHTx4UI888kgAngkAu/FxEoCgceLECQ0dOlTLly/Xj3/8Y7322mu64447VFVVpTFjxuia\n",
              "a67R5s2bNXXqVElSc3OzBgwYoOLiYs2ZM0crVqzQxo0btWPHDu8x33jjDX3729/W559/rpCQkEA9\n",
              "NQA24J0YAEHjiwt677vvPknSpEmTFB8fr8LCQn300Uc6e/asYmNjvfuHhYVpwIAB3seHDh3SW2+9\n",
              "pYiICO8ydepUORwONTQ09PrzAWAvIgZAULAsS6tWrdLZs2eVmJioqKgoRUdHq66uTn/+85/Vt29f\n",
              "XX311Tp69Kj3a5qbm3XixAnv46ioKN1888369NNPvUtTU5POnDmjoUOHBuJpAbAREQMgKLz66qs6\n",
              "dOiQ/v73v6uqqsq7vPvuu5KktWvX6oc//KGWLl2q+vp6ff755/rFL36hPn3+9zKWlZWlt99+W4WF\n",
              "hfr8889lWZZqa2v10ksvBehZAbATEQMgKDz//PP6zne+o0mTJikqKsq7JCQkKDs7W88//7xWrlyp\n",
              "xMREjR49WgkJCRo1apQGDhyovn37SpJcLpd27NihV199VSNGjFBERISmTJmivXv3BvjZAbADF/YC\n",
              "MNaJEyc0aNAgvfHGG7rpppsCPQ6AXsY7MQCM4fF49O9//1ttbW36+OOP9fDDDyshIUFpaWmBHg1A\n",
              "ABAxAIxx9uxZ/exnP1NERIQSEhL06aefqry8XKGhoYEeDUAA8HESAAAwEu/EAAAAIxExAADASEQM\n",
              "AAAwEhEDAACM9LWPmJUrVwZ6BAAAYIOvfcR8+T4rAADg6+NrHzEAAODriYgBAABGImIAAICRiBgA\n",
              "AGAkIgYAABiJiAEAAEYiYgAAgJGIGAAAYCQiBgAAGImIAQAARiJiAACAkYgYAABgJNsi5syZM5ox\n",
              "Y4YSExOVnJysyZMnq7q6usN9t2zZopEjRyohIUGZmZlqbm6+pG0AAODKZes7MfPmzdOBAwf0zjvv\n",
              "aPr06crOzr5gn88++0wPPfSQXnrpJR06dEjXX3+9fvnLX150GwAAuLLZFjF9+/bV1KlT5XA4JEnj\n",
              "x49XTU3NBfu9/PLLSk1N1ciRIyVJDz/8sNavX3/RbR1paWlRc3Ozz9LW1tbDzwwAAASD0N76RitX\n",
              "rtT06dMvWO/xeBQbG+t9HBcXp/r6ep07d67LbaGhF45eUFCgJUuW+KwbP358Dz6L/4l7fKstx5Wk\n",
              "mmV32XZsAAC+Lnrlwt5nn31W1dXVKigosPX75Ofnq6mpyWdJT0+39XsCAIDAsD1ifv3rX6usrEwv\n",
              "v/yyrrnmmgu2u1wuHT161Pu4pqZG0dHRCg0N7XJbR5xOp8LCwnyWkJCQnn9SAAAg4GyNmBUrVmj9\n",
              "+vV69dVXFRER0eE+GRkZ2rNnj95//31JUmFhoWbPnn3RbQAA4Mpm2zUxdXV1evTRRzV8+HBNmjRJ\n",
              "0vl3Snbu3Kn/+7//0/XXX6/58+erf//+WrNmjWbMmKFz585pzJgx+tOf/iRJXW4DAABXNodlWVag\n",
              "h7BTXl6eVqxY0ePH5cJeAAACi9/YCwAAjETEAAAAIxExAADASEQMAAAwEhEDAACMRMQAAAAjETEA\n",
              "AMBIRAwAADASEQMAAIxExAAAACMRMQAAwEhEDAAAMBIRAwAAjETEAAAAIxExAADASEQMAAAwEhED\n",
              "AACMRMQAAAAjETEAAMBIRAwAADASEQMAAIxExAAAACMRMQAAwEhEDAAAMBIRAwAAjETEAAAAIxEx\n",
              "AADASEQMAAAwEhEDAACMRMQAAAAjETEAAMBIRAwAADASEQMAAIxExAAAACMRMQAAwEi2RsyCBQsU\n",
              "Fxcnh8OhqqqqDvcpKSlRSkqKdxk8eLAyMzMlSTU1NQoJCfHZfvjwYTtHBgAAhgi18+CzZs3SwoUL\n",
              "dfPNN3e6T1ZWlrKysryPx4wZo/vuu8/7uH///p0GEAAAuHLZGjG33nqrX/vv3LlTjY2NmjZtWre+\n",
              "X0tLi1paWnzWtbW1detYAAAguAXVNTHFxcV64IEHdNVVV3nXnTp1SmlpaXK73Vq6dGmXUVJQUKDw\n",
              "8HCfpbKysjdGBwAAvSxoIubUqVPasGGDHnroIe+66OhoHTt2TLt27dK2bdtUUVGh5cuXd3qM/Px8\n",
              "NTU1+Szp6em9MT4AAOhlQRMxGzdu1OjRozVq1CjvOqfTqcjISEnSwIEDNXfuXFVUVHR6DKfTqbCw\n",
              "MJ8lJCTE9tkBAEDvC5qIKS4u9nkXRpIaGxvV2toq6fz1LmVlZUpNTQ3EeAAAIMjYGjG5ubmKiYlR\n",
              "XV2dpkyZovj4eElSdna2ysvLvfsdOHBAVVVVuueee3y+fvv27UpNTVVycrLcbreioqK0aNEiO0cG\n",
              "AACGcFiWZQV6CDvl5eVpxYoVPX7cuMe39vgxv1Cz7C7bjg0AwNdF0HycBAAA4A8iBgAAGImIAQAA\n",
              "RiJiAACAkYgYAABgJCIGAAAYiYgBAABGImIAAICRiBgAAGAkIgYAABiJiAEAAEYiYgAAgJGIGAAA\n",
              "YCQiBgAAGImIAQAARiJiAACAkYgYAABgJCIGAAAYiYgBAABGImIAAICRiBgAAGAkIgYAABiJiAEA\n",
              "AEYiYgAAgJGIGAAAYCQiBgAAGImIAQAARiJiAACAkYgYAABgJCIGAAAYiYgBAABGImIAAICRiBgA\n",
              "AGAkIgYAABiJiAEAAEayNWIWLFiguLg4ORwOVVVVdbjPv/71L/Xr108pKSne5fTp097txcXFSkhI\n",
              "0IgRI5STk6PW1lY7RwYAAIawNWJmzZql7du3KzY2tsv9kpKSVFVV5V369esnSTpy5IgWL16siooK\n",
              "VVdX6/jx41q9erWdIwMAAEPYGjG33nqrYmJiuv31paWlmjZtmqKiouRwODR//nytX7++0/1bWlrU\n",
              "3Nzss7S1tXX7+wMAgOAVFNfEHD58WG63W2lpaSosLPSu93g8Pu/ixMXFyePxdHqcgoIChYeH+yyV\n",
              "lZW2zg4AAAIj4BHjdrtVV1enPXv2aPPmzVq1apVefPHFbh0rPz9fTU1NPkt6enoPTwwAAIJBwCMm\n",
              "LCxM4eHhkqSYmBjde++9qqiokCS5XC4dPXrUu29NTY1cLlenx3I6nQoLC/NZQkJC7H0CAAAgIAIe\n",
              "MfX19Wpvb5cknTx5Ulu2bFFqaqokaebMmSovL1dDQ4Msy9KqVas0e/bsQI4LAACChK0Rk5ubq5iY\n",
              "GNXV1WnKlCmKj4+XJGVnZ6u8vFyStGnTJo0dO1bJyckaP368Jk+erKysLEnS8OHDtWTJEk2cOFHx\n",
              "8fEaMmSIcnNz7RwZAAAYwmFZlhXoIeyUl5enFStW9Phx4x7f2uPH/ELNsrtsOzYAAF8XAf84CQAA\n",
              "oDuIGAAAYCQiBgAAGImIAQAARiJiAACAkYgYAABgJCIGAAAYiYgBAABGImIAAICRiBgAAGAkIgYA\n",
              "ABiJiAEAAEYiYgAAgJGIGAAAYCQiBgAAGImIAQAARiJiAACAkYgYAABgJCIGAAAYiYgBAABGImIA\n",
              "AICRiBgAAGAkIgYAABiJiAEAAEYiYgAAgJGIGAAAYCQiBgAAGImIAQAARiJiAACAkYgYAABgJCIG\n",
              "AAAYiYgBAABGImIAAICRiBgAAGAkIgYAABjJ1ohZsGCB4uLi5HA4VFVV1eE+r732mtLT0zVq1CiN\n",
              "Hj1aCxcuVHt7uySppqZGISEhSklJ8S6HDx+2c2QAAGAIWyNm1qxZ2r59u2JjYzvdZ8CAAdqwYYP2\n",
              "79+vt956S2+++abWrl3r3d6/f39VVVV5lxEjRtg5MgAAMESonQe/9dZbL7pPamqq9899+/ZVSkqK\n",
              "ampquvX9Wlpa1NLS4rOura2tW8cCAADBLaiuiWloaFBpaanuvvtu77pTp04pLS1NbrdbS5cu7TJK\n",
              "CgoKFB4e7rNUVlb2xugAAKCXBU3ENDc363vf+54WLlyoG2+8UZIUHR2tY8eOadeuXdq2bZsqKiq0\n",
              "fPnyTo+Rn5+vpqYmnyU9Pb23ngIAAOhFQRExJ0+eVEZGhqZPn668vDzveqfTqcjISEnSwIEDNXfu\n",
              "XFVUVHR6HKfTqbCwMJ8lJCTE9vkBAEDvC3jEfPbZZ8rIyFBGRoaeeOIJn22NjY1qbW2VdP56l7Ky\n",
              "Mp9raAAAwJXL1ojJzc1VTEyM6urqNGXKFMXHx0uSsrOzVV5eLklauXKlKisrVVZW5v0x6meeeUaS\n",
              "tH37dqWmpio5OVlut1tRUVFatGiRnSMDAABDOCzLsgI9hJ3y8vK0YsWKHj9u3ONbe/yYX6hZdpdt\n",
              "xwYA4Osi4B8nAQAAdAcRAwAAjETEAAAAIxExAADASH5HzN/+9jc75gAAAPCL3xGzdOlSJSUlaeXK\n",
              "lWpubrZjJgAAgIvyO2LeeOMNbdiwQe+9954SExP18MMPa//+/XbMBgAA0KluXROTmpqqP/zhD3rl\n",
              "lVe0ZcsW3XDDDZo8ebL27t3b0/MBAAB0qFsRs23bNk2fPl2ZmZn6yU9+ooaGBuXm5ur73/9+T88H\n",
              "AADQoVB/v+Bb3/qWBg8erAULFigzM9N7g8VZs2apuLi4xwcEAADoiN8Rs27dOo0bN67DbS+//PJl\n",
              "DwQAAHAp/P446a233tInn3ziffzxxx/rD3/4Q48OBQAAcDF+R0xhYaEGDhzofTxo0CAVFhb26FAA\n",
              "AAAX43fEdHTT67a2th4ZBgAA4FL5HTHR0dF68cUXvY//8pe/KDo6ukeHAgAAuBi/L+z97W9/q+nT\n",
              "p2vhwoWSpGuuuUZ//etfe3wwAACArvgdMSNHjtT+/ft14MABSVJSUpL3x6wBAAB6i98RI0kOh0MR\n",
              "ERE6d+6cjh07JklyuVw9OhgAAEBX/I6YP/7xj1qwYIGuuuoq9elz/pIah8OhxsbGHh8OAACgM35H\n",
              "zC9/+Uvt2rVLSUlJdswDAABwSfz+6aTBgwcTMAAAIOD8jpgZM2bot7/9rRobG9Xc3OxdAAAAepPf\n",
              "HyctWrRIkpSXlyeHwyHLsuRwOPiFdwAAoFf5HTHt7e12zAEAAOAXvz9Oks7fBPKFF16QJH366aeq\n",
              "r6/v0aEAAAAupls3gJw7d66eeuopSefvYv3DH/6wp+cCAADokt8Rs3r1av3nP/9RWFiYJGnEiBH6\n",
              "8MMPe3wwAACArvgdMU6nU/369fNZFxrarV/8CwAA0G1+R8yQIUN08OBBORwOSed/gy+3HAAAAL2t\n",
              "W3exvvfee/X+++9r2LBhCgsL05YtW+yYDQAAoFN+R0x8fLx27typAwcOyLIs7mINAAACwu+I8Xg8\n",
              "kqRrr71WkriLNQAACAi/I2bcuHHe39R75swZff755xo0aBB3sQYAAL3K74j56o9Tl5WV6Z133umx\n",
              "gQAAAC5Ft35j75dlZmZq69atPTELAADAJfM7Yr585+oTJ07olVde6fQu1gsWLFBcXJwcDoeqqqo6\n",
              "PWZxcbESEhI0YsQI5eTkqLW19ZK2AQCAK5ffERMREaEBAwYoIiJCkZGRysvL0+9+97sO9501a5a2\n",
              "b9+u2NjYTo935MgRLV68WBUVFaqurtbx48e1evXqi24DAABXNr8jpr29XW1tbWpvb1dra6v279+v\n",
              "jIyMDve99dZbFRMT0+XxSktLNW3aNEVFRcnhcGj+/Plav379Rbd1pKWlxeedoubmZrW1tfn7FAEA\n",
              "gAECfr8Aj8fj805NXFyc98e4u9rWkYKCAi1ZssRn3fjx43t4YiBw4h437/qzmmV3BXqEoGLX3yHn\n",
              "ufeY+Hdo4syXwu93Yvr06aOQkJALli/WB1J+fr6ampp8lvT09IDOBAAA7OH3OzFLly7V6dOn9eMf\n",
              "/1iStGrVKvXr10+PPPJItwZwuVw6fPiw93FNTY33F+d1ta0jTqdTTqfTZ12gwwoAANjD73diNm/e\n",
              "rGeeeUYxMTGKiYnR008/rbKyMl177bXe3+Lrj5kzZ6q8vFwNDQ2yLEurVq3S7NmzL7oNAABc2fyO\n",
              "mJMnT/r8dt7GxkadPHmyw31zc3MVExOjuro6TZkyRfHx8ZKk7OxslZeXS5KGDx+uJUuWaOLEiYqP\n",
              "j9eQIUOUm5t70W0AAODK5vfHSY8++qiSk5M1depUSdIrr7yip556qsN9i4qKOly/Zs0an8c5OTnK\n",
              "ycnpcN+utgEAgCuX3xGTm5uriRMn6p///KckKS8vT6NHj+7xwQAAALrSrR+xHjRokMaOHavbb79d\n",
              "586d09mzZ3X11Vf39GwAAACd8vuamNLSUo0fP15ZWVmSpH379mnGjBk9PRcAAECX/I6YgoIC7dmz\n",
              "RxEREZKk5ORkHT16tKfnAgAA6JLfERMSEqJBgwb5rOOjJAAA0Nv8jpj+/fvr+PHjcjgckqR//OMf\n",
              "GjhwYI8PBgAA0BW/L+x97rnndOedd+qDDz7QzTffrCNHjmjrVvPu5wIAAMzmV8R8cQfrf/7zn3rz\n",
              "zTdlWZYmTJjgvT4GAACgt/gVMX369NG8efP0zjvv6M4777RrJgAAgIvy+5qYhIQEVVdX2zELAADA\n",
              "JfP7mphPPvlEKSkpmjBhgr7xjW9415eVlfXoYAAAAF255IiZN2+eVq9erQcffFDTpk3TgAED7JwL\n",
              "AACgS5ccMbt375YkPfjgg3K73dqzZ49tQwEAAFyM39fESJJlWT09BwAAgF8u+Z2Y06dPa+/evbIs\n",
              "S2fOnPH++Qs33HCDLQMCAAB0xK+ImTZtmvfxl//scDj0wQcf9OxkAAAAXbjkiKmpqbFxDAAAAP90\n",
              "65oYAACAQCNiAACAkYgYAABgJCIGAAAYiYgBAABGImIAAICRiBgAAGAkIgYAABiJiAEAAEYiYgAA\n",
              "gJGIGAAAYCQiBgAAGImIAQAARiJiAACAkYgYAABgJCIGAAAYiYgBAABGImIAAICRbI2YQ4cOacKE\n",
              "CUpMTFRaWpr27dt3wT4lJSVKSUnxLoMHD1ZmZqYkqaamRiEhIT7bDx8+bOfIAADAEKF2Hjw3N1fz\n",
              "5s3TnDlzVFpaqjlz5mjXrl0++2RlZSkrK8v7eMyYMbrvvvu8j/v376+qqio7xwQAAAay7Z2YxsZG\n",
              "7d69W/fff78kaebMmaqtrVV1dXWnX7Nz5041NjZq2rRp3fqeLS0tam5u9lna2tq6dSwAABDcbIuY\n",
              "2tpaRUdHKzT0/Js9DodDLpdLHo+n068pLi7WAw88oKuuusq77tSpU0pLS5Pb7dbSpUu7jJKCggKF\n",
              "h4f7LJWVlT33pAAAQNAImgt7T506pQ0bNuihhx7yrouOjtaxY8e0a9cubdu2TRUVFVq+fHmnx8jP\n",
              "z1dTU5PPkp6e3hvjAwCAXmZbxAwbNkz19fU6d+6cJMmyLHk8Hrlcrg7337hxo0aPHq1Ro0Z51zmd\n",
              "TkVGRkqSBg4cqLlz56qioqLT7+l0OhUWFuazhISE9OCzAgAAwcK2iImMjJTb7da6deskSZs2bVJM\n",
              "TIzi4+M73L+4uNjnXRjp/HU1ra2tks5f71JWVqbU1FS7RgYAAAax9eOkoqIiFRUVKTExUcuWLVNJ\n",
              "SYkkKTs7W+Xl5d79Dhw4oKqqKt1zzz0+X799+3alpqYqOTlZbrdbUVFRWrRokZ0jAwAAQ9j6I9ZJ\n",
              "SUnasWPHBevXrFlzwX4nT568YL/MzEzv74wBAAD4sqC5sBcAAMAfRAwAADASEQMAAIxExAAAACMR\n",
              "MQAAwEhEDAAAMBIRAwAAjETEAAAAIxExAADASEQMAAAwEhEDAACMRMQAAAAjETEAAMBIRAwAADAS\n",
              "EQMAAIxExAAAACMRMQAAwEhEDAAAMBIRAwAAjETEAAAAIxExAADASEQMAAAwEhEDAACMRMQAAAAj\n",
              "ETEAAMBIRAwAADASEQMAAIxExAAAACMRMQAAwEhEDAAAMBIRAwAAjETEAAAAIxExAADASEQMAAAw\n",
              "EhEDAACMZGvEHDp0SBMmTFBiYqLS0tK0b9++C/b517/+pX79+iklJcW7nD592ru9uLhYCQkJGjFi\n",
              "hHJyctTa2mrnyAAAwBC2Rkxubq7mzZungwcP6rHHHtOcOXM63C8pKUlVVVXepV+/fpKkI0eOaPHi\n",
              "xaqoqFB1dbWOHz+u1atX2zkyAAAwhG0R09jYqN27d+v++++XJM2cOVO1tbWqrq6+5GOUlpZq2rRp\n",
              "ioqKksPh0Pz587V+/fpO929paVFzc7PP0tbWdtnPBQAABB/bIqa2tlbR0dEKDQ2VJDkcDrlcLnk8\n",
              "ngv2PXz4sNxut9LS0lRYWOhd7/F4FBsb630cFxfX4dd/oaCgQOHh4T5LZWVlDz4rAAAQLAJ+Ya/b\n",
              "7VZdXZ327NmjzZs3a9WqVXrxxRe7daz8/Hw1NTX5LOnp6T08MQAACAa2RcywYcNUX1+vc+fOSZIs\n",
              "y5LH45HL5fLZLywsTOHh4ZKkmJgY3XvvvaqoqJAkuVwuHT161LtvTU3NBV//ZU6nU2FhYT5LSEhI\n",
              "Tz81AAAQBGyLmMjISLndbq1bt06StGnTJsXExCg+Pt5nv/r6erW3t0uSTp48qS1btig1NVXS+eto\n",
              "ysvL1dDQIMuytGrVKs2ePduukQEAgEFs/TipqKhIRUVFSkxM1LJly1RSUiJJys7OVnl5uaTzcTN2\n",
              "7FglJydr/Pjxmjx5srKysiRJw4cP15IlSzRx4kTFx8dryJAhys3NtXNkAABgiFA7D56UlKQdO3Zc\n",
              "sH7NmjXeP//0pz/VT3/6006PkZOTo5ycHFvmAwAA5gr4hb0AAADdQcQAAAAjETEAAMBIRAwAADAS\n",
              "EQMAAIxExAAAACMRMQAAwEhEDAAAMBIRAwAAjETEAAAAIxExAADASEQMAAAwEhEDAACMRMQAAAAj\n",
              "ETEAAMBIRAwAADASEQMAAIxExAAAACMRMQAAwEhEDAAAMBIRAwAAjETEAAAAIxExAADASEQMAAAw\n",
              "EhEDAACMRMQAAAAjETEAAMBIRAwAADASEQMAAIxExAAAACMRMQAAwEhEDAAAMBIRAwAAjETEAAAA\n",
              "IxExAADASLZGzKFDhzRhwgQlJiYqLS1N+/btu2Cf1157Tenp6Ro1apRGjx6thQsXqr29XZJUU1Oj\n",
              "kJAQpaSkeJfDhw/bOTIAADCErRGTm5urefPm6eDBg3rsscc0Z86cC/YZMGCANmzYoP379+utt97S\n",
              "m2++qbVr13q39+/fX1VVVd5lxIgRdo4MAAAMYVvENDY2avfu3br//vslSTNnzlRtba2qq6t99ktN\n",
              "TdXw4cMlSX379lVKSopqamq69T1bWlrU3Nzss7S1tV3W8wAAAMHJtoipra1VdHS0QkNDJUkOh0Mu\n",
              "l0sej6fTr2loaFBpaanuvvtu77pTp04pLS1NbrdbS5cu7TJKCgoKFB4e7rNUVlb23JMCAABBI2gu\n",
              "7G1ubtb3vvc9LVy4UDfeeKMkKTo6WseOHdOuXbu0bds2VVRUaPny5Z0eIz8/X01NTT5Lenp6bz0F\n",
              "AADQi2yLmGHDhqm+vl7nzp2TJFmWJY/HI5fLdcG+J0+eVEZGhqZPn668vDzveqfTqcjISEnSwIED\n",
              "NXfuXFVUVHT6PZ1Op8LCwnyWkJCQHn5mAAAgGNgWMZGRkXK73Vq3bp0kadOmTYqJiVF8fLzPfp99\n",
              "9pkyMjKUkZGhJ554wmdbY2OjWltbJZ2/3qWsrEypqal2jQwAAAxi68dJRUVFKioqUmJiopYtW6aS\n",
              "khJJUnZ2tsrLyyVJK1euVGVlpcrKyrw/Rv3MM89IkrZv367U1FQlJyfL7XYrKipKixYtsnNkAABg\n",
              "iFA7D56UlKQdO3ZcsH7NmjXePy9atKjTMMnMzFRmZqZt8wEAAHMFzYW9AAAA/iBiAACAkYgYAABg\n",
              "JCIGAAAYiYgBAABGImIAAICRiBgAAGAkIgYAABiJiAEAAEYiYgAAgJGIGAAAYCQiBgAAGImIAQAA\n",
              "RiJiAACAkYgYAABgJCIGAAAYiYgBAABGImIAAICRiBgAAGAkIgYAABiJiAEAAEYiYgAAgJGIGAAA\n",
              "YCQiBgAAGImIAQAARiJiAACAkYgYAABgJCIGAAAYiYgBAABGImIAAICRiBgAAGAkIgYAABiJiAEA\n",
              "AEYiYgAAgJGIGAAAYCRbI+bQoUOaMGGCEhMTlZaWpn379nW4X3FxsRISEjRixAjl5OSotbX1krYB\n",
              "AIArl60Rk5ubq3nz5ungwYN67LHHNGfOnAv2OXLkiBYvXqyKigpVV1fr+PHjWr169UW3AQCAK5tt\n",
              "EdPY2Kjdu3fr/vvvlyTNnDlTtbW1qq6u9tmvtLRU06ZNU1RUlBwOh+bPn6/169dfdFtHWlpa1Nzc\n",
              "7LO0tbXZ9RQBAEAAhdp14NraWkVHRys09Py3cDgccrlc8ng8io+P9+7n8XgUGxvrfRwXFyePx3PR\n",
              "bR0pKCjQkiVLfNaNHDlSeXl5PfKcviyzx4/4P3l5/7Dx6Oe1tbWpsrJS6enpCgkJsf37fd0E6vzZ\n",
              "+e/OLp39e75S/w321N/hV89fb7xufN1099+gXf8P7fw7tGPmtrY23XTT07b9H46NjdXPf/7zLvex\n",
              "LWICIT8//4JgcTqdcjqdAZooeDU3Nys8PFx/+9vfFBYWFuhxjMP5u3ycw8vD+bt8nMPLEwznz7aI\n",
              "GTZsmOrr63Xu3DmFhobKsix5PB65XC6f/Vwulw4fPux9XFNT492nq20dIVgAALhy2HZNTGRkpNxu\n",
              "t9atWydJ2rRpk2JiYnw+SpLOXytTXl6uhoYGWZalVatWafbs2RfdBgAArmy2/nRSUVGRioqKlJiY\n",
              "qGXLlqmkpESSlJ2drfLycknS8OHDtWTJEk2cOFHx8fEaMmSIcnNzL7oNAABc2Wy9JiYpKUk7duy4\n",
              "YP2aNWt8Hufk5CgnJ6fDY3S1Dd3ndDr15JNP8vFbN3H+Lh/n8PJw/i4f5/DyBMP5c1iWZQXsuwMA\n",
              "AHQTtx0AAABGImIAAICRiBgAAGAkIgYAABiJiLkCnDlzRjNmzFBiYqKSk5M1efJk7z2sGhsblZGR\n",
              "oYSEBI0ZM0avv/56gKcNPl2dv9tvv13f/OY3lZKSopSUFP3mN78J8LTB67vf/a5uuOEGpaSk6JZb\n",
              "btHbb78t6dLvdn+l6+z8xcXFKSkpyftv8C9/+UuAJw1uJSUlcjgceumllyTxGtgdXz2HAX0dtPC1\n",
              "d/r0aWvr1q1We3u7ZVmW9fvf/9667bbbLMuyrKysLOvJJ5+0LMuyKisrraFDh1pnz54N0KTBqavz\n",
              "d9ttt1mbN28O3HAGOXHihPfPZWVl1g033GBZlmVNmjTJKikpsSzLsjZu3GjdeOONAZgu+HV2/mJj\n",
              "Y6233347MEMZ5siRI9ZNN91kjR8/3vv/ltdA/3R0DgP5Osg7MVeAvn37aurUqXI4HJKk8ePHq6am\n",
              "RpL04osvav78+ZKktLQ0XX/99fr3v/8dqFGDUlfnD5cuIiLC++empiY5HI5Lvts9Oj5/uHTt7e3K\n",
              "zs7W73//e5/fa8Jr4KXr7BwGEhFzBVq5cqWmT5+ujz/+WK2trYqKivJuu9idwvG/8/eFxx9/XGPH\n",
              "jtU999yjDz74IICTBb8f/ehHGjZsmBYvXqwXXnihy7vd40JfPX9fXj927Fg99NBD+vDDDwM4YfBa\n",
              "sWKFJk6cqHHjxnnX8Rron47O4RcC9TpIxFxhnn32WVVXV6ugoCDQoxjpq+fvhRde0Pvvv693331X\n",
              "t9xyi+6+++4ATxjc1q5dq9raWj399NN67LHHAj2OcTo6f6+//rreffdd7dmzR4MHD9aDDz4Y4CmD\n",
              "z3vvvadNmzbpiSeeCPQoxurqHAb0dTAgH2IhIH71q19Z48aN8/ls/ZprrrHq6+u9j9PS0qxXX301\n",
              "ANMFv47O31c5nU7ro48+6r2hDNa3b1+roaHB6t+/v9Xa2mpZlmW1t7db1113nXXo0KEATxf8+vbt\n",
              "e8G/tf/+97/WN77xjQBNFLwKCwutqKgoKzY21oqNjbWcTqc1ZMgQq7CwkNfAS9TVOfyq3nwdJGKu\n",
              "EMuXL7fcbrf1ySef+Kx/8MEHfS5qu/7667morQMdnb/W1laroaHB+7i0tNRyuVyBGC/onThxwjp2\n",
              "7Jj38ebNm62hQ4da7e3t1m233eZzYe+4ceMCNGXw6uz8ffbZZz5RvXz5cuuWW24JwIRm+fKFqLwG\n",
              "ds8X5zDQr4O23gASwaGurk6PPvqohg8frkmTJkk6f+OunTt36rnnntMDDzyghIQEXX311Vq3bp2u\n",
              "uuqqAE8cXDo7f6+99pruuusutbS0qE+fPho8eLD37uzw1dTUpB/84Ac6ffq0+vTpoyFDhmjLli1y\n",
              "OBwqKirSnDlz9OyzzyosLMx7t3v8T2fn7/jx45o5c6ba2tpkWZaGDx+utWvXBnpco/AaeHlaWloC\n",
              "+jrIDSABAICRuLAXAAAYiYgBAABGImIAAICRiBgAAGAkIgYAABiJiAEAAEYiYgAAgJGIGAAAYCQi\n",
              "BgAAGImIAQAARvp/pOJgVB3dUg0AAAAASUVORK5CYII=\n",
              "\">\n",
              "      </div>\n",
              "      <script type=\"text/javascript\">\n",
              "        (() => {\n",
              "          const chartElement = document.getElementById(\"chart-94442952-17c8-4760-8d94-85f22da83034\");\n",
              "          async function getCodeForChartHandler(event) {\n",
              "            const chartCodeResponse =  await google.colab.kernel.invokeFunction(\n",
              "                'getCodeForChart', [\"chart-94442952-17c8-4760-8d94-85f22da83034\"], {});\n",
              "            const responseJson = chartCodeResponse.data['application/json'];\n",
              "            await google.colab.notebook.addCell(responseJson.code, 'code');\n",
              "          }\n",
              "          chartElement.onclick = getCodeForChartHandler;\n",
              "        })();\n",
              "      </script>\n",
              "      <style>\n",
              "        .colab-quickchart-chart-with-code  {\n",
              "            display: block;\n",
              "            float: left;\n",
              "            border: 1px solid transparent;\n",
              "        }\n",
              "\n",
              "        .colab-quickchart-chart-with-code:hover {\n",
              "            cursor: pointer;\n",
              "            border: 1px solid #aaa;\n",
              "        }\n",
              "      </style>"
            ]
          },
          "metadata": {}
        },
        {
          "output_type": "display_data",
          "data": {
            "text/plain": [
              "<google.colab._quickchart_helpers.SectionTitle at 0x7fd80b037e20>"
            ],
            "text/html": [
              "<h4 class=\"colab-quickchart-section-title\">Categorical distributions</h4>\n",
              "<style>\n",
              "  .colab-quickchart-section-title {\n",
              "      clear: both;\n",
              "  }\n",
              "</style>"
            ]
          },
          "metadata": {}
        },
        {
          "output_type": "display_data",
          "data": {
            "text/plain": [
              "from matplotlib import pyplot as plt\n",
              "import seaborn as sns\n",
              "_df_5.groupby('Name').size().plot(kind='barh', color=sns.palettes.mpl_palette('Dark2'))\n",
              "plt.gca().spines[['top', 'right',]].set_visible(False)"
            ],
            "text/html": [
              "      <div class=\"colab-quickchart-chart-with-code\" id=\"chart-ea68602a-4b73-4d1e-ab3d-02e52e1b238b\">\n",
              "        <img style=\"width: 180px;\" src=\"data:image/png;base64,iVBORw0KGgoAAAANSUhEUgAAAjgAAAGZCAYAAACE3UsgAAAAOXRFWHRTb2Z0d2FyZQBNYXRwbG90\n",
              "bGliIHZlcnNpb24zLjcuMSwgaHR0cHM6Ly9tYXRwbG90bGliLm9yZy/bCgiHAAAACXBIWXMAAA9h\n",
              "AAAPYQGoP6dpAAAgV0lEQVR4nO3dfVSUdf7/8deICmstaK43LAXkHXcKsypYZglkSuVNtqhpllmi\n",
              "1W65WWm2aVkUbbWox9y1rNXc2o3jmuYpra0VLVtvUGPVFNQELAQzQ9CM4e76/dFpvs1q+wMcuMYP\n",
              "z8c5c05cc3O9r+t44nk+cw3jsCzLEgAAgEFa2T0AAACAtxE4AADAOAQOAAAwDoEDAACMQ+AAAADj\n",
              "EDgAAMA4BA4AADAOgQMAAIxD4AAAAOO06MBZuHCh3SMAAIAm0KIDp6ioyO4RAABAE2jRgQMAAMxE\n",
              "4AAAAOMQOAAAwDgEDgAAMA6BAwAAjEPgAAAA4xA4AADAOAQOAAAwDoEDAACMQ+AAAADjEDgAAMA4\n",
              "DsuyLLuHsMvFw+LV/pZr7R4DAACjfDn5WbtHYAUHAACYh8ABAADGIXAAAIBxCBwAAGAcAgcAABiH\n",
              "wAEAAMYhcAAAgHEIHAAAYByfCZx58+ZpypQp7p83b94sh8OhjRs3urfdfffduv766zVu3DhJUmFh\n",
              "odq3b+++3+Fw6OTJk800MQAA8FU+EzhJSUkeMZOdna0BAwactW3mzJnKyspq/gEBAMAFw2cC54or\n",
              "rtDRo0f15ZdfSpI2btyouXPnugOnpKRER44ckcvlktPptG9QAADg83wmcNq2bauBAwcqOztbLpdL\n",
              "BQUFuuGGG/Tll1+qsrJS2dnZuvLKKxUQENCo13e5XKqoqPC4qbbFfg0XAABG85nAkf7vbapt27Yp\n",
              "ISFB0vcrO1u2bNHGjRuVlJTU6NfOyMhQUFCQx62qoMRbowMAAB/ic4GTnZ2t7OxsJSYmSpIGDx7s\n",
              "3pacnNzo1549e7bKy8s9bm0vD/bS5AAAwJf4VODEx8frq6++0htvvOEROG+++aZKSkrcqzqN4e/v\n",
              "r8DAQI+b/BxemhwAAPgSnwqcNm3aaNCgQTp16pQiIyMlSb169dKpU6c0aNAgtWnTxuYJAQDAhcBh\n",
              "WVaLvdL24mHxan/LtXaPAQCAUb6c/KzdI/jWCg4AAIA3EDgAAMA4BA4AADAOgQMAAIxD4AAAAOMQ\n",
              "OAAAwDgEDgAAMA6BAwAAjNPa7gHsNDXmamX6wB8jAgAA3sUKDgAAMA6BAwAAjEPgAAAA4xA4AADA\n",
              "OAQOAAAwDoEDAACMQ+AAAADjEDgAAMA4BA4AADAOgQMAAIxD4AAAAOMQOAAAwDgEDgAAMA6BAwAA\n",
              "jEPgAAAA4xA4AADAOAQOAAAwDoEDAACMQ+AAAADjEDgAAMA4BA4AADAOgQMAAIxD4AAAAOMQOAAA\n",
              "wDgEDgAAMA6BAwAAjNPa7gHs9O2B+Sr5x0K7xwAAwCjBqbV2j8AKDgAAMA+BAwAAjEPgAAAA4xA4\n",
              "AADAOAQOAAAwDoEDAACMQ+AAAADjEDgAAMA4tv6hP6fTKUmqqqpSfn6++vTpI0mKiIhQVlaWjZMB\n",
              "AIALma2Bk5ubK0kqLCyU0+l0/wwAAHA+fPItqr/+9a+KjY1VbGysbrzxRhUXF0uSli9friFDhmj8\n",
              "+PGKjo7WwIEDtW/fPo0ePVpRUVEaOnSoTp8+bfP0AADAbj4XOHv37tXDDz+s9evXa/fu3Ro4cKCm\n",
              "TJnivj8nJ0d/+MMftG/fPnXv3l0jRozQkiVLtH//frVt21avvfbaOV/X5XKpoqLC41Zb11xHBQAA\n",
              "mpPPBU52drZSUlIUEhIiSbr33nu1YcMG1dZ+/8VdV155pUJDQyVJ/fv3V3x8vLp06SJJio+P18GD\n",
              "B8/5uhkZGQoKCvK4fXqoGQ4IAAA0O58LnP/mcDg8fg4ICHD/t5+f31k/19TUnPN1Zs+erfLyco/b\n",
              "r3o0zcwAAMBePhc4SUlJeu+993T06FFJ0pIlS3TttdfKz8/vvF7X399fgYGBHjc/nzt6AADgDbZ+\n",
              "iupcevfureeff14pKSmSpMsuu0xLly61eSoAAHAhcViWZdk9hF2mDXfoiTtYxgEAwJuCU2vtHsH3\n",
              "3qICAAA4XwQOAAAwDoEDAACMQ+AAAADjEDgAAMA4BA4AADAOgQMAAIxD4AAAAOP43F8ybk4X9XpA\n",
              "wamZdo8BAAC8jBUcAABgHAIHAAAYh8ABAADGIXAAAIBxCBwAAGAcAgcAABiHwAEAAMYhcAAAgHEI\n",
              "HAAAYBwCBwAAGIfAAQAAxiFwAACAcQgcAABgHAIHAAAYh8ABAADGIXAAAIBxCBwAAGAcAgcAABiH\n",
              "wAEAAMYhcAAAgHEIHAAAYBwCBwAAGIfAAQAAxiFwAACAcQgcAABgHIdlWZbdQ9gl9oZAXXlbB7vH\n",
              "AADAKC+NL7J7BFZwAACAeQgcAABgHAIHAAAYh8ABAADGIXAAAIBxCBwAAGAcAgcAABiHwAEAAMYh\n",
              "cAAAgHGaNHDeeust9evXT06nU5GRkUpOTlZdXZ0WLFig0tLSptw1AABowVo31QuXlJRo6tSp2rlz\n",
              "p8LCwiRJu3btksPh0IIFC5SYmKiuXbs21e4BAEAL1mQrOMeOHZOfn58uueQS97a+ffvqqaee0tGj\n",
              "RzVu3Dg5nU7l5uaqurpajzzyiBISEuR0OjV27FiVlZXpiy++UOfOnVVVVeV+jTvuuEMLFy6UJOXk\n",
              "5Cg5OVn9+/fXr371K61cubKpDgcAAFxAmuzLNuvq6jRmzBhlZ2dr8ODBGjhwoCZMmKCQkBCFh4dr\n",
              "zZo1cjqdkqRnnnlGtbW1mjNnjiTpqaeeUmlpqRYvXqyhQ4dq6tSpSk1N1enTpxUaGqqDBw/Kz89P\n",
              "SUlJWrdunYKDg/X111+rb9++2rJli0JCQs6ax+VyyeVyeWwbODZEV0265KzHAgCAxvOFL9tssreo\n",
              "WrVqpVWrVikvL0+bNm3S+vXr9fTTT2vHjh1nPXbNmjUqLy/XqlWrJElVVVUKDw+XJE2ePFnLli1T\n",
              "amqqVq5cqeTkZHXs2FHr1q3T4cOHdf3113u8Vn5+/jkDJyMjQ/PmzfPY1rlHWy8dLQAA8CVNFjg/\n",
              "iIyMVGRkpKZNm6aUlBStXbv2rMdYlqVFixZp6NChZ903evRo3X///SopKdHy5cs1c+ZM93NiYmL0\n",
              "73//u15zzJ49WzNmzPDYNnDs2SEEAAAufE12DU5xcbE++eQT989lZWUqKChQ9+7dFRgYqPLycvd9\n",
              "N910k+bPn68zZ85Iks6cOaPPPvtMkhQQEKAxY8boiSee0Oeff66UlBRJ0sCBA1VQUKAPP/zQ/Tq5\n",
              "ubke1+v8mL+/vwIDAz1urVo5vH7cAADAfk22glNTU6Mnn3xSBQUFateunWpqajRp0iSNGjVKx48f\n",
              "V1pamtq1a6fly5dr1qxZcrlcGjBggByO76Nj1qxZiomJkfT921QJCQmaNWuW/Pz8JEkdOnTQu+++\n",
              "q4ceekgPPvigqqurFRoaqjVr1jTVIQEAgAtEk11kfCGIvSFQV97Wwe4xAAAwii9cZMxfMgYAAMYh\n",
              "cAAAgHEIHAAAYBwCBwAAGIfAAQAAxiFwAACAcQgcAABgHAIHAAAYp8m/i8qXDYmcoszxmXaPAQAA\n",
              "vIwVHAAAYBwCBwAAGIfAAQAAxiFwAACAcQgcAABgHAIHAAAYh8ABAADGIXAAAIBxCBwAAGAcAgcA\n",
              "ABiHwAEAAMYhcAAAgHEIHAAAYBwCBwAAGIfAAQAAxiFwAACAcQgcAABgHAIHAAAYh8ABAADGIXAA\n",
              "AIBxCBwAAGAcAgcAABiHwAEAAMYhcAAAgHEIHAAAYJzWjXnSzp07tW/fPt12220qKytTZWWlgoOD\n",
              "vT1bk/v2tR0qfe95u8cAAMAoXfc9bPcIDV/B+dOf/qQ777xTTzzxhCTpm2++0YQJE7w9FwAAQKM1\n",
              "OHBefvllbd26VYGBgZKk7t276/jx414fDAAAoLEaHDj+/v762c9+5rGtdetGvdMFAADQJBocOJ06\n",
              "ddKBAwfkcDgkScuXL1doaKjXBwMAAGisBi+9LFiwQOPHj1deXp4uu+wyBQYG6p133mmK2QAAABql\n",
              "wYHTo0cPbdu2Tfn5+bIsSxEREfLz82uK2QAAABqlURfPnD59WtXV1aqpqdF//vMfSVLfvn29OhgA\n",
              "AEBjNThw5s+fr7lz56pTp07ulRuHw6EDBw54fTgAAIDGaHDgLFq0SPn5+frlL3/ZFPMAAACctwZ/\n",
              "iiokJMQrcfPWW2+pX79+cjqdioyMVHJysurq6s77dQEAABq8gvPoo4/q/vvv1/DhwxUQEODefs01\n",
              "19T7NUpKSjR16lTt3LlTYWFhkqRdu3a5P3oOAABwPhocOFu2bNGKFSu0efNmj2twtm/fXu/XOHbs\n",
              "mPz8/HTJJZe4t/1wkfJDDz2kTZs2qbq6WoGBgVq6dKkiIiLc+0lPT9fatWt17NgxLViwQPv379eq\n",
              "VatUXl6upUuXKjEx8Zz7dLlccrlcHttqLVaMAAAwUYPfolqxYoUKCwu1a9cu5eTkKCcnp0FxI0mx\n",
              "sbEaNGiQwsLCNHr0aD3//PMqLi6WJM2aNUs5OTnKzc3Vvffeq+nTp3s89+KLL9a2bdv06quvauLE\n",
              "iQoODtaOHTv0zDPP6OGHf/rLvTIyMhQUFORxy/3ui4YePgAAuAA4LMuyGvKEwYMHa9OmTV7ZeV5e\n",
              "njZt2qT169dr48aN2rFjh7Zv365Fixbp1KlTqqur0zfffKPS0tLvh3U4VFJSoq5du6q8vFzt27fX\n",
              "d999p4CAABUVFSkuLk4nT548577OtYIzI/wGpXcd5ZVjAQAA3/OFbxNv8FtU8fHxGjt2rFJTUz2u\n",
              "wRk5cmSDdx4ZGanIyEhNmzZNKSkp+tvf/qYFCxYoJydH3bt31+7du8+6tueHff7w9tiPf66pqfnJ\n",
              "ffn7+8vf399jm5+jwQtYAADgAtDgwNm5c6ck6c9//rN7m8PhaFDgFBcXq7CwUFdddZUkqaysTAUF\n",
              "Bbr++uvVpk0bBQcHy7Isvfjiiw0dDwAAoOGBk52dfd47ramp0ZNPPqmCggK1a9dONTU1mjRpkqZP\n",
              "n67Dhw8rJiZGHTt21E033XTe+wIAAC1Pg6/BkaTq6moVFBSosrLSvS02NtargzWHaR2v0bwuI+we\n",
              "AwAAo1yQ1+C88847SktLU1lZmS666CKVlZUpLCxMBQUFTTEfAABAgzX4Kts5c+Zo69atioqK0okT\n",
              "J7RixQqlpqY2xWwAAACN0uDAadWqlcLCwtyfWJo4caI2bNjg9cEAAAAaq8FvUbVp00aSdOmll2r1\n",
              "6tUKDw9XWVmZ1wcDAABorAYHzvTp01VWVqb09HTdcsstOnnypBYuXNgUswEAADRKvQPno48+kvT9\n",
              "t4nv2bNHkvTKK69IEl+SCQAAfEq9A+fBBx88a5vD4dDRo0dVUlKi2tparw4GAADQWPUOnJycHI+f\n",
              "v/nmG6Wnp+v111/XvHnzvD4YAABAYzX4GpzKykrNnz9fCxcu1IQJE7R//3517NixKWZrchdN6q+u\n",
              "mfb/MSIAAOBd9f6YeF1dnV5++WX17NlTeXl52rZtmzIzMy/YuAEAAOaq9wpO79695XK59Mwzzygu\n",
              "Lk7l5eXavXu3+/4L8asaAACAmeodOGfOnJHD4dDcuXPPus/hcOjw4cNeHQwAAKCx6h04hYWFTTgG\n",
              "AACA9zT4qxoAAAB8HYEDAACMQ+AAAADjEDgAAMA4BA4AADAOgQMAAIxD4AAAAOMQOAAAwDgEDgAA\n",
              "MA6BAwAAjEPgAAAA4xA4AADAOAQOAAAwDoEDAACMQ+AAAADjEDgAAMA4BA4AADAOgQMAAIxD4AAA\n",
              "AOMQOAAAwDgEDgAAMI7DsizL7iHs0r/vTUoePMXuMQAAMMpz84fbPQIrOAAAwDwEDgAAMA6BAwAA\n",
              "jEPgAAAA4xA4AADAOAQOAAAwDoEDAACMQ+AAAADjEDgAAMA4tgROeHi4IiIi5HQ6FRERoWeffbbR\n",
              "r1VYWKglS5Z4cToAAHChs20FJysrS7m5udqwYYMyMjK0ffv2Rr0OgQMAAP6b7W9RhYSEKDIyUkVF\n",
              "RTp06JCGDBmi2NhYOZ1OrVmzxv24999/X3379lVsbKwGDx6sffv2SZLuvvtu5efny+l0auTIkT+5\n",
              "H5fLpYqKCo+bVVfX1IcHAABsYHvg5OXl6cSJE0pMTNStt96qMWPGaPfu3Vq5cqXuuusuFRUV6auv\n",
              "vtKECRP02muvaffu3Zo6dapSU1NlWZaWLFmiiIgI5ebmau3atT+5n4yMDAUFBXncSo4daMYjBQAA\n",
              "zcW2wBk3bpyioqIUHR2t++67TwEBAdq1a5fuuusuSVLPnj01aNAgffzxx9q2bZv69OmjPn36SJJu\n",
              "vfVWHT16VMXFxfXe3+zZs1VeXu5xC+7Sq0mODQAA2Ku1XTvOysqS0+nUhx9+qBEjRig5Ofmsxzgc\n",
              "Dq/tz9/fX/7+/p6v38r2BSwAANAEbP8NP2TIEN1zzz167LHH1LdvXy1btkySdOjQIW3evFnXXHON\n",
              "rrjiCu3Zs0d79+6VJL355psKCQlRSEiIAgMDVV5ebuchAAAAH2PbCs6PzZkzRz169NC6dev0+9//\n",
              "Xi+++KIcDodeeeUVhYaGSpLeeOMN3X777aqpqVGHDh20cuVKORwOxcbGKiYmRr1791a3bt3+53U4\n",
              "AACgZXBYlmXZPYRd+ve9ScmDp9g9BgAARnlu/nC7R7D/LSoAAABvI3AAAIBxCBwAAGAcAgcAABiH\n",
              "wAEAAMYhcAAAgHEIHAAAYByf+EN/drkmsZuey7T/s/oAAMC7WMEBAADGIXAAAIBxCBwAAGAcAgcA\n",
              "ABiHwAEAAMYhcAAAgHEIHAAAYBwCBwAAGIfAAQAAxiFwAACAcQgcAABgHAIHAAAYh8ABAADGIXAA\n",
              "AIBxCBwAAGAcAgcAABiHwAEAAMYhcAAAgHEIHAAAYBwCBwAAGIfAAQAAxiFwAACAcQgcAABgHAIH\n",
              "AAAYh8ABAADGIXAAAIBxHJZlWXYPYZfJMQ7NjqfxAADwpl7La+0egRUcAABgHgIHAAAYh8ABAADG\n",
              "IXAAAIBxCBwAAGAcAgcAABiHwAEAAMYhcAAAgHGaJXDCw8MVEREhp9OpiIgIPfvss5KkHTt2aNy4\n",
              "cf/f5zscDp08ebKJpwQAAKZo3Vw7ysrKktPpVHFxsaKjo5WcnKyEhARlZWU11wgAAKCFaPa3qEJC\n",
              "QhQZGamioiJt3LhRTqfTfd+7776r+Ph4xcXFyel0atu2bR7PtSxLs2bN0siRI7VixQoNHTrUfV9t\n",
              "ba3CwsK0b9++5joUAADgo5ptBecHeXl5OnHihBITE/XZZ5+5tx84cECTJ0/WRx99pMjISFVXV+vM\n",
              "mTPu+10ul8aPH6+OHTtq9erVkqS5c+cqPz9fERERWrt2rXr06KHo6Ohz7tflcsnlcnlsq61rggME\n",
              "AAC2a7YVnHHjxikqKkrR0dG677771KlTJ4/7P/jgA6WkpCgyMlKS1KZNGwUFBbnvv/HGGxUTE6PF\n",
              "ixfLz89Pfn5+uvfee7V48WJJ0uLFi/Xb3/72J/efkZGhoKAgj9vur5vgQAEAgO2aLXCysrK0f/9+\n",
              "/fOf/9QjjzyiPXv2NOj5ycnJ+uCDD1RRUeHelpaWppUrV2rHjh06dOiQRo4c+ZPPnz17tsrLyz1u\n",
              "sb9o9OEAAAAf1uzX4AwZMkT33HOPHnvsMY/tw4YN0/vvv6+8vDxJUnV1tcrLy933P/roo7r55ps1\n",
              "ZMgQnThxQpLUoUMHjRo1SqNHj9a0adPk5+f3k/v19/dXYGCgx82PD8kDAGAkW37Fz5kzR5s3b9bO\n",
              "nTvd23r06KFly5Zp4sSJiouL04ABA5Sfn+/xvN/97ndKS0tTcnKySktLJX2/inP8+HGlpaU16zEA\n",
              "AADf5bAsy7J7iPPxwgsvaP/+/Xr11Vcb/NzJMQ7NjmcZBwAAb+q1vNbuEZr/U1TeFBMTI4fDoffe\n",
              "e8/uUQAAgA+5oAPnxx8zBwAA+AHvzwAAAOMQOAAAwDgEDgAAMA6BAwAAjEPgAAAA4xA4AADAOBf0\n",
              "x8TPV4dhD6hXZqbdYwAAAC9jBQcAABiHwAEAAMYhcAAAgHEIHAAAYBwCBwAAGIfAAQAAxiFwAACA\n",
              "cQgcAABgHAIHAAAYh8ABAADGIXAAAIBxCBwAAGAcAgcAABiHwAEAAMYhcAAAgHEIHAAAYBwCBwAA\n",
              "GIfAAQAAxiFwAACAcQgcAABgHAIHAAAYh8ABAADGIXAAAIBxCBwAAGAcAgcAABiHwAEAAMZxWJZl\n",
              "2T2EXS4eFq/2t1xr9xgAABjly8nP2j0CKzgAAMA8BA4AADAOgQMAAIxD4AAAAOMQOAAAwDgEDgAA\n",
              "MA6BAwAAjEPgAAAA49geOOHh4crNzW3UcxMTE7VmzRqvzgMAAC58tgcOAACAt/lM4GRmZio+Pl5O\n",
              "p1Px8fHasmWL+779+/dr2LBhio2NVWxsrJYsWXLW81etWqW4uDh9/vnnzTk2AADwQa3tHuAHt912\n",
              "m2bMmCFJ2rp1q+644w7l5eWppqZGo0aN0rx58zR+/HhJ0tdff+3x3MzMTK1evVobNmxQx44dz/n6\n",
              "LpdLLpfLc2Nti/0aLgAAjOYzgfPpp5/q6aef1okTJ9S6dWvl5+fru+++0+HDh1VZWemOG0n6xS9+\n",
              "4f7v9PR0denSRR988IECAgJ+8vUzMjI0b948j21tuv3S+wcCAABs5xNvUVVVVenmm2/WCy+8oL17\n",
              "9+qjjz6SpLNXXM5hwIABOnDggA4fPvw/Hzd79myVl5d73NpeHuyV+QEAgG/xicCprKxUVVWVQkND\n",
              "JUmLFi1y3xcREaF27drp73//u3vbj9+iuu666/SXv/xFI0aM0K5du35yH/7+/goMDPS4yc/RBEcD\n",
              "AADsZnvg1NTUqHPnzkpPT1dCQoL69euntm3buu9v3bq13n77bS1btkx9+vRRXFycVq1a5fEaV199\n",
              "td58802lpqbqk08+ae5DAAAAPsZhWZZtV9qWlJQoIiJCpaWlateuXbPv/+Jh8Wp/y7XNvl8AAEz2\n",
              "5eRn7R7BvhWczMxMJSYm6oUXXrAlbgAAgLlsXcGxGys4AAB4X4tewQEAAGgqBA4AADAOgQMAAIxD\n",
              "4AAAAOMQOAAAwDgEDgAAMI7PfNmmHabGXK1MH/goGwAA8C5WcAAAgHEIHAAAYBwCBwAAGIfAAQAA\n",
              "xiFwAACAcQgcAABgHAIHAAAYh8ABAADGIXAAAIBxCBwAAGAcAgcAABiHwAEAAMZpsV+26XK5tH79\n",
              "etXW1srPz8/ucVqM2tpabd++XQkJCZz3Zsa5twfn3T6ce3s0x3kPCwvT9OnT/+djHJZlWU2ydx9X\n",
              "UVGhoKAglZeXKzAw0O5xWgzOu3049/bgvNuHc28PXznvvEUFAACMQ+AAAADjEDgAAMA4LTZw/P39\n",
              "9fjjj8vf39/uUVoUzrt9OPf24Lzbh3NvD1857y32ImMAAGCuFruCAwAAzEXgAAAA4xA4AADAOMYH\n",
              "zsGDBzVw4ED16tVL8fHx+uyzz875uFdffVU9e/ZU9+7dlZaWpurq6mae1Cz1Oe8bNmxQQkKCoqOj\n",
              "FRMTo5kzZ6qurs6Gac1S33/zkmRZlpKTk9W+ffvmG9BQ9T3ve/bsUWJioqKiohQVFaW33nqrmSc1\n",
              "T33OfV1dnWbMmKHo6GjFxsYqKSlJhw4dsmFac9x///0KDw+Xw+FQbm7uTz7Ott+vluGSkpKsZcuW\n",
              "WZZlWStXrrT69+9/1mMOHz5sBQcHWyUlJVZdXZ01YsQI68UXX2zmSc1Sn/O+a9cu6/PPP7csy7K+\n",
              "++4766qrrnI/B41Xn3P/gz/+8Y/WlClTrKCgoOYZzmD1Oe/ffvutdfnll1sff/yxZVmWVVNTY331\n",
              "1VfNOaaR6nPuV69ebSUkJFhVVVWWZVnWU089ZY0ZM6Y5xzTOpk2brC+++MIKCwuzPv3003M+xs7f\n",
              "r0YHzrFjx6yf//znVnV1tWVZllVXV2d16dLFOnjwoMfjnnvuOWvatGnun999913rqquuatZZTVLf\n",
              "8/7ffvOb31iPP/54M0xoroac+71791pXX321dejQIQLnPNX3vC9dutQaP368HSMaq77nfs2aNVZc\n",
              "XJxVUVFh1dXVWQ8//LD1wAMP2DGycf5X4Nj5+9Xot6i++OILBQcHq3Xr779T1OFwKDQ0VEeOHPF4\n",
              "3JEjRxQWFub+OTw8/KzHoP7qe95/rLS0VP/4xz80fPjw5hrTSPU999XV1UpLS9NLL73ElxB6QX3P\n",
              "+759++Tv76/hw4fL6XTq9ttv1/Hjx+0Y2Rj1PfcjRoxQYmKiunbtquDgYP3rX//Sk08+acfILYqd\n",
              "v1+NDhxcGCoqKjRixAjNnDlT/fv3t3ucFmHevHm6+eabFRUVZfcoLUpNTY0+/PBDvfTSS/r0008V\n",
              "EhKie+65x+6xWoQdO3Zo7969Ki4u1tGjR3Xttdfq7rvvtnssNCGjA+eyyy5TSUmJampqJH1/QeWR\n",
              "I0cUGhrq8bjQ0FAVFRW5fy4sLDzrMai/+p53STp16pRSUlI0atQozZgxo7lHNU59z/2mTZu0aNEi\n",
              "hYeHa9CgQaqoqFB4eDirCY3UkP/XJCUlKSQkRA6HQxMnTtTWrVvtGNkY9T33K1ascF9Q36pVK02a\n",
              "NEnZ2dl2jNyi2Pn71ejA6dy5s/r27avXX39dkrRq1Spdeuml6tGjh8fjfv3rX2vt2rUqLS2VZVla\n",
              "smSJbrnlFjtGNkJ9z/vp06eVkpKilJQUPfbYY3aMapz6nvuPP/5YRUVFKiws1ObNmxUYGKjCwkJ1\n",
              "6tTJjrEvePU972PHjlVOTo4qKiokSevWrVNcXFyzz2uS+p77bt26acOGDaqqqpIkvfPOO+rdu3ez\n",
              "z9vS2Pr7tVmu9LFRXl6edcUVV1g9e/a0+vXrZ+3evduyLMu66667rLffftv9uJdfftnq1q2b1a1b\n",
              "N+vOO+90X2mPxqnPeU9PT7dat25txcXFuW/p6el2jm2E+v6b/0FBQQEXGXtBfc/7ihUrrJiYGKtP\n",
              "nz5WSkqKdeTIEbtGNkZ9zn1lZaU1ZcoUKzIy0urTp4913XXXuT/FicaZOnWqFRISYvn5+VmdO3e2\n",
              "unfvblmW7/x+5buoAACAcYx+iwoAALRMBA4AADAOgQMAAIxD4AAAAOMQOAAAwDgEDgAAMA6BAwAA\n",
              "jEPgAAAA4xA4AADAOAQOAAAwDoEDAACM8/8AaJzJ1t2E+vwAAAAASUVORK5CYII=\n",
              "\">\n",
              "      </div>\n",
              "      <script type=\"text/javascript\">\n",
              "        (() => {\n",
              "          const chartElement = document.getElementById(\"chart-ea68602a-4b73-4d1e-ab3d-02e52e1b238b\");\n",
              "          async function getCodeForChartHandler(event) {\n",
              "            const chartCodeResponse =  await google.colab.kernel.invokeFunction(\n",
              "                'getCodeForChart', [\"chart-ea68602a-4b73-4d1e-ab3d-02e52e1b238b\"], {});\n",
              "            const responseJson = chartCodeResponse.data['application/json'];\n",
              "            await google.colab.notebook.addCell(responseJson.code, 'code');\n",
              "          }\n",
              "          chartElement.onclick = getCodeForChartHandler;\n",
              "        })();\n",
              "      </script>\n",
              "      <style>\n",
              "        .colab-quickchart-chart-with-code  {\n",
              "            display: block;\n",
              "            float: left;\n",
              "            border: 1px solid transparent;\n",
              "        }\n",
              "\n",
              "        .colab-quickchart-chart-with-code:hover {\n",
              "            cursor: pointer;\n",
              "            border: 1px solid #aaa;\n",
              "        }\n",
              "      </style>"
            ]
          },
          "metadata": {}
        },
        {
          "output_type": "display_data",
          "data": {
            "text/plain": [
              "<google.colab._quickchart_helpers.SectionTitle at 0x7fd80b037ca0>"
            ],
            "text/html": [
              "<h4 class=\"colab-quickchart-section-title\">Values</h4>\n",
              "<style>\n",
              "  .colab-quickchart-section-title {\n",
              "      clear: both;\n",
              "  }\n",
              "</style>"
            ]
          },
          "metadata": {}
        },
        {
          "output_type": "display_data",
          "data": {
            "text/plain": [
              "from matplotlib import pyplot as plt\n",
              "_df_6['Age'].plot(kind='line', figsize=(8, 4), title='Age')\n",
              "plt.gca().spines[['top', 'right']].set_visible(False)"
            ],
            "text/html": [
              "      <div class=\"colab-quickchart-chart-with-code\" id=\"chart-751c1041-0d4d-4cc7-b93c-cd76dabf8484\">\n",
              "        <img style=\"width: 180px;\" src=\"data:image/png;base64,iVBORw0KGgoAAAANSUhEUgAAApcAAAFuCAYAAADUGTPdAAAAOXRFWHRTb2Z0d2FyZQBNYXRwbG90\n",
              "bGliIHZlcnNpb24zLjcuMSwgaHR0cHM6Ly9tYXRwbG90bGliLm9yZy/bCgiHAAAACXBIWXMAAA9h\n",
              "AAAPYQGoP6dpAABLT0lEQVR4nO3deXjU5bn/8ffMZCMhC0nIQhbCEvZAwibKLiqrIgJ1aX9Kq6Vq\n",
              "rWtVPMeeblbqBkVbl9qWHrUHZRdBEEQ2EWRLSNgJEAgJSUggC9kzM78/shQqKoFJvrN8Xtc112WW\n",
              "mdwz4PDJc3+f+zHZ7XY7IiIiIiIOYDa6ABERERFxHwqXIiIiIuIwCpciIiIi4jAKlyIiIiLiMAqX\n",
              "IiIiIuIwCpciIiIi4jAKlyIiIiLiMAqXIiIiIuIwCpciIiIi4jAKlyIiIiLiMAqXIiLNNH/+fEwm\n",
              "E7NmzTK6FBERp2PS2eIiIs0zaNAgTpw4gdlsJjs7G19fX6NLEhFxGlq5FBFphp07d7Jr1y4++OAD\n",
              "SkpKWLRoUdPXysrKmDFjBmFhYcTGxjJv3jxiY2P55z//2fQ9hw4dYtKkSURGRhITE8PDDz9MeXm5\n",
              "Ac9ERKRlKFyKiDTDm2++SXJyMuPGjWPKlCm8+eabTV977LHHOHDgABkZGRw5coSMjAzy8/Obvl5Y\n",
              "WMjw4cMZM2YMp06dYu/evRw5coTHH3/cgGciItIy1BYXEblC58+fJyYmhtdee42HHnqIL774gjFj\n",
              "xpCWlkafPn3w9/dn2bJlTJgwAYDS0lLatWvH3//+d2bMmMGcOXNYtGgR27Zta3rMrVu3cuONN1JR\n",
              "UYHFYjHqqYmIOIxWLkVErlDjRp4f/vCHAIwePZquXbvy5ptvUlhYSE1NDR07dmz6/qCgINq1a9f0\n",
              "8dGjR9m9ezchISFNtwkTJmAymcjLy2v15yMi0hIULkVEroDdbuftt9+mpqaGbt26ERUVRXR0NKdP\n",
              "n+Zf//oXfn5++Pj4cPLkyab7lJaWcv78+aaPo6KiGDZsGMXFxU23kpISqqqqiImJMeJpiYg4nMKl\n",
              "iMgVWLduHUePHmXt2rWkpaU13dLT0wF47733uOeee/jd737HmTNnqKio4Omnn8Zs/vfb7I9//GNS\n",
              "U1N58803qaiowG63k52dzfLlyw16ViIijqdwKSJyBd566y1uuukmRo8eTVRUVNMtMTGRBx54gLfe\n",
              "eot58+bRrVs3evfuTWJiIr169SI0NBQ/Pz8A4uPj2bZtG+vWraNLly6EhIQwduxYMjIyDH52IiKO\n",
              "ow09IiIt5Pz584SFhbF161auv/56o8sREWkVWrkUEXGQU6dOsWnTJqxWK0VFRTz88MMkJiYyaNAg\n",
              "o0sTEWk1CpciIg5SU1PDL37xC0JCQkhMTKS4uJgVK1bg5eVldGkiIq1GbXERERERcRitXIqIiIiI\n",
              "wyhcioiIiIjDKFyKiIiIiMMoXIqIiIiIwzhNuJw3b57RJYiIiIjINXKacHnxebwiIiIi4pqcJlyK\n",
              "iIiIiOtTuBQRERERh1G4FBERERGHUbgUEREREYdRuBQRERERh1G4FBERERGHUbgUEREREYdRuBQR\n",
              "ERERh7nqcDl//nxMJhPLly8HYNSoUXTq1Ink5GSSk5OZO3euo2oUERERERfhdTV3ysrK4t1332XI\n",
              "kCGXfH7u3LncfvvtjqhLRERERFxQs1cubTYbDzzwAG+88Qa+vr4tUZOIiIiIfAe73Y7dbje6jMtq\n",
              "dricM2cOQ4cOZcCAAd/42qxZs0hKSuLOO+/k+PHj3/oY1dXVlJaWXnKzWq3NLUVERETEIx3OL2PY\n",
              "Sxt49bPDRpfyDc0Kl/v27WPJkiU8//zz3/ja+++/z6FDh0hPT2f48OFMmjTpWx9n9uzZBAcHX3Lb\n",
              "sWNH86sXERER8UCr0s+QU1zJ4fwyo0v5hmaFyy1btpCVlUViYiIJCQls376dmTNn8tZbbxEXFweA\n",
              "yWTikUce4fjx4xQVFV32cZ577jlKSkouuQ0ePPjan42IiIiIm7Pb7axKPwPApL7RBlfzTc3a0PPQ\n",
              "Qw/x0EMPNX08atQoHn/8cSZNmkR+fj6RkZEALFmyhMjISMLCwi77OL6+vt+4XtNisTS3dhERERGP\n",
              "c/BMGccLy/HxMjOmZ6TR5XzDVe0W/0/V1dVMnDiR6upqzGYz4eHhrFixwhEPLSIiIiIXWZWRC8Do\n",
              "7u1p6+uQKOdQ11TRxo0bm/57165d11qLiIiIiHyHi1viE5KcryUOOqFHRERExGXszy0lq6gCXydt\n",
              "iYPCpYiIiIjL+DSjftVydPcIp2yJg8KliIiIiEuw2+2sagiXE51wl3gjhUsRERERF7A/t5STRRX4\n",
              "eZu5sUeE0eV8K4VLERERERewsmEjz409Ighw0pY4KFyKiIiIOL36lnj9CKKJSR0Mrua7KVyKiIiI\n",
              "OLmMnBKyz1XSxtvC6B7tjS7nOylcioiIiDi5xtmWN/aMwN/HeVvioHApIiIi4tTsdnvT9ZYTnXRw\n",
              "+sUULkVEREScWPrpEnKKG1ri3Z13l3gjhUsRERERJ9Y423JMzwja+FgMrub7KVyKiIiIOKmLzxKf\n",
              "5MSD0y+mcCkiIiLipNKyi8kprsTfx8IoF2iJg8KliIiIiNNqXLW8qWckft7O3xIHhUsRERERp2Sz\n",
              "2fnUBc4S/08KlyIiIiJOKDW7mNySKgJ8LIzs5tyD0y+mcCkiIiLihBpb4jf3cp2WOChcioiIiDid\n",
              "i1viE1xgcPrFFC5FREREnExq9nnySqto6+vFCBdqiYPCpYiIiIjTWemiLXFQuBQRERFxKpfsEnex\n",
              "ljgoXIqIiIg4ld2nzpNfWk2grxfDu4UbXU6zKVyKiIiIOJGmXeK9I/H1cq2WOChcioiIiDgN60Ut\n",
              "cVc5S/w/KVyKiDhYRU0ds5ak88H2k0aXIiIuZlfWOQrKqgn082JYV9faJd7Iy+gCRETcze9XHuDD\n",
              "ndn47MlhYlI07QJ8jC5JRFzEqoZVy7G9o/Dxcs01QNesWkTESX2acYYFO7IBqLHaWLE31+CKRMRV\n",
              "1LfE8wDX3CXeSOFSRMRBcoormbUkHYDO7QMAWLz7tJEliYgL2Zl1jsIL1QT5eTG0q+vtEm+kcCki\n",
              "4gBWm50nPkyjtKqOfnEhLPjpELzMJjJySjiUV2p0eSLiAhp3ibtySxwULkVEHOLPX2SyI+scbX29\n",
              "eP2uZCKD/BjTMwKAJVq9FJHvYbXZWb2vYXC6i+4Sb6RwKSJyjXZlnWPe+iMA/P723nQMq2+JTxsQ\n",
              "B8Cy1FxqrTbD6hMR5/f1iSIKL9QQ3MbbpVvioHApInJNSipreezDNGx2mJISw5SU2KavjerenrAA\n",
              "HwovVLP5yFkDqxQRZ9fYEh/XOwpvi2vHM9euXkTEQHa7nf9alkFOcSXxof78bnLvS77ubTFze0oM\n",
              "AIt2qTUuIpdXZ7WxZl/DLnEXb4mDwqWIyFVbtOs0q9LP4GU28frdKQT6eX/je6YNqF/JXH8on3Pl\n",
              "Na1dooi4gK9PnKOovIZ2/t5c3yXM6HKumcKliMhVOHb2Ar9esR+AJ2/pRnJcyGW/r2d0EH1igqi1\n",
              "2lmRltOKFYqIq1h50S5xV2+Jg8KliEizVddZeXRBKpW1Vm7oEsaDI7p85/dP61+/erl4j1rjInKp\n",
              "OquNz/a7T0scFC5FRJrtlTWH2Z9bSjt/b+bemYzZbPrO778tOQZvi4l9OaUcPKOZlyLyb9uPn+Nc\n",
              "Y0u8s+u3xEHhUkSkWTYeLuBvX54A4JVp/YgM8vve+4QG+DCmRySgE3tE5FKrMuqPiB3XJxovN2iJ\n",
              "g8KliMgVO1tWzS8X7QXg3us7clOvyCu+b+PGnuWpOZp5KSIA1F60S3ySm7TEQeFSROSK2Gx2frlo\n",
              "L4UXaugeGch/TejZrPuP7N6e8LY+FJXXsPGwZl6KCGw7VsT5ilrCAny4rlOo0eU4jMKliMgV+MfW\n",
              "E2w6chZfLzNv3JOCn7elWff3tpiZ0jDzcvHu7JYoUURcTNPg9D5RbtMSh2sIl/Pnz8dkMrF8+XIA\n",
              "CgoKGDduHImJifTp04fNmzc7qkYREUPtyynhpTWHAHh+Ui+6RQZe1eNMbZx5ebCAogvVDqtPRFxP\n",
              "rdXGGjfbJd7oqsJlVlYW7777LkOGDGn63KxZsxgyZAhHjx5l/vz53HPPPdTW1jqsUBERI1TU1PHo\n",
              "h6nUWu3c0iuSH10Xf9WP1SMqiKSYYOpsdj5Oy3VglSLiarZmFlJSWUt4Wx+u6+Qeu8QbNTtc2mw2\n",
              "HnjgAd544w18fX2bPr9w4UIefPBBAAYNGkSHDh3YtGmT4yoVETHAb1cc4PjZcqKC/Hhpal9Mpu8e\n",
              "O/R9Gjf2aNe4iGe7uCVu+Z5xZq6m2eFyzpw5DB06lAEDBjR9rqioiNraWqKiopo+l5CQwKlTpy77\n",
              "GNXV1ZSWll5ys1qtV1G+iEjLWZV+ho92ZWMywZw7+9EuwOeaH/O2fh3wsZg5cKaU/bklDqhSRFxN\n",
              "Td1Fg9OTOhhcjeM1K1zu27ePJUuW8Pzzz1/TD509ezbBwcGX3Hbs2HFNjyki4kinz1cwa2k6AA+P\n",
              "6sINXcId8rjtAny4qVcEAEt26zhIEU+09VghpVV1hLf1ZbAb7RJv1KxwuWXLFrKyskhMTCQhIYHt\n",
              "27czc+ZMFi5ciJeXF3l5eU3fm5WVRXz85a9Neu655ygpKbnkNnjw4Gt7JiIiDlJntfH4h2mUVdWR\n",
              "HBfC4zd1c+jjN828TMuhpk4zL0U8TWNLfEKS+7XEoZnh8qGHHuLMmTNkZWWRlZXFkCFD+Otf/8pD\n",
              "Dz3E9OnTefvttwHYuXMnOTk5jBw58rKP4+vrS1BQ0CU3i6V5Yz1ERFrKG19ksuvkedr6evH6XSl4\n",
              "O3hEyIjE9oS39eVceQ0bDhc49LFFxLld2hJ3r13ijRz2jvnSSy/x1VdfkZiYyIwZM/jggw/w9vZ2\n",
              "1MOLiLSKHSfO8cYXRwH4w5Q+xIf5O/xneFnM3NG/cealNvaIeJIvM89SVlVHRKAvAxPcryUO4HUt\n",
              "d964cWPTf0dGRrJ27dprrUdExDAlFbU8/mEqNjvc0T+GyckxLfazpg2I5a+bj7PhUAGFF6oJb+v7\n",
              "/XcSEZe3sqklHu2WLXHQCT0iIgDY7XaeW5ZObkkVCWH+/G5ynxb9ed0iA+kXq5mXIp6kus7Kuv35\n",
              "gPsNTr+YwqWICPDRzmw+zcjDy2xi3l0ptPW9psbOFdHMSxHPsuVIIWXVdUQG+TIgvp3R5bQYhUsR\n",
              "8XiZBRf47ScHAPjl2O70iwtplZ97a8PMy4NnStmXo5mXIu5uVUZ9S3x8n2jMbtoSB4VLEfFw1XVW\n",
              "Hl2QSmWtlWFdw5k5vHOr/ewQfx9u7hUJaPVSxN1V1Vr5/EB9S3ySG7fEQeFSRDzcS6sPc+BMKaEB\n",
              "Psz5Qb9WX01obI1/rJmXIm5ty9H6lnhUkB/93bglDgqXIuLBNhwu4B9bTwDwyrS+RAT5tXoNwxPD\n",
              "iQj05XxFLV8c0sxLEXe1Kr1+496EJPduiYPCpYh4qIKyKn65cC8AM25IYEzPSEPq8LKYmaKZlyJu\n",
              "rarWyroD7r9LvJHCpYh4HJvNzlML91JUXkOPqEBmje9haD3T+te3xjccLuBsWbWhtYiI4206cpby\n",
              "Gisdgv1IaaUNg0ZSuBQRj/P3L0+w5Wghft5m3rg7BT9vY4+fTYwMpF9cCFabnY/TcgytRUQcb9VF\n",
              "g9PdvSUOCpci4mEyTpfw8meHAPjVpF4kRgYaXFG9xo09i3adxm63G1yNiDhKVa2Vzw96TkscFC5F\n",
              "xIOUV9fx6Iep1FrtjOsdxT2D440uqcltfTvg42XmcH4Z+3NLjS5HRBxk4+ECKmqsxIS0IdkDWuKg\n",
              "cCkiHuQ3K/ZzorCc6GA//jg1CZPJedpTwf7e3KKZlyJu599niUc51XtOS1K4FBGP8MneXBbtPo3J\n",
              "BHPvTCbE38fokr6hsTW+PC2H6jqrwdWIyLWqrLE2jRib2LeDwdW0HoVLEXF72ecq+K+lGQA8Mror\n",
              "QzqHGVzR5Q1PbE9kkC/FFbV8cVAzL0Vc3cUt8X6xwUaX02oULkXErdVZbTz2YSpl1XX0jw/hsTGJ\n",
              "Rpf0rSxmE1NS6lcv1RoXcX0rG84Sn9Q32mNa4qBwKSJu7vX1R9lzqphAXy/m3ZWCl8W53/YaW+Mb\n",
              "j5yloKzK4GpE5GpV1NQ1dSA8ZZd4I+d+lxURuQZfHy/izxsyAfjDHUnEhfobXNH36xrRlpT4hpmX\n",
              "qblGlyMiV2nDobNU1lqJC21DUozntMRB4VJE3FRxRQ2Pf5SGzV6/GnhbP9e5mL5x9XLxbs28FHFV\n",
              "qzLqfzmcmNTBo1rioHApIm7Ibrcza0kGZ0qq6BQewG9v6210Sc0y6aKZlxk5JUaXIyLNVF5d17RL\n",
              "fJKHtcRB4VJE3NCCHdms2Z+Ht8XE63elEODrZXRJzRLcxpuxvaMAbewRcUVfHCqgqtZGxzB/encI\n",
              "MrqcVqdwKSJu5Wh+Gb9buR+Ap8d2J8lFx39Mb2iNf5yWq5mXIi7m4rPEPa0lDgqXIuJGqmqt/GJB\n",
              "KlW1NoYnhvPAsM5Gl3TVhnYNJyrIj5LKWtZr5qWIyyivrmPD4YZd4kme1xIHhUsRcSN/XH2IQ3ll\n",
              "hAX48NoP+mE2u+6KgcVs4o7+MYBa4yKuZP2hAqrrbCR4aEscFC5FxE18cSiff36VBcCr0/sREehn\n",
              "bEEOMLVx5uXhAgpKNfNSxBWsSm/YJe5hg9MvpnApIi6voLSKXy5KB+DHQxMY3SPC4Ioco0v7tvSP\n",
              "D8Fmh2WpOUaXIyLf40J1HRsOnwXqRxB5KoVLEXFpNpudJxfu5Vx5DT2jg5g1vofRJTnU9IFxgGZe\n",
              "iriC9Qfzqamz0Tk8gJ7RgUaXYxiFSxFxae9uOc6XmYX4eZt54+5kfL0sRpfkUBP7RuPrZeZowQXS\n",
              "T2vmpYgzW9mwS9yTW+KgcCkiLiz9dDGvfHYYgF/f2puuEe63UhDk5824Ppp5KeLsyqpq2dTYEvfA\n",
              "wekXU7gUEZd0obqORxekUmezM75PFHcNijO6pBYzrWnmZQ5VtZp5KeKMPj+YT43VRuf2AXSPdL9f\n",
              "dJtD4VJEXNKvP95PVlEFHYL9+OMdfd26BXVDl3Cig/0orarj84P5RpcjIpfRODh9kocOTr+YwqWI\n",
              "uJyP03JYsuc0ZhP86a4Ugv29jS6pRWnmpYhzK62qZfORQgAm9vXcXeKNFC5FxKVkn6vg+WX7AHhk\n",
              "dFcGdwo1uKLWMW1Afdt/85Gz5GvmpYhT+fxAfUu8a0RbukW2NbocwylciojLqLXaePTDVMqq6xjQ\n",
              "sR2Pjkk0uqRW0yk8gIEd22nmpYgTamyJT1RLHFC4FBEXMu/zo6SeKibQz4s/3ZmMl8Wz3sIaN/Zo\n",
              "5qWI8yiprGXzUe0Sv5hnvTOLiMvadqyIv2zMBODFKUnEhfobXFHrm9A3Gj9vM5kFF0jLLja6HBEB\n",
              "1h3Ip9Zqp1tkW7p5+C7xRgqXIuL0zpfX8MRHadjtMH1ALLf288wL5oP8vBnXWzMvRZxJ01niHnzc\n",
              "439SuBQRp2a323l2STp5pVV0Dg/gN7f1NrokQzUeB7lib65mXooYrKSili1HG3eJRxlcjfNQuBQR\n",
              "p/avr0+x9kA+3hYTr9+dQoCvl9ElGer6zmF0CPajrKqOdQc081LESJ8dyKPOZqd7ZKBbnhB2tRQu\n",
              "RcRpHckv4/crDwDwzNge9IkJNrgi45nNJqZetLFHRIyz6qKzxOXfFC5FxClV1Vp5dEEq1XU2hieG\n",
              "c/+wTkaX5DSm9q8Pl1uOniWvRDMvRYxQXFHD1sz6lviEJIXLiylciohTmv3pQQ7llRHe1ofXftAP\n",
              "s1mz4xolhAcwKKF+5uXSVK1eihhh7f586mx2ekQF0jVCg9Mv1uxwecstt9C3b1+Sk5MZPnw4qamp\n",
              "ACQkJNC9e3eSk5NJTk7mo48+cnixIuIZPj+Qz/9uOwnAK9P7ERHoZ3BFzmd6w4k9mnkpYoyVGQ1n\n",
              "iasl/g3NvjJ+4cKFhISEALBs2TJmzJjB3r17Afjoo49ITk52ZH0i4mHyS6t4enH9e8pPhnZidPcI\n",
              "gytyThP6RvPrFfs5frac1Oxi+se3M7okEY9xvlwt8e/S7JXLxmAJUFJSomOORMRhbDY7Ty5M43xF\n",
              "Lb2ig3h2fHejS3JabX29GN9HMy9FjPDZ/jysNju9ooPo3F4t8f90Vddc3nvvvcTFxfGrX/2K999/\n",
              "/5LPJyUlcf/993P27NlvvX91dTWlpaWX3KxWzWsT8XTvbD7O1swi2nhbeP3uFHy9LEaX5NQaj4P8\n",
              "RDMvRVrVqgztEv8uVxUu33vvPbKzs3nhhRd49tlnAdi8eTPp6ens2bOH8PBw7rvvvm+9/+zZswkO\n",
              "Dr7ktmPHjqt7BiLiFtKyi3lt7WEAfn1rL10gfwWGdA4jJqQNZVV1fLY/z+hyRDxC0YVqvjpWBMBE\n",
              "tcQv65p2i993331s2LCBoqIi4uPjAfD29ubxxx9ny5Yt33q/5557jpKSkktugwcPvpZSRMSFXaiu\n",
              "47EPU6mz2ZmQFMWdg+KMLsklaOalSOv7bH8+Vpud3h2CSAgPMLocp9SscFlcXExubm7Tx8uXLycs\n",
              "LAw/Pz+Ki4ubPr9gwQJSUlK+9XF8fX0JCgq65GaxqP0l4qn+Z/k+ThZVEBPShtlT+upa7maY2j8G\n",
              "gC8zCzlTUmlwNSLu71O1xL9Xs3aLl5SUMH36dCorKzGbzbRv356VK1eSn5/P1KlTsVqt2O12Onfu\n",
              "zHvvvddSNYuIG1memsPS1BzMJvjTXckE+3sbXZJL6RgWwOBOoew4cY6le3L4+eiuRpck4rbqW+IN\n",
              "Z4mrJf6tmhUuO3bs+K3XRjbOuxQRuVKniip4fvk+AH5xYyKDEkINrsg1TRsQy44T51i8+zQPj+qi\n",
              "lV+RFrJmfx42OyTFBNMxTC3xb6MTekTEELVWG7/4MJUL1XUM7NiOX9yoFberNSEpmjbeFk4UlrPn\n",
              "1HmjyxFxWzpL/MooXIqIIeauO8Le7GIC/bz4013JeFn0dnS12vp6NQ1y1sYekZZxtqya7ce1S/xK\n",
              "6N1cRFrdV5mFvLXpGAB/vKMvse38Da7I9TXOvFy59wyVNZp5KeJojS3xfrHBxIXqPeu7KFyKSKs6\n",
              "V17DEwvTsNvhzoFxai85yHWdQolt14ay6jrWHtDMSxFHW5VePy1H71nfT+FSWkVBWRWzlqTz38sy\n",
              "yCnWuBRPZbfbeWZxOvml1XRuH8Cvb+tldEluw2w2MbV//erlol1qjYs4UkFZFV+fOAfoLPEroXAp\n",
              "Lcput/PRzlPc9NomPtyZzb++PsXoVzby+5UHOFdeY3R50so+2H6Szw/m42Mx8/pdKfj7NGtghXyP\n",
              "xtb41mOF+iVOxIHW7MvDbod+cSG6jOcKKFxKizlRWM7d727n2SUZlFbV0ScmiCGdQ6mx2vj7lycY\n",
              "8fIG5n1+lPLqOqNLlVZwOK+MF1YdBOCZcd3pExNscEXuJy7UnyGdQ7HbYdkerV6KOErjLvFJWrW8\n",
              "IgqX4nC1Vht/2ZDJ2D9tZvvxc/h5m/nvCT1Z/vBQFvx0CO/9ZDC9OwRxobqOuZ8fYcTLG/jn1hNU\n",
              "12kTgruqqrXyiwV7qK6zMbJbe34ytJPRJbmtaQPqj85cvPs0drvd4GpEXF9BaRU7supb4uOTogyu\n",
              "xjUoXIpD7c0u5tY3vuSVzw5TU2djeGI4ax8fyU9HdMbLYsZkMjGiW3s+eWQYb9ydQkKYP0XlNfzm\n",
              "kwOMeW0TS/ecxmrTP4ju5g+rDnIk/wLhbX15dXo/zGYN+W4p4/tE4e9jIauogt0nNfNS5FqtbmiJ\n",
              "p8SrJX6lFC7FIcqr6/jdJweY8uZWDuWVEeLvzWvT+/HeTwYTH/bN/xnNZhO39uvAuidH8ocpfYgI\n",
              "9OX0+UqeXLiXia9vYf3BfK26uIm1+/N4f/tJAF77QT/aB/oaXJF7C9DMSxGHahqcrpb4FVO4lGu2\n",
              "8XABt8zdzD+2nsBmh8nJHfj8yZFMHRD7vcfQeVvM/PC6jmx6ejTPjOtOoJ8Xh/LKuP9/dzH97W3s\n",
              "bGhFiGvKK6nimSXpADwwrBMju7U3uCLP0DTzMv0MFTW6plnkauWVVLHzpHaJN5fCpVy1ogvVPP5h\n",
              "KjPm7ySnuJKYkDbM//Eg5t2VQnjb5q1OtfGx8PCormx5ZjQPjuyCr5eZXSfPM/3tbdz/z50cPFPa\n",
              "Qs9CWorVZueJj9Iorqild4cgnh7X3eiSPMbghFDiQ/25UF3HZ/s181Lkaq3edwa7HQZ0bEeHkDZG\n",
              "l+MyFC6l2ex2O0v3nOamOZtYnpaLyQQ/GdqJtU+MYHT3iGt67BB/H2aN78Gmp0dz9+B4LGYT6w8V\n",
              "MOH1LTzxURrZ5yoc9Cykpb296RjbjhfRxtvC63en4OtlMbokj3HxzEu1xkWunlriV0fhUpol+1wF\n",
              "9/5jB08u3Mv5ilp6RAWy7OGh/M+tvQjwddzMwqhgP2bfkcS6J0YwsW90/WiV1BxufG0jv1mxn7Nl\n",
              "1Q77WeJ4qafOM2fdEQB+e1tvurRva3BFnueO/jEAfHWsiNPn9UuZSHOdKalkV8OmOO0Sbx6FS7ki\n",
              "dVYbf9tynFvmbmbL0UJ8vMw8PbY7n/xiGMlxIS32czu3b8tf7unPikeGMjwxnFqrnX9+lcXIVzYw\n",
              "Z+1hyqpqW+xny9Upq6rl0Q9TsdrsTOwbzfSBsUaX5JHiQv25vnNYw8zLHKPLEXE5n2bUX1IysGM7\n",
              "ooPVEm8OhUv5XvtzS5jy5le8sOoglbVWrusUyprHhvPz0V3xtrTOX6G+sSG8f/91/OuB6+gXG0xF\n",
              "jZXXv8hkxMsb+NuW41TVakams/jV8n1kn6u/BvfFKUnfu6lLWk7jxp7FezTzUqS5Ps1oaInrLPFm\n",
              "U7iUb1VVa+WlNYe47c9bycgpIdDPiz/ekcSCnw6hs0FtzqFdw1n+86G89cP+dG4fwPmKWl5YdZAb\n",
              "X93Iwl3Z1FlthtQl9ZbuOc3ytFzMJph3VzLBbbyNLsmjjU+KIsDHwsmiCnZmaealyJXKLa5k98nz\n",
              "mEwwvo/CZXMpXMplfZVZyLg/beatjcew2uyM7xPF+idHctfgeMMHYJtMJsYnRbP28RG8NDWJqCA/\n",
              "ckuqeGZxOuPmbeGz/XlapTFAVmE5v1q+D4DHxnRjYEKowRWJv49X06rL4t3ZBlcj4joaVy0HdQwl\n",
              "KtjP4Gpcj8KlXKK4ooZnFu/lnr99TVZRBZFBvvz1/w3grR8NICLIuf4H87KYuXNQPBufHsV/TehB\n",
              "cBtvMgsu8LP3dzPlza/YdqzI6BI9Rk2djcc+TKW8xsrghFAeubGr0SVJg8bjIFdp5qXIFVullvg1\n",
              "UbgUoH680Mr0XG6as4mFu+pHl/xoSDzrnhzJLb2de5ecn7eFmSO6sPmZ0TwyuittvC2kZRdz97vb\n",
              "ufcfO9iXU2J0iW5vzroj7D1dQpCfF3PvSsai4x2dxqCEdsSH+lNeY2XNPs28FPk+p89XkHqquKEl\n",
              "7tz//jkrhUsht7iSn763i0f+L5XCCzV0aR/Aogev54Xbkwjyc51r5oLbePPLsd3Z9Mwo/t+QjniZ\n",
              "TWw+cpZJb3zJLxakklVYbnSJbmlrZiHvbD4GwEtT+xKjQcNOxWQyNW3sWbRLMy9Fvs/qhl3igxNC\n",
              "na5j5yoULj2YzWbnvW1Z3DxnE58fLMDbYuKxMYl8+thwBrnw9XIRgX78/vY+rH9qJJOTOwDwyd76\n",
              "Vdn/XpZBQWmVwRW6j6IL1TzxURp2O9w9OI7xGjTslO7oH4PJBNuOF+kgApHvsbKhJT5JLfGrpnDp\n",
              "oY7klzHt7a/4n4/3U15jpX98CKseHc4TN3dzm5NUOoYFMO+uFFY9OoxR3dtTZ7Pzr69PMeKVDby8\n",
              "5hAllZqReS3sdjvPLkmnoKyaLu0D+NWkXkaXJN8itp0/N3QJA2CpZl6KfKvscxXsza5viY9VS/yq\n",
              "KVx6mOo6K3PWHWHi61vYc6qYAB8Lv5vcm8UP3kC3yECjy2sRvTsE888fD+bDmUPoHx9CVa2NNzce\n",
              "Y8TLG3h70zHNyLxK7207yecHC/CxmHnj7v74+zjuhCZxvH/PvMzGZtM0BZHLadwlfl2nUCIC1RK/\n",
              "WgqXHmRX1jkmzNvC6+uPUmu1c1PPCNY9OZJ7r08wfLxQaxjSOYwlD93Au/cOpFtkW0oqa/nj6kOM\n",
              "fGUDC3ac0ozMZjh4ppQ/fHoQgFnje9CrQ5DBFcn3Gds7ira+XmSfq2Rn1jmjyxFxSv8enN7B4Epc\n",
              "m8KlByitquX55RlMe3sbx86WE97Wl7/c05937x1IBw/bfGEymbi5VySrHxvBq9P7ERPShvzSap5b\n",
              "msEtczezKv2MZmR+j8oaK48uSKWmzsbo7u358dAEo0uSK+Dv48XEhmtiF+3Wxh6R/5R9roK9p0sw\n",
              "m2Cck09JcXYKl25u7f48bp6ziQ+2nwLgzoFxrH9yJBP7Rnv0sXwWc/0O2i9+OZL/mdSL0AAfjheW\n",
              "8/P/28Ntf97Kl0cLjS7Rab2w6gBHCy4Q3taXV6b38+i/R65mWsM5759mnKG8WjMvRS7WONtySOcw\n",
              "2gf6GlyNa1O4dFMFpVU89MFuZr6/m/zSahLC/Pm/n17HS9P6EuzvOuOFWpqvl4WfDOvEpqdH8diY\n",
              "RAJ8LGTklPCjv3/Nj/72Nemni40u0ams2ZfHv76u/0Vlzg/6Ed5Wb8CuZGDHdiSE+VNRY2W1Zl6K\n",
              "XGJVuganO4rCpZux2ews2HGKMXM2sXpfHhaziYdGdWHN4yO4oUu40eU5rUA/b564uRubnhnNj4cm\n",
              "4G0x8WVmIbf9eSsP/2s3x85eMLpEw50pqWTW0nQAZo7ozIhu7Q2uSJrr4pmXOg5S5N9OFpWTkaOW\n",
              "uKMoXLqR42cvcPe723luaQZlVXX0jQ1mxSNDeXZcD/y83WO8UEsLb+vLr2/tzRdPjWqaDfhpRh63\n",
              "zN3Mc0vTOVNSaXSJhrDa7Dz+YRrFFbUkxQTzy1u6G12SXKUp/WMxmWD78XOaeSnSoLElfkOXcMLU\n",
              "kblmCpduoNZq4y8bMhk3bwtfnzhHG28Lz0/sydKHbqB3h2Cjy3NJcaH+zPlBMmseG8FNPSOx2uws\n",
              "2JHNqFc2MvvTgxRX1BhdYqt6a2MmX584h7+PhdfvTsHHS28driompA1DG7oYS/ZoY48IqCXuaPoX\n",
              "wsWlZRdz6xtf8spnh6mpszGiW3vWPjGCB4Z3xsuiP95r1T0qkL/dN5DFD17PoIR2VNfZeGfzcYa/\n",
              "vIG/bMikosb9N0XsPnmeuZ8fBeC3t/WmU3iAwRXJtfp3a/y0Zl6KxztRWM7+3FIsZhNj1RJ3CKUP\n",
              "F1VeXcdvP9nPlDe3ciivjHb+3sy9sx//++NBxIX6G12e2xmYEMrCn13P/BmD6BEVSFlVHa98dpiR\n",
              "r2zk/e0nqXXTGZmlVbU89mEqVpudW/t1aAol4trG9o4i0NeL0+cr+fqEZl6KZ/u0qSUeRmiAj8HV\n",
              "uAeFSxe04XABt8zdzPytWdjtMCUlhs+fHMmUlFiNhWlBJpOJ0T0i+PTR4fzpzmTiQttwtqyaXy3f\n",
              "x01zNrFib65brQLZ7XaeX7aP0+criW3Xhj9M6aO/X26ijY+FSf3q23+LNfNSPFxTSzxJLXFHUbh0\n",
              "IUUXqnnsw1R+PH8nOcWVxIS04X9/Mpi5dybrAuRWZDabuD0lhvVPjuK3t/UmvK0PJ4sqeHRBKpPe\n",
              "+JKNhwvcYhD7kj05rNibi8VsYt5dKQT5aYSVO2lchV69TzMvxXMdP3uBA2fUEnc0hUsXYLfbWbL7\n",
              "NDfN2cTHabmYTXD/sE6sfWIEIzUOxjA+XmbuuyGBTU+P5qmbu9HW14sDZ0qZMX8nd/11O3tOnTe6\n",
              "xKt2orCc//l4HwCPj0lkQMd2BlckjtY/vh2dwgOoqLE2tQVFPE3j3/2hXcNpp5a4wyhcOrlTRRXc\n",
              "+48dPLVoL+craukZHcSyh4fyq0m9CPD1Mro8AQJ8vfjFmEQ2PzOaB4Z1wsfLzNcnznHHm18x871d\n",
              "HM0vM7rEZqmps/HoglQqaqxc1ymUh0d3NbokaQEXz7zUcZDiqVY2tMQnqSXuUAqXTqrOauOvm49x\n",
              "y582seVoIb5eZp4Z150VjwylX1yI0eXJZYQG+PD8pF5s+OUofjAwFrMJ1h7IZ+yfNvPLRXvJKXaN\n",
              "GZmvrT1MRk4JwW28mXtnMhazrrN0V42zXHecOMfJonKjyxFpVZkFFziUV4aX2cQtvSONLsetKFw6\n",
              "oX05Jdz+5lZe/PQQVbU2ru8cxprHR/DwqK54a7yQ04sJacPL0/qx9okRjO0dic1ev2li9Csb+f3K\n",
              "A5wrd94ZmVuOnuWdzccBeGlqXzqEtDG4ImlJ0cFtGNa1ceZljsHViLSuxpb4sMRwQvzVEnckJRUn\n",
              "UlljZfbqg0z+y1b25ZQS5OfFy1P78n8/vU6zBV1Q14hA3vl/A1n28A0M6RxKjdXG3788wYiXNzDv\n",
              "86NOt4mi6EI1Ty7cC8A918Uzro8ubvcEja3xJZp5KR5Gu8RbjsKlk9iaWci4eZt5Z9NxrDY7E5Oi\n",
              "+fypkfxgUJzGv7i4lPh2LPjpEN77yWB6dwjiQnUdcz8/woiXN/DPrSeorrMaXSJ2u52nF6dztqya\n",
              "xIi2/GpiL6NLklbSOPMyp7iS7SeKjC5HpFVkFpRxOL8Mb4uJW3rpF2lHa3a4vOWWW+jbty/JyckM\n",
              "Hz6c1NRUAI4ePcoNN9xAt27dGDRoEPv373d4se6ouKKGpxft5Yd/+5qTRRVEB/vxt3sH8pcf9ici\n",
              "0M/o8sRBTCYTI7q155NHhvHG3SkkhPlTVF7Dbz45wJjXNrF0z2msBq4a/fOrLL44VICPl5nX706h\n",
              "jY/OovcUft4WJvXrAMDiXdrYI55hVXoeAMO6hhPsrzFrjtbscLlw4ULS09NJS0vjySefZMaMGQD8\n",
              "7Gc/Y+bMmRw5coRnn3226fNyeXa7nRV7c7lpziYW7T6NyQT3Xt+RtU+M4KZeurDYXZnNJm7t14F1\n",
              "T47kD1P6EBHoy+nzlTy5cC8TX9/C+oP5rT4j80BuKbM/PQTAf43vQc/ooFb9+WK86QPrW+Of7jtD\n",
              "WVWtwdWItLxVGbkATOzbweBK3FOzw2VISEjTf5eUlGAymSgoKGDXrl386Ec/AmDq1KlkZ2eTmZnp\n",
              "sELdSU5xJff/7y4eXZBK4YUaEiPasvjB6/nd5D4EalC1R/C2mPnhdR3Z9PRonhnXnUA/Lw7llXH/\n",
              "/+5i+tvb2JnVOkfyVdZY+cWCPdRYbYzpEcF9NyS0ys8V55ISF0Ln9gFU1dpYnZFndDkiLepIfhlH\n",
              "8i/gbTFxsxZzWsRVDUq899572bBhAwCffvop2dnZREdH4+VV/3Amk4n4+HhOnTpF167fnJFXXV1N\n",
              "dXX1JZ+zWo2/7qylWW123t+WxSufHaa8xoqPxczPR3flwVGd8fVSG9ITtfGx8PCortwzOJ63Nx1n\n",
              "/tYT7Dp5nulvb2NMjwh+ObZ7i64k/m7lAY6dLSci0JeXp/XV9b0eqnHm5ctrDrN492l+MCjO6JJE\n",
              "WkzjRp4Rie0JbqMFnZZwVRt63nvvPbKzs3nhhRd49tlnm33/2bNnExwcfMltx44dV1OKyzicV8a0\n",
              "t7/iN58coLzGysCO7fj0sWE8dlOigqUQ4u/DrPE92PT0aO4eHI/FbGL9oQImvL6FJz5KI/tchcN/\n",
              "5pp9Z1iw4xQmE8z5gY4Q9XR3pNTPZt2RdY6sQs28FPdkt9tZ1TCCaGJf7RJvKde0W/y+++5jw4YN\n",
              "xMbGcubMGerq6ker2O12Tp06RXx8/GXv99xzz1FSUnLJbfDgwddSitOqqrUyZ+1hJr2xhdRTxbT1\n",
              "9eL3t/dh4c+up2tEoNHliZOJCvZj9h1JrHtiBBP7RmO3w7LUHG58bSO/WbGfs2XV3/8gVyC3uJJn\n",
              "l2QAMHNEZ4YlhjvkccV1RQX7MSyx/jjZJXu0sUfc05H8C2QWXMDHYtb+hhbUrHBZXFxMbm5u08fL\n",
              "ly8nLCyMiIgI+vfvzwcffADAkiVLiI2NvWxLHMDX15egoKBLbhaL+63e7Thxjgmvb+H1LzKptdq5\n",
              "uVck654cwf8b0hGzTj2R79C5fVv+ck9/VjwylOGJ4dRa7fzzqyxGvrKBOWsPX9OmC6vNzuMfpVFS\n",
              "WUvf2GCeurm7AysXVzZdMy/Fza1Kr88wI7q1J0h7HFpMs665LCkpYfr06VRWVmI2m2nfvj0rV67E\n",
              "ZDLxzjvvMGPGDF588UWCgoKYP39+S9Xs9Eqravnj6kP839enAGgf6MvvbuvNuD5RuqZNmqVvbAjv\n",
              "338dWzMLeXnNIfaeLuH1LzJ5f/tJfj66Kz8a0hE/7+b9YvaXDZnsOHGOAB8Lr9+Vgo+Xxt1KvZt7\n",
              "RRLo50VuSRXbjhcxtKtWtMV92O12Vja0xCepJd6imhUuO3bs+K3XRnbv3p1t27Y5pChXtmZfHr9e\n",
              "sY/80vr25d2D45g1rqfmaMk1Gdo1nOU/H8qafXm8svYwx8+W88Kqg/zjyxM8fnM37kiJwesKjgbd\n",
              "ffIc89YfBeB3k/uQoJOf5CJ+3hZu69eBf319isW7Tytcils5lFfG8bPl+HiZGdMzwuhy3JqWLBwk\n",
              "v7SKB9/fzYMf7Ca/tJpO4QF8OHMIs+/oq2ApDmEymRifFM3ax0fw0tQkooL8yC2p4pnF6Yybt4XP\n",
              "9ud954zMkspaHl2QhtVmZ3JyB+7oH9OK1YuraDwOcrVmXoqbaTxLfGS39hr718IULq+RzWbn/74+\n",
              "xU1zNrFmfx5eZhM/H92F1Y8NZ0jnMKPLEzfkZTFz56B4Nj49iv+a0IPgNt5kFlzgZ+/vZsqbX7Ht\n",
              "2DeP8LPb7fz3sgxyiiuJC23DC7f30SUaclnJcSF0aZh52TiyRcTV2e32pr/Paom3PIXLa3Ds7AXu\n",
              "+ut2/mtZBmVVdfSLDeaTXwzj6bE9mn0dnEhz+XlbmDmiC5ufGc0jo7vSxttCWnYxd7+7nXv/sYN9\n",
              "OSVN37to92lWpp/BYjYx764U/dYu38pkMjF9YP2cy8W7tWtc3MPBM2UcL2xsiWuXeEu7qiHqnq6m\n",
              "zsZfNx/j9fWZ1Fht+PtYeOqW7sy4IQGLdoFLKwtu480vx3bn3hs68sb6TBbsOMXmI2fZfOQst/br\n",
              "wNT+MfxmxX4Anrgpkf7x7QyuWJzdlJQYXl5ziF0nz3OisJxOujZXXFzjcY+ju7enra+iT0vTymUz\n",
              "pZ46z61vfMmra49QY7Uxqnt71j4xgvuHdVKwFENFBPrx+9v7sP6pkUxOrj8v95O9ucyYv5OKGitD\n",
              "Oofy0KjLjwcTuVhkkB8jujXMvNTqpbi4i1viOku8dShcXqEL1XX8ZsV+7njrKw7nlxEa4MO8u5KZ\n",
              "P2MQse38jS5PpEnHsADm3ZXCqkeHMap7fUBo5+/N3DuT9QuQXLHGjT1L9pzGqpmX4sL255aSVVSB\n",
              "r5eZMT20S7w1aG34CnxxKJ/nl+0jt6QKgDv6x/D8xF6EBvgYXJnIt+vdIZh//ngwh/JKCWnjQ1Sw\n",
              "n9EliQu5qWckQX5enCmpYtuxIp3iJC6r8bjHG3tEEKCWeKvQq/wdCi9U89tPDvDJ3vprNeJC2/Di\n",
              "lCSGNxyRJuIKekQFGV2CuCA/bwu3JXfgg+2nWLQ7W+FSXNLFLfEJSdol3loULi/DbrezZE8OL6w6\n",
              "QHFFLWYT3D+sE0/c3A1/H71kIuIZpg+I44Ptp1izL4/SqlodlycuZ19OKafOVeDnbeZGtcRbjZLS\n",
              "fzhZVM5/L9vHl5mFAPSKDuKlqX1Jig02uDIRkdbVNzaYxIi2HC24wKr0M9w9ON7okkSaRS1xY2hD\n",
              "T4M6q413Nh1j7J8282VmIb5eZmaN78HHjwxVsBQRj2QymZo29mjmpbgau93eNIJoYpJ2ibcmxXhg\n",
              "X04Jzy5JZ39uKQA3dAnjxSlJOndZRDzelJQYXlpziN0nz3P87AU6t29rdEkiVyQjp4Tsc5W08bYw\n",
              "uof2SrQmj165rKyx8uKnB5n8l63szy0luI03r0zry78euE7BUkQEiAjyY2TDzEutXooradzIc2PP\n",
              "CO2XaGUeGy6/PFrI2D9t5q+bj2O12ZnUN5rPnxzJ9IFxOnNZROQijcdBLt2To5mX4hLsdjsrG88S\n",
              "1y7xVudxUb64oobfrzzIkj31v4FHB/vxwu19dNaoiMi3GNMzguA23uSVVrE1s7Dp9B4RZ7X3dAk5\n",
              "xZX4+1gY1V27xFubx61cltdYWb3vDCYTzLghgXVPjlSwFBH5Dr5elqYjRdUaF1ewKr1+I8+YnpG0\n",
              "8bEYXI3n8biVy5iQNvxxal9i27Whf3w7o8sREXEJ0wbE8t62k3y2P4+SylqC22jmpTinS84ST4oy\n",
              "uBrP5HErlwC39eugYCki0gxJMcF0i2xLdZ2NlQ2rQiLOKDW7mNySKrXEDeSR4VJERJrHZDIxfUD9\n",
              "xh61xsWZfdqwanlTz0j8vNUSN4LCpYiIXJHJKR2wmE2knioms+CC0eWIfIPNZufThlN5JvbVLnGj\n",
              "KFyKiMgViQj0Y1TDTvHGiRsizqSxJR7gY2mazyqtT+FSRESuWONxkEv3nNbMS3E6jRt5bu6llriR\n",
              "FC5FROSK3dgzghB/b/JLq9ly9KzR5Yg0ubQlrrPEjaRwKSIiV8zXy8LtyTGANvaIc9lz6jx5pVUE\n",
              "+noxPDHc6HI8msKliIg0S2NrfO2BfEoqag2uRqTeSrXEnYbCpYiINEvvDkH0iAqkps7GJ5p5KU7g\n",
              "4pb4BJ0lbjiFSxERaRaTydS0eqnWuDiDXSfPU1BWXd8S76aWuNEULkVEpNkmJ8dgMZtIyy4ms6DM\n",
              "6HLEwzWuWt7cOxJfL7XEjaZwKSIizdY+0JfRDUfrLdLqpRjIelFLfJIGpzsFhUsREbkqja3xZXty\n",
              "qLPaDK5GPNWurHP1LXE/L4Z11eB0Z6BwKSIiV+XGHhG08/emoKyaLZmFRpcjHmpVw6rl2N5R+Hgp\n",
              "1jgD/SmIiMhV8fEyM1kzL8VA9S3xPEBniTsThUsREblqja3xdfs181Ja344T5yi8UE1wG2+GdtEu\n",
              "cWehcCkiIletT0wwPaODqLHaWLE3x+hyxMOsyqifszq2d6Ra4k5EfxIiInJNNPNSjGC12Vmzr74l\n",
              "rsHpzkXhUkRErsnk5A54mU3sPV3CkXzNvJTW8fWJIgov1NS3xLuqJe5MFC5FROSahLf1ZXSP+pmX\n",
              "S7R6Ka1kVcNZ4uN6R+FtUZxxJvrTEBGRa9bYGl+aqpmX0vLqrLamlrh2iTsfhUsREblmN/aIICzA\n",
              "h7Nl1Ww+etbocsTNfX3iHEXlNbTz9+b6LmFGlyP/QeFSRESumbdFMy+l9axsbIn3UUvcGelPRERE\n",
              "HKKxNf75gQLOl9cYXI24q/qWeH24nJjUweBq5HKaFS6rqqq4/fbb6datG/369ePmm28mMzMTgFGj\n",
              "RtGpUyeSk5NJTk5m7ty5LVKwiIg4p14dgujVMPPyk/Rco8sRN7XteBHnK2oJDfBhSOdQo8uRy2j2\n",
              "yuXMmTM5fPgwe/fuZfLkyTzwwANNX5s7dy5paWmkpaXxxBNPOLRQERFxfpp5KS2tcZf42N5ReKkl\n",
              "7pSa9afi5+fHhAkTMJlMAAwZMoSsrKyWqEtERFzQ7SkxeFtMpJ8u4XCeZl6KY9VabazZX79LfJJ2\n",
              "iTuta4r88+bNY/LkyU0fz5o1i6SkJO68806OHz/+rferrq6mtLT0kpvVar2WUkRExAmEBvhwY8PM\n",
              "y8W7sw2uRtzNtmNFFFfUEhbgw3Wd1BJ3VlcdLl988UUyMzOZPXs2AO+//z6HDh0iPT2d4cOHM2nS\n",
              "pG+97+zZswkODr7ktmPHjqstRUREnMi0AXEALEvNpVYzL8WBVl20S1wtced1VX8yr776KkuXLmX1\n",
              "6tX4+/sDEBdX/2ZiMpl45JFHOH78OEVFRZe9/3PPPUdJScklt8GDB1/lUxAREWcyqnt7wgJ8KLxQ\n",
              "zeYjmnkpjnFxS1yD051bs8PlnDlzWLBgAevWrSMkJASAuro68vPzm75nyZIlREZGEhZ2+cGmvr6+\n",
              "BAUFXXKzWCxX9wxERMSpeFvM3J6imZfiWFszCymprCW8rQ/XddLgdGfm1ZxvPn36NE899RSdO3dm\n",
              "9OjRQH1Q/OKLL5g4cSLV1dWYzWbCw8NZsWJFixQsIiLOb9qAWP7+5Qk+P5jPufIaQgN8jC5JXFxj\n",
              "S3x8n2gsZpPB1ch3aVa4jI2NxW63X/Zru3btckhBIiLi+npGB9EnJoh9OaWsSMthxtBORpckLqym\n",
              "zsZnaom7DF0NKyIiLWJa/4aZl3vUGpdrszWzkNKqOtoH+jIoQbvEnZ3CpYiItIjbkutnXu7LKeXg\n",
              "mVKjyxEXtrKpJR6llrgLULgUEZEWERrgw5gekQAs0cYeuUrVdVbWHmhoiSepJe4KFC5FRKTFNB4H\n",
              "uTwtRzMv5apszSykrKqOiEBfBqol7hIULkVEpMWM7N6e8La+FF6oYeNhzbyU5mtsiU9I0i5xV6Fw\n",
              "KSIiLcbbYmZKSgdAx0FK81XXWVm3v36OtnaJuw6FSxERaVFTG1rj6w8WUHSh2uBqxJVsOVJIWXUd\n",
              "kUG+DIhvZ3Q5coUULkVEpEX1iAoiKSaYOpudFXtzjS5HXMiqjH+3xM1qibsMhUsREWlxjRt7dByk\n",
              "XKmqWivrDtS3xCepJe5SFC5FRKTF3davAz4WM/tzSzmQq5mX8v02HznLheo6ooP9SIlTS9yVKFyK\n",
              "iEiLaxfgw029IgCtXsqVaWyJj++jlrirUbgUEZFWcfHMy5o6zbyUb1dVa+XzA9ol7qoULkVEpFWM\n",
              "SKyfeXmuvIaNhwuMLkec2KYjZymvsdIh2I+UuBCjy5FmUrgUEZFW4WUxc0f/GECtcfluq9K1S9yV\n",
              "KVyKiEiraWyNf3GogELNvJTLqKq18vlBtcRdmcKliIi0mm6RgfSLrZ95+XGaZl7KN208XEBFjZWY\n",
              "kDYkqyXukhQuRUSkVWnmpXyXxrPEJ/aNxmRSS9wVKVyKiEirurVh5uXBM6Xszy0xuhxxIpU1VtYf\n",
              "rN/sNTFJLXFXpXApIiKtKsTfh5t7RQJavZRLbThcQGWtldh2begbG2x0OXKVFC5FRKTVTRtY3xr/\n",
              "OC1XMy+lSeMu8YlJaom7MoVLERFpdcO7hhMRWD/z8otDmnkpUFFTx/pD2iXuDhQuRUSk1XlZzEzR\n",
              "zEu5yIZDZ6mqtREX2oakGLXEXZnCpYiIGGJa//rW+IbDBZwt08xLT7cqo3401cSkDmqJuziFSxER\n",
              "MURiZCD94kKw2ux8nJZjdDlioPLquqbLIyapJe7yFC5FRMQw0y+aeWm32w2uRozyxaECqmptdAzz\n",
              "p3eHIKPLkWukcCkiIoa5tW8HfLzMHMorY39uqdHliEG0S9y9KFyKiIhhgv29uUUzLz3aheo6Nhxu\n",
              "GJyulrhbULgUERFDNR4HuTwth+o6q8HVSGtbfzCf6jobncID6BWtlrg7ULgUERFDDU9sT2SQL8UV\n",
              "tWzQzEuP09gSn5AUpZa4m1C4FBERQ1nMJu5oGEu0aJda457kQnUdG4+cBepHEIl7ULgUERHDTW0I\n",
              "lxuPnKWgrMrgaqS1rD+YT02djc7hAfSMDjS6HHEQhUsRETFc14i2pMQ3zLxMzTW6HGklKxt3iffV\n",
              "LnF3onApIiJOYZpmXnqUsqpaNh1uaIlrl7hbUbgUERGnMKlvB3y9zBzOL2NfjmZeurvPD+ZTY7XR\n",
              "pX0A3SPVEncnCpciIuIUgtt4M7Z3FACLd2cbXI20tKbB6X11lri7UbgUERGn0dga/3hvrmZeurGS\n",
              "ylo2HykEdJa4O1K4FBERpzG0azhRQX4UV9Sy/qBmXrqrzw/Ut8S7RrSlm1ribkfhUkREnEb9zMsY\n",
              "QMdBurNVGf8+S1zcj8KliIg4lakNrfFNR85SUKqZl+6mpLKWLUe1S9ydKVyKiIhT6dK+Lf0bZl4u\n",
              "T8sxuhxxsHUH8qm12ukWqZa4u1K4FBERpzN9YBxQfxykZl66l1Xp9UPyddyj+2pWuKyqquL222+n\n",
              "W7du9OvXj5tvvpnMzEwACgoKGDduHImJifTp04fNmze3SMEiIuL+JvaNxtfLzNGCC6SfLjG6HHGQ\n",
              "kopathyt3yU+sW+UwdVIS2n2yuXMmTM5fPgwe/fuZfLkyTzwwAMAzJo1iyFDhnD06FHmz5/PPffc\n",
              "Q21trcMLFhER9xfk5824Po0zL7Wxx118diCPOpudHlGBdI1QS9xdNStc+vn5MWHChKZhp0OGDCEr\n",
              "KwuAhQsX8uCDDwIwaNAgOnTowKZNmxxbrYiIeIzGmZcr9uZSVauZl+6gaXC6dom7tWu65nLevHlM\n",
              "njyZoqIiamtriYr69xJ3QkICp06duuz9qqurKS0tveRmteqNQ0RE/u2GLuFEB/tRUqmZl+7gfHkN\n",
              "WzPrW+ITtEvcrV11uHzxxRfJzMxk9uzZzb7v7NmzCQ4OvuS2Y8eOqy1FRETckMVsYmr/+tXLRToO\n",
              "0uWtvagl3qV9W6PLkRZ0VeHy1VdfZenSpaxevRp/f3/CwsLw8vIiLy+v6XuysrKIj4+/7P2fe+45\n",
              "SkpKLrkNHjz46p6BiIi4rcaZl5uPnCVfMy9d2sqGlriOe3R/zQ6Xc+bMYcGCBaxbt46QkJCmz0+f\n",
              "Pp23334bgJ07d5KTk8PIkSMv+xi+vr4EBQVdcrNYLFf3DERExG11Cg9gYMd22OywLFUzL13V+fIa\n",
              "vjpWBMAEXW/p9poVLk+fPs1TTz1FcXExo0ePJjk5meuuuw6Al156ia+++orExERmzJjBBx98gLe3\n",
              "d4sULSIinqNxY8/i3Zp56ao+25+H1WanV3QQndUSd3tezfnm2NjYb/0fOzIykrVr1zqkKBERkUYT\n",
              "+0bzm0/2k1lwgb2nS0iOCzG6JGmmprPE1RL3CDqhR0REnFqgnzfj+9SHkkW7tLHH1RRdqG5qiWsE\n",
              "kWdQuBQREaenmZeu67P9+VhtdvrEBJEQHmB0OdIKFC5FRMTpXd85jA7BfpRV1bHuQL7R5UgzrMrQ\n",
              "WeKeRuFSREScntlsahpLpOMgXUfhhWq2qSXucRQuRUTEJTQOVN9y9Cx5JZp56QrW7MvDZoekmGDi\n",
              "w/yNLkdaicKliIi4hITwAAYnhGrmpQtpOktcu8Q9isKliIi4jMaNPYt2Z2vmpZM7W1bN1yfUEvdE\n",
              "CpciIuIyJvSNpo23heNny0nNLja6HPkOa/bXt8T7xQYTF6qWuCdRuBQREZfR1teL8X2iAG3scXar\n",
              "0ht2iasl7nEULkVExKU0tsY/0cxLp1VQVsXXJ84BOkvcEylcioiISxnSOYyYkDaUVdWxVjMvndKa\n",
              "fXnY7ZAcF0JsO7XEPY3CpYiIuJSLZ17qOEjntLJhl/gktcQ9ksKliIi4nKn9YwD4MrOQMyWVBlcj\n",
              "F8svrWJnVn1LfLxa4h5J4VJERFxOx7AABncKxW6HpXs089KZrM44g90OKfEhxIS0MbocMYDCpYiI\n",
              "uKTGjT1Ldp/WzEsnsiqjYXC6Vi09lsKliIi4pIlJ0fj7WDheWM6eU8VGlyNAXkkVu06eB7RL3JMp\n",
              "XIqIiEsK8PVifJ/6ALN4tzb2OIPV++pb4gM6tqODWuIeS+FSRERcVmNrfOXeM1TWaOal0ZrOEteq\n",
              "pUdTuBQREZd1XadQYtu1oay6jrUH8owux6OdKalUS1wAhUsREXFhZrOJqf3rVy91HKSxPs2oD/eD\n",
              "EtoRFexncDViJIVLERFxaY2t8S8zC8kt1sxLozSdJa5VS4+ncCkiIi4tLtSfIZ0bZ15q9dIIOcWV\n",
              "7DlVjMmkwemicCkiIm5g2oA4oL41rpmXrW91w2zLQR1DiQxSS9zTKVyKiIjLG98nCn8fC1lFFexu\n",
              "2FQiradpcLrOEhfAy+gCRERErlWArxcTkqJZvPs0j32YRrQ2lLQaO5Da2BLvE2V0OeIEFC5FRMQt\n",
              "3D04nsW7T5NTXEmONva0umFdw4lQS1xQuBQRETcxoGM7lv98KHklCpatzWwycV2nMKPLECehcCki\n",
              "Im4jOS4E4kKMLkPEo2lDj4iIiIg4jMKliIiIiDiMwqWIiIiIOIzCpYiIiIg4jMKliIiIiDiMwqWI\n",
              "iIiIOIzCpYiIiIg4jMKliIiIiDiMwqWIiIiIOIzCpYiIiIg4jMKliIiIiDiMyW63240uAuCOO+4g\n",
              "ISGhVX6W1Wplx44dDB48GIvF0io/U/S6G0WvuzH0uhtDr7sx9Lobw4jXvWPHjjz22GPf+T1OEy5b\n",
              "U2lpKcHBwZSUlBAUFGR0OR5Dr7sx9LobQ6+7MfS6G0OvuzGc9XVXW1xEREREHEbhUkREREQcRuFS\n",
              "RERERBzGI8Olr68vv/71r/H19TW6FI+i190Yet2NodfdGHrdjaHX3RjO+rp75IYeEREREWkZHrly\n",
              "KSIiIiItQ+FSRERERBxG4VJEREREHMbjwuXRo0e54YYb6NatG4MGDWL//v1Gl+QRHn30URISEjCZ\n",
              "TKSlpRldjkeoqqri9ttvp1u3bvTr14+bb76ZzMxMo8vyCLfccgt9+/YlOTmZ4cOHk5qaanRJHmX+\n",
              "/PmYTCaWL19udCkeISEhge7du5OcnExycjIfffSR0SV5hOrqah555BESExNJSkriRz/6kdElNfEy\n",
              "uoDW9rOf/YyZM2cyY8YMFi9ezIwZM9i5c6fRZbm9adOm8cwzzzBs2DCjS/EoM2fOZPz48ZhMJv78\n",
              "5z/zwAMPsHHjRqPLcnsLFy4kJCQEgGXLljFjxgz27t1rbFEeIisri3fffZchQ4YYXYpH+eijj0hO\n",
              "Tja6DI8ya9YsTCYTR44cwWQykZeXZ3RJTTxq5bKgoIBdu3Y1pfupU6eSnZ2t1ZxWMGLECGJjY40u\n",
              "w6P4+fkxYcIETCYTAEOGDCErK8vYojxEY7AEKCkpafozkJZls9l44IEHeOONN5xuNIuII5WXl/P3\n",
              "v/+dP/zhD03vL1FRUQZX9W8eFS6zs7OJjo7Gy6t+wdZkMhEfH8+pU6cMrkyk5c2bN4/JkycbXYbH\n",
              "uPfee4mLi+NXv/oV77//vtHleIQ5c+YwdOhQBgwYYHQpHufee+8lKSmJ+++/n7Nnzxpdjts7duwY\n",
              "oaGhvPjiiwwcOJDhw4ezfv16o8tq4lHhUsRTvfjii2RmZjJ79myjS/EY7733HtnZ2bzwwgs8++yz\n",
              "Rpfj9vbt28eSJUt4/vnnjS7F42zevJn09HT27NlDeHg49913n9Elub26ujpOnjxJr1692LVrF6+/\n",
              "/jp33nkn+fn5RpcGeFi4jIuL48yZM9TV1QFgt9s5deoU8fHxBlcm0nJeffVVli5dyurVq/H39ze6\n",
              "HI9z3333sWHDBoqKiowuxa1t2bKFrKwsEhMTSUhIYPv27cycOZO33nrL6NLcXuO/od7e3jz++ONs\n",
              "2bLF4IrcX3x8PGazmR/+8IcApKSk0KlTJzIyMgyurJ5HhcuIiAj69+/PBx98AMCSJUuIjY2la9eu\n",
              "Blcm0jLmzJnDggULWLdu3SXXAUrLKS4uJjc3t+nj5cuXExYWRmhoqIFVub+HHnqIM2fOkJWVRVZW\n",
              "FkOGDOGvf/0rDz30kNGlubXy8nKKi4ubPl6wYAEpKSnGFeQhwsPDGTNmDJ999hkAJ06c4MSJE/Ts\n",
              "2dPgyup53G7xd955hxkzZvDiiy8SFBTE/PnzjS7JI/zsZz9j1apV5OXlMXbsWAIDA7WRqoWdPn2a\n",
              "p556is6dOzN69Gig/hzar7/+2uDK3FtJSQnTp0+nsrISs9lM+/btWblypTb1iFvKz89n6tSpWK1W\n",
              "7HY7nTt35r333jO6LI/w9ttvc//99/Pss89iNpt55513iImJMbosQGeLi4iIiIgDeVRbXERERERa\n",
              "lsKliIiIiDiMwqWIiIiIOIzCpYiIiIg4jMKliIiIiDiMwqWIiIiIOIzCpYiIiIg4jMKliIiIiDiM\n",
              "wqWIiIiIOIzCpYiIiIg4jMKliIiIiDjM/weKA2qqPu25IAAAAABJRU5ErkJggg==\n",
              "\">\n",
              "      </div>\n",
              "      <script type=\"text/javascript\">\n",
              "        (() => {\n",
              "          const chartElement = document.getElementById(\"chart-751c1041-0d4d-4cc7-b93c-cd76dabf8484\");\n",
              "          async function getCodeForChartHandler(event) {\n",
              "            const chartCodeResponse =  await google.colab.kernel.invokeFunction(\n",
              "                'getCodeForChart', [\"chart-751c1041-0d4d-4cc7-b93c-cd76dabf8484\"], {});\n",
              "            const responseJson = chartCodeResponse.data['application/json'];\n",
              "            await google.colab.notebook.addCell(responseJson.code, 'code');\n",
              "          }\n",
              "          chartElement.onclick = getCodeForChartHandler;\n",
              "        })();\n",
              "      </script>\n",
              "      <style>\n",
              "        .colab-quickchart-chart-with-code  {\n",
              "            display: block;\n",
              "            float: left;\n",
              "            border: 1px solid transparent;\n",
              "        }\n",
              "\n",
              "        .colab-quickchart-chart-with-code:hover {\n",
              "            cursor: pointer;\n",
              "            border: 1px solid #aaa;\n",
              "        }\n",
              "      </style>"
            ]
          },
          "metadata": {}
        },
        {
          "output_type": "display_data",
          "data": {
            "text/plain": [
              "<google.colab._quickchart_helpers.SectionTitle at 0x7fd814d5afe0>"
            ],
            "text/html": [
              "<h4 class=\"colab-quickchart-section-title\">Faceted distributions</h4>\n",
              "<style>\n",
              "  .colab-quickchart-section-title {\n",
              "      clear: both;\n",
              "  }\n",
              "</style>"
            ]
          },
          "metadata": {}
        },
        {
          "output_type": "stream",
          "name": "stderr",
          "text": [
            "<string>:5: FutureWarning: \n",
            "\n",
            "Passing `palette` without assigning `hue` is deprecated and will be removed in v0.14.0. Assign the `y` variable to `hue` and set `legend=False` for the same effect.\n",
            "\n"
          ]
        },
        {
          "output_type": "display_data",
          "data": {
            "text/plain": [
              "from matplotlib import pyplot as plt\n",
              "import seaborn as sns\n",
              "figsize = (12, 1.2 * len(_df_7['Name'].unique()))\n",
              "plt.figure(figsize=figsize)\n",
              "sns.violinplot(_df_7, x='Age', y='Name', inner='stick', palette='Dark2')\n",
              "sns.despine(top=True, right=True, bottom=True, left=True)"
            ],
            "text/html": [
              "      <div class=\"colab-quickchart-chart-with-code\" id=\"chart-e93dec17-5c1a-4441-ada6-59e9c26182f7\">\n",
              "        <img style=\"width: 180px;\" src=\"data:image/png;base64,iVBORw0KGgoAAAANSUhEUgAAA+oAAAK5CAYAAAAo89Q/AAAAOXRFWHRTb2Z0d2FyZQBNYXRwbG90\n",
              "bGliIHZlcnNpb24zLjcuMSwgaHR0cHM6Ly9tYXRwbG90bGliLm9yZy/bCgiHAAAACXBIWXMAAA9h\n",
              "AAAPYQGoP6dpAAAsKUlEQVR4nO3df5TVdZ3H8dflh0PWgkaKRQLrL0gFJxQhVw1ZM9T1B6S5paWt\n",
              "io3bVkcrtFXT1pxaO2pLbazlaqAZuSBxKitbIc1NBV2kVEiDUUPEFvmhx7zO6N0/2GabBHN0hvsZ\n",
              "eDzOuedwv/fH9/0953M493m+33unUqvVagEAAACK0KveAwAAAAD/T6gDAABAQYQ6AAAAFESoAwAA\n",
              "QEGEOgAAABREqAMAAEBBhDoAAAAURKgDAABAQYQ6AAAAFESoAwAAQEGEOgAAABREqAMAAEBBhDoA\n",
              "AAAURKgDAABAQYQ6AAAAFESoAwAAQEGEOgBbhaampjQ1NdV7DACA161PvQcAgK6wevXqeo8AANAl\n",
              "nFEHAACAggh1AAAAKIhQBwAAgIIIdQAAACiIUAcAAICCCHUAAAAoiFAHAACAggh1AAAAKIhQBwAA\n",
              "gIIIdQAAACiIUAcAAICCCHUAAAAoiFAHAACAggh1AAAAKIhQBwAAgIIIdQAAACiIUAcAAICCCHUA\n",
              "AAAoiFAHAACAggh1AAAAKIhQBwAAgIIIdQAAACiIUAcAAICCCHUAAAAoiFAHAACAggh1AAAAKIhQ\n",
              "BwAAgIIIdQAAACiIUAcAAICCCHUAAAAoiFAHAACAggh1AAAAKIhQBwAAgIL0qefOGxsbkyQvvPBC\n",
              "li1blpEjRyZJhg8fnlmzZtVxMgAAAKiPuob64sWLkyQtLS1pbGxsvw8AAADbqiIvfZ85c2ZGjRqV\n",
              "UaNG5eijj87KlSuTJNddd10OP/zwfOADH8jee++dgw46KA8++GAmTZqUd7zjHTniiCPy7LPPbvI9\n",
              "q9VqNmzY0OFWrVa35GEBAADAn1VcqP/qV7/Kpz/96dxyyy1ZsmRJDjrooJxxxhntjy9cuDBf+tKX\n",
              "8uCDD2b33XfPMccck+nTp+ehhx7Kdtttl29961ubfN/m5uYMGDCgw625uXlLHRYAAAC8KnW99H1T\n",
              "5s+fn4kTJ2bw4MFJkrPPPjuf//zn8+KLLyZJ3vWud2XIkCFJkgMOOCCtra0ZNGhQkmTMmDF5+OGH\n",
              "N/m+559/fs4555wO2xoaGrrrMAAAAOA1KS7U/1SlUulwv1+/fu3/7t2798vut7W1bfJ9GhoahDkA\n",
              "AADFK+7S98MOOyw/+tGP8sQTTyRJpk+fnr/+679O79696zwZAAAAdL/izqjvu+++ufzyyzNx4sQk\n",
              "ya677ppvfOMbdZ4KAAAAtoxKrVar1XsIAHi9Jk+enCSZM2dOnScBAHh9irv0HQAAALZlQh0AAAAK\n",
              "ItQBAACgIEIdAAAACiLUAQAAoCBCHQAAAAoi1AEAAKAgQh0AAAAKItQBAACgIEIdAAAACiLUAQAA\n",
              "oCBCHQAAAAoi1AEAAKAgQh0AAAAKItQBAACgIEIdAAAACiLUAQAAoCBCHQAAAAoi1AEAAKAgQh0A\n",
              "AAAKItQBAACgIEIdAAAACiLUAQAAoCBCHQAAAAoi1AEAAKAgQh0AAAAKItQBAACgIEIdAAAACiLU\n",
              "AQAAoCBCHQAAAAoi1AEAAKAgfeo9AAB0hUGDBtV7BACALlGp1Wq1eg8BAAAAbOTSdwAAACiIUAcA\n",
              "AICCCHUAAAAoiFAHAACAggh1AAAAKIhQBwAAgIIIdQAAACiIUAcAAICCCHUAAAAoiFAHAACAggh1\n",
              "AAAAKIhQBwAAgIIIdQAAACiIUAcAAICCCHUAAAAoiFAHAACAggh1AIBCNTU1pampqd5jALCF9an3\n",
              "AAAAbNrq1avrPQIAdeCMOgAAABREqAMAAEBBhDoAAAAURKgDAABAQYQ6AAAAFESoAwAAQEGEOgAA\n",
              "ABREqAMAAEBBhDoAAAAURKgDAABAQYQ6AAAAFESoAwAAQEGEOgAAABREqAMAAEBBhDoAAAAURKgD\n",
              "AABAQYQ6AAAAFESoAwAAQEGEOgAAABREqAMAAEBBhDoAAAAURKgDAABAQYQ6AAAAFESoAwAAQEGE\n",
              "OgAAABREqAMAAEBBhDoAAAAURKgDAABAQYQ6AAAAFESoAwAAQEGEOgAAABREqAMAAEBBhDoAAAAU\n",
              "pO6hPmzYsCxevPg1vXb8+PGZO3dul84DAAAA9VT3UAcAAAD+XzGhfsUVV2TMmDFpbGzMmDFj8otf\n",
              "/KL9sYceeijvfe97M2rUqIwaNSrTp09/2etnz56d/fbbL7/5zW82+f7VajUbNmzocKtWq912PAAA\n",
              "APBaFBPqH/rQh7Jw4cIsXrw406ZNy0c+8pEkSVtbW4477ricdtppWbJkSZYsWZITTjihw2uvuOKK\n",
              "XHXVVbntttuy++67b/L9m5ubM2DAgA635ubmbj8uAAAA6IxKrVar1XOAYcOGZe7cuXnqqafyhS98\n",
              "IWvWrEmfPn1y//3357nnnsvy5ctz5JFH5rHHHnvZa8ePH59nn302gwYNyuzZs9OvX7/N7qdarb7s\n",
              "DHpDQ0MaGhq6/JgAALrC5MmTkyRz5syp8yQAbEl96j1AkrzwwguZPHly5s+fnzFjxmTDhg0ZMGDA\n",
              "q7o0fezYsfnJT36S5cuXZ++9997s80Q5AAAAPUERl74///zzeeGFFzJkyJAkybRp09ofGz58eLbf\n",
              "fvvceOON7dv+53/+p/3f73nPe/Lv//7vOeaYY3LfffdtuaEBAACgG9Q91Nva2rLzzjvn0ksvzYEH\n",
              "Hpj9998/2223Xfvjffr0yfe+971ce+21GTlyZPbbb7/Mnj27w3sccsgh+c53vpMTTjghd95555Y+\n",
              "BAAAAOgydf2O+qpVqzJ8+PA8+eST2X777es1BgBAkXxHHWDbVLcz6ldccUXGjx+fL3/5yyIdAAAA\n",
              "/k/df/UdAIBNc0YdYNtU9++oAwAAAP9PqAMAAEBBhDoAAAAURKgDAABAQYQ6AAAAFESoAwAAQEGE\n",
              "OgAAABREqAMAAEBBhDoAAAAURKgDAABAQYQ6AAAAFESoAwAAQEGEOgAAABREqAMAAEBBhDoAAAAU\n",
              "RKgDAABAQYQ6AAAAFESoAwAAQEGEOgAAABREqAMAAEBBhDoAAAAURKgDAABAQYQ6AAAAFESoAwAA\n",
              "QEGEOgAAABREqAMAAEBBhDoAAAAURKgDAABAQYQ6AAAAFKRPvQcAAGDTBg0aVO8RAKiDSq1Wq9V7\n",
              "CAAAAGAjl74DAABAQYQ6AAAAFESoAwAAQEGEOgAAABREqAMAAEBBhDoAAAAURKgDAABAQYQ6AAAA\n",
              "FESoAwAAQEGEOgAAABREqAMAAEBBhDoAAAAURKgDAABAQYQ6AAAAFESoAwAAQEGEOgC8Tk1NTWlq\n",
              "aqr3GADAVqJPvQcAgJ5u9erV9R4BANiKOKMOAAAABRHqAAAAUBChDgAAAAUR6gAAAFAQoQ4AAAAF\n",
              "EeoAAABQEKEOAAAABRHqAAAAUBChDgAAAAUR6gAAAFAQoQ4AAAAFEeoAAABQEKEOAAAABRHqAAAA\n",
              "UBChDgAAAAUR6gAAAFAQoQ4AAAAFEeoAAABQEKEOAAAABRHqAAAAUBChDgAAAAUR6gAAAFAQoQ4A\n",
              "AAAFEeoAAABQEKEOAAAABRHqAAAAUBChDgAAAAUR6gAAAFAQoQ4AAAAFEeoAAABQEKEOAAAABRHq\n",
              "AAAAUBChDgAAAAXp1lCfM2dO9t9//zQ2NmbEiBGZMGFCXnrppVx11VV58sknu3PXAAAA0CP16a43\n",
              "XrVqVaZMmZJ77703Q4cOTZLcd999qVQqueqqqzJ+/Pjssssu3bV7AAAA6JG67Yz66tWr07t377z5\n",
              "zW9u3zZ69Oj80z/9U5544omcdNJJaWxszOLFi9Pa2przzjsvBx54YBobG/P+978/a9euzeOPP56d\n",
              "d945L7zwQvt7nHbaafnKV76SJFm4cGEmTJiQAw44IO985ztz0003bXaearWaDRs2dLhVq9XuOnwA\n",
              "AAB4Tbot1EeNGpWDDz44Q4cOzaRJk3L55Zdn5cqVueiii/K2t70ts2bNyuLFi9PY2JjLL788b3zj\n",
              "G3PPPfdk8eLFGTlyZC644ILsuuuuaWxszLx585Ikzz77bObNm5dTTjkl69aty5QpU3LDDTdk0aJF\n",
              "ufXWW3Puuedm5cqVm5ynubk5AwYM6HBrbm7ursMHAACA16TbLn3v1atXZs+enaVLl+ZnP/tZbrnl\n",
              "lnzhC1/IokWLXvbcuXPnZv369Zk9e3aS5IUXXsiwYcOSJB/5yEdy7bXX5oQTTshNN92UCRMmZODA\n",
              "gfnhD3+Y5cuX58gjj+zwXsuWLcvgwYNfto/zzz8/55xzTodtDQ0NXXS0AAAA0DW6LdT/YMSIERkx\n",
              "YkTOOuusTJw4sf3s+B+r1WqZNm1ajjjiiJc9NmnSpHz84x/PqlWrct111+Uzn/lM+2v22Wef/Nd/\n",
              "/dermqOhoUGYAwAAULxuu/R95cqVufPOO9vvr127NitWrMjuu++e/v37Z/369e2PHX/88bnyyivz\n",
              "3HPPJUmee+65PPDAA0mSfv365cQTT8zFF1+c3/zmN5k4cWKS5KCDDsqKFSvy05/+tP19Fi9e3OH7\n",
              "7AAAANDTdNsZ9ba2tnz+85/PihUrsv3226etrS2nnnpqjjvuuPzud7/LmWeeme233z7XXXddpk6d\n",
              "mmq1mrFjx6ZSqSRJpk6dmn322SfJxsvfDzzwwEydOjW9e/dOkuy44475wQ9+kE996lM599xz09ra\n",
              "miFDhmTu3LnddUgAAADQ7Sq1Wq1W7yEAoCebPHlykmTOnDl1ngQA2Bp026XvAAAAQOcJdQAAACiI\n",
              "UAcAAICCCHUAAAAoiFAHAACAggh1AAAAKIhQBwAAgIIIdQAAACiIUAcAAICCCHUAAAAoiFAHAACA\n",
              "ggh1AAAAKIhQBwAAgIIIdQAAACiIUAcAAICCCHUAAAAoiFAHAACAggh1AAAAKIhQBwAAgIIIdQAA\n",
              "ACiIUAcAAICCCHUAAAAoiFAHAACAggh1AAAAKIhQBwAAgIIIdQAAACiIUAcAAICCCHUAAAAoiFAH\n",
              "AACAggh1AAAAKIhQBwAAgIL0qfcAANDTDRo0qN4jAABbkUqtVqvVewgAAABgI5e+AwAAQEGEOgAA\n",
              "ABREqAMAAEBBhDoAAAAURKgDAABAQYQ6AAAAFESoAwAAQEGEOgAAABREqAMAAEBBhDoAAAAURKgD\n",
              "AABAQYQ6AAAAFESoAwAAQEGEOgAAABREqAMAAEBBhDoAAAAURKgDAAB0g6ampjQ1NdV7DHqgPvUe\n",
              "AAAAYGu0evXqeo9AD+WMOgAAABREqAMAAEBBhDoAAAAURKgDAABAQYQ6AAAAFESoAwAAQEGEOgAA\n",
              "ABREqAMAAEBBhDoAAAAURKgDAABAQYQ6AAAAFESoAwAAQEGEOgAAABREqAMAAEBBhDoAAAAURKgD\n",
              "AABAQYQ6AAAAFESoAwAAQEGEOgAAABREqAMAAEBBhDoAAAAURKgDAABAQYQ6AAAAFOQ1hfq9996b\n",
              "mTNnJknWrl2bVatWdelQAAAAsK3qdKj/67/+a/7u7/4uF198cZLk6aefzgc/+MGungsAAAC2SZ0O\n",
              "9auvvjp33XVX+vfvnyTZfffd87vf/a7LBwMAAIBtUadDvaGhIW94wxs6bOvTp0+XDQQAAADbsk6H\n",
              "+k477ZRf//rXqVQqSZLrrrsuQ4YM6fLBAAAAYFvU6VPhV111VT7wgQ9k6dKl2XXXXdO/f/98//vf\n",
              "747ZAAAAYJvT6VDfY489cvfdd2fZsmWp1WoZPnx4evfu3R2zAQAAwDbnNX25/Nlnn01ra2va2tpy\n",
              "//33J0lGjx7dpYMBAADAtqjToX7llVfmoosuyk477dR+Jr1SqeTXv/51lw8HAAAA25pO/5jctGnT\n",
              "smzZsixfvjwPP/xwHn744T8b6cOGDcvw4cPT2NiY4cOH54tf/GKSZNGiRTnppJP+7D4rlUrWrVvX\n",
              "2VEBAACgx+n0GfXBgwfnbW97W6d3NGvWrDQ2NmblypXZe++9M2HChBx44IGZNWtWp98LAAAAtlad\n",
              "PqP+2c9+Nh//+Mfzk5/8JLfffnv77dUaPHhwRowYkUcffTQLFixIY2Nj+2M/+MEPMmbMmOy3335p\n",
              "bGzM3Xff3eG1tVotU6dOzbHHHpsZM2bkiCOOaH/sxRdfzNChQ/Pggw9ucr/VajUbNmzocKtWq507\n",
              "eAAAAOhmnT6j/otf/CIzZszIz3/+8w7fUb/nnnte1euXLl2aNWvWZPz48XnggQfat//617/ORz7y\n",
              "kdx+++0ZMWJEWltb89xzz7U/Xq1W84EPfCADBw7MzTffnCS56KKLsmzZsgwfPjzz5s3LHnvskb33\n",
              "3nuT+21ubs4ll1zSYdvnPve5XHzxxZ05fAAAAOhWnQ71GTNmpKWlJTvssEOnXnfSSSelV69eWbZs\n",
              "Wa688srstNNOHR6/9dZbM3HixIwYMSJJ0rdv3wwYMKD98aOPPjrHHXdcLrzwwvZtZ599dr72ta/l\n",
              "X/7lX/K1r30tH/vYxza7//PPPz/nnHNOh20NDQ2dOgYAAADobp2+9H3o0KGdjvRk43fUH3roofzk\n",
              "Jz/Jeeedl1/+8pedev2ECRNy6623ZsOGDe3bzjzzzNx0001ZtGhRHnnkkRx77LGbfX1DQ0P69+/f\n",
              "4SbUAQAAKE2nQ33MmDF5//vfn+9+97uZN29e++3VOvzww9PU1JQLLrigw/b3vve9+fGPf5ylS5cm\n",
              "SVpbW7N+/fr2xz/72c9m8uTJOfzww7NmzZokyY477pjjjjsukyZNyllnndV+KT4AAAD0VJ2+9P3e\n",
              "e+9Nknz9619v31apVF7xbPafuvDCC7PHHnvk0EMPbd+2xx575Nprr80pp5yS1tbW9O7dO9OnT8+B\n",
              "Bx7Y/pxPfvKTeeMb35gJEybkxz/+cXbZZZeceeaZue6663LmmWd29lAAAACgOJVarVar9xCvx5e/\n",
              "/OU89NBDueaaa+o9CgAAQLvJkycnSebMmVPnSehpOn1GPdl4WfqKFSvy/PPPt28bNWpUlw31au2z\n",
              "zz6pVCr50Y9+tMX3DQAAAN2h06H+/e9/P2eeeWbWrl2bN77xjVm7dm2GDh2aFStWdMd8r+iP/7wb\n",
              "AAAAbA06/WNyF154Ye6666684x3vyJo1azJjxoyccMIJ3TEbAAAAbHM6Heq9evXK0KFD09bWliQ5\n",
              "5ZRTctttt3X5YAAAALAt6vSl73379k2SvP3tb8/NN9+cYcOGZe3atV0+GAAAAGyLOh3qn/jEJ7J2\n",
              "7dpceuml+du//dusW7cuX/nKV7pjNgAAANjmvOpQv/3225MkgwcPzi9/+cskyTe/+c0kG/+OOgAA\n",
              "APD6vepQP/fcc1+2rVKp5IknnsiqVavy4osvdulgAAAAsC161aG+cOHCDveffvrpXHrppbn++utz\n",
              "ySWXdPlgAAAAsC3q9K++P//882lubs7ee++dJHnooYdywQUXdPlgAAAAsC161aH+0ksv5eqrr86e\n",
              "e+6ZpUuX5u67784VV1yRgQMHdud8AAAAsE151Ze+77vvvqlWq7nsssuy3377Zf369VmyZEn746NG\n",
              "jeqWAQEAAGBb8qpD/bnnnkulUslFF130sscqlUqWL1/epYMBAADAtuhVh3pLS0s3jgEAAAAkr+HH\n",
              "5AAAAIDuI9QBAACgIEIdAAAACiLUAQAAoCBCHQAAAAoi1AEAAKAgQh0AAAAKItQBAACgIEIdAAAA\n",
              "CiLUAQAAoCBCHQAAAAoi1AEAAKAgQh0AAAAKItQBAACgIEIdAAAACiLUAQAAoCBCHQAAAArSp94D\n",
              "AAAAbI0GDRpU7xHooSq1Wq1W7yEAAACAjVz6DgAAAAUR6gAAAFAQoQ4AAAAFEeoAAABQEKEOAAAA\n",
              "BRHqAAAAUBChDgAAAAUR6gAAAFAQoQ4AAAAFEeoAAABQEKEOAAAABRHqAAAAUBChDgAAAAUR6gAA\n",
              "AFAQoQ4AAAAFEeoAAABQEKFeuKampjQ1NdV7DAAAALaQPvUegFe2evXqeo8AAADAFuSMOgAAABRE\n",
              "qAMAAEBBhDoAAAAURKgDAABAQYQ6AAAAFESoAwAAQEGEOgAAABREqAMAAEBBhDoAAAAURKgDAABA\n",
              "QYQ6AAAAFESoAwAAQEGEOgAAABREqAMAAEBBhDoAAAAURKgDAABAQYQ6AAAAFESoAwAAQEGEOgAA\n",
              "ABREqAMAAEBBhDoAAAAURKgDAABAQYQ6AAAAFESoAwAAQEGEOgAAABREqAMAAEBBhDoAAAAURKgD\n",
              "AABAQYQ6AAAAFESoAwAAQEGEOgAAABREqAMAAEBBhDoAAAAUpG6hPmfOnOy///5pbGzMiBEjMmHC\n",
              "hLz00kv1GgcAAACK0KceO121alWmTJmSe++9N0OHDk2S3HfffalUKvUYBwAAAIpRlzPqq1evTu/e\n",
              "vfPmN7+5fdvo0aNTqVTyqU99KmPGjEljY2MOPfTQLFu2rP05lUolX/jCFzJ27NgMGzYsc+fOTXNz\n",
              "cw444IDsueeeWbBgwWb3Wa1Ws2HDhg63arXanYcJAAAAnVaXUB81alQOPvjgDB06NJMmTcrll1+e\n",
              "lStXJkmmTp2ahQsXZvHixTn77LPziU98osNr3/SmN+Xuu+/ONddck1NOOSVvfetbs2jRolx22WX5\n",
              "9Kc/vdl9Njc3Z8CAAR1uzc3N3XqcAAAA0FmVWq1Wq9fOly5dmp/97Ge55ZZbsmDBgixatCj33HNP\n",
              "pk2blmeeeSYvvfRSnn766Tz55JMbh61UsmrVquyyyy5Zv359dthhh/z+979Pv3798uijj2a//fbL\n",
              "unXrNrmvarX6sjPoDQ0NaWho6O7DfF0mT56cZON3+gEAANj61eU76n8wYsSIjBgxImeddVYmTpyY\n",
              "b3/727nqqquycOHC7L777lmyZEkOPfTQDq/p169fkqR3794vu9/W1rbZffWEKAcAAIC6XPq+cuXK\n",
              "3Hnnne33165dmxUrVmTAgAHp27dv3vrWt6ZWq+WrX/1qPcYDAACAuqnLGfW2trZ8/vOfz4oVK7L9\n",
              "9tunra0tp556aj7xiU9k+fLl2WeffTJw4MAcf/zx9RgPAAAA6qau31Hnz/MddQAAgG1LXS59BwAA\n",
              "ADZNqAMAAEBBhDoAAAAURKgDAABAQYQ6AAAAFESoAwAAQEGEOgAAABREqAMAAEBBhDoAAAAURKgD\n",
              "AABAQYQ6AAAAFESoAwAAQEGEOgAAABREqAMAAEBBhDoAAAAURKgDAABAQYQ6AAAAFESoAwAAQEGE\n",
              "OgAAABREqAMAAEBBhDoAAAAURKgDAABAQYQ6AAAAFESoAwAAQEGEOgAAABREqAMAAEBBhDoAAAAU\n",
              "RKgDAABAQYQ6AAAAFESoAwAAQEGEOgAAABSkT70H4JUNGjSo3iMAAACwBVVqtVqt3kMAAAAAG7n0\n",
              "HQAAAAoi1AEAAKAgQh0AAAAKItQBAACgIEIdAAAACiLUAQAAoCBCHQAAAAoi1AEAAKAgQh0AAAAK\n",
              "ItQBAACgIEIdAAAACiLUAQAAoCBCHQAAAAoi1AEAAKAgQh0AAAAKItQL19TUlKampnqPAQAAwBbS\n",
              "p94D8MpWr15d7xEAAADYgpxRBwAAgIIIdQAAACiIUAcAAICCCHUAAAAoiFAHAACAggh1AAAAKIhQ\n",
              "BwAAgIIIdQAAACiIUAcAAICCCHUAAAAoiFAHAACAggh1AAAAKIhQBwAAgIIIdQAAACiIUAcAAICC\n",
              "CHUAAAAoiFAHAACAggh1AAAAKIhQBwAAgIIIdQAAACiIUAcAAICCCHUAAAAoiFAHAACAggh1AAAA\n",
              "KIhQBwAAgIIIdQAAACiIUAcAAICCCHUAAAAoiFAHAACAggh1AAAAKIhQBwAAgIIIdQAAACiIUAcA\n",
              "AICCFBPql1xySc4444z2+z//+c9TqVSyYMGC9m0f/ehHc+SRR+akk05KkrS0tGSHHXZof7xSqWTd\n",
              "unVbaGIAAADoesWE+mGHHdYhyufPn5+xY8e+bNtnPvOZzJo1a8sPCAAAAFtAMaE+bty4PPHEE/nt\n",
              "b3+bJFmwYEEuuuii9lBftWpVHnvssVSr1TQ2Nnb6/avVajZs2NDhVq1Wu/AIAAAA4PUrJtS32267\n",
              "HHTQQZk/f36q1WpWrFiRo446Kr/97W/z/PPPZ/78+XnXu96Vfv36vab3b25uzoABAzrcmpubu/go\n",
              "AAAA4PXpU+8B/tgfLn8fOnRoDjzwwCQbz7T/4he/yIIFC3LYYYe95vc+//zzc84553TY1tDQ8Lrm\n",
              "BQAAgK5WXKhfc801GTJkSMaPH58kefe735358+dn/vz5ue6669La2vqa3ruhoUGYAwAAULxiLn1P\n",
              "kjFjxuSpp57KDTfc0CHUv/Od72TVqlXtZ9kBAABga1VUqPft2zcHH3xwnnnmmYwYMSJJstdee+WZ\n",
              "Z57JwQcfnL59+9Z5QgAAAOhelVqtVqv3EGze5MmTkyRz5syp8yQAAABsCUWdUQcAAIBtnVAHAACA\n",
              "ggh1AAAAKIhQBwAAgIIIdQAAACiIUAcAAICCCHUAAAAoiFAHAACAggh1AAAAKIhQBwAAgIIIdQAA\n",
              "ACiIUAcAAICCCHUAAAAoiFAHAACAggh1AAAAKIhQBwAAgIIIdQAAACiIUAcAAICCCHUAAAAoiFAH\n",
              "AACAggh1AAAAKIhQBwAAgIIIdQAAACiIUAcAAICCCHUAAAAoiFAHAACAggh1AAAAKIhQBwAAgIII\n",
              "dQAAACiIUAcAAICCCHUAAAAoSJ96D8ArGzRoUL1HAAAAYAuq1Gq1Wr2HAAAAADZy6TsAAAAURKgD\n",
              "AABAQYQ6AAAAFESoAwAAQEGEOgAAABREqAMAAEBBhDoAAAAURKgDAABAQYQ6AAAAFESoAwAAQEGE\n",
              "OgAAABREqAMAAEBBhDoAAAAURKgDAABAQYQ6AAAAFESoAwAAQEGEOgAAAD1aU1NTmpqa6j1Gl+lT\n",
              "7wEAAADg9Vi9enW9R+hSzqgDAABAQYQ6AAAAFESoAwAAQEGEOgAAABREqAMAAEBBhDoAAAAURKgD\n",
              "AABAQYQ6AAAAFESoAwAAQEGEOgAAABREqAMAAEBBhDoAAAAURKgDAABAQYQ6AAAAFESoAwAAQEGE\n",
              "OgAAABREqAMAAEBBhDoAAAAURKgDAABAQYQ6AAAAFESoAwAAQEGEOgAAABREqAMAAEBBhDoAAAAU\n",
              "RKgDAABAQYQ6AAAAFESoAwAAQEGEOgAAABREqAMAAEBBhDoAAAAURKgDAABAQYQ6AAAAFESoAwAA\n",
              "QEHqEurDhg3L8OHD09jYmOHDh+eLX/zia36vlpaWTJ8+vQunAwAAgPqp2xn1WbNmZfHixbntttvS\n",
              "3Nyce+655zW9j1AHAABga1L3S98HDx6cESNG5NFHH80jjzySww8/PKNGjUpjY2Pmzp3b/rwf//jH\n",
              "GT16dEaNGpV3v/vdefDBB5MkH/3oR7Ns2bI0Njbm2GOP3ex+qtVqNmzY0OFWrVa7+/AAAACgU+oe\n",
              "6kuXLs2aNWsyfvz4nHzyyTnxxBOzZMmS3HTTTTn99NPz6KOP5qmnnsoHP/jBfOtb38qSJUsyZcqU\n",
              "nHDCCanVapk+fXqGDx+exYsXZ968eZvdT3NzcwYMGNDh1tzcvAWPFAAAAP68PvXa8UknnZRevXpl\n",
              "2bJlufLKK9OvX7/cd999ufPOO5Mke+65Zw4++ODccccdGTBgQEaOHJmRI0cmSU4++eT8/d//fVau\n",
              "XPmq93f++efnnHPO6bCtoaGh6w4IAAAAukDdQn3WrFlpbGzMT3/60xxzzDGZMGHCy55TqVS6bH8N\n",
              "DQ3CHAAAgOLV/dL3ww8/PE1NTbngggsyevToXHvttUmSRx55JD//+c9z6KGHZty4cfnlL3+ZX/3q\n",
              "V0mS73znOxk8eHAGDx6c/v37Z/369fU8BAAAAOgydTuj/scuvPDC7LHHHvnhD3+Yf/zHf8xXv/rV\n",
              "VCqVfPOb38yQIUOSJDfccEM+/OEPp62tLTvuuGNuuummVCqVjBo1Kvvss0/23Xff7Lbbbq/4PXUA\n",
              "AAAoXaVWq9XqPQQAAAC8VpMnT06SzJkzp86TdI26X/oOAAAA/D+hDgAAAAUR6gAAAFAQoQ4AAAAF\n",
              "EeoAAABQEKEOAAAABRHqAAAAUBChDgAAAAUR6gAAAFAQoQ4AAAAFEeoAAABQEKEOAAAABRHqAAAA\n",
              "UBChDgAAAAUR6gAAAFAQoQ4AAAAFEeoAAABQEKEOAAAABRHqAAAAUBChDgAAAAUR6gAAAFAQoQ4A\n",
              "AAAFEeoAAABQEKEOAAAABRHqAAAAUBChDgAAAAUR6gAAAFAQoQ4AAAAFEeoAAABQEKEOAAAABRHq\n",
              "AAAAUJA+9R4AAAAAXo9BgwbVe4QuVanVarV6DwEAAABs5NJ3AAAAKIhQBwAAgIIIdQAAACiIUAcA\n",
              "AICCCHUAAAAoiFAHAACAggh1AAAAKIhQh/9TrVZz8cUXp1qt1nsUtjLWFt3F2qK7WFt0F2uL7rK1\n",
              "ra1KrVar1XsIKMGGDRsyYMCArF+/Pv3796/3OGxFrC26i7VFd7G26C7WFt1la1tbzqgDAABAQYQ6\n",
              "AAAAFESoAwAAQEGEOvyfhoaGfO5zn0tDQ0O9R2ErY23RXawtuou1RXextuguW9va8mNyAAAAUBBn\n",
              "1AEAAKAgQh0AAAAKItQBAACgIEIdAAAACiLU2SY9//zzOf7447PXXntlv/32y3ve85488sgjSZKn\n",
              "nnoqEydOzJ577pl99903t99+e52npSd5pbU1fvz4/OVf/mUaGxvT2NiYK6+8ss7T0tMcccQRGTVq\n",
              "VBobG3PIIYfkv//7v5MkDz/8cA466KDstddeGTNmTB544IE6T0pPs7m1NWzYsAwfPrz9/61Zs2bV\n",
              "eVJ6omuvvTaVSiVz585N4rMWXedP19bW9FmrT70HgHqZMmVKjjzyyFQqlXz1q1/NGWeckQULFuS8\n",
              "887LuHHj8qMf/SgLFy7MpEmTsmLFivTt27feI9NDbG5tJcmVV16Z448/vq7z0XN997vfzQ477JAk\n",
              "ufnmm3Paaafl/vvvz1lnnZUpU6bktNNOy3/8x3/ktNNOy8KFC+s7LD3K5tZWksyaNSuNjY31G44e\n",
              "raWlJd/4xjcybty49m0+a9EVNrW2kq3ns5Yz6myT+vXrl6OOOiqVSiVJMm7cuLS0tCTZ+GHlox/9\n",
              "aJJkzJgxedvb3paf/exn9RqVHuaV1ha8Xn8IqSRZv359KpVKnnrqqSxatCinnHJKkuR973tfHn/8\n",
              "8fYrOeDV2NTagtfrpZdeyhlnnJFp06Z1+NvWPmvxem1ubW1NhDok+cpXvpLjjjsua9asSWtra3bZ\n",
              "ZZf2x4YNG5bHHnusjtPRk/1hbf3Beeedl5EjR+akk07K8uXL6zgZPdWHP/zh7Lrrrrnwwgszc+bM\n",
              "PP7443nrW9+aPn02XiRXqVQyZMgQ/2/RaX+6tv54+8iRI3P66afnd7/7XR0npKe54oor8ld/9VfZ\n",
              "f//927f5rEVX2NTa+oOt5bOWUGebd9lll+WRRx5Jc3NzvUdhK/Ona2vmzJlZunRplixZkkMOOSR/\n",
              "8zd/U+cJ6YlmzJiRxx9/PJdeemmmTp1a73HYimxqbd1+++1ZsmRJ7rvvvrzlLW/JqaeeWucp6Sl+\n",
              "9atfZfbs2bngggvqPQpbmVdaW1vTZy2hzjbty1/+cubMmZNbbrkl22+/fQYOHJg+ffrkySefbH9O\n",
              "S0tLhgwZUscp6Yn+dG0lya677ppk4xnPj33sY1m+fHnWrFlTzzHpwU499dTMnz8/b3/727Nq1aq0\n",
              "tbUlSWq1Wh577DH/b/Ga/WFtrVmzpn0d9e3bN5/85Cdzxx131Hk6eoo77rgjLS0t2XPPPTNs2LDc\n",
              "ddddmTJlSr773e/6rMXrsrm19fWvf32r+qwl1NlmXXHFFbnxxhtz6623dvhu3oknnpjp06cnSRYu\n",
              "XJiVK1fm3e9+d52mpCfa1Npqa2vL6tWr258ze/bsDBo0KAMHDqzTlPQ069atyxNPPNF+f+7cuRk4\n",
              "cGB23nnnjB49Otdff32SjWvr7W9/e/bYY496jUoPs7m11a9fv6xbt659+4033ph3vvOddZiQnqip\n",
              "qSmrVq1KS0tLWlpaMm7cuFx99dVpamryWYvXZXNr68wzz9yqPmv51Xe2Sb/97W9z7rnnZrfddsth\n",
              "hx2WJGloaMjdd9+dL33pS/nQhz6UPffcM9ttt12uv/56v0LKq7a5tXXbbbfl6KOPTrVaTa9evfKW\n",
              "t7wl8+bNq/O09CTr16/PiSeemN///vfp1atXdtppp3z/+99PpVLJv/3bv+W0007LZZddlv79++fa\n",
              "a6+t97j0IJtbW6tXr8773ve+vPjii6nVatltt90yY8aMeo/LVsBnLbpDtVrdqj5rVWq1Wq3eQwAA\n",
              "AAAbufQdAAAACiLUAQAAoCBCHQDo4Jlnnsmb3vSmnH766fUeBQC2SUIdAOhg1qxZ2X///TNnzpw8\n",
              "++yz9R4HALY5Qh0A6OCaa67J1KlTc+ihh2bWrFlJktbW1px99tnZa6+9Mm7cuJx77rkZP358+2tm\n",
              "zpyZsWPHZvTo0Tn00ENz//3312l6AOj5/Hk2AKDdgw8+mMcffzzvfe9709bWli9+8Ys5/fTTc/XV\n",
              "V+fhhx/OAw88kCQ56qij2l9z55135sYbb8ztt9+ehoaG3HHHHfngBz/Y/lwAoHOcUQcA2l1zzTX5\n",
              "8Ic/nN69e+eoo47KihUr8tBDD+U///M/c8opp6Rv377p27dvTj311PbXfO9738v999+fsWPHprGx\n",
              "Mf/wD/+Qp59+Or///e/reCQA0HM5ow4AJNl4efvMmTPTt2/ffPvb306SPPfcc7nmmmte9txKpdL+\n",
              "71qtllNPPTWXXXbZFpsVALZmzqgDAEmSefPmZbfddsvKlSvT0tKSlpaW3HXXXZk5c2YOO+ywfPvb\n",
              "305ra2taW1szY8aM9tcde+yxuf766/PYY48lSV566aUsWrSoXocBAD2eM+oAQJKNl72ffPLJHba9\n",
              "4x3vyODBg7Pzzjtn2LBh2XvvvbPjjjvmgAMOyBNPPJEkOeSQQ/LP//zPmTRpUtra2vLCCy/k6KOP\n",
              "zgEHHFCPwwCAHq9Sq9Vq9R4CACjfM888k7/4i79Ia2trTj755Oy///6ZOnVqvccCgK2OUAcAXpWx\n",
              "Y8emWq3m+eefz8EHH5xp06blDW94Q73HAoCtjlAHAACAgvgxOQAAACiIUAcAAICCCHUAAAAoiFAH\n",
              "AACAggh1AAAAKIhQBwAAgIIIdQAAACiIUAcAAICC/C/IYNtrLMMykgAAAABJRU5ErkJggg==\n",
              "\">\n",
              "      </div>\n",
              "      <script type=\"text/javascript\">\n",
              "        (() => {\n",
              "          const chartElement = document.getElementById(\"chart-e93dec17-5c1a-4441-ada6-59e9c26182f7\");\n",
              "          async function getCodeForChartHandler(event) {\n",
              "            const chartCodeResponse =  await google.colab.kernel.invokeFunction(\n",
              "                'getCodeForChart', [\"chart-e93dec17-5c1a-4441-ada6-59e9c26182f7\"], {});\n",
              "            const responseJson = chartCodeResponse.data['application/json'];\n",
              "            await google.colab.notebook.addCell(responseJson.code, 'code');\n",
              "          }\n",
              "          chartElement.onclick = getCodeForChartHandler;\n",
              "        })();\n",
              "      </script>\n",
              "      <style>\n",
              "        .colab-quickchart-chart-with-code  {\n",
              "            display: block;\n",
              "            float: left;\n",
              "            border: 1px solid transparent;\n",
              "        }\n",
              "\n",
              "        .colab-quickchart-chart-with-code:hover {\n",
              "            cursor: pointer;\n",
              "            border: 1px solid #aaa;\n",
              "        }\n",
              "      </style>"
            ]
          },
          "metadata": {}
        }
      ]
    },
    {
      "cell_type": "code",
      "source": [
        "data = pd.DataFrame({'Name':['Tom', 'Jack', 'Steve', 'Ricky', 'Sam', 'Will', 'Root'],\n",
        "                     'Age':[28, 34, 29, 42, 17, 17, 45 ]}, index= [1., 2., 3., 4., 5., 6., 7.])\n",
        "data.head(10)"
      ],
      "metadata": {
        "colab": {
          "base_uri": "https://localhost:8080/",
          "height": 269
        },
        "id": "UUHVbge1ElkB",
        "outputId": "593daeb6-7820-4dff-bed4-210298239c00"
      },
      "execution_count": 45,
      "outputs": [
        {
          "output_type": "execute_result",
          "data": {
            "text/plain": [
              "      Name  Age\n",
              "1.0    Tom   28\n",
              "2.0   Jack   34\n",
              "3.0  Steve   29\n",
              "4.0  Ricky   42\n",
              "5.0    Sam   17\n",
              "6.0   Will   17\n",
              "7.0   Root   45"
            ],
            "text/html": [
              "\n",
              "  <div id=\"df-761f9fb4-58eb-4616-be0e-81e4f4a56d5c\" class=\"colab-df-container\">\n",
              "    <div>\n",
              "<style scoped>\n",
              "    .dataframe tbody tr th:only-of-type {\n",
              "        vertical-align: middle;\n",
              "    }\n",
              "\n",
              "    .dataframe tbody tr th {\n",
              "        vertical-align: top;\n",
              "    }\n",
              "\n",
              "    .dataframe thead th {\n",
              "        text-align: right;\n",
              "    }\n",
              "</style>\n",
              "<table border=\"1\" class=\"dataframe\">\n",
              "  <thead>\n",
              "    <tr style=\"text-align: right;\">\n",
              "      <th></th>\n",
              "      <th>Name</th>\n",
              "      <th>Age</th>\n",
              "    </tr>\n",
              "  </thead>\n",
              "  <tbody>\n",
              "    <tr>\n",
              "      <th>1.0</th>\n",
              "      <td>Tom</td>\n",
              "      <td>28</td>\n",
              "    </tr>\n",
              "    <tr>\n",
              "      <th>2.0</th>\n",
              "      <td>Jack</td>\n",
              "      <td>34</td>\n",
              "    </tr>\n",
              "    <tr>\n",
              "      <th>3.0</th>\n",
              "      <td>Steve</td>\n",
              "      <td>29</td>\n",
              "    </tr>\n",
              "    <tr>\n",
              "      <th>4.0</th>\n",
              "      <td>Ricky</td>\n",
              "      <td>42</td>\n",
              "    </tr>\n",
              "    <tr>\n",
              "      <th>5.0</th>\n",
              "      <td>Sam</td>\n",
              "      <td>17</td>\n",
              "    </tr>\n",
              "    <tr>\n",
              "      <th>6.0</th>\n",
              "      <td>Will</td>\n",
              "      <td>17</td>\n",
              "    </tr>\n",
              "    <tr>\n",
              "      <th>7.0</th>\n",
              "      <td>Root</td>\n",
              "      <td>45</td>\n",
              "    </tr>\n",
              "  </tbody>\n",
              "</table>\n",
              "</div>\n",
              "    <div class=\"colab-df-buttons\">\n",
              "\n",
              "  <div class=\"colab-df-container\">\n",
              "    <button class=\"colab-df-convert\" onclick=\"convertToInteractive('df-761f9fb4-58eb-4616-be0e-81e4f4a56d5c')\"\n",
              "            title=\"Convert this dataframe to an interactive table.\"\n",
              "            style=\"display:none;\">\n",
              "\n",
              "  <svg xmlns=\"http://www.w3.org/2000/svg\" height=\"24px\" viewBox=\"0 -960 960 960\">\n",
              "    <path d=\"M120-120v-720h720v720H120Zm60-500h600v-160H180v160Zm220 220h160v-160H400v160Zm0 220h160v-160H400v160ZM180-400h160v-160H180v160Zm440 0h160v-160H620v160ZM180-180h160v-160H180v160Zm440 0h160v-160H620v160Z\"/>\n",
              "  </svg>\n",
              "    </button>\n",
              "\n",
              "  <style>\n",
              "    .colab-df-container {\n",
              "      display:flex;\n",
              "      gap: 12px;\n",
              "    }\n",
              "\n",
              "    .colab-df-convert {\n",
              "      background-color: #E8F0FE;\n",
              "      border: none;\n",
              "      border-radius: 50%;\n",
              "      cursor: pointer;\n",
              "      display: none;\n",
              "      fill: #1967D2;\n",
              "      height: 32px;\n",
              "      padding: 0 0 0 0;\n",
              "      width: 32px;\n",
              "    }\n",
              "\n",
              "    .colab-df-convert:hover {\n",
              "      background-color: #E2EBFA;\n",
              "      box-shadow: 0px 1px 2px rgba(60, 64, 67, 0.3), 0px 1px 3px 1px rgba(60, 64, 67, 0.15);\n",
              "      fill: #174EA6;\n",
              "    }\n",
              "\n",
              "    .colab-df-buttons div {\n",
              "      margin-bottom: 4px;\n",
              "    }\n",
              "\n",
              "    [theme=dark] .colab-df-convert {\n",
              "      background-color: #3B4455;\n",
              "      fill: #D2E3FC;\n",
              "    }\n",
              "\n",
              "    [theme=dark] .colab-df-convert:hover {\n",
              "      background-color: #434B5C;\n",
              "      box-shadow: 0px 1px 3px 1px rgba(0, 0, 0, 0.15);\n",
              "      filter: drop-shadow(0px 1px 2px rgba(0, 0, 0, 0.3));\n",
              "      fill: #FFFFFF;\n",
              "    }\n",
              "  </style>\n",
              "\n",
              "    <script>\n",
              "      const buttonEl =\n",
              "        document.querySelector('#df-761f9fb4-58eb-4616-be0e-81e4f4a56d5c button.colab-df-convert');\n",
              "      buttonEl.style.display =\n",
              "        google.colab.kernel.accessAllowed ? 'block' : 'none';\n",
              "\n",
              "      async function convertToInteractive(key) {\n",
              "        const element = document.querySelector('#df-761f9fb4-58eb-4616-be0e-81e4f4a56d5c');\n",
              "        const dataTable =\n",
              "          await google.colab.kernel.invokeFunction('convertToInteractive',\n",
              "                                                    [key], {});\n",
              "        if (!dataTable) return;\n",
              "\n",
              "        const docLinkHtml = 'Like what you see? Visit the ' +\n",
              "          '<a target=\"_blank\" href=https://colab.research.google.com/notebooks/data_table.ipynb>data table notebook</a>'\n",
              "          + ' to learn more about interactive tables.';\n",
              "        element.innerHTML = '';\n",
              "        dataTable['output_type'] = 'display_data';\n",
              "        await google.colab.output.renderOutput(dataTable, element);\n",
              "        const docLink = document.createElement('div');\n",
              "        docLink.innerHTML = docLinkHtml;\n",
              "        element.appendChild(docLink);\n",
              "      }\n",
              "    </script>\n",
              "  </div>\n",
              "\n",
              "\n",
              "<div id=\"df-08309d2f-bfc0-4545-b4e2-88c83c47abeb\">\n",
              "  <button class=\"colab-df-quickchart\" onclick=\"quickchart('df-08309d2f-bfc0-4545-b4e2-88c83c47abeb')\"\n",
              "            title=\"Suggest charts\"\n",
              "            style=\"display:none;\">\n",
              "\n",
              "<svg xmlns=\"http://www.w3.org/2000/svg\" height=\"24px\"viewBox=\"0 0 24 24\"\n",
              "     width=\"24px\">\n",
              "    <g>\n",
              "        <path d=\"M19 3H5c-1.1 0-2 .9-2 2v14c0 1.1.9 2 2 2h14c1.1 0 2-.9 2-2V5c0-1.1-.9-2-2-2zM9 17H7v-7h2v7zm4 0h-2V7h2v10zm4 0h-2v-4h2v4z\"/>\n",
              "    </g>\n",
              "</svg>\n",
              "  </button>\n",
              "\n",
              "<style>\n",
              "  .colab-df-quickchart {\n",
              "      --bg-color: #E8F0FE;\n",
              "      --fill-color: #1967D2;\n",
              "      --hover-bg-color: #E2EBFA;\n",
              "      --hover-fill-color: #174EA6;\n",
              "      --disabled-fill-color: #AAA;\n",
              "      --disabled-bg-color: #DDD;\n",
              "  }\n",
              "\n",
              "  [theme=dark] .colab-df-quickchart {\n",
              "      --bg-color: #3B4455;\n",
              "      --fill-color: #D2E3FC;\n",
              "      --hover-bg-color: #434B5C;\n",
              "      --hover-fill-color: #FFFFFF;\n",
              "      --disabled-bg-color: #3B4455;\n",
              "      --disabled-fill-color: #666;\n",
              "  }\n",
              "\n",
              "  .colab-df-quickchart {\n",
              "    background-color: var(--bg-color);\n",
              "    border: none;\n",
              "    border-radius: 50%;\n",
              "    cursor: pointer;\n",
              "    display: none;\n",
              "    fill: var(--fill-color);\n",
              "    height: 32px;\n",
              "    padding: 0;\n",
              "    width: 32px;\n",
              "  }\n",
              "\n",
              "  .colab-df-quickchart:hover {\n",
              "    background-color: var(--hover-bg-color);\n",
              "    box-shadow: 0 1px 2px rgba(60, 64, 67, 0.3), 0 1px 3px 1px rgba(60, 64, 67, 0.15);\n",
              "    fill: var(--button-hover-fill-color);\n",
              "  }\n",
              "\n",
              "  .colab-df-quickchart-complete:disabled,\n",
              "  .colab-df-quickchart-complete:disabled:hover {\n",
              "    background-color: var(--disabled-bg-color);\n",
              "    fill: var(--disabled-fill-color);\n",
              "    box-shadow: none;\n",
              "  }\n",
              "\n",
              "  .colab-df-spinner {\n",
              "    border: 2px solid var(--fill-color);\n",
              "    border-color: transparent;\n",
              "    border-bottom-color: var(--fill-color);\n",
              "    animation:\n",
              "      spin 1s steps(1) infinite;\n",
              "  }\n",
              "\n",
              "  @keyframes spin {\n",
              "    0% {\n",
              "      border-color: transparent;\n",
              "      border-bottom-color: var(--fill-color);\n",
              "      border-left-color: var(--fill-color);\n",
              "    }\n",
              "    20% {\n",
              "      border-color: transparent;\n",
              "      border-left-color: var(--fill-color);\n",
              "      border-top-color: var(--fill-color);\n",
              "    }\n",
              "    30% {\n",
              "      border-color: transparent;\n",
              "      border-left-color: var(--fill-color);\n",
              "      border-top-color: var(--fill-color);\n",
              "      border-right-color: var(--fill-color);\n",
              "    }\n",
              "    40% {\n",
              "      border-color: transparent;\n",
              "      border-right-color: var(--fill-color);\n",
              "      border-top-color: var(--fill-color);\n",
              "    }\n",
              "    60% {\n",
              "      border-color: transparent;\n",
              "      border-right-color: var(--fill-color);\n",
              "    }\n",
              "    80% {\n",
              "      border-color: transparent;\n",
              "      border-right-color: var(--fill-color);\n",
              "      border-bottom-color: var(--fill-color);\n",
              "    }\n",
              "    90% {\n",
              "      border-color: transparent;\n",
              "      border-bottom-color: var(--fill-color);\n",
              "    }\n",
              "  }\n",
              "</style>\n",
              "\n",
              "  <script>\n",
              "    async function quickchart(key) {\n",
              "      const quickchartButtonEl =\n",
              "        document.querySelector('#' + key + ' button');\n",
              "      quickchartButtonEl.disabled = true;  // To prevent multiple clicks.\n",
              "      quickchartButtonEl.classList.add('colab-df-spinner');\n",
              "      try {\n",
              "        const charts = await google.colab.kernel.invokeFunction(\n",
              "            'suggestCharts', [key], {});\n",
              "      } catch (error) {\n",
              "        console.error('Error during call to suggestCharts:', error);\n",
              "      }\n",
              "      quickchartButtonEl.classList.remove('colab-df-spinner');\n",
              "      quickchartButtonEl.classList.add('colab-df-quickchart-complete');\n",
              "    }\n",
              "    (() => {\n",
              "      let quickchartButtonEl =\n",
              "        document.querySelector('#df-08309d2f-bfc0-4545-b4e2-88c83c47abeb button');\n",
              "      quickchartButtonEl.style.display =\n",
              "        google.colab.kernel.accessAllowed ? 'block' : 'none';\n",
              "    })();\n",
              "  </script>\n",
              "</div>\n",
              "\n",
              "    </div>\n",
              "  </div>\n"
            ],
            "application/vnd.google.colaboratory.intrinsic+json": {
              "type": "dataframe",
              "variable_name": "data",
              "summary": "{\n  \"name\": \"data\",\n  \"rows\": 7,\n  \"fields\": [\n    {\n      \"column\": \"Name\",\n      \"properties\": {\n        \"dtype\": \"string\",\n        \"num_unique_values\": 7,\n        \"samples\": [\n          \"Tom\",\n          \"Jack\",\n          \"Will\"\n        ],\n        \"semantic_type\": \"\",\n        \"description\": \"\"\n      }\n    },\n    {\n      \"column\": \"Age\",\n      \"properties\": {\n        \"dtype\": \"number\",\n        \"std\": 11,\n        \"min\": 17,\n        \"max\": 45,\n        \"num_unique_values\": 6,\n        \"samples\": [\n          28,\n          34,\n          45\n        ],\n        \"semantic_type\": \"\",\n        \"description\": \"\"\n      }\n    }\n  ]\n}"
            }
          },
          "metadata": {},
          "execution_count": 45
        }
      ]
    },
    {
      "cell_type": "code",
      "source": [
        "data [data['Age'] <=18][['Name']]"
      ],
      "metadata": {
        "colab": {
          "base_uri": "https://localhost:8080/",
          "height": 112
        },
        "id": "GjRDpG912meK",
        "outputId": "6cc991e3-db6a-445f-f8a4-1e4bba3481ec"
      },
      "execution_count": 46,
      "outputs": [
        {
          "output_type": "execute_result",
          "data": {
            "text/plain": [
              "     Name\n",
              "5.0   Sam\n",
              "6.0  Will"
            ],
            "text/html": [
              "\n",
              "  <div id=\"df-ec51190b-03e8-45c3-8cd6-0c432fb9d72d\" class=\"colab-df-container\">\n",
              "    <div>\n",
              "<style scoped>\n",
              "    .dataframe tbody tr th:only-of-type {\n",
              "        vertical-align: middle;\n",
              "    }\n",
              "\n",
              "    .dataframe tbody tr th {\n",
              "        vertical-align: top;\n",
              "    }\n",
              "\n",
              "    .dataframe thead th {\n",
              "        text-align: right;\n",
              "    }\n",
              "</style>\n",
              "<table border=\"1\" class=\"dataframe\">\n",
              "  <thead>\n",
              "    <tr style=\"text-align: right;\">\n",
              "      <th></th>\n",
              "      <th>Name</th>\n",
              "    </tr>\n",
              "  </thead>\n",
              "  <tbody>\n",
              "    <tr>\n",
              "      <th>5.0</th>\n",
              "      <td>Sam</td>\n",
              "    </tr>\n",
              "    <tr>\n",
              "      <th>6.0</th>\n",
              "      <td>Will</td>\n",
              "    </tr>\n",
              "  </tbody>\n",
              "</table>\n",
              "</div>\n",
              "    <div class=\"colab-df-buttons\">\n",
              "\n",
              "  <div class=\"colab-df-container\">\n",
              "    <button class=\"colab-df-convert\" onclick=\"convertToInteractive('df-ec51190b-03e8-45c3-8cd6-0c432fb9d72d')\"\n",
              "            title=\"Convert this dataframe to an interactive table.\"\n",
              "            style=\"display:none;\">\n",
              "\n",
              "  <svg xmlns=\"http://www.w3.org/2000/svg\" height=\"24px\" viewBox=\"0 -960 960 960\">\n",
              "    <path d=\"M120-120v-720h720v720H120Zm60-500h600v-160H180v160Zm220 220h160v-160H400v160Zm0 220h160v-160H400v160ZM180-400h160v-160H180v160Zm440 0h160v-160H620v160ZM180-180h160v-160H180v160Zm440 0h160v-160H620v160Z\"/>\n",
              "  </svg>\n",
              "    </button>\n",
              "\n",
              "  <style>\n",
              "    .colab-df-container {\n",
              "      display:flex;\n",
              "      gap: 12px;\n",
              "    }\n",
              "\n",
              "    .colab-df-convert {\n",
              "      background-color: #E8F0FE;\n",
              "      border: none;\n",
              "      border-radius: 50%;\n",
              "      cursor: pointer;\n",
              "      display: none;\n",
              "      fill: #1967D2;\n",
              "      height: 32px;\n",
              "      padding: 0 0 0 0;\n",
              "      width: 32px;\n",
              "    }\n",
              "\n",
              "    .colab-df-convert:hover {\n",
              "      background-color: #E2EBFA;\n",
              "      box-shadow: 0px 1px 2px rgba(60, 64, 67, 0.3), 0px 1px 3px 1px rgba(60, 64, 67, 0.15);\n",
              "      fill: #174EA6;\n",
              "    }\n",
              "\n",
              "    .colab-df-buttons div {\n",
              "      margin-bottom: 4px;\n",
              "    }\n",
              "\n",
              "    [theme=dark] .colab-df-convert {\n",
              "      background-color: #3B4455;\n",
              "      fill: #D2E3FC;\n",
              "    }\n",
              "\n",
              "    [theme=dark] .colab-df-convert:hover {\n",
              "      background-color: #434B5C;\n",
              "      box-shadow: 0px 1px 3px 1px rgba(0, 0, 0, 0.15);\n",
              "      filter: drop-shadow(0px 1px 2px rgba(0, 0, 0, 0.3));\n",
              "      fill: #FFFFFF;\n",
              "    }\n",
              "  </style>\n",
              "\n",
              "    <script>\n",
              "      const buttonEl =\n",
              "        document.querySelector('#df-ec51190b-03e8-45c3-8cd6-0c432fb9d72d button.colab-df-convert');\n",
              "      buttonEl.style.display =\n",
              "        google.colab.kernel.accessAllowed ? 'block' : 'none';\n",
              "\n",
              "      async function convertToInteractive(key) {\n",
              "        const element = document.querySelector('#df-ec51190b-03e8-45c3-8cd6-0c432fb9d72d');\n",
              "        const dataTable =\n",
              "          await google.colab.kernel.invokeFunction('convertToInteractive',\n",
              "                                                    [key], {});\n",
              "        if (!dataTable) return;\n",
              "\n",
              "        const docLinkHtml = 'Like what you see? Visit the ' +\n",
              "          '<a target=\"_blank\" href=https://colab.research.google.com/notebooks/data_table.ipynb>data table notebook</a>'\n",
              "          + ' to learn more about interactive tables.';\n",
              "        element.innerHTML = '';\n",
              "        dataTable['output_type'] = 'display_data';\n",
              "        await google.colab.output.renderOutput(dataTable, element);\n",
              "        const docLink = document.createElement('div');\n",
              "        docLink.innerHTML = docLinkHtml;\n",
              "        element.appendChild(docLink);\n",
              "      }\n",
              "    </script>\n",
              "  </div>\n",
              "\n",
              "\n",
              "<div id=\"df-0f6ffd01-4fcc-4b5f-98f1-8c80a702f3a0\">\n",
              "  <button class=\"colab-df-quickchart\" onclick=\"quickchart('df-0f6ffd01-4fcc-4b5f-98f1-8c80a702f3a0')\"\n",
              "            title=\"Suggest charts\"\n",
              "            style=\"display:none;\">\n",
              "\n",
              "<svg xmlns=\"http://www.w3.org/2000/svg\" height=\"24px\"viewBox=\"0 0 24 24\"\n",
              "     width=\"24px\">\n",
              "    <g>\n",
              "        <path d=\"M19 3H5c-1.1 0-2 .9-2 2v14c0 1.1.9 2 2 2h14c1.1 0 2-.9 2-2V5c0-1.1-.9-2-2-2zM9 17H7v-7h2v7zm4 0h-2V7h2v10zm4 0h-2v-4h2v4z\"/>\n",
              "    </g>\n",
              "</svg>\n",
              "  </button>\n",
              "\n",
              "<style>\n",
              "  .colab-df-quickchart {\n",
              "      --bg-color: #E8F0FE;\n",
              "      --fill-color: #1967D2;\n",
              "      --hover-bg-color: #E2EBFA;\n",
              "      --hover-fill-color: #174EA6;\n",
              "      --disabled-fill-color: #AAA;\n",
              "      --disabled-bg-color: #DDD;\n",
              "  }\n",
              "\n",
              "  [theme=dark] .colab-df-quickchart {\n",
              "      --bg-color: #3B4455;\n",
              "      --fill-color: #D2E3FC;\n",
              "      --hover-bg-color: #434B5C;\n",
              "      --hover-fill-color: #FFFFFF;\n",
              "      --disabled-bg-color: #3B4455;\n",
              "      --disabled-fill-color: #666;\n",
              "  }\n",
              "\n",
              "  .colab-df-quickchart {\n",
              "    background-color: var(--bg-color);\n",
              "    border: none;\n",
              "    border-radius: 50%;\n",
              "    cursor: pointer;\n",
              "    display: none;\n",
              "    fill: var(--fill-color);\n",
              "    height: 32px;\n",
              "    padding: 0;\n",
              "    width: 32px;\n",
              "  }\n",
              "\n",
              "  .colab-df-quickchart:hover {\n",
              "    background-color: var(--hover-bg-color);\n",
              "    box-shadow: 0 1px 2px rgba(60, 64, 67, 0.3), 0 1px 3px 1px rgba(60, 64, 67, 0.15);\n",
              "    fill: var(--button-hover-fill-color);\n",
              "  }\n",
              "\n",
              "  .colab-df-quickchart-complete:disabled,\n",
              "  .colab-df-quickchart-complete:disabled:hover {\n",
              "    background-color: var(--disabled-bg-color);\n",
              "    fill: var(--disabled-fill-color);\n",
              "    box-shadow: none;\n",
              "  }\n",
              "\n",
              "  .colab-df-spinner {\n",
              "    border: 2px solid var(--fill-color);\n",
              "    border-color: transparent;\n",
              "    border-bottom-color: var(--fill-color);\n",
              "    animation:\n",
              "      spin 1s steps(1) infinite;\n",
              "  }\n",
              "\n",
              "  @keyframes spin {\n",
              "    0% {\n",
              "      border-color: transparent;\n",
              "      border-bottom-color: var(--fill-color);\n",
              "      border-left-color: var(--fill-color);\n",
              "    }\n",
              "    20% {\n",
              "      border-color: transparent;\n",
              "      border-left-color: var(--fill-color);\n",
              "      border-top-color: var(--fill-color);\n",
              "    }\n",
              "    30% {\n",
              "      border-color: transparent;\n",
              "      border-left-color: var(--fill-color);\n",
              "      border-top-color: var(--fill-color);\n",
              "      border-right-color: var(--fill-color);\n",
              "    }\n",
              "    40% {\n",
              "      border-color: transparent;\n",
              "      border-right-color: var(--fill-color);\n",
              "      border-top-color: var(--fill-color);\n",
              "    }\n",
              "    60% {\n",
              "      border-color: transparent;\n",
              "      border-right-color: var(--fill-color);\n",
              "    }\n",
              "    80% {\n",
              "      border-color: transparent;\n",
              "      border-right-color: var(--fill-color);\n",
              "      border-bottom-color: var(--fill-color);\n",
              "    }\n",
              "    90% {\n",
              "      border-color: transparent;\n",
              "      border-bottom-color: var(--fill-color);\n",
              "    }\n",
              "  }\n",
              "</style>\n",
              "\n",
              "  <script>\n",
              "    async function quickchart(key) {\n",
              "      const quickchartButtonEl =\n",
              "        document.querySelector('#' + key + ' button');\n",
              "      quickchartButtonEl.disabled = true;  // To prevent multiple clicks.\n",
              "      quickchartButtonEl.classList.add('colab-df-spinner');\n",
              "      try {\n",
              "        const charts = await google.colab.kernel.invokeFunction(\n",
              "            'suggestCharts', [key], {});\n",
              "      } catch (error) {\n",
              "        console.error('Error during call to suggestCharts:', error);\n",
              "      }\n",
              "      quickchartButtonEl.classList.remove('colab-df-spinner');\n",
              "      quickchartButtonEl.classList.add('colab-df-quickchart-complete');\n",
              "    }\n",
              "    (() => {\n",
              "      let quickchartButtonEl =\n",
              "        document.querySelector('#df-0f6ffd01-4fcc-4b5f-98f1-8c80a702f3a0 button');\n",
              "      quickchartButtonEl.style.display =\n",
              "        google.colab.kernel.accessAllowed ? 'block' : 'none';\n",
              "    })();\n",
              "  </script>\n",
              "</div>\n",
              "\n",
              "    </div>\n",
              "  </div>\n"
            ],
            "application/vnd.google.colaboratory.intrinsic+json": {
              "type": "dataframe",
              "summary": "{\n  \"name\": \"data [data['Age'] <=18][['Name']]\",\n  \"rows\": 2,\n  \"fields\": [\n    {\n      \"column\": \"Name\",\n      \"properties\": {\n        \"dtype\": \"string\",\n        \"num_unique_values\": 2,\n        \"samples\": [\n          \"Will\",\n          \"Sam\"\n        ],\n        \"semantic_type\": \"\",\n        \"description\": \"\"\n      }\n    }\n  ]\n}"
            }
          },
          "metadata": {},
          "execution_count": 46
        }
      ]
    },
    {
      "cell_type": "code",
      "source": [
        "import pandas as pd"
      ],
      "metadata": {
        "id": "j_ghHhhEHdAU"
      },
      "execution_count": 2,
      "outputs": []
    },
    {
      "cell_type": "code",
      "source": [
        "data = pd.DataFrame({'Name':['Ayush', 'Waqar', 'Vinay', 'Prashant', 'Naveen'],\n",
        "                     'Marks' :[88, 79, 75, 83, 77]}, index=['C1', 'C2', 'C3', 'C4', 'C5'])\n",
        "data.head()"
      ],
      "metadata": {
        "colab": {
          "base_uri": "https://localhost:8080/",
          "height": 917
        },
        "id": "5eLLy9AVU7HZ",
        "outputId": "b159c73e-42c9-45d3-87f7-4337c4e98b2c"
      },
      "execution_count": 9,
      "outputs": [
        {
          "output_type": "execute_result",
          "data": {
            "text/plain": [
              "        Name  Marks\n",
              "C1     Ayush     88\n",
              "C2     Waqar     79\n",
              "C3     Vinay     75\n",
              "C4  Prashant     83\n",
              "C5    Naveen     77"
            ],
            "text/html": [
              "\n",
              "  <div id=\"df-037f19a1-42eb-4928-b980-247ef10f6bb4\" class=\"colab-df-container\">\n",
              "    <div>\n",
              "<style scoped>\n",
              "    .dataframe tbody tr th:only-of-type {\n",
              "        vertical-align: middle;\n",
              "    }\n",
              "\n",
              "    .dataframe tbody tr th {\n",
              "        vertical-align: top;\n",
              "    }\n",
              "\n",
              "    .dataframe thead th {\n",
              "        text-align: right;\n",
              "    }\n",
              "</style>\n",
              "<table border=\"1\" class=\"dataframe\">\n",
              "  <thead>\n",
              "    <tr style=\"text-align: right;\">\n",
              "      <th></th>\n",
              "      <th>Name</th>\n",
              "      <th>Marks</th>\n",
              "    </tr>\n",
              "  </thead>\n",
              "  <tbody>\n",
              "    <tr>\n",
              "      <th>C1</th>\n",
              "      <td>Ayush</td>\n",
              "      <td>88</td>\n",
              "    </tr>\n",
              "    <tr>\n",
              "      <th>C2</th>\n",
              "      <td>Waqar</td>\n",
              "      <td>79</td>\n",
              "    </tr>\n",
              "    <tr>\n",
              "      <th>C3</th>\n",
              "      <td>Vinay</td>\n",
              "      <td>75</td>\n",
              "    </tr>\n",
              "    <tr>\n",
              "      <th>C4</th>\n",
              "      <td>Prashant</td>\n",
              "      <td>83</td>\n",
              "    </tr>\n",
              "    <tr>\n",
              "      <th>C5</th>\n",
              "      <td>Naveen</td>\n",
              "      <td>77</td>\n",
              "    </tr>\n",
              "  </tbody>\n",
              "</table>\n",
              "</div>\n",
              "    <div class=\"colab-df-buttons\">\n",
              "\n",
              "  <div class=\"colab-df-container\">\n",
              "    <button class=\"colab-df-convert\" onclick=\"convertToInteractive('df-037f19a1-42eb-4928-b980-247ef10f6bb4')\"\n",
              "            title=\"Convert this dataframe to an interactive table.\"\n",
              "            style=\"display:none;\">\n",
              "\n",
              "  <svg xmlns=\"http://www.w3.org/2000/svg\" height=\"24px\" viewBox=\"0 -960 960 960\">\n",
              "    <path d=\"M120-120v-720h720v720H120Zm60-500h600v-160H180v160Zm220 220h160v-160H400v160Zm0 220h160v-160H400v160ZM180-400h160v-160H180v160Zm440 0h160v-160H620v160ZM180-180h160v-160H180v160Zm440 0h160v-160H620v160Z\"/>\n",
              "  </svg>\n",
              "    </button>\n",
              "\n",
              "  <style>\n",
              "    .colab-df-container {\n",
              "      display:flex;\n",
              "      gap: 12px;\n",
              "    }\n",
              "\n",
              "    .colab-df-convert {\n",
              "      background-color: #E8F0FE;\n",
              "      border: none;\n",
              "      border-radius: 50%;\n",
              "      cursor: pointer;\n",
              "      display: none;\n",
              "      fill: #1967D2;\n",
              "      height: 32px;\n",
              "      padding: 0 0 0 0;\n",
              "      width: 32px;\n",
              "    }\n",
              "\n",
              "    .colab-df-convert:hover {\n",
              "      background-color: #E2EBFA;\n",
              "      box-shadow: 0px 1px 2px rgba(60, 64, 67, 0.3), 0px 1px 3px 1px rgba(60, 64, 67, 0.15);\n",
              "      fill: #174EA6;\n",
              "    }\n",
              "\n",
              "    .colab-df-buttons div {\n",
              "      margin-bottom: 4px;\n",
              "    }\n",
              "\n",
              "    [theme=dark] .colab-df-convert {\n",
              "      background-color: #3B4455;\n",
              "      fill: #D2E3FC;\n",
              "    }\n",
              "\n",
              "    [theme=dark] .colab-df-convert:hover {\n",
              "      background-color: #434B5C;\n",
              "      box-shadow: 0px 1px 3px 1px rgba(0, 0, 0, 0.15);\n",
              "      filter: drop-shadow(0px 1px 2px rgba(0, 0, 0, 0.3));\n",
              "      fill: #FFFFFF;\n",
              "    }\n",
              "  </style>\n",
              "\n",
              "    <script>\n",
              "      const buttonEl =\n",
              "        document.querySelector('#df-037f19a1-42eb-4928-b980-247ef10f6bb4 button.colab-df-convert');\n",
              "      buttonEl.style.display =\n",
              "        google.colab.kernel.accessAllowed ? 'block' : 'none';\n",
              "\n",
              "      async function convertToInteractive(key) {\n",
              "        const element = document.querySelector('#df-037f19a1-42eb-4928-b980-247ef10f6bb4');\n",
              "        const dataTable =\n",
              "          await google.colab.kernel.invokeFunction('convertToInteractive',\n",
              "                                                    [key], {});\n",
              "        if (!dataTable) return;\n",
              "\n",
              "        const docLinkHtml = 'Like what you see? Visit the ' +\n",
              "          '<a target=\"_blank\" href=https://colab.research.google.com/notebooks/data_table.ipynb>data table notebook</a>'\n",
              "          + ' to learn more about interactive tables.';\n",
              "        element.innerHTML = '';\n",
              "        dataTable['output_type'] = 'display_data';\n",
              "        await google.colab.output.renderOutput(dataTable, element);\n",
              "        const docLink = document.createElement('div');\n",
              "        docLink.innerHTML = docLinkHtml;\n",
              "        element.appendChild(docLink);\n",
              "      }\n",
              "    </script>\n",
              "  </div>\n",
              "\n",
              "\n",
              "<div id=\"df-fd9d3d9d-d7a3-43eb-a906-52850546f216\">\n",
              "  <button class=\"colab-df-quickchart\" onclick=\"quickchart('df-fd9d3d9d-d7a3-43eb-a906-52850546f216')\"\n",
              "            title=\"Suggest charts\"\n",
              "            style=\"display:none;\">\n",
              "\n",
              "<svg xmlns=\"http://www.w3.org/2000/svg\" height=\"24px\"viewBox=\"0 0 24 24\"\n",
              "     width=\"24px\">\n",
              "    <g>\n",
              "        <path d=\"M19 3H5c-1.1 0-2 .9-2 2v14c0 1.1.9 2 2 2h14c1.1 0 2-.9 2-2V5c0-1.1-.9-2-2-2zM9 17H7v-7h2v7zm4 0h-2V7h2v10zm4 0h-2v-4h2v4z\"/>\n",
              "    </g>\n",
              "</svg>\n",
              "  </button>\n",
              "\n",
              "<style>\n",
              "  .colab-df-quickchart {\n",
              "      --bg-color: #E8F0FE;\n",
              "      --fill-color: #1967D2;\n",
              "      --hover-bg-color: #E2EBFA;\n",
              "      --hover-fill-color: #174EA6;\n",
              "      --disabled-fill-color: #AAA;\n",
              "      --disabled-bg-color: #DDD;\n",
              "  }\n",
              "\n",
              "  [theme=dark] .colab-df-quickchart {\n",
              "      --bg-color: #3B4455;\n",
              "      --fill-color: #D2E3FC;\n",
              "      --hover-bg-color: #434B5C;\n",
              "      --hover-fill-color: #FFFFFF;\n",
              "      --disabled-bg-color: #3B4455;\n",
              "      --disabled-fill-color: #666;\n",
              "  }\n",
              "\n",
              "  .colab-df-quickchart {\n",
              "    background-color: var(--bg-color);\n",
              "    border: none;\n",
              "    border-radius: 50%;\n",
              "    cursor: pointer;\n",
              "    display: none;\n",
              "    fill: var(--fill-color);\n",
              "    height: 32px;\n",
              "    padding: 0;\n",
              "    width: 32px;\n",
              "  }\n",
              "\n",
              "  .colab-df-quickchart:hover {\n",
              "    background-color: var(--hover-bg-color);\n",
              "    box-shadow: 0 1px 2px rgba(60, 64, 67, 0.3), 0 1px 3px 1px rgba(60, 64, 67, 0.15);\n",
              "    fill: var(--button-hover-fill-color);\n",
              "  }\n",
              "\n",
              "  .colab-df-quickchart-complete:disabled,\n",
              "  .colab-df-quickchart-complete:disabled:hover {\n",
              "    background-color: var(--disabled-bg-color);\n",
              "    fill: var(--disabled-fill-color);\n",
              "    box-shadow: none;\n",
              "  }\n",
              "\n",
              "  .colab-df-spinner {\n",
              "    border: 2px solid var(--fill-color);\n",
              "    border-color: transparent;\n",
              "    border-bottom-color: var(--fill-color);\n",
              "    animation:\n",
              "      spin 1s steps(1) infinite;\n",
              "  }\n",
              "\n",
              "  @keyframes spin {\n",
              "    0% {\n",
              "      border-color: transparent;\n",
              "      border-bottom-color: var(--fill-color);\n",
              "      border-left-color: var(--fill-color);\n",
              "    }\n",
              "    20% {\n",
              "      border-color: transparent;\n",
              "      border-left-color: var(--fill-color);\n",
              "      border-top-color: var(--fill-color);\n",
              "    }\n",
              "    30% {\n",
              "      border-color: transparent;\n",
              "      border-left-color: var(--fill-color);\n",
              "      border-top-color: var(--fill-color);\n",
              "      border-right-color: var(--fill-color);\n",
              "    }\n",
              "    40% {\n",
              "      border-color: transparent;\n",
              "      border-right-color: var(--fill-color);\n",
              "      border-top-color: var(--fill-color);\n",
              "    }\n",
              "    60% {\n",
              "      border-color: transparent;\n",
              "      border-right-color: var(--fill-color);\n",
              "    }\n",
              "    80% {\n",
              "      border-color: transparent;\n",
              "      border-right-color: var(--fill-color);\n",
              "      border-bottom-color: var(--fill-color);\n",
              "    }\n",
              "    90% {\n",
              "      border-color: transparent;\n",
              "      border-bottom-color: var(--fill-color);\n",
              "    }\n",
              "  }\n",
              "</style>\n",
              "\n",
              "  <script>\n",
              "    async function quickchart(key) {\n",
              "      const quickchartButtonEl =\n",
              "        document.querySelector('#' + key + ' button');\n",
              "      quickchartButtonEl.disabled = true;  // To prevent multiple clicks.\n",
              "      quickchartButtonEl.classList.add('colab-df-spinner');\n",
              "      try {\n",
              "        const charts = await google.colab.kernel.invokeFunction(\n",
              "            'suggestCharts', [key], {});\n",
              "      } catch (error) {\n",
              "        console.error('Error during call to suggestCharts:', error);\n",
              "      }\n",
              "      quickchartButtonEl.classList.remove('colab-df-spinner');\n",
              "      quickchartButtonEl.classList.add('colab-df-quickchart-complete');\n",
              "    }\n",
              "    (() => {\n",
              "      let quickchartButtonEl =\n",
              "        document.querySelector('#df-fd9d3d9d-d7a3-43eb-a906-52850546f216 button');\n",
              "      quickchartButtonEl.style.display =\n",
              "        google.colab.kernel.accessAllowed ? 'block' : 'none';\n",
              "    })();\n",
              "  </script>\n",
              "</div>\n",
              "\n",
              "    </div>\n",
              "  </div>\n"
            ],
            "application/vnd.google.colaboratory.intrinsic+json": {
              "type": "dataframe",
              "variable_name": "data",
              "summary": "{\n  \"name\": \"data\",\n  \"rows\": 5,\n  \"fields\": [\n    {\n      \"column\": \"Name\",\n      \"properties\": {\n        \"dtype\": \"string\",\n        \"num_unique_values\": 5,\n        \"samples\": [\n          \"Waqar\",\n          \"Naveen\",\n          \"Vinay\"\n        ],\n        \"semantic_type\": \"\",\n        \"description\": \"\"\n      }\n    },\n    {\n      \"column\": \"Marks\",\n      \"properties\": {\n        \"dtype\": \"number\",\n        \"std\": 5,\n        \"min\": 75,\n        \"max\": 88,\n        \"num_unique_values\": 5,\n        \"samples\": [\n          79,\n          77,\n          75\n        ],\n        \"semantic_type\": \"\",\n        \"description\": \"\"\n      }\n    }\n  ]\n}"
            }
          },
          "metadata": {},
          "execution_count": 9
        },
        {
          "output_type": "display_data",
          "data": {
            "text/plain": [
              "<google.colab._quickchart_helpers.SectionTitle at 0x7ea377cf1d80>"
            ],
            "text/html": [
              "<h4 class=\"colab-quickchart-section-title\">Distributions</h4>\n",
              "<style>\n",
              "  .colab-quickchart-section-title {\n",
              "      clear: both;\n",
              "  }\n",
              "</style>"
            ]
          },
          "metadata": {}
        },
        {
          "output_type": "display_data",
          "data": {
            "text/plain": [
              "from matplotlib import pyplot as plt\n",
              "_df_10['Marks'].plot(kind='hist', bins=20, title='Marks')\n",
              "plt.gca().spines[['top', 'right',]].set_visible(False)"
            ],
            "text/html": [
              "      <div class=\"colab-quickchart-chart-with-code\" id=\"chart-209661b3-264b-4cfb-bda0-72f30ba84dc8\">\n",
              "        <img style=\"width: 180px;\" src=\"data:image/png;base64,iVBORw0KGgoAAAANSUhEUgAAAioAAAGrCAYAAADuNLxTAAAAOXRFWHRTb2Z0d2FyZQBNYXRwbG90\n",
              "bGliIHZlcnNpb24zLjcuMSwgaHR0cHM6Ly9tYXRwbG90bGliLm9yZy/bCgiHAAAACXBIWXMAAA9h\n",
              "AAAPYQGoP6dpAAAgTklEQVR4nO3df1iV9f3H8dcR4lQqaKRJwtEUDvkjQAwuw66Vta60KZbYVl2W\n",
              "lCC5tmrumkba0r41XLVpaytQnP1wZaYuWbWaDefSTMTKGVYKiTBD0PyBrULAz/cPr/H1hMdvx7g5\n",
              "H+T5uK5zXXLz8fZ9Phc7PXfOzTkuY4wRAACAhboEewAAAAB/CBUAAGAtQgUAAFiLUAEAANYiVAAA\n",
              "gLUIFQAAYC1CBQAAWItQAQAA1iJUAACAtQgVAB3OM888o+jo6GCPAaAdECoA2tyVV14pl8ulgoIC\n",
              "n+NHjhxR9+7d5XK5VF5eHqTpAHQkhAoARwwePLhVqDz//PPq16/fdzpvY2Pjd/r7ADoWQgWAI8aN\n",
              "G6fa2lpt2rSp5djTTz+tnJyclq9ramo0duxYXXDBBerevbsSEhL08ssv+5zH5XJp/vz5SktLU9eu\n",
              "XbVy5cpW/1ZJSYliYmK0YMECSdLatWt16aWXKiIiQpGRkRo5cqQOHjzozB0F4ChCBYAjQkNDlZWV\n",
              "pfz8fEnS+vXrVV9frx/84Acta5qbm3XHHXeooqJCBw4c0D333KNbbrlFZWVlPucqKChQYWGhvvji\n",
              "C40fP97ney+99JLGjRun/Px83XvvvZKkSZMm6a677tKhQ4dUU1Ojxx9/XGFhYc7eYQCOIFQAOCY7\n",
              "O1srV67UoUOH9PTTTys7O1tduvzfw050dLQmTJigbt266ayzztKUKVM0ePBgFRcX+5znZz/7mQYP\n",
              "HiyXy6Vzzjmn5fjcuXM1c+ZMrVmzxieAwsLCVFFRoc8++0xhYWG67LLL1LVrV+fvMIA2R6gAcEx0\n",
              "dLRGjRqlxx9/XKtXr9aUKVN8vn/w4EFlZ2froosuUnh4uHr06KGysjLV1dX5rLvoootanfvgwYP6\n",
              "7W9/q2nTpikhIcHne0VFRfr00081fPhwxcbG6sEHH1RTU1Pb30EAjgsN9gAAzmzTpk3Tddddp4yM\n",
              "DEVFRamysrLle/fdd58+/vhjrVu3TjExMXK5XEpMTJQxxuccJz4L8189e/ZUUVGRxowZI5fLpRkz\n",
              "ZrR875JLLtELL7wgSfrggw907bXXKjo6WtnZ2c7cSQCO4RkVAI669tprtWbNGs2fP7/V9w4fPqxz\n",
              "zz1XkZGRamxs1JNPPtnq+pRTSU5O1vr16/XUU0+1hMrRo0e1ZMkS7du3T5IUERGhkJAQhYby/8uA\n",
              "johQAeAol8ulq6+++qRv0Pbwww/rq6++0gUXXKD+/furtrZWI0eODOj8cXFx2rBhg15//XVNmTJF\n",
              "xhitWLFCQ4YMUdeuXXXFFVcoMzNTkydPbqu7BKAducw3n2MFAACwBM+oAAAAaxEqAADAWoQKAACw\n",
              "FqECAACsRagAAABrESoAAMBahAoAALDWGREqTzzxRLBHAAAADjgjQmX37t3BHgEAADjgjAgVAABw\n",
              "ZiJUAACAtQgVAABgLUIFAABYi1ABAADWIlQAAIC1CBUAAGAtQgUAAFiLUAEAANYiVAAAgLUIFQAA\n",
              "YC1CBQAAWMvRULn77rvVv39/uVwuffDBB37XLV68WHFxcRo4cKCys7PV2Njo5FgAAKCDcDRUJk6c\n",
              "qPXr16tfv35+1+zatUsPPPCA3n77bZWXl6u2tlYLFy50ciwAANBBOBoq3/ve9xQdHX3KNStWrFB6\n",
              "err69Okjl8ulO++8Uy+++KLf9Q0NDaqvr/e5NTc3t/XoAADAAqHBHqCqqsrnGZf+/furqqrK7/q8\n",
              "vDzNnTvX59iIESMcma3/fa85cl5Jqpz3A8fO7RT2w5dT+9ER9wK++NlAMJypP3cd7mLa3NxcHT58\n",
              "2OeWmpoa7LEAAIADgv6MisfjUUVFRcvXlZWV8ng8fte73W653W6fYyEhIY7NBwAAgifoz6hkZGSo\n",
              "qKhIe/fulTFG+fn5uummm4I9FgAAsICjoZKTk6Po6Gj9+9//1rXXXqvY2FhJUlZWloqKiiRJAwYM\n",
              "0Ny5czVy5EjFxsaqV69eysnJcXIsAADQQTj60k9BQcFJjxcWFvp8nZ2drezsbCdHAQAAHVDQX/oB\n",
              "AADwh1ABAADWIlQAAIC1CBUAAGAtQgUAAFiLUAEAANYiVAAAgLUIFQAAYC1CBQAAWItQAQAA1iJU\n",
              "AACAtQgVAABgLUIFAABYi1ABAADWIlQAAIC1CBUAAGAtQgUAAFiLUAEAANYiVAAAgLUIFQAAYC1C\n",
              "BQAAWItQAQAA1iJUAACAtQgVAABgLUIFAABYi1ABAADWIlQAAIC1CBUAAGAtQgUAAFiLUAEAANYi\n",
              "VAAAgLUIFQAAYC1CBQAAWItQAQAA1iJUAACAtQgVAABgLUIFAABYi1ABAADWIlQAAIC1CBUAAGAt\n",
              "QgUAAFiLUAEAANYiVAAAgLUIFQAAYC1CBQAAWItQAQAA1iJUAACAtQgVAABgLUIFAABYi1ABAADW\n",
              "IlQAAIC1CBUAAGAtQgUAAFiLUAEAANYiVAAAgLUIFQAAYC1CBQAAWItQAQAA1iJUAACAtQgVAABg\n",
              "LUIFAABYy9FQ2blzp9LS0uT1epWSkqKysrJWa44dO6bp06dr8ODBSkhI0KhRo1ReXu7kWAAAoINw\n",
              "NFRycnI0depU7dixQzNnzlRmZmarNUVFRdqwYYO2bt2qf/3rX7r66qt1//33OzkWAADoIBwLlbq6\n",
              "OpWWlmrSpEmSpIyMDFVXV7d6tsTlcqmhoUFff/21jDGqr69XdHS0U2MBAIAOJNSpE1dXVysqKkqh\n",
              "ocf/CZfLJY/Ho6qqKsXGxrasGzdunNauXas+ffqoe/fu6tu3r9atW+f3vA0NDWpoaPA51tzc7Myd\n",
              "AAAAQRX0i2lLS0v14Ycfas+ePfrss8909dVX68477/S7Pi8vTxERET63kpKSdpwYAAC0F8dCJSYm\n",
              "RjU1NWpqapIkGWNUVVUlj8fjs+65557TVVddpR49eqhLly6aPHmy1q5d6/e8ubm5Onz4sM8tNTXV\n",
              "qbsBAACCyLFQ6d27t5KTk7V06VJJ0sqVKxUdHe3zso8kDRgwQMXFxTp69Kgk6dVXX9XQoUP9ntft\n",
              "dis8PNznFhIS4tTdAAAAQeTYNSqSVFBQoMzMTP3qV79SeHi4lixZIknKyspSenq60tPTddddd+mj\n",
              "jz5SYmKizjrrLPXp00f5+flOjgUAADoIR0MlPj5eGzdubHW8sLCw5c9ut1uLFi1ycgwAANBBBf1i\n",
              "WgAAAH8IFQAAYC1CBQAAWItQAQAA1iJUAACAtQgVAABgLUIFAABYi1ABAADWIlQAAIC1CBUAAGAt\n",
              "QgUAAFiLUAEAANYiVAAAgLUIFQAAYC1CBQAAWItQAQAA1iJUAACAtQgVAABgLUIFAABYi1ABAADW\n",
              "IlQAAIC1CBUAAGAtQgUAAFiLUAEAANYiVAAAgLUIFQAAYC1CBQAAWItQAQAA1iJUAACAtQgVAABg\n",
              "LUIFAABYi1ABAADWIlQAAIC1CBUAAGAtQgUAAFiLUAEAANYiVAAAgLUIFQAAYC1CBQAAWItQAQAA\n",
              "1iJUAACAtQgVAABgLUIFAABYi1ABAADWIlQAAIC1CBUAAGAtQgUAAFiLUAEAANYiVAAAgLUIFQAA\n",
              "YC1CBQAAWItQAQAA1iJUAACAtQgVAABgLUIFAABYi1ABAADWIlQAAIC1CBUAAGAtQgUAAFiLUAEA\n",
              "ANYiVAAAgLUIFQAAYC1HQ2Xnzp1KS0uT1+tVSkqKysrKTrpu27ZtuvLKKzVo0CANGjRIq1atcnIs\n",
              "AADQQYQ6efKcnBxNnTpVmZmZWrFihTIzM7V582afNV9++aXGjx+v5557Tpdffrmam5t14MABJ8cC\n",
              "AAAdhGPPqNTV1am0tFSTJk2SJGVkZKi6ulrl5eU+61544QWNGDFCl19+uSQpJCREvXr18nvehoYG\n",
              "1dfX+9yam5uduhsAACCIHAuV6upqRUVFKTT0+JM2LpdLHo9HVVVVPuu2b98ut9utsWPHKikpSbfd\n",
              "dpv27dvn97x5eXmKiIjwuZWUlDh1NwAAQBAFHCpvvvlmmw7Q1NSkt956SwUFBXr//ffVt29fTZs2\n",
              "ze/63NxcHT582OeWmprapjMBAAA7BBwqDz30kOLj4/XEE0+ovr7e77qYmBjV1NSoqalJkmSMUVVV\n",
              "lTwej886j8ejUaNGqW/fvnK5XJo0aZLeffddv+d1u90KDw/3uYWEhAR6NwAAQAcQcKhs2LBBy5Yt\n",
              "04cffiiv16sf//jH2r59e6t1vXv3VnJyspYuXSpJWrlypaKjoxUbG+uz7oc//KE2b97cEj2vv/66\n",
              "EhMTT+e+AACAM8xpXaMybNgwLVq0SG+88YZeffVVJSQk6JprrtG2bdt81hUUFKigoEBer1fz5s3T\n",
              "kiVLJElZWVkqKiqSdPwZlfvvv19paWlKSEhQcXGx8vPzv+PdAgAAZ4LT+vXkt956S08++aS2bdum\n",
              "u+66S1OmTNE//vEP3XDDDT6/1RMfH6+NGze2+vuFhYU+X99666269dZbT2cUAABwBgs4VAYNGqTz\n",
              "zz9fd999tyZMmNByfcjEiRO1ePHiNh8QAAB0XgGHytKlSzV8+PCTfu+vf/3rdx4IAADgvwK+RmXL\n",
              "li0+7xz7+eefa9GiRW06FAAAgHQaofLUU0/pvPPOa/k6MjJSTz31VJsOBQAAIJ1GqBhjWh3jLewB\n",
              "AIATAg6VqKgoLV++vOXrl156SVFRUW06FAAAgHQaF9MuWLBA48eP14wZMyRJ5557rlavXt3mgwEA\n",
              "AAQcKhdffLG2b9+uTz75RNLx90rhLewBAIATTusN31wul3r06KGmpibt2bNHklp9hg8AAMB3FXCo\n",
              "PPPMM7r77rt11llnqUuX45e4uFwu1dXVtflwAACgcws4VP7nf/5HmzdvVnx8vBPzAAAAtAj4t37O\n",
              "P/98IgUAALSLgEPl+uuv14IFC1RXV6f6+vqWGwAAQFsL+KWfWbNmSZKmT58ul8slY4xcLhdv+gYA\n",
              "ANpcwKFy7NgxJ+YAAABoJeCXfqTjH0z4/PPPS5IOHTqkmpqaNh0KAABAOs0PJbzjjjs0Z84cScc/\n",
              "PfmWW25p67kAAAACD5WFCxfq3XffVXh4uCRp4MCB2rdvX5sPBgAAEHCouN1unXPOOT7HQkNP6w1u\n",
              "AQAATingUOnVq5d27Nghl8sl6fg71fL2+QAAwAmn9enJN998sz7++GPFxMQoPDxcr776qhOzAQCA\n",
              "Ti7gUImNjdWmTZv0ySefyBjDpycDAADHBBwqVVVVkqSuXbtKEp+eDAAAHBNwqAwfPrzlHWm//vpr\n",
              "ffnll4qMjOTTkwEAQJsLOFS++avIq1at0tatW9tsIAAAgP86rXemPdGECRP02muvtcUsAAAAPgJ+\n",
              "RuXET0pubm7Wpk2b+PRkAADgiIBDpUePHi3XqISEhCguLk6/+93vnJgNAAB0cnx6MgAAsNZ3vkYF\n",
              "AADAKQE/o9KlS5eWt88/kTFGLpdLzc3NbTIYAABAwKHy0EMP6auvvtK0adMkSfn5+TrnnHN07733\n",
              "tvVsAACgkws4VP785z9ry5YtLV8//PDDGj58uGbNmtWmgwEAAAR8jcqRI0d83oW2rq5OR44cadOh\n",
              "AAAApNN4RuXnP/+5EhMTdd1110mS3njjDc2ZM6et5wIAAAg8VHJycjRy5EitXbtWkjR9+nQNGTKk\n",
              "zQcDAAAIOFQkKTIyUpdccomuvPJKNTU16ejRowoLC2vr2QAAQCcX8DUqK1as0IgRI3T77bdLksrK\n",
              "ynT99de39VwAAACBh0peXp7ee+899ejRQ5KUmJio3bt3t/VcAAAAgYdKSEiIIiMjfY7xsg8AAHBC\n",
              "wKHSvXt31dbWtrw77d///nedd955bT4YAABAwBfT/vrXv9aYMWP06aef6vLLL9euXbv02muvOTEb\n",
              "AADo5AIKlWPHjqm5uVlr167VO++8I2OM0tLSWq5XAQAAaEsBhUqXLl00depUbd26VWPGjHFqJgAA\n",
              "AEmncY1KXFycysvLnZgFAADAR8DXqBw4cEBJSUlKS0tTt27dWo6vWrWqTQcDAAD41qEydepULVy4\n",
              "UJMnT1Z6erp69uzp5FwAAADfPlRKS0slSZMnT1ZycrLee+89x4YCAACQTuMaFUkyxrT1HAAAAK18\n",
              "62dUvvrqK23btk3GGH399dctf/6vhIQERwYEAACdV0Chkp6e3vL1iX92uVz69NNP23YyAADQ6X3r\n",
              "UKmsrHRwDAAAgNZO6xoVAACA9kCoAAAAaxEqAADAWoQKAACwFqECAACsRagAAABrESoAAMBahAoA\n",
              "ALAWoQIAAKzlaKjs3LlTaWlp8nq9SklJUVlZmd+1xhhdddVV6tGjh5MjAQCADsTRUMnJydHUqVO1\n",
              "Y8cOzZw5U5mZmX7Xzp8/XwMHDnRyHAAA0ME4Fip1dXUqLS3VpEmTJEkZGRmqrq5WeXl5q7VlZWV6\n",
              "5ZVXdN999/2/521oaFB9fb3Prbm5uc3nBwAAwedYqFRXVysqKkqhocc/99Dlcsnj8aiqqspnXWNj\n",
              "o7Kzs1VQUKCQkJD/97x5eXmKiIjwuZWUlDhyHwAAQHAF/WLauXPnasKECRo0aNC3Wp+bm6vDhw/7\n",
              "3FJTUx2eEgAABEOoUyeOiYlRTU2NmpqaFBoaKmOMqqqq5PF4fNatW7dOVVVV+v3vf6+mpibV19er\n",
              "f//+2rx5s3r16tXqvG63W2632+fYt3kmBgAAdDyOPaPSu3dvJScna+nSpZKklStXKjo6WrGxsT7r\n",
              "3n77be3evVuVlZVav369wsPDVVlZedJIAQAAnYujL/0UFBSooKBAXq9X8+bN05IlSyRJWVlZKioq\n",
              "cvKfBgAAZwDHXvqRpPj4eG3cuLHV8cLCwpOu79+/vw4dOuTkSAAAoAMJ+sW0AAAA/hAqAADAWoQK\n",
              "AACwFqECAACsRagAAABrESoAAMBahAoAALAWoQIAAKxFqAAAAGsRKgAAwFqECgAAsBahAgAArEWo\n",
              "AAAAaxEqAADAWoQKAACwFqECAACsRagAAABrESoAAMBahAoAALAWoQIAAKxFqAAAAGsRKgAAwFqE\n",
              "CgAAsBahAgAArEWoAAAAaxEqAADAWoQKAACwFqECAACsRagAAABrESoAAMBahAoAALAWoQIAAKxF\n",
              "qAAAAGsRKgAAwFqECgAAsBahAgAArEWoAAAAaxEqAADAWoQKAACwFqECAACsRagAAABrESoAAMBa\n",
              "hAoAALAWoQIAAKxFqAAAAGsRKgAAwFqECgAAsBahAgAArEWoAAAAaxEqAADAWoQKAACwFqECAACs\n",
              "RagAAABrESoAAMBahAoAALAWoQIAAKxFqAAAAGsRKgAAwFqECgAAsBahAgAArEWoAAAAaxEqAADA\n",
              "Wo6Gys6dO5WWliav16uUlBSVlZW1WlNcXKzU1FQNHjxYQ4YM0YwZM3Ts2DEnxwIAAB2Eo6GSk5Oj\n",
              "qVOnaseOHZo5c6YyMzNbrenZs6eWLVum7du3a8uWLXrnnXf03HPPOTkWAADoIBwLlbq6OpWWlmrS\n",
              "pEmSpIyMDFVXV6u8vNxn3bBhwzRgwABJ0tlnn62kpCRVVlb6PW9DQ4Pq6+t9bs3NzU7dDQAAEESO\n",
              "hUp1dbWioqIUGhoqSXK5XPJ4PKqqqvL7d/bu3asVK1Zo7Nixftfk5eUpIiLC51ZSUtLm8wMAgOCz\n",
              "5mLa+vp6jRs3TjNmzNCll17qd11ubq4OHz7sc0tNTW3HSQEAQHsJderEMTExqqmpUVNTk0JDQ2WM\n",
              "UVVVlTweT6u1R44c0ejRozV+/HhNnz79lOd1u91yu90+x0JCQtp0dgAAYAfHnlHp3bu3kpOTtXTp\n",
              "UknSypUrFR0drdjYWJ91X3zxhUaPHq3Ro0dr9uzZTo0DAAA6IEdf+ikoKFBBQYG8Xq/mzZunJUuW\n",
              "SJKysrJUVFQkSXriiSdUUlKiVatWKSkpSUlJSXrkkUecHAsAAHQQjr30I0nx8fHauHFjq+OFhYUt\n",
              "f541a5ZmzZrl5BgAAKCDsuZiWgAAgG8iVAAAgLUIFQAAYC1CBQAAWItQAQAA1iJUAACAtQgVAABg\n",
              "LUIFAABYi1ABAADWIlQAAIC1CBUAAGAtQgUAAFiLUAEAANYiVAAAgLUIFQAAYC1CBQAAWItQAQAA\n",
              "1iJUAACAtQgVAABgLUIFAABYi1ABAADWIlQAAIC1CBUAAGAtQgUAAFiLUAEAANYiVAAAgLUIFQAA\n",
              "YC1CBQAAWItQAQAA1iJUAACAtQgVAABgLUIFAABYi1ABAADWIlQAAIC1CBUAAGAtQgUAAFiLUAEA\n",
              "ANYiVAAAgLUIFQAAYC1CBQAAWItQAQAA1iJUAACAtQgVAABgLUIFAABYi1ABAADWIlQAAIC1CBUA\n",
              "AGAtQgUAAFiLUAEAANYiVAAAgLUIFQAAYC1CBQAAWItQAQAA1iJUAACAtQgVAABgLUIFAABYi1AB\n",
              "AADWIlQAAIC1CBUAAGAtQgUAAFiLUAEAANZyNFR27typtLQ0eb1epaSkqKys7KTrFi9erLi4OA0c\n",
              "OFDZ2dlqbGx0ciwAANBBOBoqOTk5mjp1qnbs2KGZM2cqMzOz1Zpdu3bpgQce0Ntvv63y8nLV1tZq\n",
              "4cKFTo4FAAA6CMdCpa6uTqWlpZo0aZIkKSMjQ9XV1SovL/dZt2LFCqWnp6tPnz5yuVy688479eKL\n",
              "L/o9b0NDg+rr631uzc3NTt0NAAAQRC5jjHHixFu2bNEtt9yiTz75pOVYamqq5s2bp6uuuqrl2E9/\n",
              "+lNdeOGFys3NlSRt375do0ePVlVV1UnPO2fOHM2dO9fn2MUXX6wxY8Y4cC/s0NzcrJKSEqWmpiok\n",
              "JCTY41iBPTk59qU19uTk2JfW2JPWnN6Tfv366Z577jnlmtA2/1cdlpubq+nTp/scc7vdcrvdQZrI\n",
              "efX19YqIiNCbb76p8PDwYI9jBfbk5NiX1tiTk2NfWmNPWrNhTxwLlZiYGNXU1KipqUmhoaEyxqiq\n",
              "qkoej8dnncfjUUVFRcvXlZWVrdac6EyPEgAA8H8cu0ald+/eSk5O1tKlSyVJK1euVHR0tGJjY33W\n",
              "ZWRkqKioSHv37pUxRvn5+brpppucGgsAAHQgjv7WT0FBgQoKCuT1ejVv3jwtWbJEkpSVlaWioiJJ\n",
              "0oABAzR37lyNHDlSsbGx6tWrl3JycpwcCwAAdBCOXqMSHx+vjRs3tjpeWFjo83V2drays7OdHKVD\n",
              "c7vdevDBB3nJ6wTsycmxL62xJyfHvrTGnrRmw5449ls/AAAA3xVvoQ8AAKxFqAAAAGsRKgAAwFqE\n",
              "CgAAsBahYpnPP/9cSUlJLTev16vQ0FAdOHBAxhjNmTNHXq9Xl1xyiUaNGhXscdvFqfakpKREI0aM\n",
              "0LBhwzRo0CA9+uijwR63Xb3++utKTk5WUlKShg4dqmeffVbS8c/aGj16tOLi4jR06FD985//DPKk\n",
              "7cffntx+++3yer1KTEzUyJEjtXnz5iBP2n787cl/FRcXKyQkRAsWLAjOgEHib18662Ot5H9PgvpY\n",
              "a2C1xx57zIwdO9YYY8yCBQvMDTfcYBoaGowxxtTU1ARztKA5cU8SExPN6tWrjTHGfP7556ZXr16m\n",
              "rKwsmOO1m2PHjpmePXuarVu3GmOM2bVrl3G73aa+vt7cfvvt5sEHHzTGGFNSUmL69u1rjh49GsRp\n",
              "28ep9mT16tWmsbHRGGPMX/7yF9OvX78gTtp+TrUnxhhz6NAhk5KSYsaOHWvmz58fxEnb16n2pbM+\n",
              "1p5qT4L5WNvhPuuns1m8eLHy8vIkSY899piKi4sVFhYmSerTp08wRwuaE/fE5XLp0KFDkqT//Oc/\n",
              "CgsL03nnnRfE6drXife/vr5ekZGRcrvdWr58ecsnlaekpOjCCy/UunXr9P3vfz+I07YPf3uSnp7e\n",
              "smbEiBHas2dPy0d8nOn87Ykk/eQnP9Hs2bO1atWqIE4YHP72pTM/1vrbk6A+1rZLDuG0bNiwwVxw\n",
              "wQWmsbHRHD582ISGhppHH33UpKammtTUVLNs2bJgj9juTtwTY4x5//33jcfjMTExMebss882zz77\n",
              "bJAnbF9r1qwxkZGRxuPxmO7du5s1a9aY/fv3m7CwMJ91N954o1m8eHGQpmxfJ9uTb5o9e7ZJT08P\n",
              "wnTB4W9PXn75ZXPbbbcZY4yZPHlyp3pGxZiT70tnf6z197MSzMdaQsVid9xxh/nFL35hjDn+VJsk\n",
              "M3fuXGPM8afkoqKizAcffBDMEdvdiXtijDE/+tGPzJ/+9CdjjDEVFRUmOjq607z009jYaK644gqz\n",
              "bt06Y8zxl3j69Olj9u7d22lDxd+e7Nu3r2XN888/b7xer9m7d2+wxmxX/vakurraJCYmmoMHDxpj\n",
              "Ol+o+NuX2traTvtYe6r//QTzsZZQsdSRI0dMt27dzEcffdRyrFu3bqaioqLl64kTJ5pFixYFY7yg\n",
              "+Oae7Nu3r9V/kCdOnGgWLlwYjPHa3ebNm01cXJzPsUsvvdT87W9/M+eee67P6+opKSknfWbhTHOq\n",
              "PTHGmGXLlpnY2Fize/fuYIwXFP725JVXXjG9e/c2/fr1M/369TNdu3Y1PXv2NPfff3+QJm1fp/pZ\n",
              "6ayPtf72ZPny5UF9rOW3fiz10ksvKTExURdffHHLsZtvvllvvPGGJLX8xktCQkKwRmx339yTnj17\n",
              "qmvXriouLpYk7d+/X5s2bdLQoUODOWa7iYmJUU1NjT766CNJUnl5uSoqKhQfH68bb7xR+fn5kqTN\n",
              "mzdrz549uuKKK4I5brs41Z4sX75cs2fP1ltvvSWPxxPkSduPvz0ZNmyYamtrVVlZqcrKSk2cOFG/\n",
              "/OUv9cgjjwR54vZxqp+VzvpY629PUlNTg/tY2y45hIBddtll5o9//KPPsf3795tx48aZIUOGmCFD\n",
              "hpg//OEPQZouOE62J2vWrDHJyckmISHBDBo0yPzmN78J0nTB8cILL5ihQ4eahIQEM3To0JanZvfu\n",
              "3WuuueYaExsbawYPHmyKi4uDPGn78bcnoaGhJjo62iQmJrbc9u/fH+Rp24e/PTlRZ3vpxxj/+9KZ\n",
              "H2v97UkwH2v5UEIAAGAtXvoBAADWIlQAAIC1CBUAAGAtQgUAAFiLUAEAANYiVAAAgLUIFQAAYC1C\n",
              "BQAAWItQAQAA1iJUAACAtf4X4IzgWhI+pv0AAAAASUVORK5CYII=\n",
              "\">\n",
              "      </div>\n",
              "      <script type=\"text/javascript\">\n",
              "        (() => {\n",
              "          const chartElement = document.getElementById(\"chart-209661b3-264b-4cfb-bda0-72f30ba84dc8\");\n",
              "          async function getCodeForChartHandler(event) {\n",
              "            const chartCodeResponse =  await google.colab.kernel.invokeFunction(\n",
              "                'getCodeForChart', [\"chart-209661b3-264b-4cfb-bda0-72f30ba84dc8\"], {});\n",
              "            const responseJson = chartCodeResponse.data['application/json'];\n",
              "            await google.colab.notebook.addCell(responseJson.code, 'code');\n",
              "          }\n",
              "          chartElement.onclick = getCodeForChartHandler;\n",
              "        })();\n",
              "      </script>\n",
              "      <style>\n",
              "        .colab-quickchart-chart-with-code  {\n",
              "            display: block;\n",
              "            float: left;\n",
              "            border: 1px solid transparent;\n",
              "        }\n",
              "\n",
              "        .colab-quickchart-chart-with-code:hover {\n",
              "            cursor: pointer;\n",
              "            border: 1px solid #aaa;\n",
              "        }\n",
              "      </style>"
            ]
          },
          "metadata": {}
        },
        {
          "output_type": "display_data",
          "data": {
            "text/plain": [
              "<google.colab._quickchart_helpers.SectionTitle at 0x7ea377cf1870>"
            ],
            "text/html": [
              "<h4 class=\"colab-quickchart-section-title\">Categorical distributions</h4>\n",
              "<style>\n",
              "  .colab-quickchart-section-title {\n",
              "      clear: both;\n",
              "  }\n",
              "</style>"
            ]
          },
          "metadata": {}
        },
        {
          "output_type": "display_data",
          "data": {
            "text/plain": [
              "from matplotlib import pyplot as plt\n",
              "import seaborn as sns\n",
              "_df_11.groupby('Name').size().plot(kind='barh', color=sns.palettes.mpl_palette('Dark2'))\n",
              "plt.gca().spines[['top', 'right',]].set_visible(False)"
            ],
            "text/html": [
              "      <div class=\"colab-quickchart-chart-with-code\" id=\"chart-f1455bb0-a68a-4703-acf3-95632d7b7b51\">\n",
              "        <img style=\"width: 180px;\" src=\"data:image/png;base64,iVBORw0KGgoAAAANSUhEUgAAAkoAAAGZCAYAAAB2YR6FAAAAOXRFWHRTb2Z0d2FyZQBNYXRwbG90\n",
              "bGliIHZlcnNpb24zLjcuMSwgaHR0cHM6Ly9tYXRwbG90bGliLm9yZy/bCgiHAAAACXBIWXMAAA9h\n",
              "AAAPYQGoP6dpAAAgMUlEQVR4nO3de7Td853/8deRw6El0bpVQxIRl4RckItrKinDcmtr1LVujagx\n",
              "SpkpjVGlUtRPXSZaReMuahlKaaczVKJlhASJZELqkhui9SMkKjnJSb6/P/yc3+8Mnzppk+yTk8dj\n",
              "rb3WOd/9/X7Pe3+WZT/Xd++dXVdVVRUAAD5irVoPAADQVgklAIACoQQAUCCUAAAKhBIAQIFQAgAo\n",
              "EEoAAAVCCQCgQCgBABQIpb/R1VdfXesRAICVRCj9jWbNmlXrEQCAlUQoAQAUCCUAgAKhBABQIJQA\n",
              "AAqEEgBAgVACACgQSgAABUIJAKBAKAEAFAglAIACoQQAUCCUAAAKhBIAQIFQAgAoEEoAAAVCCQCg\n",
              "oK6qqqrWQ6zO+hzQMbsd+5lajwEA7c51R82q9QiuKAEAlAglAIACoQQAUCCUAAAKhBIAQIFQAgAo\n",
              "EEoAAAVCCQCgQCgBABQIJQCAAqEEAFAglAAACoQSAECBUAIAKGhToXThhRfmpJNOav79scceS11d\n",
              "XcaNG9e87ZRTTsl3v/vdGkwHAKxp2lQoDRkypEUUjR07NoMGDfrItqFDh67UOZqamlbq+QGA1UOb\n",
              "CqVdd901r7/+el599dUkybhx43L++ec3h9LcuXMze/bsPPHEExkwYED69euXAQMG5Iknnmg+x3/9\n",
              "13+lX79+2XHHHXPiiSemX79+zcdfccUVxeO6deuWc845JwMHDszxxx+/yh4zANB2talQWmeddbL7\n",
              "7rtn7NixaWxszIwZM3LAAQfk1VdfzaJFizJ27NjstttuGT58eCZMmJBJkyZl1KhROfHEE5Mkixcv\n",
              "zhFHHJHLL788U6dOzVFHHZXJkyc3n//YY4/92OM+9NZbb+XJJ5/MHXfc8bHzNTY2Zv78+S1uy5ZV\n",
              "K29BAICaqq/1AP/Thy+/de3aNQMHDkzywZWmJ554IuPGjcuQIUPy7LPP5gc/+EHeeuut1NfXZ/r0\n",
              "6Vm4cGFefPHF1NfXZ5999kmS/N3f/V26d+/efO7Sceutt16S5IQTTkhdXV1xtksuuSQXXnhhi22b\n",
              "9lhnRS8BANBGtMlQGj16dLp06ZK99947SfKFL3whY8eOzdixY/Ozn/0sBx54YMaOHZsBAwZk/vz5\n",
              "6dSpUxobGz/2fB+Gz+LFi3PooYd+7HEfhtL666//F2cbMWJEzjrrrBbbdj+889/4iAGAtqpNvfSW\n",
              "JAMGDMif/vSn3HHHHS1C6ec//3nmzp2bfv36ZfHixenSpUuSZNSoUc3Hbr/99mlqasrYsWOTJA8/\n",
              "/HBefvnlJMmiRYuKx7VWQ0NDOnbs2OK21lrlK1AAwOqtzYXS2muvnT333DMLFizI9ttvnyTZdttt\n",
              "s2DBguy5557p1KlTRo4cmYEDB2aXXXbJOuv8v5e+1llnndx1110588wz07t374wZMyZ9+/ZNknTs\n",
              "2LF4HADAx6mrqqpdvxu5f//+ufzyy5uvTq1ofQ7omN2O/cxKOTcArMmuO2pWrUdoe1eUAADaijb3\n",
              "Zu4VbeLEibUeAQBYTbmiBABQIJQAAAqEEgBAgVACACgQSgAABUIJAKBAKAEAFAglAIACoQQAUCCU\n",
              "AAAKhBIAQEG7/663lW2f7U/KFUddUesxAICVwBUlAIACoQQAUCCUAAAKhBIAQIFQAgAoEEoAAAVC\n",
              "CQCgQCgBABQIJQCAAqEEAFAglAAACoQSAECBUAIAKBBKAAAFQgkAoEAoAQAUCCUAgAKhBABQIJQA\n",
              "AAqEEgBAgVACACgQSgAABUIJAKBAKAEAFAglAIACoQQAUCCUAAAKhBIAQIFQAgAoEEoAAAVCCQCg\n",
              "QCgBABQIJQCAAqEEAFAglAAACoQSAEBBfa0HWN39+ZaJeeM3/6vWYwBAu/O5ad+u9QiuKAEAlAgl\n",
              "AIACoQQAUCCUAAAKhBIAQIFQAgAoEEoAAAVCCQCgQCgBABQIJQCAAqEEAFAglAAACoQSAECBUAIA\n",
              "KGjzoXTAAQfkmmuu+cj2vn37pk+fPrnjjjtqMBUAsCZo86E0bNiw3HTTTS22TZw4MXPnzs3TTz+d\n",
              "Y445pkaTAQDtXZsPpUMOOSRz5szJc88917ztxhtvzHHHHZfhw4fnqquuSpJccMEFOeKII3LwwQen\n",
              "V69eGTp0aN5+++0kyZQpU7Lnnntm5513Tq9evTJy5MgkyaJFi/K5z30uc+bMaT73ueeem3POOWfV\n",
              "PUAAoM1q86G09tpr59hjj82NN96Y5IO4ufPOOzNs2LCP7Pvkk0/m5ptvzrRp07LpppvmuuuuS5J0\n",
              "69Ytv/3tb/PMM8/k6aefzj333JPx48dn3XXXzbBhw3LttdcmSRobG3PTTTfl1FNP/dhZGhsbM3/+\n",
              "/Ba3pdWylfTIAYBaa/OhlHzw8tsdd9yRxYsX5957703Pnj3Ts2fPj+y3//77Z6ONNkqS7Lbbbnn5\n",
              "5ZeTJAsXLsxJJ52U3r17Z9ddd82sWbMyadKkJMmpp56aW265JY2Njbn77rszcODAdO3a9WPnuOSS\n",
              "S9KpU6cWt0kL53zsvgDA6m+1CKVevXqlR48eeeCBB3LjjTd+7NWkJFl33XWbf+7QoUOampqSfPBy\n",
              "2sYbb5xnn302kydPzt57751FixYlSTp37pzBgwfnrrvuyo9//OOcdtppxTlGjBiRd999t8Wt33pb\n",
              "rsBHCgC0JfW1HqC1hg0blosvvjgvvvhi7rvvvuU6dt68eenZs2fq6+szffr0PPTQQxk8eHDz/Wec\n",
              "cUa++tWvZv31188+++xTPE9DQ0MaGhpabOtQt1q0JgDwV1htnuWPOOKITJ8+vTlolsd5552Xm266\n",
              "KX369Ml3vvOdDB06tMX9u+66azp16pRTTz01dXV1K3JsAGA1VldVVVXrIWrttddeS//+/fOHP/wh\n",
              "G2ywwXId+42NBufCzQ5eSZMBwJrrc9O+XesRVp8rSivL+eefn0GDBuXSSy9d7kgCANo3V5T+Rq4o\n",
              "AcDK4YoSAEAbJpQAAAqEEgBAgVACACgQSgAABUIJAKBAKAEAFAglAIACoQQAUCCUAAAKhBIAQEF9\n",
              "rQdY3X36+P753BW1/y4aAGDFc0UJAKBAKAEAFAglAIACoQQAUCCUAAAKhBIAQIFQAgAoEEoAAAVC\n",
              "CQCgQCgBABQIJQCAAqEEAFAglAAACoQSAECBUAIAKBBKAAAFQgkAoEAoAQAUCCUAgAKhBABQIJQA\n",
              "AAqEEgBAgVACACgQSgAABUIJAKBAKAEAFAglAIACoQQAUCCUAAAKhBIAQIFQAgAoEEoAAAVCCQCg\n",
              "QCgBABQIJQCAAqEEAFBQV1VVVeshVmf9d/5yhn7hpFqPAQDtzmVXHlTrEVxRAgAoEUoAAAVCCQCg\n",
              "QCgBABT8VaH09NNP57bbbkuSzJs3L3Pnzl2hQwEAtAXLHUo/+clP8vWvfz0XXHBBkuTtt9/O0Ucf\n",
              "vaLnAgCoueUOpeuvvz7jx49Px44dkyRbb7113nzzzRU+GABArS13KDU0NGS99dZrsa2+vn6FDQQA\n",
              "0FYsdyhtsskm+cMf/pC6urokyc0335wuXbqs8MEAAGptuS8FXXXVVTnqqKPywgsvZMstt0zHjh3z\n",
              "4IMProzZAABqarlDqUePHnnyySczffr0VFWV7bbbLh06dFgZswEA1NRf9eai9957L0uWLElTU1Mm\n",
              "T56cJNl5551X6GAAALW23KF05ZVX5vzzz88mm2zSfCWprq4uf/jDH1b4cAAAtbTcoTRq1KhMnz49\n",
              "n//851fGPAAAbcZyf+qtc+fOrY6kbt26Zbvttku/fv3Sq1ev/PjHP17uAT/OuHHj0q9fvxVyrg+9\n",
              "8847ufTSS1foOQGA1dtyX1E699xzc/rpp+eggw7Kuuuu27x98ODBH7v/XXfdlX79+mXWrFnp06dP\n",
              "9tprr/Tp0ydJsmzZsiTJWmvV/ivnPgyl73znO7UeBQBoI5Y7lJ544onceuuteeyxx1q8R+mpp576\n",
              "i8d17do12223XY4++uhst912ee+99zJnzpw89NBDufLKK/Poo49myZIl6dixY2644YZst912Wbhw\n",
              "YU444YRMmTIla6+9djbbbLP853/+Z5Kkqakpp556ah5//PE0NTXllltuSf/+/dPU1JQDDzwwb731\n",
              "VhYuXJi+ffvmhhtuyKc//emMGzcup512WgYPHvyR40455ZQsWLAg/fr1S319fSZOnPiRx9DY2JjG\n",
              "xsYW26r/G3sAQPuz3Jdybr311sycOTPPPPNMJkyYkAkTJnxiJCXJlClT8sILL6Rv377NsTVt2rR0\n",
              "7tw555xzTiZMmJBJkybl1FNPzRlnnJEk+c1vfpN33nkn06ZNy+TJk/Pzn/+8+XwvvPBCjj/++Eye\n",
              "PDnf/OY38y//8i9Jkg4dOmTMmDGZOHFipk6dmk6dOmXUqFGfeNxPf/rTbLDBBpk0adLHRlKSXHLJ\n",
              "JenUqVOL29w/ehM7ALRXy31FqWvXrtlwww1bvf8RRxyR9dZbL5/61Kdy4403ZurUqVlvvfWy2Wab\n",
              "Ne/z0EMPZdSoUVmwYEGWLVuWt99+O0nSt2/fPP/88zn11FPzhS98IQcccEDzMT169MigQYOSJLvt\n",
              "tlsuv/zyJElVVbnyyivzq1/9Kk1NTXn33Xez++67f+JxrTFixIicddZZLbYNGfy1Vh8PAKxeljuU\n",
              "BgwYkMMPPzyHHXZYi/coHXLIIR+7/4fvUfrQ1KlTs/766zf/Pnv27Jx22mmZMGFCtt566zz33HPN\n",
              "73fq3r17pk2blkceeSQPP/xwzj777EyaNClJWvztDh06pKmpKUkyZsyYPPLII3n00UfTsWPH/Ou/\n",
              "/mseeeSR5n1Lx7VGQ0NDGhoaWmyrawPvrwIAVo7lDqWnn346SXLttdc2b6urqyuG0id59913s/ba\n",
              "a2fzzTdPVVW55pprmu979dVX85nPfCaHHHJI9t9//9x3332ZM2fOXzzfvHnzsvHGG6djx45ZsGBB\n",
              "q7+LrmPHjlm4cGEWL16cddZZ5696LABA+7LcoTR27NgVOkDv3r1z5JFHZocddshGG22UL3/5y833\n",
              "TZkyJSNGjEhVVWlqasqxxx6bPn36ZNy4ccXzHXfccbn//vuz3XbbZZNNNslee+2VWbNmfeIcn/3s\n",
              "Z3PcccelT58+WX/99YvvUwIA1hx1VVVVy3vQkiVLMmPGjCxatKh524cf+V/T9N/5yxn6hZNqPQYA\n",
              "tDuXXXlQrUdY/itKDz74YIYPH5558+bl05/+dObNm5euXbtmxowZK2M+AICaWe53In/3u9/N+PHj\n",
              "07Nnz7z11lu59dZbc9hhh62M2QAAamq5Q2mttdZK165dmz8t9rWvfa3Fp8oAANqL5X7pbe21106S\n",
              "bLHFFvnFL36Rbt26Zd68eSt8MACAWlvuUDrjjDMyb968jBw5MkceeWTeeeedXH311StjNgCAmmp1\n",
              "KP3ud79LknTu3DlTpkxJkvzsZz9L8sG/owQA0N60OpT+6Z/+6SPb6urq8vrrr2fu3LlZunTpCh0M\n",
              "AKDWWh1KEyZMaPH722+/nZEjR+b222/PhRdeuMIHAwCoteX+1NuiRYtyySWXpFevXkmS559/Pued\n",
              "d94KHwwAoNZaHUrLli3L9ddfn2222SYvvPBCnnzyyVxxxRXZaKONVuZ8AAA10+qX3nbcccc0Njbm\n",
              "4osvTt++ffPuu+/mueeea75/Tf0KEwCg/Wp1KL3//vupq6vL+eef/5H76urq8sorr6zQwQAAaq3V\n",
              "oTRz5syVOAYAQNuz3P/gJC0N3rt7Lrui9t9uDACseMv9qTcAgDWFUAIAKBBKAAAFQgkAoEAoAQAU\n",
              "CCUAgAKhBABQIJQAAAqEEgBAgVACACgQSgAABUIJAKBAKAEAFAglAIACoQQAUCCUAAAKhBIAQIFQ\n",
              "AgAoEEoAAAVCCQCgQCgBABQIJQCAAqEEAFAglAAACoQSAECBUAIAKBBKAAAFQgkAoEAoAQAUCCUA\n",
              "gAKhBABQIJQAAAqEEgBAgVACACgQSgAABUIJAKCgrqqqqtZDrM5O3KEuIwboTQBY0ba9eWmtR3BF\n",
              "CQCgRCgBABQIJQCAAqEEAFAglAAACoQSAECBUAIAKBBKAAAFQgkAoEAoAQAUCCUAgAKhBABQIJQA\n",
              "AAqEEgBAQU1CqVu3btl+++3T1NTUvK1///4ZN25cLcYBAPhYNbui1NjYmNGjR9fqzwMAfKKahdIF\n",
              "F1yQiy66KO+//36L7WPGjMmgQYOy0047pW/fvnnggQeSJI8//nh69+7dYt+99947999/f5LkP/7j\n",
              "P7Lnnntml112ycCBAzN27Njm/W677bYMGjQoO++8cwYPHpzJkycnSW6++ebss88+Oeqoo9K7d+/0\n",
              "798/r7zySnHmxsbGzJ8/v8Vt6bIVshwAQBtUs1Dq27dvhgwZkiuvvLLF9v322y/jx4/Ps88+m/vv\n",
              "vz/Dhw9PY2Nj9thjjzQ2NmbixIlJkldeeSXTp0/PgQcemFdeeSUXXHBBfv3rX+fpp5/OmDFjcvTR\n",
              "R6exsTGPP/547rzzzvzud7/LM888kx/84Ac5+uijm//ehAkTcvHFF2fKlCnZZ5998sMf/rA48yWX\n",
              "XJJOnTq1uD33v1fO+gAAtVdfyz9+0UUXZeDAgTnllFOat82YMSPHHHNMXn311dTX1+ftt9/OjBkz\n",
              "sv322+fEE0/MTTfdlP79++eWW27JMccck/r6+vzmN7/JSy+9lMGDBzefZ6211srs2bNz//33Z/Lk\n",
              "yRk0aFDzfW+//XYWLlyYJNltt92y1VZbNf88atSo4rwjRozIWWed1WLbaYM6rZC1AADanpqGUrdu\n",
              "3XL00Udn5MiRzduOPPLIXHrppTnssMOSJJ/97GezaNGiJMnxxx+fvn375vLLL8+tt96aBx98MElS\n",
              "VVX23XffjBkz5iN/o6qqHH/88bn44os/doZ11123+ecOHTq0eIP5/9TQ0JCGhoYW2zr43CAAtFs1\n",
              "f5o/77zzcvvtt+f1119PksybN6/5Cs/tt9+eefPmNe/7+c9/PgMGDMiZZ56ZTTfdNDvssEOSD16u\n",
              "e/jhh/Pcc8817/vUU08lSQ455JDcfvvtmT17dpJk2bJlzS/fAQD8JTW9opQkG2+8cU4//fScf/75\n",
              "SZKrr746hx12WDbccMMMHTo0Xbp0abH/iSeemMMPPzzXXntt87YePXpkzJgx+cY3vpH3338/ixcv\n",
              "zk477ZQxY8Zkr732ymWXXZavfOUraWpqyuLFi3PggQemf//+q/RxAgCrn7qqqqpaD7E6O3GHuowY\n",
              "UPMLcwDQ7mx789Jaj1D7l94AANoqoQQAUCCUAAAKhBIAQIFQAgAoEEoAAAVCCQCgQCgBABQIJQCA\n",
              "AqEEAFAglAAACoQSAECBUAIAKKiv9QCru8/sd2a2veKKWo8BAKwErigBABQIJQCAAqEEAFAglAAA\n",
              "CoQSAECBUAIAKBBKAAAFQgkAoEAoAQAUCCUAgAKhBABQIJQAAAqEEgBAgVACACgQSgAABUIJAKBA\n",
              "KAEAFAglAIACoQQAUCCUAAAKhBIAQIFQAgAoEEoAAAVCCQCgQCgBABQIJQCAAqEEAFAglAAACoQS\n",
              "AECBUAIAKBBKAAAFQgkAoEAoAQAUCCUAgAKhBABQIJQAAArqqqqqaj3E6mz9/QZkwyO/WOsxAKDd\n",
              "efXES2s9gitKAAAlQgkAoEAoAQAUCCUAgAKhBABQIJQAAAqEEgBAgVACACgQSgAABUIJAKBAKAEA\n",
              "FAglAIACoQQAUCCUAAAK2nQoLViwIOuvv36GDRu2Us5/wgkn5Kqrrlop5wYAVn9tOpTuuuuu7LLL\n",
              "Lrn33nvz3nvv1XocAGAN06ZDafTo0TnnnHMyePDg3HXXXTnttNNy8cUXN98/ffr0bLnllmlqasoF\n",
              "F1yQb33rW833XXPNNTnhhBOSJOPHj88uu+ySfv36Zccdd8y1117bvN/zzz+fL37xi9l2221z6KGH\n",
              "ZvHixcV5GhsbM3/+/Ba3LK1W+OMGANqGNhtK06ZNy5w5c7Lffvtl2LBhGT16dL75zW/m+uuvz9Kl\n",
              "S5MkP/nJT3LyySenvr7+L57rkksuyT//8z9n0qRJmTp1ao488sjm+yZNmpQHHnggzz//fP74xz/m\n",
              "nnvu+Yvn6dSpU4vb4hlzV8wDBgDanDYbSqNHj85xxx2XDh065IADDsiMGTOybNmy9OrVK/fff3/+\n",
              "/Oc/584778zJJ5/8iecaMmRILrroonz/+9/PY489ls985jPN933lK1/Jpz71qXTo0CEDBw7Myy+/\n",
              "XDzPiBEj8u6777a4rbPV5ivk8QIAbc9fvhRTI0uWLMltt92WtddeO2PGjEmSvP/++xk9enTOOOOM\n",
              "/PCHP8ybb76ZfffdN5tttlmSpL6+vvlKU5IsWrSo+edvfetb+dKXvpSHH3445557bnbcccf85Cc/\n",
              "SZKsu+66zft16NAhTU1NxbkaGhrS0NDQcmOHur/58QIAbVObvKL0y1/+Mt27d89rr72WmTNnZubM\n",
              "mRk/fnxuu+22DB06NG+88UZGjhyZ0047rfmYHj16ZOLEiVm6dGnef//9Fi+hTZ8+PVtttVWGDx+e\n",
              "c889N+PHj6/FwwIAVjNt8orS6NGjc8wxx7TY1rNnz3Tu3DkPPPBAhg0bljFjxmS33XZrvv/QQw/N\n",
              "3XffnZ49e2aLLbbITjvtlPfffz/JB2/sfuSRR7LOOuukQ4cO+dGPfrRKHw8AsHqqq6pqtfvY1kEH\n",
              "HZQjjjgixx57bK1Hyfr7DciGR36x1mMAQLvz6omX1nqEtvnSW8nEiRPTo0ePrLXWWjn66KNrPQ4A\n",
              "0M61yZfeSvr375+XXnqp1mMAAGuI1eqKEgDAqiSUAAAKhBIAQIFQAgAoEEoAAAVCCQCgQCgBABQI\n",
              "JQCAAqEEAFAglAAACoQSAEDBavVdb23RyTvslSvawLcbAwArnitKAAAFQgkAoEAoAQAUCCUAgAKh\n",
              "BABQIJQAAAqEEgBAgVACACgQSgAABUIJAKBAKAEAFAglAIACoQQAUCCUAAAKhBIAQIFQAgAoEEoA\n",
              "AAX1tR5gddbY2Jh///d/z9KlS9OhQ4daj7NGWbp0aZ566qkMHDjQ2q9C1r12rH1tWPfaWdlr37Vr\n",
              "15xxxhmfuF9dVVXVCv/ra4j58+enU6dOeffdd9OxY8daj7NGsfa1Yd1rx9rXhnWvnbay9l56AwAo\n",
              "EEoAAAVCCQCgQCj9DRoaGvK9730vDQ0NtR5ljWPta8O61461rw3rXjttZe29mRsAoMAVJQCAAqEE\n",
              "AFAglAAACoRSK7z44ovZfffds+2222bAgAH57//+74/db/To0dlmm22y9dZbZ/jw4VmyZMkqnrT9\n",
              "ac3aP/LIIxk4cGB69eqVHXbYIWeffXaWLVtWg2nbj9b+N58kVVVl6NCh2XDDDVfdgO1Ya9d+ypQp\n",
              "2XvvvdOzZ8/07Nkz99577yqetH1pzbovW7YsZ511Vnr16pU+ffpkyJAheemll2owbftx+umnp1u3\n",
              "bqmrq8ukSZOK+9X0+bXiEw0ZMqS66aabqqqqqrvvvrvq37//R/Z55ZVXqs0337yaO3dutWzZsurg\n",
              "gw+urrnmmlU8afvTmrV/5plnqpdffrmqqqpauHBhtcceezQfw1+nNev+oR/96EfVSSedVHXq1GnV\n",
              "DNfOtWbt//znP1dbbbVV9fvf/76qqqpqamqq/vSnP63KMdud1qz7L37xi2rgwIHV4sWLq6qqqosu\n",
              "uqj66le/uirHbHceffTRas6cOVXXrl2rZ5999mP3qfXzq1D6BH/84x+rDTbYoFqyZElVVVW1bNmy\n",
              "arPNNqtefPHFFvtddtll1Te+8Y3m33/1q19Ve+yxxyqdtb1p7dr/T//4j/9Yfe9731sFE7ZPy7Pu\n",
              "U6dOrfbaa6/qpZdeEkorQGvX/oYbbqiOOuqoWozYLrV23e+7776qb9++1fz586tly5ZV3/72t6sz\n",
              "zzyzFiO3O38plGr9/Oqlt08wZ86cbL755qmv/+D7g+vq6tKlS5fMnj27xX6zZ89O165dm3/v1q3b\n",
              "R/Zh+bR27f9/b7zxRv7t3/4tBx100Koas91p7bovWbIkw4cPz3XXXefLQleQ1q79tGnT0tDQkIMO\n",
              "Oij9+vXLcccdlzfffLMWI7cLrV33gw8+OHvvvXc+97nPZfPNN89vf/vbfP/736/FyGuUWj+/CiXa\n",
              "jfnz5+fggw/O2Wefnf79+9d6nHbvwgsvzKGHHpqePXvWepQ1TlNTUx5++OFcd911efbZZ9O5c+f8\n",
              "wz/8Q63HavcmTpyYqVOn5rXXXsvrr7+eL37xiznllFNqPRYrmVD6BFtuuWXmzp2bpqamJB+8cXX2\n",
              "7Nnp0qVLi/26dOmSWbNmNf8+c+bMj+zD8mnt2ifJggULsv/+++dLX/pSzjrrrFU9arvS2nV/9NFH\n",
              "M2rUqHTr1i177rln5s+fn27durmy8TdYnv/fDBkyJJ07d05dXV2+9rWvZfz48bUYuV1o7brfeuut\n",
              "zR9cWGuttXL88cdn7NixtRh5jVLr51eh9Ak23XTT7Lzzzrn99tuTJPfcc0+22GKL9OjRo8V+f//3\n",
              "f59f/vKXeeONN1JVVX7605/myCOPrMXI7UZr1/69997L/vvvn/333z/nnXdeLUZtV1q77r///e8z\n",
              "a9aszJw5M4899lg6duyYmTNnZpNNNqnF2O1Ca9f+8MMPz4QJEzJ//vwkya9//ev07dt3lc/bXrR2\n",
              "3bt3755HHnkkixcvTpI8+OCD2XHHHVf5vGuamj+/rrJ3Q63GXnjhhWrXXXetttlmm2qXXXapnnvu\n",
              "uaqqqmrYsGHV/fff37zf9ddfX3Xv3r3q3r179fWvf735kxH89Vqz9iNHjqzq6+urvn37Nt9GjhxZ\n",
              "y7FXe639b/5DM2bM8GbuFaS1a3/rrbdWO+ywQ9W7d+9q//33r2bPnl2rkduF1qz7okWLqpNOOqna\n",
              "fvvtq969e1f77rtv8ydu+eucfPLJVefOnasOHTpUm266abX11ltXVdW2nl991xsAQIGX3gAACoQS\n",
              "AECBUAIAKBBKAAAFQgkAoEAoAQAUCCUAgAKhBABQIJQAAAqEEgBAgVACACj4P8oPzis7wSsjAAAA\n",
              "AElFTkSuQmCC\n",
              "\">\n",
              "      </div>\n",
              "      <script type=\"text/javascript\">\n",
              "        (() => {\n",
              "          const chartElement = document.getElementById(\"chart-f1455bb0-a68a-4703-acf3-95632d7b7b51\");\n",
              "          async function getCodeForChartHandler(event) {\n",
              "            const chartCodeResponse =  await google.colab.kernel.invokeFunction(\n",
              "                'getCodeForChart', [\"chart-f1455bb0-a68a-4703-acf3-95632d7b7b51\"], {});\n",
              "            const responseJson = chartCodeResponse.data['application/json'];\n",
              "            await google.colab.notebook.addCell(responseJson.code, 'code');\n",
              "          }\n",
              "          chartElement.onclick = getCodeForChartHandler;\n",
              "        })();\n",
              "      </script>\n",
              "      <style>\n",
              "        .colab-quickchart-chart-with-code  {\n",
              "            display: block;\n",
              "            float: left;\n",
              "            border: 1px solid transparent;\n",
              "        }\n",
              "\n",
              "        .colab-quickchart-chart-with-code:hover {\n",
              "            cursor: pointer;\n",
              "            border: 1px solid #aaa;\n",
              "        }\n",
              "      </style>"
            ]
          },
          "metadata": {}
        },
        {
          "output_type": "display_data",
          "data": {
            "text/plain": [
              "<google.colab._quickchart_helpers.SectionTitle at 0x7ea377cf3880>"
            ],
            "text/html": [
              "<h4 class=\"colab-quickchart-section-title\">Values</h4>\n",
              "<style>\n",
              "  .colab-quickchart-section-title {\n",
              "      clear: both;\n",
              "  }\n",
              "</style>"
            ]
          },
          "metadata": {}
        },
        {
          "output_type": "display_data",
          "data": {
            "text/plain": [
              "from matplotlib import pyplot as plt\n",
              "_df_12['Marks'].plot(kind='line', figsize=(8, 4), title='Marks')\n",
              "plt.gca().spines[['top', 'right']].set_visible(False)"
            ],
            "text/html": [
              "      <div class=\"colab-quickchart-chart-with-code\" id=\"chart-9fcc334f-2f77-4ff1-8a1a-9acd34f226cc\">\n",
              "        <img style=\"width: 180px;\" src=\"data:image/png;base64,iVBORw0KGgoAAAANSUhEUgAAApcAAAFuCAYAAADUGTPdAAAAOXRFWHRTb2Z0d2FyZQBNYXRwbG90\n",
              "bGliIHZlcnNpb24zLjcuMSwgaHR0cHM6Ly9tYXRwbG90bGliLm9yZy/bCgiHAAAACXBIWXMAAA9h\n",
              "AAAPYQGoP6dpAABJq0lEQVR4nO3dd1zUhR/H8ff3Du5kI6CgAuJGRThw4cJVrkwTxZWae2Q5f2Wm\n",
              "lZplmVvLnaKm4irTzHKSGxyI4gQDB4iyEVkH9/vjEKXQBO743ng/H4/7I4Uvn7uu68ON70tQqVQq\n",
              "EBERERFpgETsAYiIiIjIcHC5JCIiIiKN4XJJRERERBrD5ZKIiIiINIbLJRERERFpDJdLIiIiItIY\n",
              "LpdEREREpDFcLomIiIhIY7hcEhEREZHGcLkkIipHGzduhLOzs9hjEBFpDZdLIqIXtGvXDoIgYPXq\n",
              "1UX+PD09HVZWVhAEAZGRkSJNR0Sk+7hcEhH9Q4MGDf61XG7evBnVq1cv03Fzc3PL9P1ERPqAyyUR\n",
              "0T+8/fbbiI+Px7lz5wr/bOXKlRgzZkzhP8fFxaF79+5wdHSElZUVPD09sXPnziLHEQQBixcvRsuW\n",
              "LWFhYYHdu3f/62eFhITAxcUFS5YsAQAcO3YMTZo0gY2NDezt7dGqVSskJydr54oSEWkBl0sion8w\n",
              "MTHByJEjsWrVKgDAyZMnkZaWhrfeeqvwa/Ly8jB8+HBERUUhKSkJEydOxMCBAxEREVHkWKtXr8a6\n",
              "devw5MkT9OzZs8jfBQUF4e2338aqVaswadIkAMCgQYMwfvx4pKSkIC4uDgsWLIBMJtPuFSYi0iAu\n",
              "l0RExRg1ahR2796NlJQUrFy5EqNGjYJE8vwh09nZGf7+/rC0tISpqSlGjBiBBg0a4OjRo0WOM3ny\n",
              "ZDRo0ACCIMDMzKzwz2fPno1p06bh0KFDRZZWmUyGqKgoxMbGQiaToUWLFrCwsND+FSYi0hAul0RE\n",
              "xXB2dkb79u2xYMEC7N27FyNGjCjy98nJyRg1ahRq1KgBa2tr2NraIiIiAo8ePSrydTVq1PjXsZOT\n",
              "k7Fo0SKMGzcOnp6eRf7u119/xZ07d9C4cWPUrl0bX3zxBZRKpeavIBGRlpiIPQARka4aN24cunXr\n",
              "ht69e6NKlSqIjo4u/LtPPvkEN27cQHBwMFxcXCAIAry8vKBSqYoc48VnO5+pWLEifv31V3Tt2hWC\n",
              "IODjjz8u/LtGjRph69atAICwsDB07twZzs7OGDVqlHauJBGRhvGZSyKil+jcuTMOHTqExYsX/+vv\n",
              "UlNTYW5uDnt7e+Tm5mL58uX/er/lq/j4+ODkyZP44YcfCpfLnJwcbNiwAY8fPwYA2NjYQCqVwsSE\n",
              "zwMQkf7gcklE9BKCIKBjx47FnvR87ty5yMzMhKOjI9zc3BAfH49WrVqV6Ph16tTBqVOncODAAYwY\n",
              "MQIqlQq7du1Cw4YNYWFhgbZt22Lo0KF47733NHWViIi0TlD98zUcIiIiIqJS4jOXRERERKQxXC6J\n",
              "iIiISGO4XBIRERGRxnC5JCIiIiKN4XJJRERERBrD5ZKIiIiINIbLJRERERFpjM4sl0uXLhV7BCIi\n",
              "IiIqI51ZLmNiYsQegYiIiIjKSGeWSyIiIiLSf1wuiYiIiEhjuFwSERERkcZwuSQiIiIijeFySURE\n",
              "REQaw+WSiIiIiDSGyyURERERaQyXSyIiIiLSmBIvlwcOHICPjw8UCgU8PDwQGBgIAAgJCYGvry+8\n",
              "vb1Rv359zJ8/X+PDEhEREZFuMynJF6tUKgwaNAjHjx+Hp6cnoqOj4e7uDn9/f4wePRpz5sxBjx49\n",
              "kJSUBHd3d3Tv3h0NGjTQ1uxEREREpGNK/MylIAhISUkBAKSlpcHe3h5yubzIn2dkZEAmk8HOzk6T\n",
              "s2pUVm6e2CMQERERGZwSPXMpCAKCgoLg7+8PCwsLJCcnY8+ePZDJZNiwYQN69uyJmTNn4vHjx1i9\n",
              "ejWcnJyKPU52djays7OL/FleXvkseznKfCz88yaO3XyEveNbw0wmLZefS0RERGQMSvTMpVKpxNy5\n",
              "c7Fnzx7ExMTgyJEjGDx4MBISEvDNN99g3rx5uHv3LiIiIjBjxgxcu3at2OPMmzcPNjY2RS4hISEa\n",
              "uUL/5Um2Ej9feoBb8U8wZ3/x8xERERFR6ZRouQwLC0NsbCz8/PwAAE2bNoWzszOOHTuGn3/+GQMH\n",
              "DgQA1KxZE76+vjh16lSxx5k+fTpSU1OLXJo1a1bGq/J67CxkWNJPAUEAtoXcxYErceXyc4mIiIiM\n",
              "QYmWSxcXF8TFxeH69esAgMjISERFRaFZs2awsLDA0aNHAQAJCQk4d+4cPDw8ij2OXC6HtbV1kYtU\n",
              "Wn4vT7es7YD329UCAHyyOxz3k5+W288mIiIiMmQles+lo6Mj1qxZg759+0IikSA/Px8rVqxA9erV\n",
              "sWPHDnz00UdQKpXIzc3FpEmT0KJFC23NXWaT3qiL01GJuHQ3BRO3hyFotC9MpDztJxEREVFZCCqV\n",
              "SiX2EAAwZcoULFq0qFx/5r2kp+i29ATSs5WY0KE2pnSqV64/n4iIiMjQGPVTdS525vjavxEAYPmx\n",
              "SJyJShR5IiIiIiL9ZtTLJQC87VUVfZs4Q6UCJgeFITkjR+yRiIiIiPSW0S+XADCrR0PUrGSBh2lZ\n",
              "+Hh3OHTknQJEREREeofLJQBzmQmWD/CGTCrBoWvx2HI2RuyRiIiIiPQSl8sCDavaYHo3dwDAl79d\n",
              "x42HaSJPRERERKR/uFy+YGhLN3Rwr4wcZT4+3HoJmTnsjxMRERGVBJfLFwiCgO/6eKKylRy3Hz3B\n",
              "l78xD0lERERUElwu/8HeUo7FBXnIrefu4nfmIYmIiIheG5fLYrSq7YBxbdV5yGnMQxIRERG9Ni6X\n",
              "LzH5zbpQuNgiLUuJSdvDoMzLF3skIiIiIp3H5fIlTKUSLB/gDSu5Cc7HJGPZ0UixRyIiIiLSeVwu\n",
              "X8HFzhxze3kAAFYcvY2zd5iHJCIiInoVLpf/oaeiGgIaOyOfeUgiIiKi/8Tl8jXM6tEQNR0sEJea\n",
              "hWnMQxIRERG9FJfL12AhN8Gygjzkn9fiseXcXbFHIiIiItJJXC5fk0c1G0zrWpCH3H+NeUgiIiKi\n",
              "YnC5LIHhrZ7nISdsYx6SiIiI6J+4XJbAszxkJSs5bsU/wVzmIYmIiIiK4HJZQvaWciwpyEP+xDwk\n",
              "ERERURFcLkuhVW0HjH0hD/kgJVPkiYiIiIh0A5fLUpryZl14FeYhLzEPSURERAQul6VmKpVgeX9v\n",
              "WMpNEBqdjOXMQxIRERFxuSwLV3tzfFWQh1x+9DbOMQ9JRERERo7LZRn1VFRDn4I85KSgMKQ8ZR6S\n",
              "iIiIjBeXSw2Y3aMhajAPSURERMTlUhMs5CZYPsAbplIBf0TE4yfmIYmIiMhIcbnUEI9qNpjW5Xke\n",
              "8ubDdJEnIiIiIip/XC41aHirGmhXrxKylfn4cNtFZOUyD0lERETGhculBkkkAhYEeBXmIb/czzwk\n",
              "ERERGRculxrmYCnH4r7P85AHrzIPSURERMaDy6UWtK7jgDF+6jzkx7uYhyQiIiLjweVSS6Z2ep6H\n",
              "nLw9jHlIIiIiMgpcLrXEVCrBsv4KWMpNEBKdhBXHmIckIiIiw8flUouq21sU5iGXHbmNkL+TRJ6I\n",
              "iIiISLtKvFweOHAAPj4+UCgU8PDwQGBgIABApVJh1qxZqFu3Lho1aoT27dtrfFh91FNRDb19CvKQ\n",
              "2y8xD0lEREQGzaQkX6xSqTBo0CAcP34cnp6eiI6Ohru7O/z9/fHjjz8iPDwcV69ehUwmw8OHD7U1\n",
              "s96Z3bMhLt5Nxt8JGfhk9xWsHOQDQRDEHouIiIhI40r8zKUgCEhJSQEApKWlwd7eHnK5HN999x2+\n",
              "+eYbyGQyAICTk5NGB9VnlnITLOuvzkMejHiIrSHMQxIREZFhKtFyKQgCgoKC4O/vj+rVq6N169YI\n",
              "DAxEVlYW4uPjsXfvXjRv3hzNmzdHUFDQS4+TnZ2NtLS0Ipe8PMOu2TRyfp6HnLPvGm7FMw9JRERE\n",
              "hqdEy6VSqcTcuXOxZ88exMTE4MiRIxg8eDCysrKgVCqRmZmJc+fOISgoCJMnT8bly5eLPc68efNg\n",
              "Y2NT5BISEqKRK6TLhreqgbZ1C/KQWy8xD0lEREQGp0TLZVhYGGJjY+Hn5wcAaNq0KZydnXH58mVY\n",
              "Wlpi0KBBAAA3Nze0atUKoaGhxR5n+vTpSE1NLXJp1qxZGa+K7nuWh3SwlONmfDrm/sY8JBERERmW\n",
              "Ei2XLi4uiIuLw/Xr1wEAkZGRiIqKQr169TBgwAAcPHgQAJCUlISQkBB4enoWexy5XA5ra+siF6lU\n",
              "Wsaroh8qWcmxuJ8XAGDL2bs4eJUffCIiIiLDUaJPizs6OmLNmjXo27cvJBIJ8vPzsWLFCri6umLe\n",
              "vHkYNmwYfvjhBwDAtGnTjOLZyNJoU6cSxrStidXBdzBtdzg8nW1Q1dZM7LGIiIiIykxQqVQqsYcA\n",
              "gClTpmDRokVij1FucpT5CFh1Gpfvp6KZmx22jfaFVMLTExEREZF+Y6FHJDITCZYN8H6ehzzKPCQR\n",
              "ERHpPy6XIqpub4G576jzkEuP3EJoNPOQREREpN+4XIrsHe9q8PephnwVMHHbJaQ+zRV7JCIiIqJS\n",
              "43KpA+b09ICbvTliU7PwyZ5w6MjbYImIiIhKjMulDrCUm2D5AB+YSgX8fvUhtoXcE3skIiIiolLh\n",
              "cqkjGjnb4OPO6jzk7H0RzEMSERGRXuJyqUNGtK4Bv4I85IRtzEMSERGR/uFyqUMkEgELA7zgYCnD\n",
              "jYfp+Oq362KPRERERFQiXC51TCUrORb1VQAANp+NwR8RzEMSERGR/uByqYP86lbCGL+aAICPd4Uj\n",
              "NiVT5ImIiIiIXg+XSx01tVM9eDrbIDUzF5OCwpCXz9MTERERke7jcqmjZCYSLOvvDQuZFCF/J+H7\n",
              "Y8xDEhERke7jcqnD3BwsMLeXOg+55PAtnGcekoiIiHQcl0sd18vbGf7eBXnI7WHMQxIREZFO43Kp\n",
              "B+a8o85DPkjJZB6SiIiIdBqXSz1gKTfBsgHeMJGo85DbQ5mHJCIiIt3E5VJPeDrb4uMu9QCo85C3\n",
              "mYckIiIiHcTlUo+MbF0Tbeo4ICs3Hx8yD0lEREQ6iMulHpFIBCzs+zwP+fUB5iGJiIhIt3C51DOV\n",
              "rSpgYUEectOZGPzJPCQRERHpEC6Xeqht3UoY/SwPuTsccanMQxIREZFu4HKpp/7XqR4aVbNBytNc\n",
              "TNrOPCQRERHpBi6XekpmIsGyAeo85Lm/k/AD85BERESkA7hc6rEaDhb48p2CPOSR28xDEhERkei4\n",
              "XOo5fx9n9PKuhrx8lToPmck8JBEREYmHy6UBmNOzIaoX5CE/3XOFeUgiIiISDZdLA2BVwRTL+qvz\n",
              "kL9diUMQ85BEREQkEi6XBsLLxRYfdVbnIWfti0DkI+YhiYiIqPxxuTQgo9o8z0N+sJV5SCIiIip/\n",
              "XC4NyLM8pL2FOg85j3lIIiIiKmdcLg1MZasKWNDXCwAQeCYGh67FizwRERERGRMulwaofb3KGNm6\n",
              "BgDgo12X8TA1S+SJiIiIyFhwuTRQH3dxf56HDLrEPCQRERGVCy6XBupZHtJcJsXZO0lYeZx5SCIi\n",
              "ItK+Ei+XBw4cgI+PDxQKBTw8PBAYGFjk748ePQqpVIolS5ZoakYqpRoOFviypzoPufjwbVyIYR6S\n",
              "iIiItKtEy6VKpcKgQYOwceNGhIWFYf/+/RgzZgzS09XnVExNTcUnn3yCbt26aWVYKjl/n2p4R1EV\n",
              "efkqTNjGPCQRERFpV4mfuRQEASkpKQCAtLQ02NvbQy6XAwA++OADzJw5E/b29hodkkpPEAR8+Y4H\n",
              "XO2YhyQiIiLtK9FyKQgCgoKC4O/vj+rVq6N169YIDAyETCbDrl27IJFI0KNHj/88TnZ2NtLS0opc\n",
              "8vJ4wm9tsapgimUDnuchd5xnHpKIiIi0o0TLpVKpxNy5c7Fnzx7ExMTgyJEjGDx4MO7fv4+5c+di\n",
              "6dKlr3WcefPmwcbGpsglJCSkVFeAXo/CxRb/K8hDfvEr85BERESkHSVaLsPCwhAbGws/Pz8AQNOm\n",
              "TeHs7IwLFy4gLi4OCoUCbm5u2LVrF+bMmYMZM2YUe5zp06cjNTW1yKVZs2Zlvzb0SqPb1ETr2sxD\n",
              "EhERkfaUaLl0cXFBXFwcrl9XZwUjIyMRFRUFb29vxMfHIzo6GtHR0ejTpw8+//xzfPXVV8UeRy6X\n",
              "w9raushFKpWW/drQK0kkAha9kIf85vcbYo9EREREBsakJF/s6OiINWvWoG/fvpBIJMjPz8eKFSvg\n",
              "6uqqrflIwypbV8CCAC8M2xiKjaej0bq2A95o4Cj2WERERGQgBJWOfHR4ypQpWLRokdhjGI0v91/D\n",
              "+pN/o6K5KX6f6Acnmwpij0REREQGgIUeI/Vxl3poWNUayU9zMTkojHlIIiIi0ggul0ZKbiLF8oI8\n",
              "5Jk7iVgVHCX2SERERGQAuFwasZqVLDGnIA+56NAtXIhJFnkiIiIi0ndcLo1cb59q6FmYh7zEPCQR\n",
              "ERGVCZdLIycIAua+4wEXOzM8SMnEjJ+ZhyQiIqLS43JJ6jxkf3Uecn94HHaevy/2SERERKSnuFwS\n",
              "AMDbtSKmdmIekoiIiMqGyyUVGuOnzkNm5ubhw21hzEMSERFRiXG5pELP8pB2FjJcj0tjHpKIiIhK\n",
              "jMslFVHZugIWBngBADaejsbha/EiT0RERET6hMsl/Ut798oY3qoGAOCjXZcRn5Yl8kRERESkL7hc\n",
              "UrGmda2HBlXUechJ25mHJCIiotfD5ZKKJTeRYvlA5iGJiIioZLhc0kvVqmSJ2T0aAlDnIS/eZR6S\n",
              "iIiIXo3LJb1Sn8bO6OH1PA+ZlsU8JBEREb0cl0t6JUEQMLeXOg95PzkTn+5hHpKISBuUefl8fCWD\n",
              "wOWS/pM185BERFp15/ET+M0/hl4/nMYjnqGD9ByXS3ot3q4VMaVTXQDP8pBPRJ6IiMgwpGXlYuSm\n",
              "84hNzULYvRT0WXUGMYkZYo9FVGpcLum1jfWrhVa17QvykJeYhyQiKqNn72e/8zgDVWwqwNXOHHeT\n",
              "nqL3yjOIiE0VezyiUuFySa9NnYdUFOYhvz3IPCQRUVnM/+MGjt98jAqmEqwd0gS7xrZA/SrWSHiS\n",
              "jf6rz+LcnUSxRyQqMS6XVCKO1hWwIMATALDhVDSOXGcekoioNH659ACrg+8AAL7r4wWPajaobF0B\n",
              "20f7opmbHdKzlRjyYwgOMcNLeobLJZVYB3dHDGvlBgD4aFc485BERCV0+V4KPt4dDgAY374W3vaq\n",
              "Wvh3Nmam2DSiGd6o74hsZT7GbrmAHefviTUqUYlxuaRS+aSrOxpUsUZSRg4mBzEPSUT0uh6lZWH0\n",
              "5vPIUebjjfqVMfXNev/6mgqmUqwa5IM+jZ2Rl6/Cx7vCsZqlNNITXC6pVOQmUiwb4A0zUylORyVi\n",
              "9V980CMi+i9ZuXkYvfkC4tOyUaeyJRb3U0AiEYr9WhOpBN/18cRov5oAgHm/38DXB67zXJik87hc\n",
              "UqnVrvw8D7nwT+YhiYheRaVSYcbPVxF2LwU2ZqZYO6QJrCqYvvJ7BEHAp93qY3pXdwDAmr/u4KNd\n",
              "4VDm5ZfHyESlwuWSyiSgiTPeLshDTtzOPCQR0cusP/k3dl+8D6lEwPcDfeDmYPHa3zumbS3M7+MJ\n",
              "iQDsunAfY7dc5OngSGdxuaQyEQQBX/XygHNFM9xLysSMn6/yJRsion8IvvUYXx+4DgCY0a0+Wtdx\n",
              "KPEx+jZxwapBjSEzkeDw9XgM+TGEv9CTTuJySWVmXcEUywZ4QyoRsO9yLHZeYB6SiOiZvxMy8OHW\n",
              "i8hXAX2bOBeebaM0OjV0wubhzWAlN0HI30not/osHqXzjB2kW7hckkb4uFbElDcL8pB7IxD1mHlI\n",
              "IqK0rFyMDAxFWpYSjatXxJfveEAQiv8Az+tqXtMe28f4wsFSjutxaeizkrlI0i1cLkljxrathZa1\n",
              "CvKQWy8hW8n3AxGR8crLV2HitkuIKkg7rhzkA7mJVCPHbljVBrvHtYCLnVlhLvJabJpGjk1UVlwu\n",
              "SWOkEgGL+ylQ0dwU1+LS8O3vN8UeiYhINN/9cRPHbj6G3ESCNYOboLJVBY0ev7q9BXaPbQl3Jysk\n",
              "PMlGvzVnEPJ3kkZ/BlFpcLkkjVLnIb0AAD+e+htHbzBbRkTGZ2/YA6wqOOn5/D6eaORso5WfU9m6\n",
              "AoLGtEBTt4pIz1Ji8PpzOMxcJImMyyVpXMf6jhja0g0A8L+d4XjEPCQRGZHw+yn4eJc67TiuXS30\n",
              "VFTT6s+zMTPFpuHN0dG9MrKV+Riz5QJ2MhdJIuJySVrxSVd31H+Wh9wRhnzmIYnICDxKy8LoTReQ\n",
              "rcxHR/fK+F+nf6cdtcFMJsWqwY3R20edi/xoVzjWsJxGIuFySVpRwVSK5QV5yFORiVj91x2xRyIi\n",
              "0qpsZR7GbLmAh2lZqF3ZEkv6KyB9SdpRG0wLcpGj2tQAAHx94Abm/c5cJJW/Ei+XBw4cgI+PDxQK\n",
              "BTw8PBAYGAgAGDZsGOrWrQsvLy+0atUKoaGhGh+W9EvtypaY1aMBAGDhnzdxiXlIIjJQz9KOl+6m\n",
              "wLqCyWulHbVBIhEw460G+KQgF7k6+A6m7WYukspXiZZLlUqFQYMGYePGjQgLC8P+/fsxZswYpKen\n",
              "o1evXrh27RouX76M6dOnIyAgQFszkx7p28QFb3lWgTJfhQnMQxKRgfrxVDR2XbgPiQB8/64PapQg\n",
              "7agNY9vWwvze6lzkjvP3Me4n5iKp/JT4mUtBEJCSkgIASEtLg729PeRyOXr06AETExMAgK+vLx48\n",
              "eAClUqnRYUn/CIKAr3s1KsxDzmQekogMzF+3HuOr364BAGa81QBt6lQSeSK1vk1dsLIgF3noGnOR\n",
              "VH5KtFwKgoCgoCD4+/ujevXqaN26NQIDAyGTyYp83dKlS9GtW7fCZfOfsrOzkZaWVuSSl8ffqAyV\n",
              "jZkplvZX5yF/vRyLXcxDEpGB+DshAx8UpB37NHbG8DKkHbWhc0MnBA5rBsuCXGT/1WfxOD1b7LHI\n",
              "wJVouVQqlZg7dy727NmDmJgYHDlyBIMHD0ZCQkLh12zZsgU7duzAmjVrXnqcefPmwcbGpsglJCSk\n",
              "9NeCdF7j6i/kIX9lHpKI9F9aVi5GbTqPtCwlfFxt8VWvsqcdtaFFLXtsH+0LB0sZrsWloc+q07ib\n",
              "+FTssciAlWi5DAsLQ2xsLPz8/AAATZs2hbOzMy5dugQACAoKwuzZs3Ho0CE4Ojq+9DjTp09Hampq\n",
              "kUuzZs3KcDVIH4xtWwstatrjaU4eJmxjHpKI9FdevgqTtoch8tETOFlXwKrBjTWWdtQGj2o22DW2\n",
              "JVzszBCT+BS9V53G9TjmIkk7SrRcuri4IC4uDtevXwcAREZGIioqCvXq1cOOHTswc+ZMHD58GK6u\n",
              "rq88jlwuh7W1dZGLVKq7/1GSZryYh4yITcP8g8xDEpF+WvDnTRy98UiddhzSWONpR21wc3iei3yc\n",
              "no2+q88gNJq5SNK8Ei2Xjo6OWLNmDfr27QsvLy/06tULK1asgKurK959911kZWWhZ8+eUCgUUCgU\n",
              "SExM1NbcpKecbCrguz7qPOT6k3/j2I1HIk9ERFQye8MeYOXx52lHT2dbcQcqgcrWFRA0ugWaVFfn\n",
              "IgetO4cj15mLJM0SVDry0d0pU6Zg0aJFYo9B5WTWrxHYeDoa9hYy/D6xDSpb6/5v/URE4fdTELDq\n",
              "DLKV+Rjbtlbh+ST1TWZOHsZvvYijNx5BKhEwv7cnejd2FnssMhAs9JAoPunqDncnKyRm5GDKjsvM\n",
              "QxKRznuU/jzt2MG9Mj7qXD5pR20wk0mxenBj+PtUQ16+ClN3XsZaltRIQ7hckigqmEqxYqA3KphK\n",
              "cDIyAWtO8EGNiHRXtjIPYzer0461KlmUe9pRG0ylEizo44WRrdW5yK8OXMc3v9/guYipzLhckmhq\n",
              "V7bCrLcbAgAW/HETYfdSxB2IiKgYKpUKM3++iosFacd17zWFtQhpR21Q5yLr4+Mu6mdhVwVH4ZPd\n",
              "V5iLpDLhckmi6tfUBW81KshDbruEdNYjiEjHbDgVjZ0FaccVA8VPO2qaIAh4v11tfOPfCBIBCDp/\n",
              "D+8zF0llwOWSRCUIAr72b4Rqtma4m/QUM39hHpKIdMeJ248xtyDt+Gm3+vCrqxtpR23o38wVP7yr\n",
              "zkX+eS0eQzeE8Bd+KhUulyQ6GzNTLBugfv/S3rBY7L74QOyRiIgQnZCBD7ZeQr4K6O3jjBEF7000\n",
              "ZF08nuciz95JQv81zEVSyXG5JJ3QuLodJr9RBwDw+d6ruMM8JBGJKD0rFyM3nUdqZi68dTjtqA3P\n",
              "cpH2FjJExKYhYNVp3EtiLpJeH5dL0hnj2tWGb007PM3Jw4fMQxKRSP6Zdlw9qDEqmBpXRc6jmg12\n",
              "jWsJ54pmiE58it4rT+PGQ+Yi6fVwuSSdIZUIWNLPG7YFecjvmIckIhEs/PMmjtx4BJmJBKsHNzba\n",
              "yEMNBwvsHtcS9Ryt8Cg9G31XMRdJr4fLJemUF/OQ607+jWM3mYckovLz6+VY/PAs7djbE14utuIO\n",
              "JDJH6wrYMaYFGleviLSCXOTRG8xF0qtxuSSd82YDR7zXojoA4H87LuNRepbIExGRMbhyPxUf77oM\n",
              "ABjTtibe8a4m8kS6wcbcFFtGNEcH98rIVuZj1KYL2HPxvthjkQ7jckk6aXq3+oV5yKnMQxKRlj1K\n",
              "z8LozeeRlZuP9vUq4ePO+tkM15bCXKS3Ohc5ZcdlrGNZjV6CyyXppAqmUiwfoM5DnridgLV8ECMi\n",
              "LclW5mHclouIS81CzUoWWDrAW+/TjtpgKpVgQYBX4SmZ5v52HfMPMhdJ/8blknRWHUcrfFGQh/zu\n",
              "j5u4zDwkEWmYSqXCZ79cxYWYZFhVMMG6IU0MJu2oDRKJgJlv1cdHndW5yB+OR+HTn68gj68u0Qu4\n",
              "XJJO69/UBd0aOanzkNuZhyQizdp4Oho7zj9PO9asZCn2SDpPEASMb18b8wpykdtC7mE8c5H0Ai6X\n",
              "pNMEQcC8Xp6oZmuGmMSn+Ix5SCLSkJO3EzD3t+sA1GnHtgacdtSGAc1c8cO7PpBJJTgY8RDDNoTy\n",
              "CQACwOWS9ICNuSmW9lfnIX8Ji8Ue5iGJqIyiEzIwfutF5OWr4O9TzSjSjtrQxaMKNg5vCku5Cc7c\n",
              "ScSAtWeR8IS5SGPH5ZL0QhM3O0zqqM5DfsY8JBGVQXpWLkYVpB0VLrb4ulcjo0k7akPLWg6Fucir\n",
              "D9LQZyVzkcaOyyXpjffb10bzGuo85ITtl5CjzBd7JCLSM/n5KkwOCsPtR0/gaC3HmsHGl3bUBo9q\n",
              "Ntg5tgWq2T7PRd58mC72WCQSLpekN6QSAUv6K2BrboqrD9Lw3R83xB6JiPTMwkM3cfi6Ou24ZnAT\n",
              "o007akPNSpbYPa4l6jpa4lF6NgJWncaFGOYijRGXS9IrVWzMML+3JwBg7Ym/cZx5SCJ6Tfsux+L7\n",
              "Y+q047e9Gxl92lEbnGyK5iLfXXcOx27wcdrYcLkkvdOpoROGPMtD7mQekoj+29UHqfjoWdrRryZ6\n",
              "eTuLPJHhsjWXYcuI5mhXrxKycvMxatN5/HyJuUhjwuWS9NKnBXnIhCfMQxLRqz1Oz8aoTeq0Y7t6\n",
              "lfBxF6Ydtc1MJsXaIU3wjqIqlPkqTA66jPUn/xZ7LConXC5JL/0zD7nuJPOQRPRv6rTjhedpx/5M\n",
              "O5YXU6kEi/oqMKyVGwDgy/3X8N0fzEUaAy6XpLfqOFrh8+7qPOT8g8xDElFRKpUKn/8SgfMvpB1t\n",
              "zJh2LE8SiYDPuzcozEV+fywKn/58lblIA8flkvTagGYu6OrBPCQR/Vvg6WgEnb8HiQAsH+DNtKNI\n",
              "nuUiv+71LBd5Fx9svYhsJXORhorLJek1QRDwjb8nqtpUQEziU3y+N0LskYhIB5yKTMCXBWnH6V3r\n",
              "o129yiJPRAObu+L7gepc5O9X1bnIJ9lKscciLeBySXrPxtwUSwd4QyIAP196gD0X+alEImMWk/hC\n",
              "2tG7Gka2YdpRV3RtVAUbhzWFhUyK01GJGLCGuUhDxOWSDEJTNztMeqMuAOCzX67i74QMkSciIjE8\n",
              "yVZi1KbzSHmaCy8XW3ztz7SjrmlZ2wHbRvvCzkKGKw9S0XfVGdxPZi7SkHC5JIMxvn1tNKthh4yc\n",
              "PEzYxjwkkbF5lna8Ff8Ela2YdtRlns622FWQi7yTkIHeK0/jVjxzkYaCyyUZDKlEwNKCPOSVB6lY\n",
              "8OdNsUcionK0+PAtHLoWr047DmkCR6YdddqLucj4tGwErDrDXKSB4HJJBqWKjRm+LchDrvnrDoJv\n",
              "PRZ5IiIqD/vDY7H8aCQA4Bv/RlAw7agXnuUifVxtkZqZq85FMuur97hcksHp3NAJg33VecipO8Lw\n",
              "OJ1vFicyZFcfpOJ/O9Vpx9F+NeHvw7SjPrE1l2HLyBdykYHn8culB2KPRWXA5ZIM0oy36qOeY0Ee\n",
              "cifzkESG6nF6NkYXpB3b1q2EaUw76iVzmQnWDmmCngW5yElBYdhwirlIfVXi5fLAgQPw8fGBQqGA\n",
              "h4cHAgMDAQCPHj1Cly5dUKdOHXh4eOCvv/7S+LBEr6uCqRTLB3pDbiLBX7ces2lLZIBylPkYt+UC\n",
              "YlOzUNPBAssGMO2oz0ylEizuq8DQlm4AgNn7rmHhnzeZi9RDJVouVSoVBg0ahI0bNyIsLAz79+/H\n",
              "mDFjkJ6ejk8++QS+vr64ffs2NmzYgIEDByI3l7UUEk9dRyt8/nYDAMD8P24g/H6KuAMRkcaoVCp8\n",
              "vvdqYdpx7XtMOxoCiUTAF283wNQ31aeWW340EjN+YS5S35T4mUtBEJCSkgIASEtLg729PeRyOXbs\n",
              "2IGxY8cCAJo2bYqqVasiODhYo8MSldTAZq7o0tAJuXkqTNh2iTUIIgOx6UwMtofegyAAywZ4oxbT\n",
              "jgZDEAR82LEO5r7jAUEAtp67iw+3MRepT0q0XAqCgKCgIPj7+6N69epo3bo1AgMDkZ6ejtzcXDg5\n",
              "ORV+rZubG+7evVvscbKzs5GWllbkkpfHOw1pniAI+KZ3I1S1qYDoxKf4/JerYo9ERGV0OjIBc/Zf\n",
              "AwBM7+qO9kw7GqRBvtULc5EHrjAXqU9KtFwqlUrMnTsXe/bsQUxMDI4cOYLBgwdDqSzZv+x58+bB\n",
              "xsamyCUkJKRExyB6XbbmMizpr85D7mEekkiv3U18ivcL0o69vKthVJuaYo9EWtStURVs+EcuMpG5\n",
              "SJ1XouUyLCwMsbGx8PPzA6B++dvZ2Rnh4eEwMTHBw4cPC782Ojoarq6uxR5n+vTpSE1NLXJp1qxZ\n",
              "Ga4G0as1q2GHCR3rAFDnIaOZhyTSO0+ylRi5KVSddnS2wTymHY1Cq3/kIgOYi9R5JVouXVxcEBcX\n",
              "h+vXrwMAIiMjERUVhXr16iEgIACrVq0CAISGhuLBgwdo27ZtsceRy+WwtrYucpFKmegi7fqwQ53n\n",
              "ecjtzEMS6ZN/ph1XD27CtKMR8XS2xc4XcpF9Vp5hLlKHlWi5dHR0xJo1a9C3b194eXmhV69eWLFi\n",
              "BVxdXfHtt9/i9OnTqFOnDoYOHYotW7bA1JSf3CPdIZUIWNJPARszU4TfT8VC5iGJ9MaSF9KOqwc3\n",
              "hpMN047GplYlS+wa1wJ1KlviYVoWAladwcW7yWKPRcUQVDpyAqkpU6Zg0aJFYo9BRuDg1YcYu+UC\n",
              "AGDT8Gbwq1tJ5ImI6FV+C4/D+K0XAQALA7zQuzELPMYsOSMHwwNDceluCsxMpVg5yAft+KEuncJC\n",
              "DxmdLh5OGOSrfj/wlB2XmYck0mERsc/TjqPa1OBiSahoIcNPI5vDr24lZObmYWTgeewNYy5Sl3C5\n",
              "JKM0860GqOtoiYQn2fgf85BEOinhSTZGb7qAzNw8+NWthE+61hd7JNIR5jITrBvSBD281LnIidvD\n",
              "sJG5SJ3B5ZKMUgVTKZYP8IHcRILgW4/xIx+UiHTKs7Tjg5RM1HCwwPL+TDtSUTITCZb0e56LnLXv\n",
              "GhYxF6kTuFyS0arnZIXPuqvzkN8evIEr91NFnoiIAHXa8YtfIxAanQwruQnWDmkCG3N+QJT+7Vku\n",
              "ckpBLnLZ0UjMZC5SdFwuyai929wVnRs6IjdPhQ+3XWT9gUgHbDkbg20hdwvTjrUrM+1ILycIAiZ0\n",
              "rIMvC3KRP527iwnbLjEXKSIul2TUBEHAt709UeVZHnIv85BEYjodlYBZ+9Rpx2ld3NHenZ8Cptcz\n",
              "2Lc6lg/whqlUwG9X4jBi43k+YSASLpdk9GzNZVjST6HOQ158gJ8vMQ9JJIZ7SU8x/id12vEdRVWM\n",
              "8WPakUqmu2dVbBjaDOYyKU5GJuDdtWeRlJEj9lhGh8slEYDmNe3xYQd1HnLmz1cRk8g8JFF5epKt\n",
              "xMjA80h+mgtPZxt809uTaUcqldZ1HLBtlC8qmpvi8v1U9Fl1Gg9SMsUey6hwuSQq8GGH2mjmVpCH\n",
              "3MY8JFF5yc9XYUpQGG7Gp6OSlRxrmHakMvJyscXOsS1R1aYC7jzOQJ+Vp3Gbuchyw+WSqICJVILF\n",
              "/dV5yMv3U7HwEPOQROVhyZHb+PNaPGRSph1Jc2pXtsTu91uidmVLxKVmIWA1c5Hlhcsl0Quq2Zrh\n",
              "296NAACrg+/gr1uPRZ6IyLD9Fh6HZUduAwC+9m8EH9eKIk9EhqSKjRl2jmkBhYstUp7m4t215xDM\n",
              "x3Wt43JJ9A9dPKrg3ebP85AJT5iHJNKGF9OOI1vXQB+mHUkLnuUi29RxKMhFhuLXy7Fij2XQuFwS\n",
              "FeOz7s/zkFN3MA9JpGkvph3b1HHAJ13dxR6JDJiF3ATr32uKt72qIjdPhYnbL2HTmWixxzJYXC6J\n",
              "isE8JJH25Cjz8f6Wi4VpxxUDfGAi5f+OSLtkJhIs7afAkBbVoVIBn++NwOJDt5iL1AL+10z0EvWc\n",
              "rDCTeUgijZu1LwIh0UkFacfGTDtSuZFIBMzu0RCT3lCfem7pkdv4fG8Ec5EaxuWS6BUGNXdFpwbq\n",
              "POS4ny7gQkyS2CMR6bXNZ2Ow9dyLaUcrsUciIyMIAia9URdf9mwIQVDfJydsZy5Sk7hcEr2CIAiY\n",
              "38cT1WzNcD85E71XnsG0XeFIZvGBqMTORCVi9q8RAICPOzPtSOIa3MLteS4yXJ2LzGAuUiO4XBL9\n",
              "B1tzGfZ92Bp9m6g/yRp0/h46LDyOoNC7/KAP0Wu6l/QU7/90Acp8FXoqqmJsW6YdSXzdPavix6FN\n",
              "C3ORA5mL1Agul0Svwc5Chvl9vLBrbAu4O1kh+Wkupu2+goDVZ3A9Lk3s8Yh0Wka2EqM2PU87fsu0\n",
              "I+mQNnUqYesLucgA5iLLjMslUQk0cbPDvg9bY+Zb9WEhk+JCTDK6Lz+Jufuv4QlfTiH6l/x8Fabs\n",
              "CMONh+lwsJRj9eDGTDuSzlG42GLn2BaoYlMBUQW5yMhHzEWWFpdLohIylUowsk1NHJ7aFt0aOSEv\n",
              "X4V1J//GGwuDceBKHE9rQfSCpUdu44+I52nHKjZmYo9EVKzala2we1xL1Kpkoc5FrjqDsHspYo+l\n",
              "l7hcEpVSFRsz/PBuY2wY1hSuduZ4mJaF93+6iPc2hCI6IUPs8YhE9/uVOCwtSDt+1csDjasz7Ui6\n",
              "raqtGXaObQkvF1skP83FwLVnceI2c5ElxeWSqIza16uMPyf7YULHOpBJJfjr1mN0WvIXlhy+haxc\n",
              "ntqCjNO12DRM2aFOOw5vVQMBTVxEnojo9dhZyLC1IBf5NCcPwzeGYn84c5ElweWSSAMqmEox5c26\n",
              "+GOyH9rUcUCOMh9LDt9GlyV/4a9b/K2XjEvik2yM2nS+MO34aTemHUm/PMtFdvesgtw8FT7cdgmb\n",
              "mYt8bVwuiTSohoMFNg1vhhUDvVHZSo7oxKcY8mMIxm+9iIepWWKPR6R1Ocp8jPtJnXZ0szdn2pH0\n",
              "lsxEgqX9vTHYV52L/Iy5yNfG/+KJNEwQBHT3rIojU9tieKsakAjAb+Fx6LjwONaf/BvKvHyxRyTS\n",
              "mtn7IhDydxIs5SZY914Tph1Jr0klAub0LJqL/OLXCJ7j+D9wuSTSEqsKpvj87QbY92FreLvaIiMn\n",
              "D1/uv4a3V5zChZhksccj0rgtZ2PwU2HaUcG0IxmEZ7nIOQW5yE1n1LnIHCWfKHgZLpdEWtawqg12\n",
              "j22Jef6NYGNmiutxaei98jQ+2c2MJBmOs3cSMasg7fhR53ro4O4o8kREmjWkhRuW9lfnIveHx2FE\n",
              "YChzkS/B5ZKoHEgkAgY0c8XRqW0R0Fidkdweqs5I7gi9x5dYSK+p044XocxXoYdXVYxrW0vskYi0\n",
              "oodXVax/rynMTKU4cTsB7647xycJisHlkqgc2VvK8V2AF3aObYF6juqM5Me7w9F39RnceMiMJOmf\n",
              "Z2nHpIwcNKpmg/l9mHYkw+ZXtxK2jmoOW3NThN1LQcDqM4hlLrIILpdEImjqZof9E1rj027uMJdJ\n",
              "cT4mGW8tO4mvfmNGkvRHfr4KU3dcLkw7rhnCtCMZB2/XithVkIuMfPSkIBf5ROyxdAaXSyKRmEol\n",
              "GO1XC4entEWXhuqM5NoT6ozk78xIkh5YdvQ2DkY8ZNqRjFLtylbYNa4lalayQGxqFgJWnWYusgCX\n",
              "SyKRVbU1w6rBjbFh6POM5LifLmLohlDEJDIjSbrp4NU4LDmsTjvOZdqRjFQ1WzPsGtsSXs42zEW+\n",
              "gMslkY5o716QkexQGzKpBMG3HqPT4r+w7MhtZCuZkSTdcT0uDZOD1GnHYa3c0JdpRzJidhYy/DTK\n",
              "F61rMxf5TImWy8TERCgUisJL3bp1YWJigqSkJISEhMDX1xfe3t6oX78+5s+fr62ZiQxWBVMppnSq\n",
              "h98ntUGr2vbIVuZj0aFb6LLkBH8bJp2QlJFTmHZsXdsBM7rVF3skItFZyk2wfmgTvNXohVzk2Rix\n",
              "xxKNoCrDG7sWLFiA4OBg7Nu3DwqFAnPmzEGPHj2QlJQEd3d3HD9+HA0aNHitY02ZMgWLFi0q7ShE\n",
              "BkelUmFfeBy+3H8Nj9OzAQDdPavgs+4N4GhdQeTpyBjl5uVj0LpzOPd3Eqrbm2Pv+FawNZeJPRaR\n",
              "zsjLV+HzvVfx07m7AIDJb9TFhI61je4MCmV6WXz9+vUYMWIEAPUZ7FNSUgAAGRkZkMlksLOzK/OA\n",
              "RMZKEAT08FJnJIe2dINEAPaHx6HjwmD8yIwkiWD2vgice5Z2HNKEiyXRP0glAua+44GJHdW5yMWH\n",
              "b2GWEeYiS71cnj59GsnJyejevTsAYMOGDfjss8/g6uqKunXr4uuvv4aTk1Ox35udnY20tLQil7w8\n",
              "vqeMqDjWFUwxq0dD/PpBa3i52OJJthJz9l9DjxWncPEuM5JUPn46F4MtZ9VpxyX9FKjjyLQjUXEE\n",
              "QcDkN+tidg91LjLwTAwmBYUZVS6y1Mvl+vXrMWTIEJiYmAAAvvnmG8ybNw93795FREQEZsyYgWvX\n",
              "rhX7vfPmzYONjU2RS0hISGlHITIKHtVs8PO4lvi6lzojea0gIzl9zxWkPGUhgrTn3J1EfLFXnXb8\n",
              "X6d6eKMB045E/+W9lm5Y0k8BE4mAXy/HYuSm83iaYxznMS7Vey6fPHmCKlWqIDQ0FO7u7khISEC1\n",
              "atWQnZ1d+DUBAQHo1KkTRo0a9a/vz87OLvK1APDZZ59h6dKlpbgKRMYn4Uk2vvn9BnZduA9A/WnF\n",
              "6V3d0aexs9G9t4e0617SU/T8/hSSMnLwtldVLOuv4H2MqASCbz3G2M0XkJmbB4WLLTYMbYqKFob9\n",
              "lpJSPXMZFBQELy8vuLu7AwAqVqwICwsLHD16FACQkJCAc+fOwcPDo9jvl8vlsLa2LnKRSll1IHpd\n",
              "DpZyLAjwwo4xLVDX0RJJGTn4aJc6I3nzYbrY45GBeJrzPO3oUc0a83sz7UhUUm3rVsJP/8hFxqUa\n",
              "di6yVMvlix/kAQCpVIodO3bgo48+gpeXF/z8/DBp0iS0aNFCY4MS0b81q2GH3ya0wfSu7jAzlSI0\n",
              "Ohndlp3A1weuI4MZSSqDf6UdBzeBmYxPAhCVho9rRewc0wJO1s9ykWcQ9dhwc5FlOhWRJvFURERl\n",
              "8yAlE3P2ReCPiHgAQBWbCvji7Qbo3NCJzzZRiS09fBuLD9+CqVTAtlG+aOLGs38QldX95KcYsj4E\n",
              "dxIyYGchw8ZhTeHpbCv2WBrHQg+Rgahma4bVg5vgx6FN4FzRDHGpWRi75SKGbwzF3cSnYo9HeuTg\n",
              "1YdYfPgWAOCrdxpxsSTSEOeK5tg5tgU8nW2QlJGDAWvO4uTtBLHH0jgul0QGpoO7Iw5NbosP2teG\n",
              "qVTAsZuP8ebiYCxnRpJew42HaZiyIwwAMLSlG/o2ZdqRSJPsLeXYOsoXrWrbI6MgF3ngSpzYY2kU\n",
              "l0siA2Qmk+J/nevh4CQ/tKylzkguPHQLXZecMMjfkkkzkjJyMDLwPJ7mqNOOM99i2pFIGyzlJvhx\n",
              "aFN0a+SEnLx8jN96EVsMKBfJ5ZLIgNWqZImfRjbH0v4KVLKS405CBgatP4cPt13Co7QssccjHZKb\n",
              "l4/3f7qA+8mZqG5vjhUDvWEi5f8iiLRFbiLF8gE+eLe5K1QqYOYvV7HsyG3oyEdhyoSPHEQGThAE\n",
              "9FRUK5KR3Hc5Fh0XBmPjKWYkSW3Ovms4eycJFjIp1jLtSFQunuUiJ3SoDQBYdOgWZu+7pve5SC6X\n",
              "REbiWUZy7/jW8HK2QXq2ErP2XUPP70/hEjOSRm3rubvYfDYGggAs7e+Nukw7EpUbQRAwpVM9fPF2\n",
              "AwDAxtPRmLxDv3ORXC6JjEwjZxvseb8V5r7jAesKJoiITYP/ytP49OcrSH2aK/Z4VM7O3UnE53uv\n",
              "AmDakUhMw1rVwNL+6lzk3rBYjNLjXCSXSyIjJJUIGORbHUemtoO/TzWoVOpnrzosPI5dF+4bxHt+\n",
              "6L/dT36KcT9dhDJfhe6eVfB+u1pij0Rk1HoqqmHde01gZipF8K3HGLTuHFKe5og9VolxuSQyYpWs\n",
              "5FjUV4Hto31Rp7IlEjNy8L+dl9Fv9VncimdG0pCp044XkJSRg4ZVrfFdHy+ebJ9IB7SrVxlbRjaH\n",
              "jZkpLt5NQd/VZ/AwVb8+gMnlkojgW9Mev01og08KMpIh0UnotvQE5v1+XW9flqGXU6lU+N/Oy7ge\n",
              "lwYHSxnWDmHakUiXNK5eETvHqnORt+KfoPfK03qVi+RySUQAAJmJBGPb1sKhKX54s4EjlPkqrA6+\n",
              "gzcWBuOPiId8qdyALD8aiQNXHsJUKmDVoMaoamsm9khE9A91Ha2wa1wL1HSwwIOUTASsOoPw+yli\n",
              "j/VauFwSURHOFc2xdkgTrBuizkjGpmZhzOYLGBF4HveSmJHUd39EPMSiQ+q049x3PJh2JNJhz3KR\n",
              "jao9z0WeitT9EAaXSyIq1hsN1BnJ8e1rwVQq4OiNR3hjUTBWHGVGUl/deJiGKUFhANRpx35NXcUd\n",
              "iIj+k72lHNtG+6JlLXUuctgG3c9Fcrkkopcyk0nxUWd3/D6xDVrUVGckF/x5C12XnsBpPfjtmZ5L\n",
              "ysjBqE3nkZGTh5a17DGDaUcivWEpN8GGYUVzkVvP3RV7rJficklE/6l2ZStsHdUcS/op4GApx53H\n",
              "GRi47hwmbr+ER+n69SlGY5Sbl4/xP13EvaRMuNqZ4/uBPjBl2pFIrzzLRQ4syEV++vMVrDiqm7lI\n",
              "ProQ0WsRBAHveKszkkNaVIcgAHvDYtFxQTACT0cjT89zZYZs7v5rOHMnERYyKda91wQVLZh2JNJH\n",
              "UomAr97xwIcFucgFf97CnP26l4vkcklEJWJjZoo5PT3w6/jW8CzISH7xawR6fn8Sl++liD0e/cO2\n",
              "kLsIPBMDAFjcT8G0I5GeEwQBU1/IRQbffIz0bN06ZZyJ2AMQkX5q5GyDn99vha0hdzH/4A1cfZCG\n",
              "d344hXebu+KjTu6wMTcVe0SjFxqd9ELasS46NXQSeSIi0pRhrWqgkpUcChdb2Jjp1uMtn7kkolKT\n",
              "SgQM9q2Oo1Pbwd9bnZHccladkdzNjKSoHqRkYuzmC8jNU+EtzyoY37622CMRkYZ196wK54rmYo/x\n",
              "L1wuiajMKlnJsaifAttG+aJ2QUZy6s7L6LeGGUkxPM1RYlTgeSQWph09mXYkonLD5ZKINKZFLXsc\n",
              "mNAGH3ephwqmEoT8rc5IfvP7DWYky4lKpcJHO8NxrSDtuGZIE5jL+A4oIio/XC6JSKNkJhK83642\n",
              "Dk1uizfqqzOSq4Kj8Oaiv/BnxEOxxzN43x+LxG9X4mAqFbByUGNUY9qRiMoZl0si0goXO3Ose68J\n",
              "1g5pgmq2ZniQkonRmy9gZGAoM5Ja8mfEQyz4U512/LKnB5oy7UhEIuBySURa9WYDRxya4odx7WrB\n",
              "RCLg8PVHeHNxML4/FokcZb7Y4xmMmw/TMbkg7fhei+ro34xpRyISB5dLItI6c5kJpnVRZyR9a9oh\n",
              "Kzcf3/1xE12X/oXTUcxIllVyRg5GbgpFRk4eWtS0x8zuDcQeiYiMGJdLIio3dRytsG2ULxb384KD\n",
              "pQxRjzMwcO05TGJGstRyCzrD95Iy4WJnhh/eZdqRiMTFRyAiKleCIKCXtzOOTGmHwb7qjOQvYbHo\n",
              "uDAYm84wI1lSX/12HaejCtKOQ5oy7UhEouNySUSisDE3xZfveOCX91uhUTUbpGcp8fneCLzz/SmE\n",
              "308Rezy9sD3kLjaejgagTjvWc2LakYjEx+WSiETl5WKLX8a3wpyeDWFVwQRXHqSi5/en8NkvV5Ga\n",
              "mSv2eDorNDoJnxWkHae+ybQjEekOLpdEJDqpRMCQFm44MrUt3lFUhUoFbD4bg44Lj+PnS8xI/tOD\n",
              "lEyM21KQdmxUBR90YNqRiHQHl0si0hmVrSpgSX9vbB3VHLUqWSDhSQ4mB13GgLVnEfmIGUkAyMzJ\n",
              "w+hN55HwJAcNqljjuwCmHYlIt3C5JCKd07KWA36f6IePOqszkmfvJKHr0hP49uANZObkiT2eaFQq\n",
              "FT7adRkRsWmwt5BhzZDGTDsSkc7hcklEOklmIsH49uqMZEf3ysjNU2Hl8Si8sSgYh67Fiz2eKH44\n",
              "HoX94c/Tjs4VzcUeiYjoX7hcEpFOe5aRXDO4cWFGctSm8xgZeB73k40nI3noWjy+++MmAGB2Dw80\n",
              "q8G0IxHpphItl4mJiVAoFIWXunXrwsTEBElJSVCpVJg1axbq1q2LRo0aoX379tqamYiMjCAI6NTQ\n",
              "CYem+GFs22cZyXi8sSgYPxw3/Izkrfh0TNp+CQAwpEV1DGzOtCMR6a4SvVnH3t4eYWFhhf+8YMEC\n",
              "BAcHw87ODkuXLkV4eDiuXr0KmUyGhw8fanpWIjJy5jITfNLVHb19qmHmL1dx7u8kzD94E3suPsCX\n",
              "PT3Qopa92CNqXHJGDkYGni9MO37GtCMR6bgyvSy+fv16jBgxAgDw3Xff4ZtvvoFMpq5DODnxnGtE\n",
              "pB11HK2wfbQvFgZ4wd5ChshHTzBg7VlMDgrD4/RsscfTGGVePj7YdhF3k57CuaIZvmfakYj0QKkf\n",
              "pU6fPo3k5GR0794daWlpiI+Px969e9G8eXM0b94cQUFBL/3e7OxspKWlFbnk5RnvJ0CJqOQEQUDv\n",
              "xs44OrUd3m3uCkEAfr70AB0WHsdmA8lIzv3tOk5FJsJcJsW695rAjmlHItIDpV4u169fjyFDhsDE\n",
              "xARKpRJKpRKZmZk4d+4cgoKCMHnyZFy+fLnY7503bx5sbGyKXEJCQkp9JYjIeNmYm+KrXo3w8/ut\n",
              "4FHNGulZSny2NwL+P5zClfupYo9XakGhz9OOi/oq4O5kLe5ARESvSVCVIn3x5MkTVKlSBaGhoXB3\n",
              "dwcAWFlZ4fLly6hZsyYAICAgAJ07d8bIkSP/9f3Z2dnIzi760tVnn32GpUuXluY6EBEBAPLyVdhy\n",
              "NgYL/riJ9GwlBAEY7FsdUzvVg42Zqdjjvbbz0UkYsPYscvNUmPJmXUzoWEfskYiIXlupnrkMCgqC\n",
              "l5dX4WIJAAMGDMDBgwcBAElJSQgJCYGnp2ex3y+Xy2FtbV3kIpVKSzMKEVEhqUTAey3VGcmeBRnJ\n",
              "TWdi0HFhMH659EAvMpIPUjIxtiDt2K2REz5k2pGI9EyplssXP8jzzLx583Dw4EF4eHjAz88P06ZN\n",
              "Q7NmzTQyJBFRSVS2roCl/b3x08jmqFnJAglPsjEpKAwD155D5KMnYo/3Ui+mHetXscaCAC+mHYlI\n",
              "75TqZXFtmDJlChYtWiT2GERkYLKVeVj71x0sPxqJbGU+TKUCRvvVxAft68BMpjuvmKhUKny47RL2\n",
              "h8fB3kKGvR+0YoGHiPQSz2lBRAZNbiLFBx3q4NDktmhfrxJy81T4/lgU3lwcjCPXdScj+SztaCJh\n",
              "2pGI9BuXSyIyCq725vhxaFOsHtwYVW0q4H5yJkYEnseoTefxICVT1NkOX4vHgj8L0o49GzLtSER6\n",
              "jcslERkNQRDQuaETDk1pizF+NWEiEXDoWjzeWBiMlcejRMlI3o5Px6SgMKhU6k+2v9u8ernPQESk\n",
              "SVwuicjoWMhNML1bffw2oQ2audkhMzcP3x68gbeWncDZO4nlNkfK0xyM3HQeT7KV8K1ph8/fZtqR\n",
              "iPQfl0siMlr1nKwQNMYXCwK8YGchw+1HT9B/zVlM2RGGhCfazUgq8/LxwdZLiElUpx1/eLcx045E\n",
              "ZBD4SEZERk0QBPRp7IyjU9tiYEFGcs/FB+iw4Di2nI3RWkbyqwPXcTIyAeYyKdYOYdqRiAwHl0si\n",
              "IgC25jJ83asR9oxriQZVrJGWpcTMX67Cf+VpXH2g2YzkjtB72HAqGoA67Vi/CtOORGQ4uFwSEb3A\n",
              "27Uifv2gFb54uwEs5Sa4fC8FPVacxBd7ryItK7fMx78Qk4QZv1wBAEx6ow66eDiV+ZhERLqEyyUR\n",
              "0T+YSCUY1qoGjk5ti7e9qiJfBQSeiUGHBcHYG1b6jGRsSibGbL6I3DwVuno4YUIHNsOJyPBwuSQi\n",
              "eonK1hWwfIA3toxojpoO6ozkxO1hGLT+HKIelywjmZmThzGbLyDhSTbcnaywIMALEgnTjkRkeLhc\n",
              "EhH9h9Z1HPD7pDaY+mZdyE0kOBWZiC5L/sKCP24iMyfvP79fpVLh493huPIgFXYWMqwd0gQWcpNy\n",
              "mJyIqPxxuSQieg1yEyk+7KjOSLYryEiuOBaJNxcH4+iNV2ckVwZHYd/lWJhIBPzwrg9c7Jh2JCLD\n",
              "xeWSiKgEXO3NsWFoU6wa5IMqBRnJ4RvPY8zm4jOSR67H47s/1GnHWT0awremfXmPTERUrrhcEhGV\n",
              "kCAI6OJRBYentMVov5qQSgT8EaHOSK4OjkJunjojeTs+HRO3q9OOg3xdMciXaUciMnxcLomISslC\n",
              "boJPu9XHbxNao6lbRWTm5mHe7+qM5JHr8RhVkHZsXsMOX7zdUOxxiYjKBZdLIqIycneyRtDoFpjf\n",
              "xxMVzU1xK/4JRgSeR3TiU1SzNcMP7/ow7UhERoOPdkREGiCRCOjbxAVHp7bDgGYuAFCYdrS3lIs8\n",
              "HRFR+eG5MIiINKiihQzz/D0xsk1NyKQSfjKciIwOl0siIi2oVclS7BGIiETBl8WJiIiISGO4XBIR\n",
              "ERGRxnC5JCIiIiKN4XJJRERERBrD5ZKIiIiINIbLJRERERFpDJdLIiIiItIYLpdEREREpDFcLomI\n",
              "iIhIY7hcEhEREZHGcLkkIiIiIo0RVCqVSuwhAMDf3x9ubm7l8rPy8vIQEhKCZs2aQSqVlsvP1Be8\n",
              "bYrH2+XleNsUj7dL8Xi7vBxvm+Lxdnk5MW6b6tWrY+LEia/8Gp1ZLstTWloabGxskJqaCmtra7HH\n",
              "0Sm8bYrH2+XleNsUj7dL8Xi7vBxvm+Lxdnk5Xb1t+LI4EREREWkMl0siIiIi0hgul0RERESkMUa5\n",
              "XMrlcnzxxReQy+Vij6JzeNsUj7fLy/G2KR5vl+Lxdnk53jbF4+3ycrp62xjlB3qIiIiISDuM8plL\n",
              "IiIiItIOLpdEREREpDFcLomIiIhIYwx+uVQqlZg9ezbc3d3h4eEBhUKB0aNH4/79++jcuTMcHBxg\n",
              "a2sr9pikQ152nzlx4gT8/PwK/3z48OHIzMwUe1zSAS+7z1y6dAmNGzeGQqGAh4cHAgICkJycLPa4\n",
              "pANedp9JSUkp/JqhQ4dCEIQif0bG62X3mbCwMEilUigUisJLVFSUqLOaiPrTy8GIESOQlJSEM2fO\n",
              "oGLFilCpVNi1axcyMjIwbdo02NnZoV27dmKPSTrkZfeZypUrY8WKFfD09EReXh4GDhyIb7/9FrNm\n",
              "zRJ7ZBLZy+4z5ubmOHnyJMzMzAAAEydOxKxZs7B06VKRJyaxvew+k5SUBFtbW+zZswempqZij0k6\n",
              "5GX3GWtra1hZWSEsLEzsEQsZ9KfFIyMj4enpibt378LBwaHYr4mOjoZCoeBvhgTg9e4zzyxYsABX\n",
              "r17Fxo0by2c40kmve5/Jy8vDmDFjYGlpiSVLlpTfgKRz/us+Ex8fj7feegvHjh2DtbU1kpOT+Qqb\n",
              "kXvVfUYX9xiDfln84sWLqFOnzn8uCUTPvO59JiMjA+vWrUPPnj3LaTLSVf91n8nJyYFCoYCDgwNu\n",
              "376N2bNnl/OEpGv+6z4zatQozJ8/H1ZWVuU8Gemq/7rPZGRkoGnTpvDx8cGcOXOQl5dXzhMWZdDL\n",
              "JZE25OTkoF+/fujUqRN69eol9jik42QyGcLCwhAfHw93d3esXr1a7JFIh61btw6urq7o0KGD2KOQ\n",
              "nqhSpQoePHiA0NBQHD58GCdOnMDChQtFncmgl0sfHx/cvn0biYmJYo9CeuK/7jO5ubno168fqlSp\n",
              "wvfNEYDXf5yRyWQYNmwYNm/eXE6Tka561X3m2LFj2Lt3L9zc3ODm5gYA8PT0xKVLl8p5StIlr7rP\n",
              "yOVyVK5cGQBgZ2eH4cOH48SJE+U9YhEGvVzWrl0bvXv3xogRIwrfi6BSqbB7927cuXNH3OFIJ73q\n",
              "PnPr1i30798fdnZ2WLNmDQRBEHdY0gmvus8EBwfj6dOnAID8/Hzs3LkTnp6eIk5LuuBV95kvv/wS\n",
              "9+7dQ3R0NKKjowEA4eHh8Pb2Fm9gEt2r7jMhISHIzc0FAGRnZ2PPnj2i318MerkEgB9//BFeXl5o\n",
              "3rw5GjZsiAYNGuDPP/+EnZ0dPD090aJFC6SlpcHZ2RmDBw8We1zSAS+7z4SGhmLPnj04f/48vL29\n",
              "oVAoMH78eLHHJR3wsvvM3bt34evrC09PT3h6euLx48dYtmyZ2OOSDnjV/5uIivOy+8z9+/fh7e0N\n",
              "Ly8v+Pj4wMnJCTNmzBB1VoP+tDgRERERlS+Df+aSiIiIiMoPl0siIiIi0hgul0RERESkMVwuiYiI\n",
              "iEhjuFwSERERkcZwuSQiIiIijeFySUREREQaw+WSiIiIiDSGyyURERERaQyXSyIiIiLSGC6XRERE\n",
              "RKQx/wcVACKPj3RNKAAAAABJRU5ErkJggg==\n",
              "\">\n",
              "      </div>\n",
              "      <script type=\"text/javascript\">\n",
              "        (() => {\n",
              "          const chartElement = document.getElementById(\"chart-9fcc334f-2f77-4ff1-8a1a-9acd34f226cc\");\n",
              "          async function getCodeForChartHandler(event) {\n",
              "            const chartCodeResponse =  await google.colab.kernel.invokeFunction(\n",
              "                'getCodeForChart', [\"chart-9fcc334f-2f77-4ff1-8a1a-9acd34f226cc\"], {});\n",
              "            const responseJson = chartCodeResponse.data['application/json'];\n",
              "            await google.colab.notebook.addCell(responseJson.code, 'code');\n",
              "          }\n",
              "          chartElement.onclick = getCodeForChartHandler;\n",
              "        })();\n",
              "      </script>\n",
              "      <style>\n",
              "        .colab-quickchart-chart-with-code  {\n",
              "            display: block;\n",
              "            float: left;\n",
              "            border: 1px solid transparent;\n",
              "        }\n",
              "\n",
              "        .colab-quickchart-chart-with-code:hover {\n",
              "            cursor: pointer;\n",
              "            border: 1px solid #aaa;\n",
              "        }\n",
              "      </style>"
            ]
          },
          "metadata": {}
        },
        {
          "output_type": "display_data",
          "data": {
            "text/plain": [
              "<google.colab._quickchart_helpers.SectionTitle at 0x7ea377cf2110>"
            ],
            "text/html": [
              "<h4 class=\"colab-quickchart-section-title\">Faceted distributions</h4>\n",
              "<style>\n",
              "  .colab-quickchart-section-title {\n",
              "      clear: both;\n",
              "  }\n",
              "</style>"
            ]
          },
          "metadata": {}
        },
        {
          "output_type": "stream",
          "name": "stderr",
          "text": [
            "<string>:5: FutureWarning: \n",
            "\n",
            "Passing `palette` without assigning `hue` is deprecated and will be removed in v0.14.0. Assign the `y` variable to `hue` and set `legend=False` for the same effect.\n",
            "\n"
          ]
        },
        {
          "output_type": "display_data",
          "data": {
            "text/plain": [
              "from matplotlib import pyplot as plt\n",
              "import seaborn as sns\n",
              "figsize = (12, 1.2 * len(_df_13['Name'].unique()))\n",
              "plt.figure(figsize=figsize)\n",
              "sns.violinplot(_df_13, x='Marks', y='Name', inner='stick', palette='Dark2')\n",
              "sns.despine(top=True, right=True, bottom=True, left=True)"
            ],
            "text/html": [
              "      <div class=\"colab-quickchart-chart-with-code\" id=\"chart-e9d8b11a-9783-4049-93a9-53fa303e786f\">\n",
              "        <img style=\"width: 180px;\" src=\"data:image/png;base64,iVBORw0KGgoAAAANSUhEUgAAA/wAAAIBCAYAAAD02rSIAAAAOXRFWHRTb2Z0d2FyZQBNYXRwbG90\n",
              "bGliIHZlcnNpb24zLjcuMSwgaHR0cHM6Ly9tYXRwbG90bGliLm9yZy/bCgiHAAAACXBIWXMAAA9h\n",
              "AAAPYQGoP6dpAAAotUlEQVR4nO3df5RVdb3/8dc4A6NFkD8K8wfgb1FkBgWENEyvZZnLboSRFBr+\n",
              "qHBZkreuVyLDHzlalpqm1Qp/S2FK16xbLQmsW4mCCVoqJUGmIpmOQiEDyP7+wWq+UeIVnJmDHx6P\n",
              "tc5asM/Zm/cZP0vOc/aeTV1VVVUAAACAomxV6wEAAACAjif4AQAAoECCHwAAAAok+AEAAKBAgh8A\n",
              "AAAKJPgBAACgQIIfAAAACiT4AQAAoECCHwAAAAok+AEAAKBAgh8AAAAKJPgBAACgQIIfAAAACiT4\n",
              "AQAAoECCHwAAAAok+AEAAKBAgh8AAAAKJPgBAADY4o0fPz7jx4+v9RgdqqHWAwAAAECtLV26tNYj\n",
              "dDhn+AEAAKBAgh8AAAAKJPgBAACgQIIfAAAACiT4AQAAoECCHwAAAAok+AEAAKBAgh8AAAAKJPgB\n",
              "AACgQIIfAAAACiT4AQAAoECCHwAAAAok+AEAAKBAgh8AAAAKJPgBAACgQIIfAAAACiT4AQAAoECC\n",
              "HwAAAAok+AEAAKBAgh8AAAAKJPgBAACgQIIfAAAACiT4AQAAoECCHwAAAAok+AEAAKBAgh8AAAAK\n",
              "JPgBAACgQIIfAAAACiT4AQAAoECCHwAAAAok+AEAAKBAgh8AAAAKtFkH//Lly9OjR4+cfPLJnXL8\n",
              "j3zkI7nssss65dgAAABQS5t18E+bNi0HHXRQpk+fnr/+9a+1HgcAAABeMzbr4J8yZUrOOuusjBgx\n",
              "ItOmTcvpp5+eCy+8sP35BQsWZNddd82aNWsyefLkTJgwof25K6+8Mh/5yEeSJLNnz85BBx2U5ubm\n",
              "DBgwIFdffXX76x5++OH827/9W/bee++MHDkyq1at6qq3BwAAAJ2modYDbMhDDz2UP/3pTznqqKOy\n",
              "Zs2aXHTRRbn22mtz1FFH5ayzzkp9fX2uuuqqfPSjH01Dw8u/jZaWlnz605/O8ccfnyRpbW1tf27e\n",
              "vHmZNWtWGhsbM2LEiNx2223tr/tnbW1taWtrW29bY2NjGhsbX+W7BQAAgI612Z7hnzJlSk444YTU\n",
              "19fn6KOPzqJFi7J27drst99+uf322/O3v/0t3/72t/PRj370/zzW4YcfnvPPPz/nnXdefvGLX2Tb\n",
              "bbdtf+5973tfXve616W+vj5Dhw7NwoULN3iclpaW9OrVa71HS0tLh7xfAAAA6Eib5Rn+1atX58Yb\n",
              "b0y3bt0yderUJMmKFSsyZcqUnHHGGbn44ovz9NNP5x3veEd69+6dJGloaMiLL77YfoyVK1e2/3rC\n",
              "hAl573vfmxkzZmTixIkZMGBArrrqqiTJ1ltv3f66+vr6rFmzZoNznX322TnzzDPX2+bsPgAAAJuj\n",
              "zfIM//e///3svvvueeKJJ7J48eIsXrw4s2fPzo033pgjjjgiTz31VC644IKcfvrp7fvsueeemTt3\n",
              "bl588cWsWLEit912W/tzCxYsyG677ZZTTz01EydOzOzZszdprsbGxvTs2XO9h+AHAABgc7RZnuGf\n",
              "MmVKPvShD623rX///tl5551zxx135OSTT87UqVMzfPjw9udHjhyZ7373u+nfv3922WWXDBo0KCtW\n",
              "rEiy7gZ+M2fOTPfu3VNfX58vf/nLXfp+AAAAoKvVVVVV1XqIjXXMMcdk9OjRGTt2bK1HAQAAoAAj\n",
              "R45MkkyfPr3Gk3SczfKS/g2ZO3du9txzz2y11VYZM2ZMrccBAACAzdZmeUn/hgwePDiPPvporccA\n",
              "AACAzd5r6gw/AAAA8MoIfgAAACiQ4AcAAIACCX4AAAAokOAHAACAAgl+AAAAKJDgBwAAgAIJfgAA\n",
              "ACiQ4AcAAIACCX4AAAAokOAHAACAAgl+AAAAKJDgBwAAgAIJfgAAACiQ4AcAAIACCX4AAAAokOAH\n",
              "AACAAgl+AAAAKJDgBwAAgAIJfgAAACiQ4AcAAIACCX4AAAAokOAHAACAAgl+AAAAKJDgBwAAgAIJ\n",
              "fgAAACiQ4AcAAIACCX4AAAAokOAHAACAAgl+AAAAKFBDrQcAAACAWuvdu3etR+hwdVVVVbUeAgAA\n",
              "AOhYLukHAACAAgl+AAAAKJDgBwAAgAIJfgAAACiQ4AcAAIACCX4AAAAokOAHAACAAgl+AAAAKJDg\n",
              "BwAAgAIJfgAAACiQ4AcAAIACCX4AAAAokOAHAACAAgl+AAAAKJDgBwAAgAIJfgAAACiQ4AfYwowf\n",
              "Pz7jx4+v9RgAAHSyhloPAEDXWrp0aa1HAACgCzjDDwAAAAUS/AAAAFAgwQ8AAAAFEvwAAABQIMEP\n",
              "AAAABRL8AAAAUCDBDwAAAAUS/AAAAFAgwQ8AAAAFEvwAAABQIMEPAAAABRL8AAAAUCDBDwAAAAUS\n",
              "/AAAAFAgwQ8AAAAFEvwAAABQIMEPAAAABRL8AAAAUCDBDwAAAAUS/AAAAFAgwQ8AAAAFEvwAAABQ\n",
              "IMEPAAAABRL8AAAAUCDBDwAAAAUS/AAAAFAgwQ8AAAAFEvwAAABQIMEPAAAABRL8AAAAUCDBDwAA\n",
              "AAUS/AAAAFCgzSr4zz333Jxyyintv//FL36Rurq63HXXXe3bPv7xj+dzn/tcDaYDAACA147NKvgP\n",
              "P/zw9eJ+1qxZOfjgg/9l2xFHHNGpc6xZs6ZTjw8AAACdbbMK/mHDhuXJJ5/M448/niS56667cs45\n",
              "57QH/5IlS/LYY4/l7rvvzpAhQ9Lc3JwhQ4bk7rvvbj/Gr371qzQ3N2fAgAEZN25cmpub2/f/yle+\n",
              "ssH9+vXrl7POOitDhw7NiSee+JLztbW1ZdmyZes92traOueLAQAAAK/CZhX83bt3z1vf+tbMmjUr\n",
              "bW1tWbRoUY4++ug8/vjjWblyZWbNmpXhw4fn1FNPzZw5czJv3rxcccUVGTduXJJk1apVGT16dC65\n",
              "5JL85je/yfHHH5/58+e3H3/s2LEvud/fPfPMM7nnnnty8803v+R8LS0t6dWr13qPlpaWzvuCAAAA\n",
              "wCZqqPUA/+zvl/X37ds3Q4cOTbLuzP/dd9+du+66K4cffnjuv//+fOELX8gzzzyThoaGLFiwIC+8\n",
              "8EJ+//vfp6GhIUceeWSS5J3vfGd233339mNvaL9tttkmSfKRj3wkdXV1G5zt7LPPzplnnrnetsbG\n",
              "xo7+EgAAAMCrtlkG/5QpU9KnT5+8/e1vT5IcdthhmTVrVmbNmpVvfetbec973pNZs2ZlyJAhWbZs\n",
              "WXr16rXBS+v/HvCrVq3KyJEjX3K/vwd/jx49Xna2xsZGgQ8AAMBrwmZ1SX+SDBkyJH/+859z8803\n",
              "rxf83/nOd7JkyZI0Nzdn1apV6dOnT5LkiiuuaN933333zZo1azJr1qwkyYwZM7Jw4cIkycqVKze4\n",
              "HwAAAJRmswv+bt265dBDD83y5cuz7777Jkn23nvvLF++PIceemh69eqVCy64IEOHDs1BBx2U7t27\n",
              "t+/bvXv3TJs2LZ/61KdywAEHZOrUqWlqakqS9OzZc4P7AQAAQGnqqqqqaj1EZxo8eHAuueSS9qsF\n",
              "ALZ0I0eOTJJMnz69xpMAANCZNrsz/AAAAMCrt9ndtK+jzZ07t9YjAAAAQJdzhh8AAAAKJPgBAACg\n",
              "QIIfAAAACiT4AQAAoECCHwAAAAok+AEAAKBAgh8AAAAKJPgBAACgQIIfAAAACiT4AQAAoECCHwAA\n",
              "AAok+AEAAKBAgh8AAAAKJPgBAACgQIIfAAAACiT4AQAAoECCHwAAAAok+AEAAKBAgh8AAAAKJPgB\n",
              "AACgQIIfAAAACiT4AQAAoECCHwAAAAok+AEAAKBAgh8AAAAKJPgBAACgQIIfAAAACiT4AQAAoECC\n",
              "HwAAAArUUOsBAOhavXv3rvUIAAB0gbqqqqpaDwEAAAB0LJf0AwAAQIEEPwAAABRI8AMAAECBBD8A\n",
              "AAAUSPADAABAgQQ/AAAAFEjwAwAAQIEEPwAAABRI8AMAAECBBD8AAAAUSPADAABAgQQ/AAAAFEjw\n",
              "AwAAQIEEPwAAABRI8AMAAECBBD8AAAAUSPBvIcaPH5/x48fXegwAAAC6SEOtB6BrLF26tNYjAAAA\n",
              "0IWc4QcAAIACCX4AAAAokOAHAACAAgl+AAAAKJDgBwAAgAIJfgAAACiQ4AcAAIACCX4AAAAokOAH\n",
              "AACAAgl+AAAAKJDgBwAAgAIJfgAAACiQ4AcAAIACCX4AAAAokOAHAACAAgl+AAAAKJDgBwAAgAIJ\n",
              "fgAAACiQ4AcAAIACCX4AAAAokOAHAACAAgl+AAAAKNAmBf99992XG2+8MUnS2tqaJUuWdOhQAAAA\n",
              "wKuz0cF/1VVX5aSTTsrkyZOTJM8++2zGjBnT0XMBAAAAr8JGB/83v/nNzJ49Oz179kyS7LHHHnn6\n",
              "6ac7fDAAAABg02108Dc2NmabbbZZb1tDQ0OHDQQAAAC8ehsd/G9605vyu9/9LnV1dUmS6667Ln36\n",
              "9OnwwQAAAIBNt9Gn5i+77LIcf/zxeeSRR7LrrrumZ8+e+cEPftAZswEAAACbaKODf88998w999yT\n",
              "BQsWpKqq7LPPPqmvr++M2QAAAIBNtEk/fP/Xv/41q1evzpo1azJ//vwkyYEHHtihgwEAAACbbqOD\n",
              "/9JLL80555yTN73pTe1n9uvq6vK73/2uw4cDAAAANs1GB/8VV1yRBQsWZKedduqMeQAAAIAOsNF3\n",
              "6d955527NPaPPvroXHnllf+yvampKQMHDszNN9/cZbMAAADAa8VGn+GfOHFiPvnJT+aYY47J1ltv\n",
              "3b59xIgRHTrY35188sm58MILc/rpp7dvmzt3bpYsWZInnngi3bp165Q/FwAAAF7L6qqqqjZmh3PO\n",
              "OSdf/epXs/vuu6/3M/z33ntvpwy4evXq7LzzzpkxY0YGDhyYJDnttNPyute9Ln/5y1/S3NycCRMm\n",
              "ZPLkyXn44YezYsWKLFy4MDvuuGNuvfXWbLfddnnwwQczfvz4rFixIitXrsyYMWMyadKkrFy5Mv36\n",
              "9cucOXOy6667Jln3DY0XX3wxF198cae8n1oZOXJkkmT69Ok1ngQAAICusNGX9N9www1ZvHhxfv3r\n",
              "X2fOnDmZM2dOp8V+knTr1i1jx47NNddckyRZuXJlvv3tb+fkk0/+l9fec889ue666/LQQw/lzW9+\n",
              "c77xjW8kSfr165ef/vSn+fWvf5377rsvt912W2bPnp2tt946J598cq6++uokSVtbW6699tqcdtpp\n",
              "LzlLW1tbli1btt6jra2tk945AAAAbLqNDv6+ffvmjW98YyeMsmEnn3xybr755qxatSrTp09P//79\n",
              "079//3953bve9a5sv/32SZLhw4dn4cKFSZIXXnghp5xySg444IAMGzYsf/zjHzNv3rwk664WuP76\n",
              "69PW1pbvfve7GTp0aPr27fuSc7S0tKRXr17rPVpaWjrnTQMAAMCrsNE/wz9kyJB84AMfyKhRo9b7\n",
              "Gf5jjz22Qwf7R/vtt1/23HPP3HHHHbnmmmte8ux+kvXmqa+vz5o1a5Ksu0x/hx12yP3335+GhoaM\n",
              "HDkyK1euTLLuJoQjRozItGnTcvXVV+e8887b4Bxnn312zjzzzPW2NTY2vtq3BwAAAB1uo4P/vvvu\n",
              "S5L2y+CTdT/D35nBn/z/m/f9/ve/z3//939v1L6tra3p379/GhoasmDBgtx5553r3WTwjDPOyHHH\n",
              "HZcePXrkyCOP3OBxGhsbBT4AAACvCRsd/LNmzeqMOf5Po0ePzoQJEzJ69Oj06NFjo/adNGlSxo4d\n",
              "m+uvvz577LFHjjjiiPWeHzZsWHr16pWPfexjqaur68ixAQAAoCY2+i79ybo75y9atKj9svgk7XfQ\n",
              "fy164oknMnjw4Pzud7/LG97whlqP0yncpR8AAGDLstFn+H/wgx/k1FNPTWtra17/+tentbU1ffv2\n",
              "zaJFizpjvk53zjnn5JprrslFF11UbOwDAACw5dnou/R/7nOfy+zZs9O/f/8888wzueGGGzJq1KjO\n",
              "mK1LnHfeeXn88cdz4okn1noUAAAA6DAbHfxbbbVV+vbt234H/A9/+MOZOXNmhw8GAAAAbLqNvqS/\n",
              "W7duSZJddtkl3/ve99KvX7+0trZ2+GAAAADAptvo4D/jjDPS2tqaCy64IB/84Afz3HPP5fLLL++M\n",
              "2QAAAIBN9IqD/+c//3mSZOedd86DDz6YJPnWt76VJP4pOwAAANjMvOLg/4//+I9/2VZXV5cnn3wy\n",
              "S5YsyYsvvtihgwEAAACb7hUH/5w5c9b7/bPPPpsLLrggN910U84999wOHwwAAADYdBt9l/6VK1em\n",
              "paUl++23X5Lk4YcfzqRJkzp8MAAAAGDTveLgX7t2bb75zW9mr732yiOPPJJ77rknX/nKV7L99tt3\n",
              "5nwAAADAJnjFl/QPGDAgbW1tufDCC9PU1JTnn38+DzzwQPvzAwcO7JQBAQAAgI33ioN/xYoVqaur\n",
              "yznnnPMvz9XV1eUPf/hDhw4GAAAAbLpXHPyLFy/uxDEAAACAjrTRN+0DAAAANn+CHwAAAAok+AEA\n",
              "AKBAgh8AAAAKJPgBAACgQIIfAAAACiT4AQAAoECCHwAAAAok+AEAAKBAgh8AAAAKJPgBAACgQIIf\n",
              "AAAACiT4AQAAoECCHwAAAAok+AEAAKBAgh8AAAAKJPgBAACgQIIfAAAACiT4AQAAoEANtR6ArtG7\n",
              "d+9ajwAAAEAXqquqqqr1EAAAAEDHckk/AAAAFEjwAwAAQIEEPwAAABRI8AMAAECBBD8AAAAUSPAD\n",
              "AABAgQQ/AAAAFEjwAwAAQIEEPwAAABRI8AMAAECBBD8AAAAUSPADAABAgQQ/AAAAFEjwAwAAQIEE\n",
              "PwAAABRI8AMAbKHGjx+f8ePH13oMADpJQ60HAACgNpYuXVrrEQDoRM7wAwAAQIEEPwAAABRI8AMA\n",
              "AECBBD8AAAAUSPADAABAgQQ/AAAAFEjwAwAAQIEEPwAAABRI8AMAAECBBD8AAAAUSPADAABAgQQ/\n",
              "AAAAFEjwAwAAQIEEPwAAABRI8AMAAECBBD8AAAAUSPADAABAgQQ/AAAAFEjwAwAAQIEEPwAAABRI\n",
              "8AMAAECBBD8AAAAUSPADAABAgQQ/AAAAFEjwAwAAQIEEPwAAABRI8AMAAECBBD8AAAAUSPADAABA\n",
              "gQQ/AAAAFEjwAwAAQIEEPwAAABSoU4O/X79+2WeffdLc3Jz99tsvX/va1zrkuHfddVeam5s75Fh/\n",
              "99xzz+Wiiy7q0GMCAABArXT6Gf5p06Zl3rx5+dGPfpSJEyfmgQceaH9u7dq1Wbt2bWeP8IoIfgAA\n",
              "AErSZZf09+3bN/vss0/GjBmT97///TnqqKMyYMCALFmyJJ/+9KczZMiQNDc3Z8SIEVmwYEGS5IUX\n",
              "Xsjo0aOz3377pampKe985zvbj7dmzZqcdtppaWpqyv7775+5c+e2bz/qqKMyePDg7L///hkzZkz+\n",
              "9re/JVl3ZcCAAQNecr+Pf/zjWb58eZqbmzN48OCu+rIAAABAp+iy4H/wwQfzyCOPpKmpKXfffXdu\n",
              "uOGGPPTQQ9l5551z1llnZc6cOZk3b15OO+20nHHGGUmSH//4x3nuuefy0EMPZf78+fnOd77TfrxH\n",
              "HnkkJ554YubPn59PfOIT+exnP5skqa+vz9SpUzN37tz85je/Sa9evXLFFVf8n/t9/etfzxve8IbM\n",
              "mzev/ZsA/6ytrS3Lli1b79HW1tZZXzIAAADYZJ0e/KNHj05zc3M+9rGP5Zprrslee+2Vo48+Or17\n",
              "925/zZ133pnhw4dnwIABOe+88zJv3rwkSVNTUx5++OGcdtppmTZtWrp169a+z5577pmDDz44STJ8\n",
              "+PAsXLgwSVJVVS699NIMGjQoAwcOzA9/+MP2473cfq9ES0tLevXqtd6jpaVlU780AAAA0GkaOvsP\n",
              "mDZt2no32PvNb36THj16tP/+sccey+mnn545c+Zkjz32yAMPPJARI0YkSXbfffc89NBDmTlzZmbM\n",
              "mJH//M//bI/3rbfeuv0Y9fX1WbNmTZJk6tSpmTlzZn72s5+lZ8+e+epXv5qZM2e2v3ZD+70SZ599\n",
              "ds4888z1tjU2Nr7i/QEAAKCr1Pyf5Xv++efTrVu3vOUtb0lVVbnyyivbn3v88cdTV1eXY489Npdc\n",
              "ckmqqsqf/vSnlz1ea2trdthhh/Ts2TPLly/Pdddd94rm6NmzZ1544YWsWrVqg69pbGxMz54913sI\n",
              "fgAAADZHNQ/+Aw44IB/84Aez//77Z8iQIenTp0/7cw8++GAOOeSQNDU1ZdCgQRk7dmwGDhz4ssc7\n",
              "4YQTsmLFiuyzzz5597vfnbe97W2vaI7tttsuJ5xwQgYOHOimfQAAALzm1VVVVdV6CAAAut7IkSOT\n",
              "JNOnT6/xJAB0hpqf4QcAAAA6nuAHAACAAgl+AAAAKJDgBwAAgAIJfgAAACiQ4AcAAIACCX4AAAAo\n",
              "kOAHAACAAgl+AAAAKJDgBwAAgAIJfgAAACiQ4AcAAIACCX4AAAAokOAHAACAAgl+AAAAKJDgBwAA\n",
              "gAIJfgAAACiQ4AcAAIACCX4AAAAokOAHAACAAgl+AAAAKJDgBwAAgAIJfgAAACiQ4AcAAIACCX4A\n",
              "AAAokOAHAACAAgl+AAAAKJDgBwAAgAIJfgAAACiQ4AcAAIACCX4AAAAokOAHAACAAjXUegAAAGqj\n",
              "d+/etR4BgE5UV1VVVeshAAAAgI7lkn4AAAAokOAHAACAAgl+AAAAKJDgBwAAgAIJfgAAACiQ4AcA\n",
              "AIACCX4AAAAokOAHAACAAgl+AAAAKJDgBwAAgAIJfgAAACiQ4AcAAIACCX4AAAAokOAHAACAAgl+\n",
              "AAAAKJDgBwAAgAIJftiCjB8/PuPHj6/1GAAAQBdoqPUAQNdZunRprUcAAAC6iDP8AAAAUCDBDwAA\n",
              "AAUS/AAAAFAgwQ8AAAAFEvwAAABQIMEPAAAABRL8AAAAUCDBDwAAAAUS/AAAAFAgwQ8AAAAFEvwA\n",
              "AABQIMEPAAAABRL8AAAAUCDBDwAAAAUS/AAAAFAgwQ8AAAAFEvwAAABQIMEPAAAABRL8AAAAUCDB\n",
              "DwAAAAUS/AAAAFAgwQ8AAAAFEvwAAABQIMEPAAAABRL8AAAAUCDBDwAAAAUS/AAAAFAgwQ8AAAAF\n",
              "EvwAAABQIMEPAAAABRL8AAAAUCDBDwAAAAWqSfD369cv++67b9asWdO+bfDgwbnrrrtqMQ4AAAAU\n",
              "p2Zn+Nva2jJlypRa/fEAAABQtJoF/+TJk3P++ednxYoV622fOnVqDj744AwaNChNTU254447kiS/\n",
              "/OUvc8ABB6z32re//e25/fbbkyQ/+clPcuihh+aggw7K0KFDM2vWrPbX3XjjjTn44INz4IEHZsSI\n",
              "EZk/f36S5LrrrsuRRx6Z448/PgcccEAGDx6cP/zhD535tgEAAKBLNNTqD25qasrhhx+eSy+9NJ/9\n",
              "7Gfbtx911FE5/vjjU1dXl8WLF2fYsGH54x//mEMOOSRtbW2ZO3due5gvWLAg73nPe/KHP/whkydP\n",
              "zk9+8pP07Nkzjz76aN72trdl8eLFmTt3br797W/n5z//eRobG/O///u/GTNmTH77298mSebMmZN5\n",
              "8+Zlt912y3/913/l4osvzje+8Y2XnLmtrS1tbW3rbWtsbExjY2PnfaEAAABgE9T0pn3nn39+Lr/8\n",
              "8jzzzDPt2xYtWpR3v/vdGTBgQP793/89zz77bBYtWpQkGTduXK699tokyfXXX58PfehDaWhoyI9/\n",
              "/OM8+uijGTFiRJqbmzNq1KhstdVWeeyxx3L77bdn/vz5Ofjgg9Pc3JxPfOITefbZZ/PCCy8kSYYP\n",
              "H57ddtut/dcLFy7c4LwtLS3p1avXeo+WlpbO+vIAAADAJqvZGf5k3c37xowZkwsuuKB92wc/+MFc\n",
              "dNFFGTVqVJJku+22y8qVK5MkJ554YpqamnLJJZfkhhtuyA9+8IMkSVVVecc73pGpU6f+y59RVVVO\n",
              "PPHEXHjhhS85w9Zbb93+6/r6+vVuJPjPzj777Jx55pnrbXN2HwAAgM1Rzf9ZvkmTJuWmm27Kk08+\n",
              "mSRpbW1tP+N+0003pbW1tf21O+20U4YMGZJPfepTefOb35z9998/ybofA5gxY0YeeOCB9tfee++9\n",
              "SZJjjz02N910Ux577LEkydq1azN37txNmrWxsTE9e/Zc7yH4AQAA2BzV9Ax/kuywww755Cc/mXPO\n",
              "OSdJcvnll2fUqFF54xvfmCOOOCJ9+vRZ7/Xjxo3LBz7wgVx99dXt2/bcc89MnTo1H/vYx7JixYqs\n",
              "WrUqgwYNytSpU/O2t70tX/ziF/O+970va9asyapVq/Ke97wngwcP7tL3CQAAAF2prqqqqtZDAF1j\n",
              "5MiRSZLp06fXeBIAAKCz1fySfgAAAKDjCX4AAAAokOAHAACAAgl+AAAAKJDgBwAAgAIJfgAAACiQ\n",
              "4AcAAIACCX4AAAAokOAHAACAAgl+AAAAKJDgBwAAgAIJfgAAACiQ4AcAAIACCX4AAAAokOAHAACA\n",
              "Agl+AAAAKJDgBwAAgAIJfgAAACiQ4AcAAIACCX4AAAAokOAHAACAAgl+AAAAKJDgBwAAgAIJfgAA\n",
              "ACiQ4AcAAIACCX4AAAAokOAHAACAAgl+AAAAKJDgBwAAgAIJfgAAACiQ4AcAAIACCX4AAAAoUEOt\n",
              "BwC6Tu/evWs9AgAA0EXqqqqqaj0EAAAA0LFc0g8AAAAFEvwAAABQIMEPAAAABRL8AAAAUCDBDwAA\n",
              "AAUS/AAAAFAgwQ8AAAAFEvxsMdra2jJ58uS0tbXVehRqyDogsQ5YxzogsQ5YxzogKXMd1FVVVdV6\n",
              "COgKy5YtS69evfL888+nZ8+etR6HGrEOSKwD1rEOSKwD1rEOSMpcB87wAwAAQIEEPwAAABRI8AMA\n",
              "AECBBD9bjMbGxnz+859PY2NjrUehhqwDEuuAdawDEuuAdawDkjLXgZv2AQAAQIGc4QcAAIACCX4A\n",
              "AAAokOAHAACAAgl+ivTMM8+kubm5/bH33nunoaEhzz77bKqqyuTJk7P33nvngAMOyOGHH17rcekk\n",
              "L7cO7r333gwbNiyDBg1K//7988UvfrHW49JJ/ud//icHHnhgmpubM2DAgFx//fVJkj//+c9517ve\n",
              "lb322isDBgzIz3/+8xpPSmfb0FoYN25c9t577zQ1NeWQQw7JnDlzajwpnWlD6+DvZs6cmfr6+lx2\n",
              "2WW1GZAusaF14HPilmVD66Coz4kVbAG+9KUvVcccc0xVVVV12WWXVe973/uqtra2qqqqasmSJbUc\n",
              "jS70j+ugqampuv3226uqqqpnnnmmetOb3lT99re/reV4dIK1a9dW2267bTV//vyqqqpq0aJFVWNj\n",
              "Y7Vs2bJq3Lhx1ec///mqqqrq3nvvrXbeeedq1apVNZyWzvRya+H222+vVq9eXVVVVd1xxx1V3759\n",
              "azgpnenl1kFVVdVzzz1XDRkypDrmmGOqSy+9tIaT0plebh34nLjleLl1UNLnxIZaf8MBusKUKVPS\n",
              "0tKSJPnSl76UmTNnpnv37kmSHXfcsZaj0YX+cR3U1dXlueeeS5L87W9/S/fu3bPddtvVcDo6yz/+\n",
              "t162bFm23377NDY25pZbbsmjjz6aJBkyZEh22mmn/OxnP8uRRx5Zw2npTBtaC8cee2z7a4YNG5Yn\n",
              "nngia9asSUODj0kl2tA6SJLTTz89kyZNyvTp02s4IV1hQ+vA58Qty4bWQUmfE/1NRvF+9atfpbW1\n",
              "Ncccc0yWLVuWpUuX5vbbb8+tt96aJDnzzDMzevToGk9JZ/vHdZAk1157bd773vdm0qRJefrpp/ON\n",
              "b3zDX+oFqqury7Rp0zJy5Mi8/vWvT2tra6ZPn57ly5dn9erV6/0379evXx577LEaTktn2tBa+PuH\n",
              "+r+7/PLLc/TRR4v9Qr3cOrj11luz1VZb5dhjjxX8hdvQOli5cqXPiVuQl/v/QVGfE2t9iQF0tpNO\n",
              "Oqn6zGc+U1XVuktyklTnnntuVVXrLt15y1veUs2bN6+WI9IF/nEdVFVVjR49urr55purqqqqhQsX\n",
              "Vrvssstr9lItNmz16tXVYYcdVv3sZz+rqmrdpfs77rhj9dRTT1Xdu3df77XHHXdcNWXKlFqMSRfY\n",
              "0Fp4+umn219z4403VnvvvXf11FNP1WpMOtmG1sGf/vSnqqmpqWptba2qqqpOPPFEl/QXbEPrYOnS\n",
              "pT4nbkFe7u+Fkj4numkfRfvrX/+aW265JSeddFKSZLvttkuPHj3y4Q9/OMm6M3pu0FS+f14Hf/nL\n",
              "X/K9730vY8aMSZLsvvvuGTZsWH75y1/Wckw6wbx58/Lkk09mxIgRSdZdur/LLrvkgQceSENDQ556\n",
              "6qn21y5evDh9+vSp1ah0sg2thfvvvz9JMm3atJx77rm5884707t371qOSifa0Dq47777smTJkjQ3\n",
              "N6dfv3659dZbc9555+Wzn/1sjSemM2xoHcyfP9/nxC3IhtbBrFmzivqcKPgp2rRp09LU1JR99923\n",
              "fdvxxx+fH//4x0nSfrf2gQMH1mpEusA/r4Ntt902r3/96zNz5swk674BcM8992TAgAG1HJNOsOuu\n",
              "u2bJkiV5+OGHkySPPvpoFi5cmH322SfHHXdcvv71rydJ5syZkyeeeCKHHXZYLcelE73cWrjlllsy\n",
              "adKkzJgxwzd9CrehdTBo0KAsXbo0ixcvzuLFizNq1Kicc845+cIXvlDjiekML/f/A58TtxwbWgdD\n",
              "hw4t6nOiH1CjaFOmTMmpp5663raWlpaMGzcuV111VZLkrLPOytChQ2sxHl3kn9dBfX19brnllnzm\n",
              "M5/JmjVrsnr16kyYMCHDhw+v4ZR0ht69e+eb3/xmPvCBD2SrrbbK2rVrc+WVV6ZPnz65+OKLM3bs\n",
              "2Oy1117p3r17brrppnTr1q3WI9NJXm4t7LHHHtlxxx3z3ve+t/31P/3pT7P99tvXcGI6w8utA7Yc\n",
              "L7cOfE7ccmxoHfTt27eoz4l1VVVVtR4CAAAA6Fgu6QcAAIACCX4AAAAokOAHADZZv3798uY3vzmr\n",
              "V69u3zZr1qzU1dVlwoQJm3S8efPmddyAALAFE/wAwKvSp0+ffP/732///ZQpUzJ48OCNOsbatWuz\n",
              "du3ajh4NALZogh8AeFXGjRuXa665Jkny/PPPZ/bs2XnXu96VJHnwwQdz6KGH5sADD8x+++2XCy64\n",
              "oH2/yZMn5/3vf3+OOuqoDBgwIEuWLFnvuFdccUUOOeSQPP3005k9e3YOOuigNDc3Z8CAAbn66qu7\n",
              "7g0CwGuUf5YPAHhVDjnkkFx11VV58skn8/3vfz/HHXdc6uvrk6y7RP+nP/1pGhsb88ILL+Stb31r\n",
              "jjzyyAwbNixJcvfdd+f+++9P796924+3du3anHnmmVm0aFFmzJiRbbbZJqeccko+/elP5/jjj0+S\n",
              "tLa2dv0bBYDXGGf4AYBXbezYsbnuuutyzTXX5KSTTmrf/sILL+SUU07JAQcckGHDhuWPf/zjej+j\n",
              "f/TRR68X+0ny0Y9+NMuXL89tt92WbbbZJkly+OGH5/zzz895552XX/ziF9l222275H0BwGuZ4AcA\n",
              "XrUTTjghX/3qV7P11ltnr732at8+ceLE7LDDDrn//vszf/78vP3tb8/KlSvbn+/Ro8e/HOuwww7L\n",
              "Pffck6eeeqp924QJE/LDH/4wb3nLWzJx4sScdtppnfuGAKAALukHAF61nXbaKS0tLdl3333X297a\n",
              "2pr+/funoaEhCxYsyJ133pkRI0a87LHGjh2b4cOH54gjjsiPfvSj7LbbblmwYEH22WefnHrqqdl1\n",
              "110zceLEznw7AFAEwQ8AdIhx48b9y7ZJkyZl7Nixuf7667PHHnvkiCOOeEXHGjVqVLbZZpu8853v\n",
              "zB133JGvfe1rmTlzZrp37576+vp8+ctf7ujxAaA4dVVVVbUeAgAAAOhYfoYfAAAACiT4AQAAoECC\n",
              "HwAAAAok+AEAAKBAgh8AAAAKJPgBAACgQIIfAAAACiT4AQAAoECCHwAAAAok+AEAAKBAgh8AAAAK\n",
              "9P8AiqkGkMMn38YAAAAASUVORK5CYII=\n",
              "\">\n",
              "      </div>\n",
              "      <script type=\"text/javascript\">\n",
              "        (() => {\n",
              "          const chartElement = document.getElementById(\"chart-e9d8b11a-9783-4049-93a9-53fa303e786f\");\n",
              "          async function getCodeForChartHandler(event) {\n",
              "            const chartCodeResponse =  await google.colab.kernel.invokeFunction(\n",
              "                'getCodeForChart', [\"chart-e9d8b11a-9783-4049-93a9-53fa303e786f\"], {});\n",
              "            const responseJson = chartCodeResponse.data['application/json'];\n",
              "            await google.colab.notebook.addCell(responseJson.code, 'code');\n",
              "          }\n",
              "          chartElement.onclick = getCodeForChartHandler;\n",
              "        })();\n",
              "      </script>\n",
              "      <style>\n",
              "        .colab-quickchart-chart-with-code  {\n",
              "            display: block;\n",
              "            float: left;\n",
              "            border: 1px solid transparent;\n",
              "        }\n",
              "\n",
              "        .colab-quickchart-chart-with-code:hover {\n",
              "            cursor: pointer;\n",
              "            border: 1px solid #aaa;\n",
              "        }\n",
              "      </style>"
            ]
          },
          "metadata": {}
        }
      ]
    },
    {
      "cell_type": "code",
      "source": [
        "#Column selection in pandas\n",
        "data['Name']\n",
        "data['Marks']"
      ],
      "metadata": {
        "colab": {
          "base_uri": "https://localhost:8080/"
        },
        "id": "_t2Js_58WbX9",
        "outputId": "84f21fb5-4bd1-4521-9ff0-72fb48387ebf"
      },
      "execution_count": 14,
      "outputs": [
        {
          "output_type": "execute_result",
          "data": {
            "text/plain": [
              "C1    88\n",
              "C2    79\n",
              "C3    75\n",
              "C4    83\n",
              "C5    77\n",
              "Name: Marks, dtype: int64"
            ]
          },
          "metadata": {},
          "execution_count": 14
        }
      ]
    },
    {
      "cell_type": "code",
      "source": [
        "# Row Selection\n",
        "data.loc['C2', 'Name']"
      ],
      "metadata": {
        "colab": {
          "base_uri": "https://localhost:8080/",
          "height": 36
        },
        "id": "jiQjGu9rW2qp",
        "outputId": "9d7a8295-cfc9-470a-ed46-6e7c1c42d66b"
      },
      "execution_count": 13,
      "outputs": [
        {
          "output_type": "execute_result",
          "data": {
            "text/plain": [
              "'Waqar'"
            ],
            "application/vnd.google.colaboratory.intrinsic+json": {
              "type": "string"
            }
          },
          "metadata": {},
          "execution_count": 13
        }
      ]
    },
    {
      "cell_type": "code",
      "source": [
        "data.iloc[0, 0]"
      ],
      "metadata": {
        "colab": {
          "base_uri": "https://localhost:8080/",
          "height": 36
        },
        "id": "-gmj8DX9aXh0",
        "outputId": "fc734bc3-f406-4a5b-d5c8-89ff2286604c"
      },
      "execution_count": 15,
      "outputs": [
        {
          "output_type": "execute_result",
          "data": {
            "text/plain": [
              "'Ayush'"
            ],
            "application/vnd.google.colaboratory.intrinsic+json": {
              "type": "string"
            }
          },
          "metadata": {},
          "execution_count": 15
        }
      ]
    },
    {
      "cell_type": "code",
      "source": [
        "#Concatenation of Pandas\n",
        "#used to concatenate pandas objects(Dataframes) along a particular axis(Horizontal,Vertical)"
      ],
      "metadata": {
        "id": "rjf6Fh6dc-4n"
      },
      "execution_count": null,
      "outputs": []
    },
    {
      "cell_type": "code",
      "source": [
        "names = pd.DataFrame({'Name': ['Tom', 'Jack', 'Steve', 'Ricky', 'Sam', 'Will', 'Root']})\n",
        "ages = pd.DataFrame({'Age' :[28, 34, 29, 42, 17, 17, 45]})"
      ],
      "metadata": {
        "id": "w94ccHSvdptl"
      },
      "execution_count": 30,
      "outputs": []
    },
    {
      "cell_type": "code",
      "source": [
        "names2 = pd.DataFrame({'Name' :['Joe', 'Pope', 'Buttler', 'Ben', 'James', 'Cook']})"
      ],
      "metadata": {
        "id": "telNKEGQe1js"
      },
      "execution_count": 31,
      "outputs": []
    },
    {
      "cell_type": "code",
      "source": [
        "sales = pd.DataFrame({'Status' :['+', '-', '-', '+', '-', '+', '-']})"
      ],
      "metadata": {
        "id": "mspY7z3yfmpZ"
      },
      "execution_count": 24,
      "outputs": []
    },
    {
      "cell_type": "code",
      "source": [
        "pd.concat([names, names2], axis= 0).reset_index()"
      ],
      "metadata": {
        "colab": {
          "base_uri": "https://localhost:8080/",
          "height": 457
        },
        "id": "hW14t6CCeqQk",
        "outputId": "912c8c18-0ab1-47b6-900a-a4c2ec48c17c"
      },
      "execution_count": 39,
      "outputs": [
        {
          "output_type": "execute_result",
          "data": {
            "text/plain": [
              "    index     Name\n",
              "0       0      Tom\n",
              "1       1     Jack\n",
              "2       2    Steve\n",
              "3       3    Ricky\n",
              "4       4      Sam\n",
              "5       5     Will\n",
              "6       6     Root\n",
              "7       0      Joe\n",
              "8       1     Pope\n",
              "9       2  Buttler\n",
              "10      3      Ben\n",
              "11      4    James\n",
              "12      5     Cook"
            ],
            "text/html": [
              "\n",
              "  <div id=\"df-7c84697b-fc5d-403d-8623-af8df1a97ead\" class=\"colab-df-container\">\n",
              "    <div>\n",
              "<style scoped>\n",
              "    .dataframe tbody tr th:only-of-type {\n",
              "        vertical-align: middle;\n",
              "    }\n",
              "\n",
              "    .dataframe tbody tr th {\n",
              "        vertical-align: top;\n",
              "    }\n",
              "\n",
              "    .dataframe thead th {\n",
              "        text-align: right;\n",
              "    }\n",
              "</style>\n",
              "<table border=\"1\" class=\"dataframe\">\n",
              "  <thead>\n",
              "    <tr style=\"text-align: right;\">\n",
              "      <th></th>\n",
              "      <th>index</th>\n",
              "      <th>Name</th>\n",
              "    </tr>\n",
              "  </thead>\n",
              "  <tbody>\n",
              "    <tr>\n",
              "      <th>0</th>\n",
              "      <td>0</td>\n",
              "      <td>Tom</td>\n",
              "    </tr>\n",
              "    <tr>\n",
              "      <th>1</th>\n",
              "      <td>1</td>\n",
              "      <td>Jack</td>\n",
              "    </tr>\n",
              "    <tr>\n",
              "      <th>2</th>\n",
              "      <td>2</td>\n",
              "      <td>Steve</td>\n",
              "    </tr>\n",
              "    <tr>\n",
              "      <th>3</th>\n",
              "      <td>3</td>\n",
              "      <td>Ricky</td>\n",
              "    </tr>\n",
              "    <tr>\n",
              "      <th>4</th>\n",
              "      <td>4</td>\n",
              "      <td>Sam</td>\n",
              "    </tr>\n",
              "    <tr>\n",
              "      <th>5</th>\n",
              "      <td>5</td>\n",
              "      <td>Will</td>\n",
              "    </tr>\n",
              "    <tr>\n",
              "      <th>6</th>\n",
              "      <td>6</td>\n",
              "      <td>Root</td>\n",
              "    </tr>\n",
              "    <tr>\n",
              "      <th>7</th>\n",
              "      <td>0</td>\n",
              "      <td>Joe</td>\n",
              "    </tr>\n",
              "    <tr>\n",
              "      <th>8</th>\n",
              "      <td>1</td>\n",
              "      <td>Pope</td>\n",
              "    </tr>\n",
              "    <tr>\n",
              "      <th>9</th>\n",
              "      <td>2</td>\n",
              "      <td>Buttler</td>\n",
              "    </tr>\n",
              "    <tr>\n",
              "      <th>10</th>\n",
              "      <td>3</td>\n",
              "      <td>Ben</td>\n",
              "    </tr>\n",
              "    <tr>\n",
              "      <th>11</th>\n",
              "      <td>4</td>\n",
              "      <td>James</td>\n",
              "    </tr>\n",
              "    <tr>\n",
              "      <th>12</th>\n",
              "      <td>5</td>\n",
              "      <td>Cook</td>\n",
              "    </tr>\n",
              "  </tbody>\n",
              "</table>\n",
              "</div>\n",
              "    <div class=\"colab-df-buttons\">\n",
              "\n",
              "  <div class=\"colab-df-container\">\n",
              "    <button class=\"colab-df-convert\" onclick=\"convertToInteractive('df-7c84697b-fc5d-403d-8623-af8df1a97ead')\"\n",
              "            title=\"Convert this dataframe to an interactive table.\"\n",
              "            style=\"display:none;\">\n",
              "\n",
              "  <svg xmlns=\"http://www.w3.org/2000/svg\" height=\"24px\" viewBox=\"0 -960 960 960\">\n",
              "    <path d=\"M120-120v-720h720v720H120Zm60-500h600v-160H180v160Zm220 220h160v-160H400v160Zm0 220h160v-160H400v160ZM180-400h160v-160H180v160Zm440 0h160v-160H620v160ZM180-180h160v-160H180v160Zm440 0h160v-160H620v160Z\"/>\n",
              "  </svg>\n",
              "    </button>\n",
              "\n",
              "  <style>\n",
              "    .colab-df-container {\n",
              "      display:flex;\n",
              "      gap: 12px;\n",
              "    }\n",
              "\n",
              "    .colab-df-convert {\n",
              "      background-color: #E8F0FE;\n",
              "      border: none;\n",
              "      border-radius: 50%;\n",
              "      cursor: pointer;\n",
              "      display: none;\n",
              "      fill: #1967D2;\n",
              "      height: 32px;\n",
              "      padding: 0 0 0 0;\n",
              "      width: 32px;\n",
              "    }\n",
              "\n",
              "    .colab-df-convert:hover {\n",
              "      background-color: #E2EBFA;\n",
              "      box-shadow: 0px 1px 2px rgba(60, 64, 67, 0.3), 0px 1px 3px 1px rgba(60, 64, 67, 0.15);\n",
              "      fill: #174EA6;\n",
              "    }\n",
              "\n",
              "    .colab-df-buttons div {\n",
              "      margin-bottom: 4px;\n",
              "    }\n",
              "\n",
              "    [theme=dark] .colab-df-convert {\n",
              "      background-color: #3B4455;\n",
              "      fill: #D2E3FC;\n",
              "    }\n",
              "\n",
              "    [theme=dark] .colab-df-convert:hover {\n",
              "      background-color: #434B5C;\n",
              "      box-shadow: 0px 1px 3px 1px rgba(0, 0, 0, 0.15);\n",
              "      filter: drop-shadow(0px 1px 2px rgba(0, 0, 0, 0.3));\n",
              "      fill: #FFFFFF;\n",
              "    }\n",
              "  </style>\n",
              "\n",
              "    <script>\n",
              "      const buttonEl =\n",
              "        document.querySelector('#df-7c84697b-fc5d-403d-8623-af8df1a97ead button.colab-df-convert');\n",
              "      buttonEl.style.display =\n",
              "        google.colab.kernel.accessAllowed ? 'block' : 'none';\n",
              "\n",
              "      async function convertToInteractive(key) {\n",
              "        const element = document.querySelector('#df-7c84697b-fc5d-403d-8623-af8df1a97ead');\n",
              "        const dataTable =\n",
              "          await google.colab.kernel.invokeFunction('convertToInteractive',\n",
              "                                                    [key], {});\n",
              "        if (!dataTable) return;\n",
              "\n",
              "        const docLinkHtml = 'Like what you see? Visit the ' +\n",
              "          '<a target=\"_blank\" href=https://colab.research.google.com/notebooks/data_table.ipynb>data table notebook</a>'\n",
              "          + ' to learn more about interactive tables.';\n",
              "        element.innerHTML = '';\n",
              "        dataTable['output_type'] = 'display_data';\n",
              "        await google.colab.output.renderOutput(dataTable, element);\n",
              "        const docLink = document.createElement('div');\n",
              "        docLink.innerHTML = docLinkHtml;\n",
              "        element.appendChild(docLink);\n",
              "      }\n",
              "    </script>\n",
              "  </div>\n",
              "\n",
              "\n",
              "<div id=\"df-bbc61c47-7592-40c1-8f9a-1101ee3bbe53\">\n",
              "  <button class=\"colab-df-quickchart\" onclick=\"quickchart('df-bbc61c47-7592-40c1-8f9a-1101ee3bbe53')\"\n",
              "            title=\"Suggest charts\"\n",
              "            style=\"display:none;\">\n",
              "\n",
              "<svg xmlns=\"http://www.w3.org/2000/svg\" height=\"24px\"viewBox=\"0 0 24 24\"\n",
              "     width=\"24px\">\n",
              "    <g>\n",
              "        <path d=\"M19 3H5c-1.1 0-2 .9-2 2v14c0 1.1.9 2 2 2h14c1.1 0 2-.9 2-2V5c0-1.1-.9-2-2-2zM9 17H7v-7h2v7zm4 0h-2V7h2v10zm4 0h-2v-4h2v4z\"/>\n",
              "    </g>\n",
              "</svg>\n",
              "  </button>\n",
              "\n",
              "<style>\n",
              "  .colab-df-quickchart {\n",
              "      --bg-color: #E8F0FE;\n",
              "      --fill-color: #1967D2;\n",
              "      --hover-bg-color: #E2EBFA;\n",
              "      --hover-fill-color: #174EA6;\n",
              "      --disabled-fill-color: #AAA;\n",
              "      --disabled-bg-color: #DDD;\n",
              "  }\n",
              "\n",
              "  [theme=dark] .colab-df-quickchart {\n",
              "      --bg-color: #3B4455;\n",
              "      --fill-color: #D2E3FC;\n",
              "      --hover-bg-color: #434B5C;\n",
              "      --hover-fill-color: #FFFFFF;\n",
              "      --disabled-bg-color: #3B4455;\n",
              "      --disabled-fill-color: #666;\n",
              "  }\n",
              "\n",
              "  .colab-df-quickchart {\n",
              "    background-color: var(--bg-color);\n",
              "    border: none;\n",
              "    border-radius: 50%;\n",
              "    cursor: pointer;\n",
              "    display: none;\n",
              "    fill: var(--fill-color);\n",
              "    height: 32px;\n",
              "    padding: 0;\n",
              "    width: 32px;\n",
              "  }\n",
              "\n",
              "  .colab-df-quickchart:hover {\n",
              "    background-color: var(--hover-bg-color);\n",
              "    box-shadow: 0 1px 2px rgba(60, 64, 67, 0.3), 0 1px 3px 1px rgba(60, 64, 67, 0.15);\n",
              "    fill: var(--button-hover-fill-color);\n",
              "  }\n",
              "\n",
              "  .colab-df-quickchart-complete:disabled,\n",
              "  .colab-df-quickchart-complete:disabled:hover {\n",
              "    background-color: var(--disabled-bg-color);\n",
              "    fill: var(--disabled-fill-color);\n",
              "    box-shadow: none;\n",
              "  }\n",
              "\n",
              "  .colab-df-spinner {\n",
              "    border: 2px solid var(--fill-color);\n",
              "    border-color: transparent;\n",
              "    border-bottom-color: var(--fill-color);\n",
              "    animation:\n",
              "      spin 1s steps(1) infinite;\n",
              "  }\n",
              "\n",
              "  @keyframes spin {\n",
              "    0% {\n",
              "      border-color: transparent;\n",
              "      border-bottom-color: var(--fill-color);\n",
              "      border-left-color: var(--fill-color);\n",
              "    }\n",
              "    20% {\n",
              "      border-color: transparent;\n",
              "      border-left-color: var(--fill-color);\n",
              "      border-top-color: var(--fill-color);\n",
              "    }\n",
              "    30% {\n",
              "      border-color: transparent;\n",
              "      border-left-color: var(--fill-color);\n",
              "      border-top-color: var(--fill-color);\n",
              "      border-right-color: var(--fill-color);\n",
              "    }\n",
              "    40% {\n",
              "      border-color: transparent;\n",
              "      border-right-color: var(--fill-color);\n",
              "      border-top-color: var(--fill-color);\n",
              "    }\n",
              "    60% {\n",
              "      border-color: transparent;\n",
              "      border-right-color: var(--fill-color);\n",
              "    }\n",
              "    80% {\n",
              "      border-color: transparent;\n",
              "      border-right-color: var(--fill-color);\n",
              "      border-bottom-color: var(--fill-color);\n",
              "    }\n",
              "    90% {\n",
              "      border-color: transparent;\n",
              "      border-bottom-color: var(--fill-color);\n",
              "    }\n",
              "  }\n",
              "</style>\n",
              "\n",
              "  <script>\n",
              "    async function quickchart(key) {\n",
              "      const quickchartButtonEl =\n",
              "        document.querySelector('#' + key + ' button');\n",
              "      quickchartButtonEl.disabled = true;  // To prevent multiple clicks.\n",
              "      quickchartButtonEl.classList.add('colab-df-spinner');\n",
              "      try {\n",
              "        const charts = await google.colab.kernel.invokeFunction(\n",
              "            'suggestCharts', [key], {});\n",
              "      } catch (error) {\n",
              "        console.error('Error during call to suggestCharts:', error);\n",
              "      }\n",
              "      quickchartButtonEl.classList.remove('colab-df-spinner');\n",
              "      quickchartButtonEl.classList.add('colab-df-quickchart-complete');\n",
              "    }\n",
              "    (() => {\n",
              "      let quickchartButtonEl =\n",
              "        document.querySelector('#df-bbc61c47-7592-40c1-8f9a-1101ee3bbe53 button');\n",
              "      quickchartButtonEl.style.display =\n",
              "        google.colab.kernel.accessAllowed ? 'block' : 'none';\n",
              "    })();\n",
              "  </script>\n",
              "</div>\n",
              "\n",
              "    </div>\n",
              "  </div>\n"
            ],
            "application/vnd.google.colaboratory.intrinsic+json": {
              "type": "dataframe",
              "summary": "{\n  \"name\": \"pd\",\n  \"rows\": 13,\n  \"fields\": [\n    {\n      \"column\": \"index\",\n      \"properties\": {\n        \"dtype\": \"number\",\n        \"std\": 1,\n        \"min\": 0,\n        \"max\": 6,\n        \"num_unique_values\": 7,\n        \"samples\": [\n          0,\n          1,\n          5\n        ],\n        \"semantic_type\": \"\",\n        \"description\": \"\"\n      }\n    },\n    {\n      \"column\": \"Name\",\n      \"properties\": {\n        \"dtype\": \"string\",\n        \"num_unique_values\": 13,\n        \"samples\": [\n          \"James\",\n          \"Buttler\",\n          \"Tom\"\n        ],\n        \"semantic_type\": \"\",\n        \"description\": \"\"\n      }\n    }\n  ]\n}"
            }
          },
          "metadata": {},
          "execution_count": 39
        }
      ]
    },
    {
      "cell_type": "code",
      "source": [
        "import pandas as pd\n"
      ],
      "metadata": {
        "id": "R0GtDsIJnnbq"
      },
      "execution_count": 1,
      "outputs": []
    },
    {
      "cell_type": "code",
      "source": [
        "data = pd.DataFrame({\n",
        "    'Name': ['Ankit', 'Aishwarya', 'Sanket', 'Shivangi', 'Saiprasad', 'Rishika', 'Pratiksha'],\n",
        "    'Age' : [23, 21, 22, 21, 22, 21, 20],\n",
        "    'University' :['BHU', 'JNU', 'DU', 'BHU', 'SPPU', 'SPPU', 'DU'],})"
      ],
      "metadata": {
        "id": "YDn1xEfolUMm"
      },
      "execution_count": 2,
      "outputs": []
    },
    {
      "cell_type": "code",
      "source": [
        "data"
      ],
      "metadata": {
        "colab": {
          "base_uri": "https://localhost:8080/",
          "height": 269
        },
        "id": "YUT0Pkhcog8P",
        "outputId": "b1e5cadb-7328-4bc7-af82-f0cc44d0a9b1"
      },
      "execution_count": 4,
      "outputs": [
        {
          "output_type": "execute_result",
          "data": {
            "text/plain": [
              "        Name  Age University\n",
              "0      Ankit   23        BHU\n",
              "1  Aishwarya   21        JNU\n",
              "2     Sanket   22         DU\n",
              "3   Shivangi   21        BHU\n",
              "4  Saiprasad   22       SPPU\n",
              "5    Rishika   21       SPPU\n",
              "6  Pratiksha   20         DU"
            ],
            "text/html": [
              "\n",
              "  <div id=\"df-7da0b112-78dc-4c36-a3cc-3ca1a7df753c\" class=\"colab-df-container\">\n",
              "    <div>\n",
              "<style scoped>\n",
              "    .dataframe tbody tr th:only-of-type {\n",
              "        vertical-align: middle;\n",
              "    }\n",
              "\n",
              "    .dataframe tbody tr th {\n",
              "        vertical-align: top;\n",
              "    }\n",
              "\n",
              "    .dataframe thead th {\n",
              "        text-align: right;\n",
              "    }\n",
              "</style>\n",
              "<table border=\"1\" class=\"dataframe\">\n",
              "  <thead>\n",
              "    <tr style=\"text-align: right;\">\n",
              "      <th></th>\n",
              "      <th>Name</th>\n",
              "      <th>Age</th>\n",
              "      <th>University</th>\n",
              "    </tr>\n",
              "  </thead>\n",
              "  <tbody>\n",
              "    <tr>\n",
              "      <th>0</th>\n",
              "      <td>Ankit</td>\n",
              "      <td>23</td>\n",
              "      <td>BHU</td>\n",
              "    </tr>\n",
              "    <tr>\n",
              "      <th>1</th>\n",
              "      <td>Aishwarya</td>\n",
              "      <td>21</td>\n",
              "      <td>JNU</td>\n",
              "    </tr>\n",
              "    <tr>\n",
              "      <th>2</th>\n",
              "      <td>Sanket</td>\n",
              "      <td>22</td>\n",
              "      <td>DU</td>\n",
              "    </tr>\n",
              "    <tr>\n",
              "      <th>3</th>\n",
              "      <td>Shivangi</td>\n",
              "      <td>21</td>\n",
              "      <td>BHU</td>\n",
              "    </tr>\n",
              "    <tr>\n",
              "      <th>4</th>\n",
              "      <td>Saiprasad</td>\n",
              "      <td>22</td>\n",
              "      <td>SPPU</td>\n",
              "    </tr>\n",
              "    <tr>\n",
              "      <th>5</th>\n",
              "      <td>Rishika</td>\n",
              "      <td>21</td>\n",
              "      <td>SPPU</td>\n",
              "    </tr>\n",
              "    <tr>\n",
              "      <th>6</th>\n",
              "      <td>Pratiksha</td>\n",
              "      <td>20</td>\n",
              "      <td>DU</td>\n",
              "    </tr>\n",
              "  </tbody>\n",
              "</table>\n",
              "</div>\n",
              "    <div class=\"colab-df-buttons\">\n",
              "\n",
              "  <div class=\"colab-df-container\">\n",
              "    <button class=\"colab-df-convert\" onclick=\"convertToInteractive('df-7da0b112-78dc-4c36-a3cc-3ca1a7df753c')\"\n",
              "            title=\"Convert this dataframe to an interactive table.\"\n",
              "            style=\"display:none;\">\n",
              "\n",
              "  <svg xmlns=\"http://www.w3.org/2000/svg\" height=\"24px\" viewBox=\"0 -960 960 960\">\n",
              "    <path d=\"M120-120v-720h720v720H120Zm60-500h600v-160H180v160Zm220 220h160v-160H400v160Zm0 220h160v-160H400v160ZM180-400h160v-160H180v160Zm440 0h160v-160H620v160ZM180-180h160v-160H180v160Zm440 0h160v-160H620v160Z\"/>\n",
              "  </svg>\n",
              "    </button>\n",
              "\n",
              "  <style>\n",
              "    .colab-df-container {\n",
              "      display:flex;\n",
              "      gap: 12px;\n",
              "    }\n",
              "\n",
              "    .colab-df-convert {\n",
              "      background-color: #E8F0FE;\n",
              "      border: none;\n",
              "      border-radius: 50%;\n",
              "      cursor: pointer;\n",
              "      display: none;\n",
              "      fill: #1967D2;\n",
              "      height: 32px;\n",
              "      padding: 0 0 0 0;\n",
              "      width: 32px;\n",
              "    }\n",
              "\n",
              "    .colab-df-convert:hover {\n",
              "      background-color: #E2EBFA;\n",
              "      box-shadow: 0px 1px 2px rgba(60, 64, 67, 0.3), 0px 1px 3px 1px rgba(60, 64, 67, 0.15);\n",
              "      fill: #174EA6;\n",
              "    }\n",
              "\n",
              "    .colab-df-buttons div {\n",
              "      margin-bottom: 4px;\n",
              "    }\n",
              "\n",
              "    [theme=dark] .colab-df-convert {\n",
              "      background-color: #3B4455;\n",
              "      fill: #D2E3FC;\n",
              "    }\n",
              "\n",
              "    [theme=dark] .colab-df-convert:hover {\n",
              "      background-color: #434B5C;\n",
              "      box-shadow: 0px 1px 3px 1px rgba(0, 0, 0, 0.15);\n",
              "      filter: drop-shadow(0px 1px 2px rgba(0, 0, 0, 0.3));\n",
              "      fill: #FFFFFF;\n",
              "    }\n",
              "  </style>\n",
              "\n",
              "    <script>\n",
              "      const buttonEl =\n",
              "        document.querySelector('#df-7da0b112-78dc-4c36-a3cc-3ca1a7df753c button.colab-df-convert');\n",
              "      buttonEl.style.display =\n",
              "        google.colab.kernel.accessAllowed ? 'block' : 'none';\n",
              "\n",
              "      async function convertToInteractive(key) {\n",
              "        const element = document.querySelector('#df-7da0b112-78dc-4c36-a3cc-3ca1a7df753c');\n",
              "        const dataTable =\n",
              "          await google.colab.kernel.invokeFunction('convertToInteractive',\n",
              "                                                    [key], {});\n",
              "        if (!dataTable) return;\n",
              "\n",
              "        const docLinkHtml = 'Like what you see? Visit the ' +\n",
              "          '<a target=\"_blank\" href=https://colab.research.google.com/notebooks/data_table.ipynb>data table notebook</a>'\n",
              "          + ' to learn more about interactive tables.';\n",
              "        element.innerHTML = '';\n",
              "        dataTable['output_type'] = 'display_data';\n",
              "        await google.colab.output.renderOutput(dataTable, element);\n",
              "        const docLink = document.createElement('div');\n",
              "        docLink.innerHTML = docLinkHtml;\n",
              "        element.appendChild(docLink);\n",
              "      }\n",
              "    </script>\n",
              "  </div>\n",
              "\n",
              "\n",
              "<div id=\"df-d33c6752-74f9-488d-86da-96dfba8d1aca\">\n",
              "  <button class=\"colab-df-quickchart\" onclick=\"quickchart('df-d33c6752-74f9-488d-86da-96dfba8d1aca')\"\n",
              "            title=\"Suggest charts\"\n",
              "            style=\"display:none;\">\n",
              "\n",
              "<svg xmlns=\"http://www.w3.org/2000/svg\" height=\"24px\"viewBox=\"0 0 24 24\"\n",
              "     width=\"24px\">\n",
              "    <g>\n",
              "        <path d=\"M19 3H5c-1.1 0-2 .9-2 2v14c0 1.1.9 2 2 2h14c1.1 0 2-.9 2-2V5c0-1.1-.9-2-2-2zM9 17H7v-7h2v7zm4 0h-2V7h2v10zm4 0h-2v-4h2v4z\"/>\n",
              "    </g>\n",
              "</svg>\n",
              "  </button>\n",
              "\n",
              "<style>\n",
              "  .colab-df-quickchart {\n",
              "      --bg-color: #E8F0FE;\n",
              "      --fill-color: #1967D2;\n",
              "      --hover-bg-color: #E2EBFA;\n",
              "      --hover-fill-color: #174EA6;\n",
              "      --disabled-fill-color: #AAA;\n",
              "      --disabled-bg-color: #DDD;\n",
              "  }\n",
              "\n",
              "  [theme=dark] .colab-df-quickchart {\n",
              "      --bg-color: #3B4455;\n",
              "      --fill-color: #D2E3FC;\n",
              "      --hover-bg-color: #434B5C;\n",
              "      --hover-fill-color: #FFFFFF;\n",
              "      --disabled-bg-color: #3B4455;\n",
              "      --disabled-fill-color: #666;\n",
              "  }\n",
              "\n",
              "  .colab-df-quickchart {\n",
              "    background-color: var(--bg-color);\n",
              "    border: none;\n",
              "    border-radius: 50%;\n",
              "    cursor: pointer;\n",
              "    display: none;\n",
              "    fill: var(--fill-color);\n",
              "    height: 32px;\n",
              "    padding: 0;\n",
              "    width: 32px;\n",
              "  }\n",
              "\n",
              "  .colab-df-quickchart:hover {\n",
              "    background-color: var(--hover-bg-color);\n",
              "    box-shadow: 0 1px 2px rgba(60, 64, 67, 0.3), 0 1px 3px 1px rgba(60, 64, 67, 0.15);\n",
              "    fill: var(--button-hover-fill-color);\n",
              "  }\n",
              "\n",
              "  .colab-df-quickchart-complete:disabled,\n",
              "  .colab-df-quickchart-complete:disabled:hover {\n",
              "    background-color: var(--disabled-bg-color);\n",
              "    fill: var(--disabled-fill-color);\n",
              "    box-shadow: none;\n",
              "  }\n",
              "\n",
              "  .colab-df-spinner {\n",
              "    border: 2px solid var(--fill-color);\n",
              "    border-color: transparent;\n",
              "    border-bottom-color: var(--fill-color);\n",
              "    animation:\n",
              "      spin 1s steps(1) infinite;\n",
              "  }\n",
              "\n",
              "  @keyframes spin {\n",
              "    0% {\n",
              "      border-color: transparent;\n",
              "      border-bottom-color: var(--fill-color);\n",
              "      border-left-color: var(--fill-color);\n",
              "    }\n",
              "    20% {\n",
              "      border-color: transparent;\n",
              "      border-left-color: var(--fill-color);\n",
              "      border-top-color: var(--fill-color);\n",
              "    }\n",
              "    30% {\n",
              "      border-color: transparent;\n",
              "      border-left-color: var(--fill-color);\n",
              "      border-top-color: var(--fill-color);\n",
              "      border-right-color: var(--fill-color);\n",
              "    }\n",
              "    40% {\n",
              "      border-color: transparent;\n",
              "      border-right-color: var(--fill-color);\n",
              "      border-top-color: var(--fill-color);\n",
              "    }\n",
              "    60% {\n",
              "      border-color: transparent;\n",
              "      border-right-color: var(--fill-color);\n",
              "    }\n",
              "    80% {\n",
              "      border-color: transparent;\n",
              "      border-right-color: var(--fill-color);\n",
              "      border-bottom-color: var(--fill-color);\n",
              "    }\n",
              "    90% {\n",
              "      border-color: transparent;\n",
              "      border-bottom-color: var(--fill-color);\n",
              "    }\n",
              "  }\n",
              "</style>\n",
              "\n",
              "  <script>\n",
              "    async function quickchart(key) {\n",
              "      const quickchartButtonEl =\n",
              "        document.querySelector('#' + key + ' button');\n",
              "      quickchartButtonEl.disabled = true;  // To prevent multiple clicks.\n",
              "      quickchartButtonEl.classList.add('colab-df-spinner');\n",
              "      try {\n",
              "        const charts = await google.colab.kernel.invokeFunction(\n",
              "            'suggestCharts', [key], {});\n",
              "      } catch (error) {\n",
              "        console.error('Error during call to suggestCharts:', error);\n",
              "      }\n",
              "      quickchartButtonEl.classList.remove('colab-df-spinner');\n",
              "      quickchartButtonEl.classList.add('colab-df-quickchart-complete');\n",
              "    }\n",
              "    (() => {\n",
              "      let quickchartButtonEl =\n",
              "        document.querySelector('#df-d33c6752-74f9-488d-86da-96dfba8d1aca button');\n",
              "      quickchartButtonEl.style.display =\n",
              "        google.colab.kernel.accessAllowed ? 'block' : 'none';\n",
              "    })();\n",
              "  </script>\n",
              "</div>\n",
              "\n",
              "  <div id=\"id_abf69c2b-6555-4300-8a75-a6543239184b\">\n",
              "    <style>\n",
              "      .colab-df-generate {\n",
              "        background-color: #E8F0FE;\n",
              "        border: none;\n",
              "        border-radius: 50%;\n",
              "        cursor: pointer;\n",
              "        display: none;\n",
              "        fill: #1967D2;\n",
              "        height: 32px;\n",
              "        padding: 0 0 0 0;\n",
              "        width: 32px;\n",
              "      }\n",
              "\n",
              "      .colab-df-generate:hover {\n",
              "        background-color: #E2EBFA;\n",
              "        box-shadow: 0px 1px 2px rgba(60, 64, 67, 0.3), 0px 1px 3px 1px rgba(60, 64, 67, 0.15);\n",
              "        fill: #174EA6;\n",
              "      }\n",
              "\n",
              "      [theme=dark] .colab-df-generate {\n",
              "        background-color: #3B4455;\n",
              "        fill: #D2E3FC;\n",
              "      }\n",
              "\n",
              "      [theme=dark] .colab-df-generate:hover {\n",
              "        background-color: #434B5C;\n",
              "        box-shadow: 0px 1px 3px 1px rgba(0, 0, 0, 0.15);\n",
              "        filter: drop-shadow(0px 1px 2px rgba(0, 0, 0, 0.3));\n",
              "        fill: #FFFFFF;\n",
              "      }\n",
              "    </style>\n",
              "    <button class=\"colab-df-generate\" onclick=\"generateWithVariable('data')\"\n",
              "            title=\"Generate code using this dataframe.\"\n",
              "            style=\"display:none;\">\n",
              "\n",
              "  <svg xmlns=\"http://www.w3.org/2000/svg\" height=\"24px\"viewBox=\"0 0 24 24\"\n",
              "       width=\"24px\">\n",
              "    <path d=\"M7,19H8.4L18.45,9,17,7.55,7,17.6ZM5,21V16.75L18.45,3.32a2,2,0,0,1,2.83,0l1.4,1.43a1.91,1.91,0,0,1,.58,1.4,1.91,1.91,0,0,1-.58,1.4L9.25,21ZM18.45,9,17,7.55Zm-12,3A5.31,5.31,0,0,0,4.9,8.1,5.31,5.31,0,0,0,1,6.5,5.31,5.31,0,0,0,4.9,4.9,5.31,5.31,0,0,0,6.5,1,5.31,5.31,0,0,0,8.1,4.9,5.31,5.31,0,0,0,12,6.5,5.46,5.46,0,0,0,6.5,12Z\"/>\n",
              "  </svg>\n",
              "    </button>\n",
              "    <script>\n",
              "      (() => {\n",
              "      const buttonEl =\n",
              "        document.querySelector('#id_abf69c2b-6555-4300-8a75-a6543239184b button.colab-df-generate');\n",
              "      buttonEl.style.display =\n",
              "        google.colab.kernel.accessAllowed ? 'block' : 'none';\n",
              "\n",
              "      buttonEl.onclick = () => {\n",
              "        google.colab.notebook.generateWithVariable('data');\n",
              "      }\n",
              "      })();\n",
              "    </script>\n",
              "  </div>\n",
              "\n",
              "    </div>\n",
              "  </div>\n"
            ],
            "application/vnd.google.colaboratory.intrinsic+json": {
              "type": "dataframe",
              "variable_name": "data",
              "summary": "{\n  \"name\": \"data\",\n  \"rows\": 7,\n  \"fields\": [\n    {\n      \"column\": \"Name\",\n      \"properties\": {\n        \"dtype\": \"string\",\n        \"num_unique_values\": 7,\n        \"samples\": [\n          \"Ankit\",\n          \"Aishwarya\",\n          \"Rishika\"\n        ],\n        \"semantic_type\": \"\",\n        \"description\": \"\"\n      }\n    },\n    {\n      \"column\": \"Age\",\n      \"properties\": {\n        \"dtype\": \"number\",\n        \"std\": 0,\n        \"min\": 20,\n        \"max\": 23,\n        \"num_unique_values\": 4,\n        \"samples\": [\n          21,\n          20,\n          23\n        ],\n        \"semantic_type\": \"\",\n        \"description\": \"\"\n      }\n    },\n    {\n      \"column\": \"University\",\n      \"properties\": {\n        \"dtype\": \"string\",\n        \"num_unique_values\": 4,\n        \"samples\": [\n          \"JNU\",\n          \"SPPU\",\n          \"BHU\"\n        ],\n        \"semantic_type\": \"\",\n        \"description\": \"\"\n      }\n    }\n  ]\n}"
            }
          },
          "metadata": {},
          "execution_count": 4
        }
      ]
    },
    {
      "cell_type": "code",
      "source": [
        "data.to_csv('students.csv')"
      ],
      "metadata": {
        "id": "9mOVUiyImVCF"
      },
      "execution_count": 5,
      "outputs": []
    },
    {
      "cell_type": "code",
      "source": [
        "new_data = pd.read_csv('/content/students.csv')"
      ],
      "metadata": {
        "id": "D1dDzET7pDbE"
      },
      "execution_count": null,
      "outputs": []
    },
    {
      "cell_type": "code",
      "source": [],
      "metadata": {
        "id": "FpsPx7N6paI5"
      },
      "execution_count": null,
      "outputs": []
    },
    {
      "cell_type": "code",
      "source": [],
      "metadata": {
        "id": "uej-wo4_paMc"
      },
      "execution_count": null,
      "outputs": []
    }
  ]
}